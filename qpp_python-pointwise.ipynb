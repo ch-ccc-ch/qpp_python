{
 "cells": [
  {
   "cell_type": "code",
   "execution_count": 1,
   "id": "a0076c71",
   "metadata": {},
   "outputs": [],
   "source": [
    "#pip install openprompt"
   ]
  },
  {
   "cell_type": "code",
   "execution_count": null,
   "id": "d12355f4",
   "metadata": {},
   "outputs": [],
   "source": []
  },
  {
   "cell_type": "code",
   "execution_count": 21,
   "id": "30e07ff3",
   "metadata": {},
   "outputs": [
    {
     "name": "stdout",
     "output_type": "stream",
     "text": [
      "Query : 401\tWhat language and cultural differences impede the integration of foreign minorities in Germany?\n",
      "Document Contents: ['Document 1 : FBIS4-18372 \"drweu064_h_94001\" FBIS-WEU-94-064 Daily Report 3 Apr 1994 GERMANY EU Minority Blocking Vote `Overestimated\\' EU Minority Blocking Vote `Overestimated\\' LD0304093094 Berlin DDP/ADN in German 0415 GMT 3 Apr 94 LD0304093094 Berlin DDP/ADN German BFN [Text] Nuremberg (DDP/ADN) -- In the view of Foreign Minister Klaus Kinkel, the practical significance of the minority blocking vote in the EU [European Union] Council of Ministers, which has until recently been strongly disputed because of the membership negotiations of the EFTA [European Free Trade Association] states, is being overestimated. In any case, in the EU the principle of unanimity governed complex matters, and the qualified majority vote was decisive for issues concerning the internal market, Kinkel told the DDP/ADN news agency in Nuremberg. Moreover, the EU foreign ministers had undertaken to reexamine the whole procedure, which has now been decided, in 1996. It had at any rate been right not to let the accession of the Scandinavian countries and Austria collapse over this matter, Kinkel said. Kinkel rejected criticism from the CSU [Christian Social Union]-led Bavarian Government to the effect that German interests were not being represented at national and international level as matter of factly as other countries. In view of its past, Germany was being \"viewed critically\" as a reunited country, Kinkel said. However, there was \"no reason to slink around on velvet paws.\" Germany had so far done well out of its \"policy of restraint.\"', 'Document 2 : FBIS3-20090 \"drweu059_h_94013\" FBIS-WEU-94-059 Document Type:Daily Report 25 Mar 1994 GERMANY Israel Says Synagogue Attack `Cause for Concern\\' AU2503143794 Cologne Deutschlandfunk Network in German 1220 GMT 25 Mar 94 AU2503143794 Cologne Deutschlandfunk Network Language: German Article Type:BFN [Telephone interview with Ilan Mor, spokesman of the Israeli Embassy in Bonn, by Hans-Joachim Wiese; place not given -- live] [Text] [Wiese] Good day Mr. Mor. [Mor] Good day, Mr. Wiese. [Wiese] Mr. Mor, the attack on the synagogue in Luebeck has caused great outrage. The chairman of the Central Council of Jews in Germany, Ignatz Bubis, has called for the search for the \"mental instigators.\" How do you assess this attack? [Mor] Of course, we assess it in the same way as Mr. Bubis and all other politicians who have commented on the attack so far. Israel is observing with close attention what is happening in Germany in the sphere of radicalism and anti-Semitism. Like everybody else in Germany, we are naturally concerned. [Wiese] Is this attack a confirmation of your fears -- of the fear that a new anti-Semitism is emerging in Germany? [Mor] Well, anti-Semitism exists in Germany anyway and, unfortunately, everywhere else in the world. Every now and then -- not to say regularly -- our fears are confirmed. This is naturally a big cause for concern. We are confident that the German authorities will do everything possible to prevent such events. Unfortunately, such incidents still occur. This is very, very bad. [Wiese] Mr. Mor, how do you assess the measures that are being taken in Germany against the danger for Jewish institutions and the danger for foreigners? Do you think that the measures are sufficient? [Mor] Well, I am not in a position to make such an assessment. However, the Israeli Government and the Israeli citizens in Israel are confident that the German authorities are doing everything possible to protect the foreigners and other minorities in Germany and to prevent such incidents. Emnid published the results of an opinion poll a few days ago. A total of 22 percent do not want a Jewish neighbor. This is very telling. [Wiese] Mr. Mor, you just talked about possible Israeli reactions to events in Germany. Is Israel concerned about incidents like the one that just happened in Luebeck? [Mor] Yes, of course. As I just said, for us this is a big cause for concern. We are convinced that Weimar is not possible in Germany today. However, a total of 40,000 Jews and other minorities are living in Germany. There are numerous foreigners in Germany who would like to be protected. Of course, we all must do everything possible to provide such protection. As I just mentioned, Israel is closely following what is happening in Germany. Anti-Semitism and right-wing extremism naturally exist all over the world. However, against the backdrop of the events of 1933 and 1945, such events assume great significance because they are occuring in Germany of all countries. [Wiese] Thank you, Mr. Mor. Good bye. [Mor] Good bye.', \"Document 3 : FT922-14939 _AN-CDCA8AELFT 920403 FT 03 APR 92 / Kohl stands firm on Turkey row By QUENTIN PEEL and JOHN MURRAY BROWN BONN, ANKARA CHANCELLOR Helmut Kohl of Germany refused to back down yesterday in his confrontation with Turkey, insisting that German weapons supplied to its Nato ally can only be used for its defence 'in the framework of the alliance'. Although he stopped short of direct criticism of Turkey's campaign against Kurdish guerrillas and civilians, which caused Germany to suspend all arms shipments last week, he said that Ankara must observe all its commitments to human and minority rights. In a parliamentary debate on the row between the two normally close allies, Mr Kohl sought to turn the debacle to belated electoral advantage. With an eye on the state elections in Baden-Wurttemberg and Schleswig-Holstein on Sunday, the chancellor delivered a ringing defence of his government's foreign policy. But Mr Hans-Ulrich Klose, the SPD parliamentary leader, taunted Mr Kohl for allowing the row to get out of hand. He said that Mr Dick Cheney, the US defence secretary, had been forced to intervene between the Nato partners. 'We have reached a sorry state when our big brother in the alliance, the US, must help us to return to the path of foreign policy virtue,' he said. The number of foreigners seeking political asylum in Germany reached a record of more than 35,000 last month, with refugees from Yugoslavia alone running at 13,175. Romania was the second largest source, with 5,544 and Turkey third with 2,406. Turkey is to introduce economic reforms for the impoverished Kurdish minority after unrest in the area in which more than 100 have died in the past 10 days, writes John Murray Brown in Ankara. The measures represent the first concrete steps to address the Kurdish problem and stem growing support for the Syrian backed Kurdish Workers Party which is fighting an eight year campaign for independence. The Financial Times London Page 2\", \"Document 4 : FT941-1403 _AN-ECYC5ACZFT 940325 FT 25 MAR 94 / Major looks to Germany for EU deal By LIONEL BARBER, PHILIP STEPHENS and DAVID GARDNER BRUSSELS, LONDON The government is looking to Germany to forge a face-saving compromise in the dispute over voting rights which risks delaying the entry of four new countries into the European Union next year. After Mr John Major dropped hints of flexibility in the UK negotiating position yesterday, senior British officials expressed hope that Germany might be able to coax EU partners into reciprocal movement at this weekend's meeting of European foreign ministers in Greece. Germany has opposed UK and Spanish demands to preserve voting rules allowing two large member states and one small country to block decisions in the Council of Ministers. The UK, however, appears to be gambling that Chancellor Helmut Kohl's desire to bring Finland, Sweden, Austria and Norway into the EU may encourage new flexibility. Even if the deadlock is not broken in Greece, one wellplaced UK official said it might be possible to reach a deal before Easter. Mr Klaus Kinkel, German foreign minister, said after a meeting with Mr Alain Juppe, his French counterpart, that any deal must not come at the price of weakened decision-making in an expanded EU. Hopes of a compromise revolve around a trade-off in which the UK and Spain concede that the 'blocking minority' must rise from 23 to 27 votes to take account of the four new members. In return they would win a legally binding protocol giving countries mustering between 23 and 27 votes an automatic right to delay decisions. Mr Major's 'bottom line' was described by senior Whitehall insiders as an agreement which in no way eroded the ability of minorities to block contentious legislation on employment and social issues. Legal experts in Brussels dismissed the notion of putting a legal ring-fence around social legislation, or creating a two-tier voting system to deal with such contentious issues. Mr Major told the Commons that an agreement would be possible 'within a matter of days' if other European governments had the political will to reach a settlement. David Gardner in Brussels adds: Mr Theodoros Pangalos, the Greek European affairs minister, who will be chairing this weekend's meeting in Greece, last night described the British stance as 'the blackmail of a tiny minority'. Joe Rogaly, Page 18 Countries:- GBZ United Kingdom, EC. DEZ Germany, EC. QRZ European Economic Community (EC). Industries:- P9721 International Affairs. Types:- NEWS General News. The Financial Times London Page 12\", 'Document 5 : FBIS4-18182 \"drweu062_h_94001\" FBIS-WEU-94-062 Daily Report 31 Mar 1994 GERMANY Kinkel Sees `No Alternative\\' to Helping Yeltsin Kinkel Sees `No Alternative\\' to Helping Yeltsin AU3003203394 Bonn DAS PARLAMENT in German 25 Mar-1 Apr 94 p 11 AU3003203394 Bonn DAS PARLAMENT German BFN [Report by unidentified correpondent on address by Foreign Minister Klaus Kinkel in the Bundestag debate on 11 Mar 94: \"There Is No Alternative to Help for the Eastern Neighbors\"] [Excerpt] [passage omitted] According to Foreign Minister Klaus Kinkel, Russia is of central importance for Europe. Therefore, there is no alternative at all to further support for President Yeltsin. If stability and economic progress is achieved there, the whole of Europe will benefit from it. Russia must be fully integrated within the world economy, where the division of labor exists, which also applies to the other CIS states. In particular, Kinkel mentions Ukraine, whose government he requests to accede to the Nonproliferation Treaty. Then the minister spoke about his recent meeting with the three Baltic ministers in Bonn: Of course, the three Baltic states are a special concern for us. Ties in the Baltic area that have been buried for years have to be revived again. Of all former Soviet republics, the Baltic states can show the most impressive reform successes. Yes, the dimensions are small, but they are nevertheless impressive. One objective of our presidency in the second half of the year will be to conclude an association agreement with the prospect of association also with Latvia, Lithuania, and Estonia. The talks that I held with the three Baltic foreign ministers in the past few days focused on leading these states to the European Union [EU]. Politically and economically stable Baltic countries are an advantage for the whole of the region, and, by the way, also for Russia. It is the priority task of the European policy of these days to join the parts of Europe that have been separated for more than four decades. It presents particular challenges to Germany, the country in the center. We are particularly affected by all the risks, but, on the other hand, especially favored with the chances, too. Since the end of 1989, we have particularly supported the reform states in Central and East Europe. However, the historic chance that lies ahead of us, that is, to help the chances of freedom in our east to be transformed into jobs and thus into permanent political institutions, far exceeds Germany\\'s powers. Also for this reason, it is so important that the EU continues to advance consistently on the road toward its enlargement, as was outlined in Copenhagen. Of course, the European-Atlantic institutions must not be overstrained or overtaxed when stability is extended to Central and East Europe. This would not help those who want to become members, either. Therefore, we have to beware of a course of action that only permits the choice between entry and isolation. The right course is a flexible system of increasingly close pan-European cooperation in addition to the option of entry. I do not want to fail to mention the Foreign Ministry\\'s cultural promotion for the German minorities in Central and East Europe. For example, several representations were newly established in regions with German minorities. The foreign representations in Almaty, Bishkek, Tashkent, Gdansk, Szczecin, and soon Novosibirsk and Saratov are dedicating a considerable part of their work to the concerns of the German minority in their administrative districts. This is good and very important. Help for self-help, from the training and advanced training of teachers through syllabuses and textbooks to media promotion, is primarily the issue here. With this policy, we want to build additional bridges to these countries through our minorities, but we do not want to create artificial loyalty problems. We must not forget one thing: Europe is more than growth figures and foreign trade statistics and also more than the mere maximization of affluence. Europe is a cultural area. Whoever wants to put it together again has to restart above all the intellectual-cultural exchange. A tremendous amount of things still have to be done in this respect. Personally, I very much deplore the fact that we have relatively few funds for this purpose at a time when we have problems and difficulties. Above all I deplore it so much because we -- this has often been said in the Bundestag -- have an enormous chance as far as our language is concerned. It is not unimportant for the Germans -- it is particularly striking for me as their foreign minister -- that colleagues, friends, and partners who speak German come from these countries to the numerous conferences that we hold and where French and English have hitherto been the only languages. This is a chance that we should use. I ask the German Bundestag again to help me when money is at issue and to give a proper impetus. [passage omitted]']\n"
     ]
    }
   ],
   "source": [
    "import csv\n",
    "csv.field_size_limit(1410720)\n",
    "\n",
    "# 初始化字典\n",
    "trec_dict = {}\n",
    "q_dict = {}\n",
    "query_id_counts = {}\n",
    "\n",
    "\n",
    "# 从trec.txt中读取数据\n",
    "with open('401-450.txt', 'r') as f:\n",
    "    reader = csv.reader(f, delimiter='\\t')\n",
    "    for row in reader:\n",
    "        query_id = row[0]  # 第一列是查询id\n",
    "        query_content = row[1]  # 第二列是查询内容\n",
    "        trec_dict[query_id] = query_content\n",
    "\n",
    "# 从lmdir.txt中读取数据\n",
    "with open('401-450diri1000.txt', 'r') as f:\n",
    "    reader = csv.reader(f, delimiter='\\t')\n",
    "    for row in reader:\n",
    "        query_id = row[0]  # 第一列是查询id\n",
    "        doc_content = row[6]  # 第7列是文档内容\n",
    "        # 计算当前查询id的文档数量\n",
    "        if query_id_counts.get(query_id, 0) >= 5:\n",
    "            continue\n",
    "        \n",
    "        \n",
    "        # 在文档内容前添加标识\n",
    "        # 将查询id和带标识的文档内容添加到字典中\n",
    "        key = query_id + '\\t' + trec_dict.get(query_id, '')\n",
    "        i = len(q_dict.get(key, []))+1\n",
    "        doc_content = f'Document {i} : {doc_content}'\n",
    "        \n",
    "        if key in q_dict:\n",
    "            q_dict[key].append(doc_content)\n",
    "        else:\n",
    "            q_dict[key] = []\n",
    "            q_dict[key].append(doc_content)\n",
    "            \n",
    "        query_id_counts[query_id] = query_id_counts.get(query_id, 0) + 1\n",
    "\n",
    "\n",
    "\n",
    "# 打印出第一个查询id及其对应的文档内容，以验证代码是否正确\n",
    "for query_id in list(q_dict.keys())[:1]:\n",
    "    print(\"Query :\", query_id)\n",
    "    print(\"Document Contents:\", q_dict[query_id])\n"
   ]
  },
  {
   "cell_type": "code",
   "execution_count": 22,
   "id": "d453e10c",
   "metadata": {},
   "outputs": [
    {
     "data": {
      "text/plain": [
       "dict"
      ]
     },
     "execution_count": 22,
     "metadata": {},
     "output_type": "execute_result"
    }
   ],
   "source": [
    "# q_dict['264014\thow long is life cycle of flea']\n",
    "type(q_dict)"
   ]
  },
  {
   "cell_type": "code",
   "execution_count": 23,
   "id": "ef0a466b",
   "metadata": {},
   "outputs": [],
   "source": [
    "# from langchain.llms import OpenAI\n",
    "# from langchain.chains.summarize import load_summarize_chain\n",
    "# from langchain.chains import AnalyzeDocumentChain\n",
    "\n",
    "# llm = OpenAI(openai_api_key=\"\",temperature=0)\n",
    "\n",
    "\n",
    "# def summarize_doc(doc):\n",
    "#     # 处理文档的代码在这里\n",
    "#     chain = load_summarize_chain(llm, chain_type=\"map_reduce\")\n",
    "\n",
    "#     summarize_document_chain = AnalyzeDocumentChain(combine_docs_chain=chain)\n",
    "\n",
    "#     processed_doc = summarize_document_chain.run(doc)\n",
    "      \n",
    "#     return processed_doc\n",
    "\n",
    "\n",
    "# for key, value in q_dict.items():\n",
    "#     new_value = []\n",
    "#     for doc in value:\n",
    "#         new_value.append(summarize_doc(doc))\n",
    "#     q_dict[key] = new_value\n"
   ]
  },
  {
   "cell_type": "code",
   "execution_count": 24,
   "id": "934342cc",
   "metadata": {},
   "outputs": [
    {
     "data": {
      "text/plain": [
       "['Document 1 : FBIS4-18372 \"drweu064_h_94001\" FBIS-WEU-94-064 Daily Report 3 Apr 1994 GERMANY EU Minority Blocking Vote `Overestimated\\' EU Minority Blocking Vote `Overestimated\\' LD0304093094 Berlin DDP/ADN in German 0415 GMT 3 Apr 94 LD0304093094 Berlin DDP/ADN German BFN [Text] Nuremberg (DDP/ADN) -- In the view of Foreign Minister Klaus Kinkel, the practical significance of the minority blocking vote in the EU [European Union] Council of Ministers, which has until recently been strongly disputed because of the membership negotiations of the EFTA [European Free Trade Association] states, is being overestimated. In any case, in the EU the principle of unanimity governed complex matters, and the qualified majority vote was decisive for issues concerning the internal market, Kinkel told the DDP/ADN news agency in Nuremberg. Moreover, the EU foreign ministers had undertaken to reexamine the whole procedure, which has now been decided, in 1996. It had at any rate been right not to let the accession of the Scandinavian countries and Austria collapse over this matter, Kinkel said. Kinkel rejected criticism from the CSU [Christian Social Union]-led Bavarian Government to the effect that German interests were not being represented at national and international level as matter of factly as other countries. In view of its past, Germany was being \"viewed critically\" as a reunited country, Kinkel said. However, there was \"no reason to slink around on velvet paws.\" Germany had so far done well out of its \"policy of restraint.\"',\n",
       " 'Document 2 : FBIS3-20090 \"drweu059_h_94013\" FBIS-WEU-94-059 Document Type:Daily Report 25 Mar 1994 GERMANY Israel Says Synagogue Attack `Cause for Concern\\' AU2503143794 Cologne Deutschlandfunk Network in German 1220 GMT 25 Mar 94 AU2503143794 Cologne Deutschlandfunk Network Language: German Article Type:BFN [Telephone interview with Ilan Mor, spokesman of the Israeli Embassy in Bonn, by Hans-Joachim Wiese; place not given -- live] [Text] [Wiese] Good day Mr. Mor. [Mor] Good day, Mr. Wiese. [Wiese] Mr. Mor, the attack on the synagogue in Luebeck has caused great outrage. The chairman of the Central Council of Jews in Germany, Ignatz Bubis, has called for the search for the \"mental instigators.\" How do you assess this attack? [Mor] Of course, we assess it in the same way as Mr. Bubis and all other politicians who have commented on the attack so far. Israel is observing with close attention what is happening in Germany in the sphere of radicalism and anti-Semitism. Like everybody else in Germany, we are naturally concerned. [Wiese] Is this attack a confirmation of your fears -- of the fear that a new anti-Semitism is emerging in Germany? [Mor] Well, anti-Semitism exists in Germany anyway and, unfortunately, everywhere else in the world. Every now and then -- not to say regularly -- our fears are confirmed. This is naturally a big cause for concern. We are confident that the German authorities will do everything possible to prevent such events. Unfortunately, such incidents still occur. This is very, very bad. [Wiese] Mr. Mor, how do you assess the measures that are being taken in Germany against the danger for Jewish institutions and the danger for foreigners? Do you think that the measures are sufficient? [Mor] Well, I am not in a position to make such an assessment. However, the Israeli Government and the Israeli citizens in Israel are confident that the German authorities are doing everything possible to protect the foreigners and other minorities in Germany and to prevent such incidents. Emnid published the results of an opinion poll a few days ago. A total of 22 percent do not want a Jewish neighbor. This is very telling. [Wiese] Mr. Mor, you just talked about possible Israeli reactions to events in Germany. Is Israel concerned about incidents like the one that just happened in Luebeck? [Mor] Yes, of course. As I just said, for us this is a big cause for concern. We are convinced that Weimar is not possible in Germany today. However, a total of 40,000 Jews and other minorities are living in Germany. There are numerous foreigners in Germany who would like to be protected. Of course, we all must do everything possible to provide such protection. As I just mentioned, Israel is closely following what is happening in Germany. Anti-Semitism and right-wing extremism naturally exist all over the world. However, against the backdrop of the events of 1933 and 1945, such events assume great significance because they are occuring in Germany of all countries. [Wiese] Thank you, Mr. Mor. Good bye. [Mor] Good bye.',\n",
       " \"Document 3 : FT922-14939 _AN-CDCA8AELFT 920403 FT 03 APR 92 / Kohl stands firm on Turkey row By QUENTIN PEEL and JOHN MURRAY BROWN BONN, ANKARA CHANCELLOR Helmut Kohl of Germany refused to back down yesterday in his confrontation with Turkey, insisting that German weapons supplied to its Nato ally can only be used for its defence 'in the framework of the alliance'. Although he stopped short of direct criticism of Turkey's campaign against Kurdish guerrillas and civilians, which caused Germany to suspend all arms shipments last week, he said that Ankara must observe all its commitments to human and minority rights. In a parliamentary debate on the row between the two normally close allies, Mr Kohl sought to turn the debacle to belated electoral advantage. With an eye on the state elections in Baden-Wurttemberg and Schleswig-Holstein on Sunday, the chancellor delivered a ringing defence of his government's foreign policy. But Mr Hans-Ulrich Klose, the SPD parliamentary leader, taunted Mr Kohl for allowing the row to get out of hand. He said that Mr Dick Cheney, the US defence secretary, had been forced to intervene between the Nato partners. 'We have reached a sorry state when our big brother in the alliance, the US, must help us to return to the path of foreign policy virtue,' he said. The number of foreigners seeking political asylum in Germany reached a record of more than 35,000 last month, with refugees from Yugoslavia alone running at 13,175. Romania was the second largest source, with 5,544 and Turkey third with 2,406. Turkey is to introduce economic reforms for the impoverished Kurdish minority after unrest in the area in which more than 100 have died in the past 10 days, writes John Murray Brown in Ankara. The measures represent the first concrete steps to address the Kurdish problem and stem growing support for the Syrian backed Kurdish Workers Party which is fighting an eight year campaign for independence. The Financial Times London Page 2\",\n",
       " \"Document 4 : FT941-1403 _AN-ECYC5ACZFT 940325 FT 25 MAR 94 / Major looks to Germany for EU deal By LIONEL BARBER, PHILIP STEPHENS and DAVID GARDNER BRUSSELS, LONDON The government is looking to Germany to forge a face-saving compromise in the dispute over voting rights which risks delaying the entry of four new countries into the European Union next year. After Mr John Major dropped hints of flexibility in the UK negotiating position yesterday, senior British officials expressed hope that Germany might be able to coax EU partners into reciprocal movement at this weekend's meeting of European foreign ministers in Greece. Germany has opposed UK and Spanish demands to preserve voting rules allowing two large member states and one small country to block decisions in the Council of Ministers. The UK, however, appears to be gambling that Chancellor Helmut Kohl's desire to bring Finland, Sweden, Austria and Norway into the EU may encourage new flexibility. Even if the deadlock is not broken in Greece, one wellplaced UK official said it might be possible to reach a deal before Easter. Mr Klaus Kinkel, German foreign minister, said after a meeting with Mr Alain Juppe, his French counterpart, that any deal must not come at the price of weakened decision-making in an expanded EU. Hopes of a compromise revolve around a trade-off in which the UK and Spain concede that the 'blocking minority' must rise from 23 to 27 votes to take account of the four new members. In return they would win a legally binding protocol giving countries mustering between 23 and 27 votes an automatic right to delay decisions. Mr Major's 'bottom line' was described by senior Whitehall insiders as an agreement which in no way eroded the ability of minorities to block contentious legislation on employment and social issues. Legal experts in Brussels dismissed the notion of putting a legal ring-fence around social legislation, or creating a two-tier voting system to deal with such contentious issues. Mr Major told the Commons that an agreement would be possible 'within a matter of days' if other European governments had the political will to reach a settlement. David Gardner in Brussels adds: Mr Theodoros Pangalos, the Greek European affairs minister, who will be chairing this weekend's meeting in Greece, last night described the British stance as 'the blackmail of a tiny minority'. Joe Rogaly, Page 18 Countries:- GBZ United Kingdom, EC. DEZ Germany, EC. QRZ European Economic Community (EC). Industries:- P9721 International Affairs. Types:- NEWS General News. The Financial Times London Page 12\",\n",
       " 'Document 5 : FBIS4-18182 \"drweu062_h_94001\" FBIS-WEU-94-062 Daily Report 31 Mar 1994 GERMANY Kinkel Sees `No Alternative\\' to Helping Yeltsin Kinkel Sees `No Alternative\\' to Helping Yeltsin AU3003203394 Bonn DAS PARLAMENT in German 25 Mar-1 Apr 94 p 11 AU3003203394 Bonn DAS PARLAMENT German BFN [Report by unidentified correpondent on address by Foreign Minister Klaus Kinkel in the Bundestag debate on 11 Mar 94: \"There Is No Alternative to Help for the Eastern Neighbors\"] [Excerpt] [passage omitted] According to Foreign Minister Klaus Kinkel, Russia is of central importance for Europe. Therefore, there is no alternative at all to further support for President Yeltsin. If stability and economic progress is achieved there, the whole of Europe will benefit from it. Russia must be fully integrated within the world economy, where the division of labor exists, which also applies to the other CIS states. In particular, Kinkel mentions Ukraine, whose government he requests to accede to the Nonproliferation Treaty. Then the minister spoke about his recent meeting with the three Baltic ministers in Bonn: Of course, the three Baltic states are a special concern for us. Ties in the Baltic area that have been buried for years have to be revived again. Of all former Soviet republics, the Baltic states can show the most impressive reform successes. Yes, the dimensions are small, but they are nevertheless impressive. One objective of our presidency in the second half of the year will be to conclude an association agreement with the prospect of association also with Latvia, Lithuania, and Estonia. The talks that I held with the three Baltic foreign ministers in the past few days focused on leading these states to the European Union [EU]. Politically and economically stable Baltic countries are an advantage for the whole of the region, and, by the way, also for Russia. It is the priority task of the European policy of these days to join the parts of Europe that have been separated for more than four decades. It presents particular challenges to Germany, the country in the center. We are particularly affected by all the risks, but, on the other hand, especially favored with the chances, too. Since the end of 1989, we have particularly supported the reform states in Central and East Europe. However, the historic chance that lies ahead of us, that is, to help the chances of freedom in our east to be transformed into jobs and thus into permanent political institutions, far exceeds Germany\\'s powers. Also for this reason, it is so important that the EU continues to advance consistently on the road toward its enlargement, as was outlined in Copenhagen. Of course, the European-Atlantic institutions must not be overstrained or overtaxed when stability is extended to Central and East Europe. This would not help those who want to become members, either. Therefore, we have to beware of a course of action that only permits the choice between entry and isolation. The right course is a flexible system of increasingly close pan-European cooperation in addition to the option of entry. I do not want to fail to mention the Foreign Ministry\\'s cultural promotion for the German minorities in Central and East Europe. For example, several representations were newly established in regions with German minorities. The foreign representations in Almaty, Bishkek, Tashkent, Gdansk, Szczecin, and soon Novosibirsk and Saratov are dedicating a considerable part of their work to the concerns of the German minority in their administrative districts. This is good and very important. Help for self-help, from the training and advanced training of teachers through syllabuses and textbooks to media promotion, is primarily the issue here. With this policy, we want to build additional bridges to these countries through our minorities, but we do not want to create artificial loyalty problems. We must not forget one thing: Europe is more than growth figures and foreign trade statistics and also more than the mere maximization of affluence. Europe is a cultural area. Whoever wants to put it together again has to restart above all the intellectual-cultural exchange. A tremendous amount of things still have to be done in this respect. Personally, I very much deplore the fact that we have relatively few funds for this purpose at a time when we have problems and difficulties. Above all I deplore it so much because we -- this has often been said in the Bundestag -- have an enormous chance as far as our language is concerned. It is not unimportant for the Germans -- it is particularly striking for me as their foreign minister -- that colleagues, friends, and partners who speak German come from these countries to the numerous conferences that we hold and where French and English have hitherto been the only languages. This is a chance that we should use. I ask the German Bundestag again to help me when money is at issue and to give a proper impetus. [passage omitted]']"
      ]
     },
     "execution_count": 24,
     "metadata": {},
     "output_type": "execute_result"
    }
   ],
   "source": [
    "q_dict['401\tWhat language and cultural differences impede the integration of foreign minorities in Germany?']"
   ]
  },
  {
   "cell_type": "code",
   "execution_count": 8,
   "id": "d73f83d5",
   "metadata": {},
   "outputs": [],
   "source": [
    "import json\n",
    "\n",
    "def save_dict_to_file(q_dict, filename):\n",
    "    with open(filename, 'w') as f:\n",
    "        json.dump(q_dict, f)\n",
    "\n",
    "save_dict_to_file(q_dict, 'q_dict401-450.txt')\n"
   ]
  },
  {
   "cell_type": "code",
   "execution_count": 1,
   "id": "c235eb3c",
   "metadata": {},
   "outputs": [],
   "source": [
    "import json\n",
    "\n",
    "def load_dict_from_file(filename):\n",
    "    with open(filename, 'r') as f:\n",
    "        return json.load(f)\n",
    "\n",
    "# 使用示例\n",
    "q_dict = load_dict_from_file('q_dict401-450.txt')\n",
    "#print(q_dict['264014\thow long is life cycle of flea'])\n"
   ]
  },
  {
   "cell_type": "code",
   "execution_count": 2,
   "id": "d287007f",
   "metadata": {},
   "outputs": [
    {
     "data": {
      "text/plain": [
       "[' Foreign Minister Klaus Kinkel believes the minority blocking vote in the European Union Council of Ministers is being overestimated and that the principle of unanimity and qualified majority vote are more important. He also rejects criticism from the CSU-led Bavarian Government that German interests are not being represented. He believes Germany is being viewed critically due to its past, but there is no reason to be overly cautious.',\n",
       " ' Ilan Mor, spokesman of the Israeli Embassy in Bonn, expresses his concern over the attack on a synagogue in Luebeck, Germany and believes that anti-Semitism exists in the country. He mentions an opinion poll which showed that 22% of people do not want a Jewish neighbor and emphasizes that Israel is closely monitoring events in Germany due to the events of 1933 and 1945.',\n",
       " ' German Chancellor Helmut Kohl is in a confrontation with Turkey over arms shipments, which must be used for defense within the NATO alliance. Hans-Ulrich Klose criticized Kohl for allowing the row to get out of hand. Meanwhile, the number of foreigners seeking political asylum in Germany has reached a record high of 35,000, with refugees from Yugoslavia, Romania, and Turkey making up the majority. In response to unrest in the Kurdish area, Turkey is introducing economic reforms to address the Kurdish problem.',\n",
       " ' The UK and Spain are seeking a legally binding protocol from Germany to give countries with 23-27 votes an automatic right to delay decisions, which could delay the entry of four new countries into the European Union. Greece has criticized the UK\\'s stance as \"blackmail of a tiny minority\".',\n",
       " ' German Foreign Minister Klaus Kinkel spoke to the Bundestag in support of Russian President Yeltsin and the need for Russia to be integrated into the world economy. He also called for increased cultural exchange between European countries, with a focus on German language, and for more funds to be allocated to this purpose. He asked the Bundestag to provide the necessary support.']"
      ]
     },
     "execution_count": 2,
     "metadata": {},
     "output_type": "execute_result"
    }
   ],
   "source": [
    "q_dict['401\tWhat language and cultural differences impede the integration of foreign minorities in Germany?']"
   ]
  },
  {
   "cell_type": "code",
   "execution_count": 3,
   "id": "c01b5617",
   "metadata": {},
   "outputs": [
    {
     "name": "stderr",
     "output_type": "stream",
     "text": [
      "D:\\pd\\Anaconda3\\lib\\site-packages\\transformers\\generation_utils.py:24: FutureWarning: Importing `GenerationMixin` from `src/transformers/generation_utils.py` is deprecated and will be removed in Transformers v5. Import as `from transformers import GenerationMixin` instead.\n",
      "  warnings.warn(\n"
     ]
    }
   ],
   "source": [
    "import itertools\n",
    "from openprompt.data_utils import InputExample\n",
    "\n",
    "input_examples = []\n",
    "\n",
    "# 使用itertools.combinations来获取所有的两两组合，不会重复\n",
    "for query_id_content in q_dict.keys():\n",
    "    # 分割查询ID和查询内容\n",
    "    query_id, query = query_id_content.split('\\t', 1)\n",
    "    documents = q_dict[query_id_content]\n",
    "    \n",
    "    # 构建InputExample\n",
    "    input_example = InputExample(\n",
    "        guid= len(input_examples),\n",
    "        label= None,\n",
    "        meta= {\n",
    "            \"queryid\": query_id,\n",
    "            \"query\": query,\n",
    "            \"documents\": documents,\n",
    "            #\"querybid\": queryb_id,\n",
    "            #\"queryb\": queryb,\n",
    "            #\"documentsb\": documentsb\n",
    "        },\n",
    "        text_a= \"\",\n",
    "        text_b= \"\",\n",
    "        tgt_text= query_id\n",
    "    )\n",
    "    \n",
    "    # 将InputExample添加到列表中\n",
    "    input_examples.append(input_example)\n"
   ]
  },
  {
   "cell_type": "code",
   "execution_count": 4,
   "id": "68bf8dce",
   "metadata": {},
   "outputs": [
    {
     "name": "stdout",
     "output_type": "stream",
     "text": [
      "{\n",
      "  \"guid\": 2,\n",
      "  \"label\": null,\n",
      "  \"meta\": {\n",
      "    \"documents\": [\n",
      "      \" A new study has found that the drug etidronate, used to treat Paget's disease and a bone disorder in cancer patients, can halve the rate of vertebral fractures in women with osteoporosis. The drug is sold under the brand name Didronel and the manufacturer is applying to the FDA for approval to use the drug to treat osteoporosis. The study also found that the drug increased spinal bone density by an average of 4-5%. Further studies are needed to explore the drug's long-term effects and to compare its effectiveness to other osteoporosis treatments.\",\n",
      "      \" Australian researchers have found that daughters of women with osteoporosis are more likely to develop the disease than those whose mothers do not have it, suggesting that genetics may be a factor in its development. The study compared 32 women with mothers who had osteoporosis to 22 women with mothers who did not, and found that the former had thinner bones.\",\n",
      "      \" This document explains the relationship between calcium intake and osteoporosis, and outlines the process for filing a claim and the hearing process. It emphasizes the importance of adequate calcium intake throughout life for reducing the risk of osteoporosis, particularly for adolescent and young adult Caucasian and Asian American women. It also states that other factors, such as sex, race, age, exercise, and diet, are important for reducing the risk of osteoporosis.\",\n",
      "      \" This document outlines the process for submitting a health claim to the FSIS and the regulations that must be followed if the claim is approved or denied. It also explains the relationship between calcium and osteoporosis, and the significance of calcium intake in reducing the risk of developing the disease. Additionally, it mentions other risk factors such as sex, race, hormonal status, family history, body stature, level of exercise, general diet, and lifestyle choices. A health claim associating calcium with reduced risk of osteoporosis may be made on the label or labeling of a poultry product, but must make clear that adequate calcium intake is not the only risk factor.\",\n",
      "      \"\\nResearchers have found that an experimental treatment involving slow-release sodium fluoride and calcium supplements can help strengthen the backbones of women with spinal fractures due to osteoporosis. This treatment has been found to increase spinal bone by 3-6% a year and decrease the frequency of spinal fractures, but it is not effective for fractures of the hip or other long bones.\"\n",
      "    ],\n",
      "    \"query\": \"Find information on the effects of the dietary intakesof potassium, magnesium and fruits and vegetables asdeterminants of bone mineral density in elderly menand women thus preventing osteoporosis (bone decay).\",\n",
      "    \"queryid\": \"403\"\n",
      "  },\n",
      "  \"text_a\": \"\",\n",
      "  \"text_b\": \"\",\n",
      "  \"tgt_text\": \"403\"\n",
      "}\n",
      "\n"
     ]
    }
   ],
   "source": [
    "print(input_examples[2])"
   ]
  },
  {
   "cell_type": "code",
   "execution_count": 5,
   "id": "728e1fd4",
   "metadata": {},
   "outputs": [],
   "source": [
    "for example in input_examples:\n",
    "    example.meta['documents'] = example.meta['documents'][0:2]"
   ]
  },
  {
   "cell_type": "code",
   "execution_count": 6,
   "id": "60e63128",
   "metadata": {},
   "outputs": [],
   "source": [
    "for example in input_examples:\n",
    "    # 对'documentsa'列表中的文档编上号并拼接\n",
    "    documents = example.meta['documents']\n",
    "    documents = [f'Document {i+1}: {doc}' for i, doc in enumerate(documents)]\n",
    "    example.meta['documents'] = ' '.join(documents)"
   ]
  },
  {
   "cell_type": "code",
   "execution_count": 7,
   "id": "9221b49b",
   "metadata": {},
   "outputs": [
    {
     "data": {
      "text/plain": [
       "{\n",
       "  \"guid\": 2,\n",
       "  \"label\": null,\n",
       "  \"meta\": {\n",
       "    \"documents\": \"Document 1:  A new study has found that the drug etidronate, used to treat Paget's disease and a bone disorder in cancer patients, can halve the rate of vertebral fractures in women with osteoporosis. The drug is sold under the brand name Didronel and the manufacturer is applying to the FDA for approval to use the drug to treat osteoporosis. The study also found that the drug increased spinal bone density by an average of 4-5%. Further studies are needed to explore the drug's long-term effects and to compare its effectiveness to other osteoporosis treatments. Document 2:  Australian researchers have found that daughters of women with osteoporosis are more likely to develop the disease than those whose mothers do not have it, suggesting that genetics may be a factor in its development. The study compared 32 women with mothers who had osteoporosis to 22 women with mothers who did not, and found that the former had thinner bones.\",\n",
       "    \"query\": \"Find information on the effects of the dietary intakesof potassium, magnesium and fruits and vegetables asdeterminants of bone mineral density in elderly menand women thus preventing osteoporosis (bone decay).\",\n",
       "    \"queryid\": \"403\"\n",
       "  },\n",
       "  \"text_a\": \"\",\n",
       "  \"text_b\": \"\",\n",
       "  \"tgt_text\": \"403\"\n",
       "}"
      ]
     },
     "execution_count": 7,
     "metadata": {},
     "output_type": "execute_result"
    }
   ],
   "source": [
    "input_examples[2]"
   ]
  },
  {
   "cell_type": "code",
   "execution_count": 8,
   "id": "50c709c4",
   "metadata": {},
   "outputs": [],
   "source": [
    "# 假设 input_examples 是你的数据集\n",
    "text_list = []\n",
    "for example in input_examples:\n",
    "    #text = 'Given the following two queries: the first query is \\\"' + example.meta['querya'] + '\\\", and the second query is \\\"' + example.meta['queryb'] + '\\\". Compared to the first query, the second query is more {\"mask\"}.'\n",
    "    #text = 'Given the following two queries and their respective top one document----the first query is \\\"' + example.meta['querya'] + '\\\" with its top one search result as \\\"' + example.meta['documentsa'] + '\\\", and the second query is \\\"' + example.meta['queryb'] + '\\\" with its top one search result as \\\"' + example.meta['documentsb'] + '\\\". Compared to the first query, the second query is more {\"mask\"}.'\n",
    "    #text = 'Query \\\"'+  example.meta['query'] + '\\\" is {\"mask\"}.' \n",
    "    text = 'Given the query \\\"'+  example.meta['query'] + '\\\" and its top two search results \\\"'+  example.meta['documents'] + '\\\" , it can be inferred that the query is {\"mask\"}.'\n",
    "    text_list.append(text)\n"
   ]
  },
  {
   "cell_type": "code",
   "execution_count": 9,
   "id": "10de6805",
   "metadata": {},
   "outputs": [
    {
     "name": "stdout",
     "output_type": "stream",
     "text": [
      "Given the query \"What language and cultural differences impede the integration of foreign minorities in Germany?\" and its top two search results \"Document 1:  Foreign Minister Klaus Kinkel believes the minority blocking vote in the European Union Council of Ministers is being overestimated and that the principle of unanimity and qualified majority vote are more important. He also rejects criticism from the CSU-led Bavarian Government that German interests are not being represented. He believes Germany is being viewed critically due to its past, but there is no reason to be overly cautious. Document 2:  Ilan Mor, spokesman of the Israeli Embassy in Bonn, expresses his concern over the attack on a synagogue in Luebeck, Germany and believes that anti-Semitism exists in the country. He mentions an opinion poll which showed that 22% of people do not want a Jewish neighbor and emphasizes that Israel is closely monitoring events in Germany due to the events of 1933 and 1945.\" , it can be inferred that the query is {\"mask\"}.\n",
      "Given the query \"What is happening in the field of behavioral genetics,the study of the relative influence of geneticand environmental factors on an individual's behavioror personality?\" and its top two search results \"Document 1:  A landmark study on identical twins raised apart has found that genetics play a much larger role in shaping behavior than family environment. The study, published in the journal Science, found that 70% of intelligence quotient, 50% of personality differences, 50% of religiosity, and 40% of job interest variations are accounted for by genes. The Minnesota study of identical twins, begun in 1979, has revealed many eerie similarities between reunited twins and has been able to quantify the contribution of genetics to personality and behavior, while also emphasizing the importance of environment in child development. Document 2:  Susan Hodge, a biomathemetician and geneticist, experienced anxiety and fear while waiting for the results of her amniocentesis test during her third pregnancy at age 40. Her story highlights the emotional toll genetic testing can take on couples, and the difficult decisions they must make. Research studies have shown that both amniocentesis and CVS produce anxiety reactions in women, but CVS carries a higher risk of spontaneous abortion and may not be as reliable as amniocentesis. Despite the emotional rollercoaster, Hodge eventually found peace.\" , it can be inferred that the query is {\"mask\"}.\n",
      "Given the query \"Find information on the effects of the dietary intakesof potassium, magnesium and fruits and vegetables asdeterminants of bone mineral density in elderly menand women thus preventing osteoporosis (bone decay).\" and its top two search results \"Document 1:  A new study has found that the drug etidronate, used to treat Paget's disease and a bone disorder in cancer patients, can halve the rate of vertebral fractures in women with osteoporosis. The drug is sold under the brand name Didronel and the manufacturer is applying to the FDA for approval to use the drug to treat osteoporosis. The study also found that the drug increased spinal bone density by an average of 4-5%. Further studies are needed to explore the drug's long-term effects and to compare its effectiveness to other osteoporosis treatments. Document 2:  Australian researchers have found that daughters of women with osteoporosis are more likely to develop the disease than those whose mothers do not have it, suggesting that genetics may be a factor in its development. The study compared 32 women with mothers who had osteoporosis to 22 women with mothers who did not, and found that the former had thinner bones.\" , it can be inferred that the query is {\"mask\"}.\n"
     ]
    }
   ],
   "source": [
    "print(text_list[0])\n",
    "print(text_list[1])\n",
    "print(text_list[2])"
   ]
  },
  {
   "cell_type": "code",
   "execution_count": null,
   "id": "afd74156",
   "metadata": {},
   "outputs": [],
   "source": []
  },
  {
   "cell_type": "code",
   "execution_count": null,
   "id": "dd4f403b",
   "metadata": {},
   "outputs": [],
   "source": []
  },
  {
   "cell_type": "markdown",
   "id": "49945394",
   "metadata": {},
   "source": [
    "\n"
   ]
  },
  {
   "cell_type": "code",
   "execution_count": 10,
   "id": "6f2e57f8",
   "metadata": {},
   "outputs": [
    {
     "name": "stdout",
     "output_type": "stream",
     "text": [
      "---------------------------------------------------------------\n"
     ]
    },
    {
     "name": "stderr",
     "output_type": "stream",
     "text": [
      "tokenizing: 1it [00:00, 199.97it/s]\n"
     ]
    },
    {
     "name": "stdout",
     "output_type": "stream",
     "text": [
      "401\n",
      "tensor(0.2928) tensor(0.7072)\n",
      "---------------------------------------------------------------\n"
     ]
    },
    {
     "name": "stderr",
     "output_type": "stream",
     "text": [
      "tokenizing: 1it [00:00, 154.30it/s]\n"
     ]
    },
    {
     "name": "stdout",
     "output_type": "stream",
     "text": [
      "402\n",
      "tensor(0.3855) tensor(0.6145)\n",
      "---------------------------------------------------------------\n"
     ]
    },
    {
     "name": "stderr",
     "output_type": "stream",
     "text": [
      "tokenizing: 1it [00:00, 168.05it/s]\n"
     ]
    },
    {
     "name": "stdout",
     "output_type": "stream",
     "text": [
      "403\n",
      "tensor(0.3495) tensor(0.6505)\n",
      "---------------------------------------------------------------\n"
     ]
    },
    {
     "name": "stderr",
     "output_type": "stream",
     "text": [
      "tokenizing: 1it [00:00, 148.70it/s]\n"
     ]
    },
    {
     "name": "stdout",
     "output_type": "stream",
     "text": [
      "404\n",
      "tensor(0.2646) tensor(0.7354)\n",
      "---------------------------------------------------------------\n"
     ]
    },
    {
     "name": "stderr",
     "output_type": "stream",
     "text": [
      "tokenizing: 1it [00:00, 218.46it/s]\n"
     ]
    },
    {
     "name": "stdout",
     "output_type": "stream",
     "text": [
      "405\n",
      "tensor(0.3649) tensor(0.6351)\n",
      "---------------------------------------------------------------\n"
     ]
    },
    {
     "name": "stderr",
     "output_type": "stream",
     "text": [
      "tokenizing: 1it [00:00, 249.99it/s]\n"
     ]
    },
    {
     "name": "stdout",
     "output_type": "stream",
     "text": [
      "406\n",
      "tensor(0.2410) tensor(0.7590)\n",
      "---------------------------------------------------------------\n"
     ]
    },
    {
     "name": "stderr",
     "output_type": "stream",
     "text": [
      "tokenizing: 1it [00:00, 205.17it/s]\n"
     ]
    },
    {
     "name": "stdout",
     "output_type": "stream",
     "text": [
      "407\n",
      "tensor(0.3315) tensor(0.6685)\n",
      "---------------------------------------------------------------\n"
     ]
    },
    {
     "name": "stderr",
     "output_type": "stream",
     "text": [
      "tokenizing: 1it [00:00, 199.87it/s]\n"
     ]
    },
    {
     "name": "stdout",
     "output_type": "stream",
     "text": [
      "408\n",
      "tensor(0.3539) tensor(0.6461)\n",
      "---------------------------------------------------------------\n"
     ]
    },
    {
     "name": "stderr",
     "output_type": "stream",
     "text": [
      "tokenizing: 1it [00:00, 255.33it/s]\n"
     ]
    },
    {
     "name": "stdout",
     "output_type": "stream",
     "text": [
      "409\n",
      "tensor(0.3089) tensor(0.6911)\n",
      "---------------------------------------------------------------\n"
     ]
    },
    {
     "name": "stderr",
     "output_type": "stream",
     "text": [
      "tokenizing: 1it [00:00, 199.90it/s]\n"
     ]
    },
    {
     "name": "stdout",
     "output_type": "stream",
     "text": [
      "410\n",
      "tensor(0.2783) tensor(0.7217)\n",
      "---------------------------------------------------------------\n"
     ]
    },
    {
     "name": "stderr",
     "output_type": "stream",
     "text": [
      "tokenizing: 1it [00:00, 199.94it/s]\n"
     ]
    },
    {
     "name": "stdout",
     "output_type": "stream",
     "text": [
      "411\n",
      "tensor(0.4552) tensor(0.5448)\n",
      "---------------------------------------------------------------\n"
     ]
    },
    {
     "name": "stderr",
     "output_type": "stream",
     "text": [
      "tokenizing: 1it [00:00, 193.15it/s]\n"
     ]
    },
    {
     "name": "stdout",
     "output_type": "stream",
     "text": [
      "412\n",
      "tensor(0.2348) tensor(0.7652)\n",
      "---------------------------------------------------------------\n"
     ]
    },
    {
     "name": "stderr",
     "output_type": "stream",
     "text": [
      "tokenizing: 1it [00:00, 253.43it/s]\n"
     ]
    },
    {
     "name": "stdout",
     "output_type": "stream",
     "text": [
      "413\n",
      "tensor(0.3188) tensor(0.6812)\n",
      "---------------------------------------------------------------\n"
     ]
    },
    {
     "name": "stderr",
     "output_type": "stream",
     "text": [
      "tokenizing: 1it [00:00, 199.31it/s]\n"
     ]
    },
    {
     "name": "stdout",
     "output_type": "stream",
     "text": [
      "414\n",
      "tensor(0.2682) tensor(0.7318)\n",
      "---------------------------------------------------------------\n"
     ]
    },
    {
     "name": "stderr",
     "output_type": "stream",
     "text": [
      "tokenizing: 1it [00:00, 249.99it/s]\n"
     ]
    },
    {
     "name": "stdout",
     "output_type": "stream",
     "text": [
      "415\n",
      "tensor(0.3293) tensor(0.6707)\n",
      "---------------------------------------------------------------\n"
     ]
    },
    {
     "name": "stderr",
     "output_type": "stream",
     "text": [
      "tokenizing: 1it [00:00, 210.88it/s]\n"
     ]
    },
    {
     "name": "stdout",
     "output_type": "stream",
     "text": [
      "416\n",
      "tensor(0.3188) tensor(0.6812)\n",
      "---------------------------------------------------------------\n"
     ]
    },
    {
     "name": "stderr",
     "output_type": "stream",
     "text": [
      "tokenizing: 1it [00:00, 263.94it/s]\n"
     ]
    },
    {
     "name": "stdout",
     "output_type": "stream",
     "text": [
      "417\n",
      "tensor(0.3351) tensor(0.6649)\n",
      "---------------------------------------------------------------\n"
     ]
    },
    {
     "name": "stderr",
     "output_type": "stream",
     "text": [
      "tokenizing: 1it [00:00, 174.60it/s]\n"
     ]
    },
    {
     "name": "stdout",
     "output_type": "stream",
     "text": [
      "418\n",
      "tensor(0.2338) tensor(0.7662)\n",
      "---------------------------------------------------------------\n"
     ]
    },
    {
     "name": "stderr",
     "output_type": "stream",
     "text": [
      "tokenizing: 1it [00:00, 187.93it/s]\n"
     ]
    },
    {
     "name": "stdout",
     "output_type": "stream",
     "text": [
      "419\n",
      "tensor(0.2612) tensor(0.7388)\n",
      "---------------------------------------------------------------\n"
     ]
    },
    {
     "name": "stderr",
     "output_type": "stream",
     "text": [
      "tokenizing: 1it [00:00, 274.48it/s]\n"
     ]
    },
    {
     "name": "stdout",
     "output_type": "stream",
     "text": [
      "420\n",
      "tensor(0.0653) tensor(0.9347)\n",
      "---------------------------------------------------------------\n"
     ]
    },
    {
     "name": "stderr",
     "output_type": "stream",
     "text": [
      "tokenizing: 1it [00:00, 223.65it/s]\n"
     ]
    },
    {
     "name": "stdout",
     "output_type": "stream",
     "text": [
      "421\n",
      "tensor(0.2153) tensor(0.7847)\n",
      "---------------------------------------------------------------\n"
     ]
    },
    {
     "name": "stderr",
     "output_type": "stream",
     "text": [
      "tokenizing: 1it [00:00, 251.19it/s]\n"
     ]
    },
    {
     "name": "stdout",
     "output_type": "stream",
     "text": [
      "422\n",
      "tensor(0.2711) tensor(0.7289)\n",
      "---------------------------------------------------------------\n"
     ]
    },
    {
     "name": "stderr",
     "output_type": "stream",
     "text": [
      "tokenizing: 1it [00:00, 252.59it/s]\n"
     ]
    },
    {
     "name": "stdout",
     "output_type": "stream",
     "text": [
      "423\n",
      "tensor(0.4094) tensor(0.5906)\n",
      "---------------------------------------------------------------\n"
     ]
    },
    {
     "name": "stderr",
     "output_type": "stream",
     "text": [
      "tokenizing: 1it [00:00, 255.22it/s]\n"
     ]
    },
    {
     "name": "stdout",
     "output_type": "stream",
     "text": [
      "424\n",
      "tensor(0.3049) tensor(0.6951)\n",
      "---------------------------------------------------------------\n"
     ]
    },
    {
     "name": "stderr",
     "output_type": "stream",
     "text": [
      "tokenizing: 1it [00:00, 333.28it/s]\n"
     ]
    },
    {
     "name": "stdout",
     "output_type": "stream",
     "text": [
      "425\n",
      "tensor(0.2174) tensor(0.7826)\n",
      "---------------------------------------------------------------\n"
     ]
    },
    {
     "name": "stderr",
     "output_type": "stream",
     "text": [
      "tokenizing: 1it [00:00, 207.93it/s]\n"
     ]
    },
    {
     "name": "stdout",
     "output_type": "stream",
     "text": [
      "426\n",
      "tensor(0.2388) tensor(0.7612)\n",
      "---------------------------------------------------------------\n"
     ]
    },
    {
     "name": "stderr",
     "output_type": "stream",
     "text": [
      "tokenizing: 1it [00:00, 166.15it/s]\n"
     ]
    },
    {
     "name": "stdout",
     "output_type": "stream",
     "text": [
      "427\n",
      "tensor(0.3273) tensor(0.6727)\n",
      "---------------------------------------------------------------\n"
     ]
    },
    {
     "name": "stderr",
     "output_type": "stream",
     "text": [
      "tokenizing: 1it [00:00, 303.52it/s]\n"
     ]
    },
    {
     "name": "stdout",
     "output_type": "stream",
     "text": [
      "428\n",
      "tensor(0.1589) tensor(0.8411)\n",
      "---------------------------------------------------------------\n"
     ]
    },
    {
     "name": "stderr",
     "output_type": "stream",
     "text": [
      "tokenizing: 1it [00:00, 199.96it/s]\n"
     ]
    },
    {
     "name": "stdout",
     "output_type": "stream",
     "text": [
      "429\n",
      "tensor(0.3744) tensor(0.6256)\n",
      "---------------------------------------------------------------\n"
     ]
    },
    {
     "name": "stderr",
     "output_type": "stream",
     "text": [
      "tokenizing: 1it [00:00, 356.72it/s]\n"
     ]
    },
    {
     "name": "stdout",
     "output_type": "stream",
     "text": [
      "430\n",
      "tensor(0.3293) tensor(0.6707)\n",
      "---------------------------------------------------------------\n"
     ]
    },
    {
     "name": "stderr",
     "output_type": "stream",
     "text": [
      "tokenizing: 1it [00:00, 214.36it/s]\n"
     ]
    },
    {
     "name": "stdout",
     "output_type": "stream",
     "text": [
      "431\n",
      "tensor(0.4331) tensor(0.5669)\n",
      "---------------------------------------------------------------\n"
     ]
    },
    {
     "name": "stderr",
     "output_type": "stream",
     "text": [
      "tokenizing: 1it [00:00, 286.44it/s]\n"
     ]
    },
    {
     "name": "stdout",
     "output_type": "stream",
     "text": [
      "432\n",
      "tensor(0.1847) tensor(0.8153)\n",
      "---------------------------------------------------------------\n"
     ]
    },
    {
     "name": "stderr",
     "output_type": "stream",
     "text": [
      "tokenizing: 1it [00:00, 199.95it/s]\n"
     ]
    },
    {
     "name": "stdout",
     "output_type": "stream",
     "text": [
      "433\n",
      "tensor(0.1623) tensor(0.8377)\n",
      "---------------------------------------------------------------\n"
     ]
    },
    {
     "name": "stderr",
     "output_type": "stream",
     "text": [
      "tokenizing: 1it [00:00, 199.96it/s]\n"
     ]
    },
    {
     "name": "stdout",
     "output_type": "stream",
     "text": [
      "434\n",
      "tensor(0.3211) tensor(0.6789)\n",
      "---------------------------------------------------------------\n"
     ]
    },
    {
     "name": "stderr",
     "output_type": "stream",
     "text": [
      "tokenizing: 1it [00:00, 249.97it/s]\n"
     ]
    },
    {
     "name": "stdout",
     "output_type": "stream",
     "text": [
      "435\n",
      "tensor(0.2814) tensor(0.7186)\n",
      "---------------------------------------------------------------\n"
     ]
    },
    {
     "name": "stderr",
     "output_type": "stream",
     "text": [
      "tokenizing: 1it [00:00, 314.34it/s]\n"
     ]
    },
    {
     "name": "stdout",
     "output_type": "stream",
     "text": [
      "436\n",
      "tensor(0.1868) tensor(0.8132)\n",
      "---------------------------------------------------------------\n"
     ]
    },
    {
     "name": "stderr",
     "output_type": "stream",
     "text": [
      "tokenizing: 1it [00:00, 249.96it/s]\n"
     ]
    },
    {
     "name": "stdout",
     "output_type": "stream",
     "text": [
      "437\n",
      "tensor(0.2762) tensor(0.7238)\n",
      "---------------------------------------------------------------\n"
     ]
    },
    {
     "name": "stderr",
     "output_type": "stream",
     "text": [
      "tokenizing: 1it [00:00, 333.25it/s]\n"
     ]
    },
    {
     "name": "stdout",
     "output_type": "stream",
     "text": [
      "438\n",
      "tensor(0.2440) tensor(0.7560)\n",
      "---------------------------------------------------------------\n"
     ]
    },
    {
     "name": "stderr",
     "output_type": "stream",
     "text": [
      "tokenizing: 1it [00:00, 202.44it/s]\n"
     ]
    },
    {
     "name": "stdout",
     "output_type": "stream",
     "text": [
      "439\n",
      "tensor(0.4347) tensor(0.5653)\n",
      "---------------------------------------------------------------\n"
     ]
    },
    {
     "name": "stderr",
     "output_type": "stream",
     "text": [
      "tokenizing: 1it [00:00, 212.91it/s]\n"
     ]
    },
    {
     "name": "stdout",
     "output_type": "stream",
     "text": [
      "440\n",
      "tensor(0.2406) tensor(0.7594)\n",
      "---------------------------------------------------------------\n"
     ]
    },
    {
     "name": "stderr",
     "output_type": "stream",
     "text": [
      "tokenizing: 1it [00:00, 260.60it/s]\n"
     ]
    },
    {
     "name": "stdout",
     "output_type": "stream",
     "text": [
      "441\n",
      "tensor(0.1950) tensor(0.8050)\n",
      "---------------------------------------------------------------\n"
     ]
    },
    {
     "name": "stderr",
     "output_type": "stream",
     "text": [
      "tokenizing: 1it [00:00, 245.25it/s]\n"
     ]
    },
    {
     "name": "stdout",
     "output_type": "stream",
     "text": [
      "442\n",
      "tensor(0.3371) tensor(0.6629)\n",
      "---------------------------------------------------------------\n"
     ]
    },
    {
     "name": "stderr",
     "output_type": "stream",
     "text": [
      "tokenizing: 1it [00:00, 267.92it/s]\n"
     ]
    },
    {
     "name": "stdout",
     "output_type": "stream",
     "text": [
      "443\n",
      "tensor(0.3872) tensor(0.6128)\n",
      "---------------------------------------------------------------\n"
     ]
    },
    {
     "name": "stderr",
     "output_type": "stream",
     "text": [
      "tokenizing: 1it [00:00, 167.75it/s]\n"
     ]
    },
    {
     "name": "stdout",
     "output_type": "stream",
     "text": [
      "444\n",
      "tensor(0.3360) tensor(0.6640)\n",
      "---------------------------------------------------------------\n"
     ]
    },
    {
     "name": "stderr",
     "output_type": "stream",
     "text": [
      "tokenizing: 1it [00:00, 333.20it/s]\n"
     ]
    },
    {
     "name": "stdout",
     "output_type": "stream",
     "text": [
      "445\n",
      "tensor(0.1629) tensor(0.8371)\n",
      "---------------------------------------------------------------\n"
     ]
    },
    {
     "name": "stderr",
     "output_type": "stream",
     "text": [
      "tokenizing: 1it [00:00, 339.24it/s]\n"
     ]
    },
    {
     "name": "stdout",
     "output_type": "stream",
     "text": [
      "446\n",
      "tensor(0.2276) tensor(0.7724)\n",
      "---------------------------------------------------------------\n"
     ]
    },
    {
     "name": "stderr",
     "output_type": "stream",
     "text": [
      "tokenizing: 1it [00:00, 217.28it/s]\n"
     ]
    },
    {
     "name": "stdout",
     "output_type": "stream",
     "text": [
      "447\n",
      "tensor(0.3335) tensor(0.6665)\n",
      "---------------------------------------------------------------\n"
     ]
    },
    {
     "name": "stderr",
     "output_type": "stream",
     "text": [
      "tokenizing: 1it [00:00, 342.14it/s]\n"
     ]
    },
    {
     "name": "stdout",
     "output_type": "stream",
     "text": [
      "448\n",
      "tensor(0.2136) tensor(0.7864)\n",
      "---------------------------------------------------------------\n"
     ]
    },
    {
     "name": "stderr",
     "output_type": "stream",
     "text": [
      "tokenizing: 1it [00:00, 237.96it/s]\n"
     ]
    },
    {
     "name": "stdout",
     "output_type": "stream",
     "text": [
      "449\n",
      "tensor(0.2610) tensor(0.7390)\n",
      "---------------------------------------------------------------\n"
     ]
    },
    {
     "name": "stderr",
     "output_type": "stream",
     "text": [
      "tokenizing: 1it [00:00, 166.63it/s]\n"
     ]
    },
    {
     "name": "stdout",
     "output_type": "stream",
     "text": [
      "450\n",
      "tensor(0.2856) tensor(0.7144)\n"
     ]
    }
   ],
   "source": [
    "from openprompt.data_utils import InputExample\n",
    "from openprompt.plms import load_plm\n",
    "from openprompt.prompts import ManualTemplate\n",
    "from openprompt.prompts import ManualVerbalizer\n",
    "from openprompt import PromptForClassification\n",
    "from openprompt import PromptDataLoader\n",
    "from openprompt.plms.utils import TokenizerWrapper\n",
    "from collections import defaultdict\n",
    "import torch\n",
    "\n",
    "classes = [ \n",
    "    \"specific\",\n",
    "    \"generic\"\n",
    "]\n",
    "scores = defaultdict(float)\n",
    "\n",
    "#plm, tokenizer, model_config, WrapperClass = load_plm(\"t5\",\"google/flan-t5-base\")\n",
    "#plm, tokenizer, model_config, WrapperClass = load_plm(\"albert\", \"albert-base-v2\")\n",
    "#plm, tokenizer, model_config, WrapperClass = load_plm(\"roberta\", \"roberta-base\")\n",
    "#plm, tokenizer, model_config, WrapperClass = load_plm(\"gpt2\", \"gpt2-large\")\n",
    "plm, tokenizer, model_config, WrapperClass = load_plm(\"opt\", \"facebook/opt-iml-max-1.3b\")\n",
    "\n",
    "x=0\n",
    "for t in text_list:\n",
    "    print(\"---------------------------------------------------------------\")\n",
    "    #print(t)\n",
    "    dataset = []\n",
    "    dataset.append(input_examples[x])\n",
    "    x = x + 1\n",
    "    promptTemplate = ManualTemplate(\n",
    "        text = t,\n",
    "        tokenizer = tokenizer,\n",
    "    )\n",
    "    promptVerbalizer = ManualVerbalizer(\n",
    "        classes = classes,\n",
    "        label_words = {\n",
    "            \"specific\":[\"specific\",\"precise\",\"exact\",\"well-formed\",\"clear\"],\n",
    "            \"generic\":[\"generic\",\"general\",\"common\",\"universal\",\"ambiguous\", \"ill-formed\", \"vague\"]\n",
    "        },\n",
    "        tokenizer = tokenizer,\n",
    "    )\n",
    "    promptModel = PromptForClassification(\n",
    "        template = promptTemplate,\n",
    "        plm = plm,\n",
    "        verbalizer = promptVerbalizer,\n",
    "    )\n",
    "    data_loader = PromptDataLoader(\n",
    "        dataset = dataset,\n",
    "        tokenizer = tokenizer,\n",
    "        template = promptTemplate,\n",
    "        tokenizer_wrapper_class=WrapperClass,\n",
    "        #max_seq_length=512, decoder_max_length=3,batch_size=4,shuffle=False, teacher_forcing=False, predict_eos_token=False, truncate_method=\"tail\"\n",
    "    )\n",
    "    for batch in data_loader:\n",
    "\n",
    "        with torch.no_grad():\n",
    "            logits = promptModel(batch)\n",
    "            preds = torch.argmax(logits, dim = -1)\n",
    "            probs = torch.softmax(logits, dim=-1)\n",
    "          \n",
    "        for i, prob in enumerate(probs):\n",
    "            # 获取query的id\n",
    "            query_id = batch.tgt_text[i]\n",
    "            print(query_id)\n",
    "\n",
    "            print(prob[classes.index('specific')],prob[classes.index('generic')])\n",
    "\n",
    "            # 根据模型的预测概率给query加分\n",
    "            scores[query_id] += prob[classes.index('specific')]\n",
    "            \n",
    "    \n"
   ]
  },
  {
   "cell_type": "code",
   "execution_count": 11,
   "id": "18c64103",
   "metadata": {},
   "outputs": [
    {
     "data": {
      "text/plain": [
       "defaultdict(float,\n",
       "            {'401': tensor(0.2928),\n",
       "             '402': tensor(0.3855),\n",
       "             '403': tensor(0.3495),\n",
       "             '404': tensor(0.2646),\n",
       "             '405': tensor(0.3649),\n",
       "             '406': tensor(0.2410),\n",
       "             '407': tensor(0.3315),\n",
       "             '408': tensor(0.3539),\n",
       "             '409': tensor(0.3089),\n",
       "             '410': tensor(0.2783),\n",
       "             '411': tensor(0.4552),\n",
       "             '412': tensor(0.2348),\n",
       "             '413': tensor(0.3188),\n",
       "             '414': tensor(0.2682),\n",
       "             '415': tensor(0.3293),\n",
       "             '416': tensor(0.3188),\n",
       "             '417': tensor(0.3351),\n",
       "             '418': tensor(0.2338),\n",
       "             '419': tensor(0.2612),\n",
       "             '420': tensor(0.0653),\n",
       "             '421': tensor(0.2153),\n",
       "             '422': tensor(0.2711),\n",
       "             '423': tensor(0.4094),\n",
       "             '424': tensor(0.3049),\n",
       "             '425': tensor(0.2174),\n",
       "             '426': tensor(0.2388),\n",
       "             '427': tensor(0.3273),\n",
       "             '428': tensor(0.1589),\n",
       "             '429': tensor(0.3744),\n",
       "             '430': tensor(0.3293),\n",
       "             '431': tensor(0.4331),\n",
       "             '432': tensor(0.1847),\n",
       "             '433': tensor(0.1623),\n",
       "             '434': tensor(0.3211),\n",
       "             '435': tensor(0.2814),\n",
       "             '436': tensor(0.1868),\n",
       "             '437': tensor(0.2762),\n",
       "             '438': tensor(0.2440),\n",
       "             '439': tensor(0.4347),\n",
       "             '440': tensor(0.2406),\n",
       "             '441': tensor(0.1950),\n",
       "             '442': tensor(0.3371),\n",
       "             '443': tensor(0.3872),\n",
       "             '444': tensor(0.3360),\n",
       "             '445': tensor(0.1629),\n",
       "             '446': tensor(0.2276),\n",
       "             '447': tensor(0.3335),\n",
       "             '448': tensor(0.2136),\n",
       "             '449': tensor(0.2610),\n",
       "             '450': tensor(0.2856)})"
      ]
     },
     "execution_count": 11,
     "metadata": {},
     "output_type": "execute_result"
    }
   ],
   "source": [
    "scores"
   ]
  },
  {
   "cell_type": "code",
   "execution_count": 12,
   "id": "f3dfe823",
   "metadata": {},
   "outputs": [],
   "source": [
    "sorted_queries = sorted(scores.items(), key=lambda item: item[1], reverse=True)\n"
   ]
  },
  {
   "cell_type": "code",
   "execution_count": null,
   "id": "ee771dda",
   "metadata": {},
   "outputs": [],
   "source": []
  },
  {
   "cell_type": "code",
   "execution_count": 13,
   "id": "0e919ed8",
   "metadata": {},
   "outputs": [
    {
     "data": {
      "text/plain": [
       "[('411', tensor(0.4552)),\n",
       " ('439', tensor(0.4347)),\n",
       " ('431', tensor(0.4331)),\n",
       " ('423', tensor(0.4094)),\n",
       " ('443', tensor(0.3872)),\n",
       " ('402', tensor(0.3855)),\n",
       " ('429', tensor(0.3744)),\n",
       " ('405', tensor(0.3649)),\n",
       " ('408', tensor(0.3539)),\n",
       " ('403', tensor(0.3495)),\n",
       " ('442', tensor(0.3371)),\n",
       " ('444', tensor(0.3360)),\n",
       " ('417', tensor(0.3351)),\n",
       " ('447', tensor(0.3335)),\n",
       " ('407', tensor(0.3315)),\n",
       " ('430', tensor(0.3293)),\n",
       " ('415', tensor(0.3293)),\n",
       " ('427', tensor(0.3273)),\n",
       " ('434', tensor(0.3211)),\n",
       " ('416', tensor(0.3188)),\n",
       " ('413', tensor(0.3188)),\n",
       " ('409', tensor(0.3089)),\n",
       " ('424', tensor(0.3049)),\n",
       " ('401', tensor(0.2928)),\n",
       " ('450', tensor(0.2856)),\n",
       " ('435', tensor(0.2814)),\n",
       " ('410', tensor(0.2783)),\n",
       " ('437', tensor(0.2762)),\n",
       " ('422', tensor(0.2711)),\n",
       " ('414', tensor(0.2682)),\n",
       " ('404', tensor(0.2646)),\n",
       " ('419', tensor(0.2612)),\n",
       " ('449', tensor(0.2610)),\n",
       " ('438', tensor(0.2440)),\n",
       " ('406', tensor(0.2410)),\n",
       " ('440', tensor(0.2406)),\n",
       " ('426', tensor(0.2388)),\n",
       " ('412', tensor(0.2348)),\n",
       " ('418', tensor(0.2338)),\n",
       " ('446', tensor(0.2276)),\n",
       " ('425', tensor(0.2174)),\n",
       " ('421', tensor(0.2153)),\n",
       " ('448', tensor(0.2136)),\n",
       " ('441', tensor(0.1950)),\n",
       " ('436', tensor(0.1868)),\n",
       " ('432', tensor(0.1847)),\n",
       " ('445', tensor(0.1629)),\n",
       " ('433', tensor(0.1623)),\n",
       " ('428', tensor(0.1589)),\n",
       " ('420', tensor(0.0653))]"
      ]
     },
     "execution_count": 13,
     "metadata": {},
     "output_type": "execute_result"
    }
   ],
   "source": [
    "sorted_queries "
   ]
  },
  {
   "cell_type": "code",
   "execution_count": 14,
   "id": "72748a20",
   "metadata": {},
   "outputs": [],
   "source": [
    "query_dict = dict(sorted_queries)"
   ]
  },
  {
   "cell_type": "code",
   "execution_count": 15,
   "id": "a8b99fea",
   "metadata": {},
   "outputs": [],
   "source": [
    "query_dict = {k: v.item() for k, v in query_dict.items()}"
   ]
  },
  {
   "cell_type": "code",
   "execution_count": 16,
   "id": "d0074ea0",
   "metadata": {},
   "outputs": [
    {
     "data": {
      "text/plain": [
       "{'411': 0.45518794655799866,\n",
       " '439': 0.4346924424171448,\n",
       " '431': 0.43310168385505676,\n",
       " '423': 0.4093930721282959,\n",
       " '443': 0.38718536496162415,\n",
       " '402': 0.38554543256759644,\n",
       " '429': 0.3743726909160614,\n",
       " '405': 0.3648919463157654,\n",
       " '408': 0.35385698080062866,\n",
       " '403': 0.3494800329208374,\n",
       " '442': 0.3370559513568878,\n",
       " '444': 0.3360496759414673,\n",
       " '417': 0.33513087034225464,\n",
       " '447': 0.33349451422691345,\n",
       " '407': 0.3314908742904663,\n",
       " '430': 0.3292964994907379,\n",
       " '415': 0.32928627729415894,\n",
       " '427': 0.327295184135437,\n",
       " '434': 0.3210892379283905,\n",
       " '416': 0.31877246499061584,\n",
       " '413': 0.3187713921070099,\n",
       " '409': 0.30894002318382263,\n",
       " '424': 0.30494073033332825,\n",
       " '401': 0.2928086519241333,\n",
       " '450': 0.28560590744018555,\n",
       " '435': 0.2813933789730072,\n",
       " '410': 0.278344064950943,\n",
       " '437': 0.27616482973098755,\n",
       " '422': 0.2710694372653961,\n",
       " '414': 0.2682437300682068,\n",
       " '404': 0.2645978629589081,\n",
       " '419': 0.26115986704826355,\n",
       " '449': 0.2610084116458893,\n",
       " '438': 0.24403885006904602,\n",
       " '406': 0.24096937477588654,\n",
       " '440': 0.24059778451919556,\n",
       " '426': 0.2387848198413849,\n",
       " '412': 0.234774649143219,\n",
       " '418': 0.2338465005159378,\n",
       " '446': 0.22763922810554504,\n",
       " '425': 0.2173943817615509,\n",
       " '421': 0.2153094857931137,\n",
       " '448': 0.2135814130306244,\n",
       " '441': 0.1950366497039795,\n",
       " '436': 0.18678462505340576,\n",
       " '432': 0.18467199802398682,\n",
       " '445': 0.16285060346126556,\n",
       " '433': 0.16230399906635284,\n",
       " '428': 0.1588905155658722,\n",
       " '420': 0.06527335196733475}"
      ]
     },
     "execution_count": 16,
     "metadata": {},
     "output_type": "execute_result"
    }
   ],
   "source": [
    "query_dict"
   ]
  },
  {
   "cell_type": "code",
   "execution_count": 17,
   "id": "ac39a96a",
   "metadata": {},
   "outputs": [],
   "source": [
    "with open('401-450gt.txt', 'r') as f:\n",
    "    gt = dict(line.strip().split() for line in f)\n",
    "\n",
    "with open('401-450nqc.txt', 'r') as f:\n",
    "    nqc = dict(line.strip().split() for line in f)\n",
    "\n",
    "query_scores = list(query_dict.values())\n",
    "#gtscores = [float(gt[key]) for key in query_dict.keys()]\n",
    "#nqcscores = [float(nqc[key]) for key in query_dict.keys()]\n"
   ]
  },
  {
   "cell_type": "code",
   "execution_count": 18,
   "id": "702f355e",
   "metadata": {},
   "outputs": [],
   "source": [
    "keys = query_dict.keys()\n",
    "gtscores = [float(gt[key]) for key in keys]\n",
    "nqcscores = [float(nqc[key]) for key in keys]\n"
   ]
  },
  {
   "cell_type": "code",
   "execution_count": 19,
   "id": "e05980ce",
   "metadata": {},
   "outputs": [
    {
     "data": {
      "text/plain": [
       "dict_keys(['411', '439', '431', '423', '443', '402', '429', '405', '408', '403', '442', '444', '417', '447', '407', '430', '415', '427', '434', '416', '413', '409', '424', '401', '450', '435', '410', '437', '422', '414', '404', '419', '449', '438', '406', '440', '426', '412', '418', '446', '425', '421', '448', '441', '436', '432', '445', '433', '428', '420'])"
      ]
     },
     "execution_count": 19,
     "metadata": {},
     "output_type": "execute_result"
    }
   ],
   "source": [
    "keys"
   ]
  },
  {
   "cell_type": "code",
   "execution_count": null,
   "id": "b19789ff",
   "metadata": {},
   "outputs": [],
   "source": []
  },
  {
   "cell_type": "code",
   "execution_count": 20,
   "id": "e64b8b8e",
   "metadata": {},
   "outputs": [],
   "source": [
    "with open('opt_point_post2.txt', 'w', encoding='utf-8') as f:\n",
    "    for key in query_dict.keys():\n",
    "        f.write(f'{key}\\t{query_dict[key]}\\t{nqc[key]}\\t{gt[key]}\\n')\n"
   ]
  },
  {
   "cell_type": "code",
   "execution_count": 21,
   "id": "944c2967",
   "metadata": {},
   "outputs": [
    {
     "data": {
      "text/plain": [
       "[8.253385543823242,\n",
       " 4.02252721786499,\n",
       " -6.610340118408203,\n",
       " 31.011184692382812,\n",
       " 0.7333466410636902,\n",
       " 2.892881155014038,\n",
       " 8.541165351867676,\n",
       " 8.07620906829834,\n",
       " 6.774903774261475,\n",
       " 45.91432189941406,\n",
       " 2.685452461242676,\n",
       " 11.117552757263184,\n",
       " 1.1843476295471191,\n",
       " 4.2269487380981445,\n",
       " 7.814405918121338,\n",
       " 11.102095603942871,\n",
       " 14.683598518371582,\n",
       " 13.625859260559082,\n",
       " 1.5539339780807495,\n",
       " -14.283669471740723,\n",
       " 0.6664474010467529,\n",
       " 9.889849662780762,\n",
       " 1.8052459955215454,\n",
       " 0.5529524683952332,\n",
       " 13.707488059997559,\n",
       " 1.9212779998779297,\n",
       " 9.120701789855957,\n",
       " 2.51373553276062,\n",
       " 3.7995567321777344,\n",
       " -8.841760635375977,\n",
       " 3.8539679050445557,\n",
       " 3.981992721557617,\n",
       " 7.3450188636779785,\n",
       " 2.7874035835266113,\n",
       " 8.005461692810059,\n",
       " 1.0883139371871948,\n",
       " 1.6846462488174438,\n",
       " -0.05628133937716484,\n",
       " 2.5999250411987305,\n",
       " 2.6592535972595215,\n",
       " -12.099804878234863,\n",
       " 1.7216060161590576,\n",
       " 0.9927824139595032,\n",
       " 8.429100036621094,\n",
       " 2.1707212924957275,\n",
       " 3.6750802993774414,\n",
       " 11.008926391601562,\n",
       " 1.462353229522705,\n",
       " 4.180014610290527,\n",
       " 20.67823600769043]"
      ]
     },
     "execution_count": 21,
     "metadata": {},
     "output_type": "execute_result"
    }
   ],
   "source": [
    "nqcscores"
   ]
  },
  {
   "cell_type": "code",
   "execution_count": 24,
   "id": "9bbe3da6",
   "metadata": {},
   "outputs": [
    {
     "name": "stdout",
     "output_type": "stream",
     "text": [
      "(0.15923310010948583, 0.26936109852781503)\n",
      "(0.36221728005952814, 0.009740338185571448)\n"
     ]
    }
   ],
   "source": [
    "from scipy.stats.stats import pearsonr\n",
    "p1 = pearsonr(query_scores, gtscores)\n",
    "p2 = pearsonr(nqcscores, gtscores)\n",
    "print(p1)\n",
    "print(p2)"
   ]
  },
  {
   "cell_type": "code",
   "execution_count": 25,
   "id": "acb0f344",
   "metadata": {},
   "outputs": [
    {
     "name": "stdout",
     "output_type": "stream",
     "text": [
      "KendalltauResult(correlation=0.1346938775510204, pvalue=0.16752460252559565)\n",
      "KendalltauResult(correlation=0.23265306122448978, pvalue=0.017126325378114097)\n"
     ]
    }
   ],
   "source": [
    "from scipy.stats.stats import kendalltau\n",
    "k1 = kendalltau(query_scores, gtscores)\n",
    "k2 = kendalltau(nqcscores, gtscores)\n",
    "print(k1)\n",
    "print(k2)"
   ]
  },
  {
   "cell_type": "code",
   "execution_count": null,
   "id": "f99019fc",
   "metadata": {},
   "outputs": [],
   "source": [
    "\n",
    "\n"
   ]
  },
  {
   "cell_type": "code",
   "execution_count": null,
   "id": "f34e7f04",
   "metadata": {},
   "outputs": [],
   "source": []
  },
  {
   "cell_type": "code",
   "execution_count": null,
   "id": "08df02b1",
   "metadata": {},
   "outputs": [],
   "source": []
  }
 ],
 "metadata": {
  "kernelspec": {
   "display_name": "Python 3 (ipykernel)",
   "language": "python",
   "name": "python3"
  },
  "language_info": {
   "codemirror_mode": {
    "name": "ipython",
    "version": 3
   },
   "file_extension": ".py",
   "mimetype": "text/x-python",
   "name": "python",
   "nbconvert_exporter": "python",
   "pygments_lexer": "ipython3",
   "version": "3.9.12"
  }
 },
 "nbformat": 4,
 "nbformat_minor": 5
}
