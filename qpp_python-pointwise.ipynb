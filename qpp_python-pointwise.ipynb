{
 "cells": [
  {
   "cell_type": "code",
   "execution_count": 1,
   "id": "a0076c71",
   "metadata": {},
   "outputs": [],
   "source": [
    "#pip install openprompt"
   ]
  },
  {
   "cell_type": "code",
   "execution_count": null,
   "id": "d12355f4",
   "metadata": {},
   "outputs": [],
   "source": []
  },
  {
   "cell_type": "code",
   "execution_count": 1,
   "id": "30e07ff3",
   "metadata": {},
   "outputs": [
    {
     "name": "stdout",
     "output_type": "stream",
     "text": [
      "Query : 401\tWhat language and cultural differences impede the integration of foreign minorities in Germany?\n",
      "Document Contents: ['Document 1 : FBIS4-18372 \"drweu064_h_94001\" FBIS-WEU-94-064 Daily Report 3 Apr 1994 GERMANY EU Minority Blocking Vote `Overestimated\\' EU Minority Blocking Vote `Overestimated\\' LD0304093094 Berlin DDP/ADN in German 0415 GMT 3 Apr 94 LD0304093094 Berlin DDP/ADN German BFN [Text] Nuremberg (DDP/ADN) -- In the view of Foreign Minister Klaus Kinkel, the practical significance of the minority blocking vote in the EU [European Union] Council of Ministers, which has until recently been strongly disputed because of the membership negotiations of the EFTA [European Free Trade Association] states, is being overestimated. In any case, in the EU the principle of unanimity governed complex matters, and the qualified majority vote was decisive for issues concerning the internal market, Kinkel told the DDP/ADN news agency in Nuremberg. Moreover, the EU foreign ministers had undertaken to reexamine the whole procedure, which has now been decided, in 1996. It had at any rate been right not to let the accession of the Scandinavian countries and Austria collapse over this matter, Kinkel said. Kinkel rejected criticism from the CSU [Christian Social Union]-led Bavarian Government to the effect that German interests were not being represented at national and international level as matter of factly as other countries. In view of its past, Germany was being \"viewed critically\" as a reunited country, Kinkel said. However, there was \"no reason to slink around on velvet paws.\" Germany had so far done well out of its \"policy of restraint.\"', 'Document 2 : FBIS3-20090 \"drweu059_h_94013\" FBIS-WEU-94-059 Document Type:Daily Report 25 Mar 1994 GERMANY Israel Says Synagogue Attack `Cause for Concern\\' AU2503143794 Cologne Deutschlandfunk Network in German 1220 GMT 25 Mar 94 AU2503143794 Cologne Deutschlandfunk Network Language: German Article Type:BFN [Telephone interview with Ilan Mor, spokesman of the Israeli Embassy in Bonn, by Hans-Joachim Wiese; place not given -- live] [Text] [Wiese] Good day Mr. Mor. [Mor] Good day, Mr. Wiese. [Wiese] Mr. Mor, the attack on the synagogue in Luebeck has caused great outrage. The chairman of the Central Council of Jews in Germany, Ignatz Bubis, has called for the search for the \"mental instigators.\" How do you assess this attack? [Mor] Of course, we assess it in the same way as Mr. Bubis and all other politicians who have commented on the attack so far. Israel is observing with close attention what is happening in Germany in the sphere of radicalism and anti-Semitism. Like everybody else in Germany, we are naturally concerned. [Wiese] Is this attack a confirmation of your fears -- of the fear that a new anti-Semitism is emerging in Germany? [Mor] Well, anti-Semitism exists in Germany anyway and, unfortunately, everywhere else in the world. Every now and then -- not to say regularly -- our fears are confirmed. This is naturally a big cause for concern. We are confident that the German authorities will do everything possible to prevent such events. Unfortunately, such incidents still occur. This is very, very bad. [Wiese] Mr. Mor, how do you assess the measures that are being taken in Germany against the danger for Jewish institutions and the danger for foreigners? Do you think that the measures are sufficient? [Mor] Well, I am not in a position to make such an assessment. However, the Israeli Government and the Israeli citizens in Israel are confident that the German authorities are doing everything possible to protect the foreigners and other minorities in Germany and to prevent such incidents. Emnid published the results of an opinion poll a few days ago. A total of 22 percent do not want a Jewish neighbor. This is very telling. [Wiese] Mr. Mor, you just talked about possible Israeli reactions to events in Germany. Is Israel concerned about incidents like the one that just happened in Luebeck? [Mor] Yes, of course. As I just said, for us this is a big cause for concern. We are convinced that Weimar is not possible in Germany today. However, a total of 40,000 Jews and other minorities are living in Germany. There are numerous foreigners in Germany who would like to be protected. Of course, we all must do everything possible to provide such protection. As I just mentioned, Israel is closely following what is happening in Germany. Anti-Semitism and right-wing extremism naturally exist all over the world. However, against the backdrop of the events of 1933 and 1945, such events assume great significance because they are occuring in Germany of all countries. [Wiese] Thank you, Mr. Mor. Good bye. [Mor] Good bye.', \"Document 3 : FT922-14939 _AN-CDCA8AELFT 920403 FT 03 APR 92 / Kohl stands firm on Turkey row By QUENTIN PEEL and JOHN MURRAY BROWN BONN, ANKARA CHANCELLOR Helmut Kohl of Germany refused to back down yesterday in his confrontation with Turkey, insisting that German weapons supplied to its Nato ally can only be used for its defence 'in the framework of the alliance'. Although he stopped short of direct criticism of Turkey's campaign against Kurdish guerrillas and civilians, which caused Germany to suspend all arms shipments last week, he said that Ankara must observe all its commitments to human and minority rights. In a parliamentary debate on the row between the two normally close allies, Mr Kohl sought to turn the debacle to belated electoral advantage. With an eye on the state elections in Baden-Wurttemberg and Schleswig-Holstein on Sunday, the chancellor delivered a ringing defence of his government's foreign policy. But Mr Hans-Ulrich Klose, the SPD parliamentary leader, taunted Mr Kohl for allowing the row to get out of hand. He said that Mr Dick Cheney, the US defence secretary, had been forced to intervene between the Nato partners. 'We have reached a sorry state when our big brother in the alliance, the US, must help us to return to the path of foreign policy virtue,' he said. The number of foreigners seeking political asylum in Germany reached a record of more than 35,000 last month, with refugees from Yugoslavia alone running at 13,175. Romania was the second largest source, with 5,544 and Turkey third with 2,406. Turkey is to introduce economic reforms for the impoverished Kurdish minority after unrest in the area in which more than 100 have died in the past 10 days, writes John Murray Brown in Ankara. The measures represent the first concrete steps to address the Kurdish problem and stem growing support for the Syrian backed Kurdish Workers Party which is fighting an eight year campaign for independence. The Financial Times London Page 2\", \"Document 4 : FT941-1403 _AN-ECYC5ACZFT 940325 FT 25 MAR 94 / Major looks to Germany for EU deal By LIONEL BARBER, PHILIP STEPHENS and DAVID GARDNER BRUSSELS, LONDON The government is looking to Germany to forge a face-saving compromise in the dispute over voting rights which risks delaying the entry of four new countries into the European Union next year. After Mr John Major dropped hints of flexibility in the UK negotiating position yesterday, senior British officials expressed hope that Germany might be able to coax EU partners into reciprocal movement at this weekend's meeting of European foreign ministers in Greece. Germany has opposed UK and Spanish demands to preserve voting rules allowing two large member states and one small country to block decisions in the Council of Ministers. The UK, however, appears to be gambling that Chancellor Helmut Kohl's desire to bring Finland, Sweden, Austria and Norway into the EU may encourage new flexibility. Even if the deadlock is not broken in Greece, one wellplaced UK official said it might be possible to reach a deal before Easter. Mr Klaus Kinkel, German foreign minister, said after a meeting with Mr Alain Juppe, his French counterpart, that any deal must not come at the price of weakened decision-making in an expanded EU. Hopes of a compromise revolve around a trade-off in which the UK and Spain concede that the 'blocking minority' must rise from 23 to 27 votes to take account of the four new members. In return they would win a legally binding protocol giving countries mustering between 23 and 27 votes an automatic right to delay decisions. Mr Major's 'bottom line' was described by senior Whitehall insiders as an agreement which in no way eroded the ability of minorities to block contentious legislation on employment and social issues. Legal experts in Brussels dismissed the notion of putting a legal ring-fence around social legislation, or creating a two-tier voting system to deal with such contentious issues. Mr Major told the Commons that an agreement would be possible 'within a matter of days' if other European governments had the political will to reach a settlement. David Gardner in Brussels adds: Mr Theodoros Pangalos, the Greek European affairs minister, who will be chairing this weekend's meeting in Greece, last night described the British stance as 'the blackmail of a tiny minority'. Joe Rogaly, Page 18 Countries:- GBZ United Kingdom, EC. DEZ Germany, EC. QRZ European Economic Community (EC). Industries:- P9721 International Affairs. Types:- NEWS General News. The Financial Times London Page 12\", 'Document 5 : FBIS4-18182 \"drweu062_h_94001\" FBIS-WEU-94-062 Daily Report 31 Mar 1994 GERMANY Kinkel Sees `No Alternative\\' to Helping Yeltsin Kinkel Sees `No Alternative\\' to Helping Yeltsin AU3003203394 Bonn DAS PARLAMENT in German 25 Mar-1 Apr 94 p 11 AU3003203394 Bonn DAS PARLAMENT German BFN [Report by unidentified correpondent on address by Foreign Minister Klaus Kinkel in the Bundestag debate on 11 Mar 94: \"There Is No Alternative to Help for the Eastern Neighbors\"] [Excerpt] [passage omitted] According to Foreign Minister Klaus Kinkel, Russia is of central importance for Europe. Therefore, there is no alternative at all to further support for President Yeltsin. If stability and economic progress is achieved there, the whole of Europe will benefit from it. Russia must be fully integrated within the world economy, where the division of labor exists, which also applies to the other CIS states. In particular, Kinkel mentions Ukraine, whose government he requests to accede to the Nonproliferation Treaty. Then the minister spoke about his recent meeting with the three Baltic ministers in Bonn: Of course, the three Baltic states are a special concern for us. Ties in the Baltic area that have been buried for years have to be revived again. Of all former Soviet republics, the Baltic states can show the most impressive reform successes. Yes, the dimensions are small, but they are nevertheless impressive. One objective of our presidency in the second half of the year will be to conclude an association agreement with the prospect of association also with Latvia, Lithuania, and Estonia. The talks that I held with the three Baltic foreign ministers in the past few days focused on leading these states to the European Union [EU]. Politically and economically stable Baltic countries are an advantage for the whole of the region, and, by the way, also for Russia. It is the priority task of the European policy of these days to join the parts of Europe that have been separated for more than four decades. It presents particular challenges to Germany, the country in the center. We are particularly affected by all the risks, but, on the other hand, especially favored with the chances, too. Since the end of 1989, we have particularly supported the reform states in Central and East Europe. However, the historic chance that lies ahead of us, that is, to help the chances of freedom in our east to be transformed into jobs and thus into permanent political institutions, far exceeds Germany\\'s powers. Also for this reason, it is so important that the EU continues to advance consistently on the road toward its enlargement, as was outlined in Copenhagen. Of course, the European-Atlantic institutions must not be overstrained or overtaxed when stability is extended to Central and East Europe. This would not help those who want to become members, either. Therefore, we have to beware of a course of action that only permits the choice between entry and isolation. The right course is a flexible system of increasingly close pan-European cooperation in addition to the option of entry. I do not want to fail to mention the Foreign Ministry\\'s cultural promotion for the German minorities in Central and East Europe. For example, several representations were newly established in regions with German minorities. The foreign representations in Almaty, Bishkek, Tashkent, Gdansk, Szczecin, and soon Novosibirsk and Saratov are dedicating a considerable part of their work to the concerns of the German minority in their administrative districts. This is good and very important. Help for self-help, from the training and advanced training of teachers through syllabuses and textbooks to media promotion, is primarily the issue here. With this policy, we want to build additional bridges to these countries through our minorities, but we do not want to create artificial loyalty problems. We must not forget one thing: Europe is more than growth figures and foreign trade statistics and also more than the mere maximization of affluence. Europe is a cultural area. Whoever wants to put it together again has to restart above all the intellectual-cultural exchange. A tremendous amount of things still have to be done in this respect. Personally, I very much deplore the fact that we have relatively few funds for this purpose at a time when we have problems and difficulties. Above all I deplore it so much because we -- this has often been said in the Bundestag -- have an enormous chance as far as our language is concerned. It is not unimportant for the Germans -- it is particularly striking for me as their foreign minister -- that colleagues, friends, and partners who speak German come from these countries to the numerous conferences that we hold and where French and English have hitherto been the only languages. This is a chance that we should use. I ask the German Bundestag again to help me when money is at issue and to give a proper impetus. [passage omitted]']\n"
     ]
    }
   ],
   "source": [
    "import csv\n",
    "csv.field_size_limit(1410720)\n",
    "\n",
    "# 初始化字典\n",
    "trec_dict = {}\n",
    "q_dict = {}\n",
    "query_id_counts = {}\n",
    "\n",
    "\n",
    "# 从trec.txt中读取数据\n",
    "with open('401-450.txt', 'r') as f:\n",
    "    reader = csv.reader(f, delimiter='\\t')\n",
    "    for row in reader:\n",
    "        query_id = row[0]  # 第一列是查询id\n",
    "        query_content = row[1]  # 第二列是查询内容\n",
    "        trec_dict[query_id] = query_content\n",
    "\n",
    "# 从lmdir.txt中读取数据\n",
    "with open('401-450diri1000.txt', 'r') as f:\n",
    "    reader = csv.reader(f, delimiter='\\t')\n",
    "    for row in reader:\n",
    "        query_id = row[0]  # 第一列是查询id\n",
    "        doc_content = row[6]  # 第7列是文档内容\n",
    "        # 计算当前查询id的文档数量\n",
    "        if query_id_counts.get(query_id, 0) >= 5:\n",
    "            continue\n",
    "        \n",
    "        \n",
    "        # 在文档内容前添加标识\n",
    "        # 将查询id和带标识的文档内容添加到字典中\n",
    "        key = query_id + '\\t' + trec_dict.get(query_id, '')\n",
    "        i = len(q_dict.get(key, []))+1\n",
    "        doc_content = f'Document {i} : {doc_content}'\n",
    "        \n",
    "        if key in q_dict:\n",
    "            q_dict[key].append(doc_content)\n",
    "        else:\n",
    "            q_dict[key] = []\n",
    "            q_dict[key].append(doc_content)\n",
    "            \n",
    "        query_id_counts[query_id] = query_id_counts.get(query_id, 0) + 1\n",
    "\n",
    "\n",
    "\n",
    "# 打印出第一个查询id及其对应的文档内容，以验证代码是否正确\n",
    "for query_id in list(q_dict.keys())[:1]:\n",
    "    print(\"Query :\", query_id)\n",
    "    print(\"Document Contents:\", q_dict[query_id])\n"
   ]
  },
  {
   "cell_type": "code",
   "execution_count": 2,
   "id": "d453e10c",
   "metadata": {},
   "outputs": [
    {
     "data": {
      "text/plain": [
       "dict"
      ]
     },
     "execution_count": 2,
     "metadata": {},
     "output_type": "execute_result"
    }
   ],
   "source": [
    "# q_dict['264014\thow long is life cycle of flea']\n",
    "type(q_dict)"
   ]
  },
  {
   "cell_type": "code",
   "execution_count": 23,
   "id": "ef0a466b",
   "metadata": {},
   "outputs": [],
   "source": [
    "# from langchain.llms import OpenAI\n",
    "# from langchain.chains.summarize import load_summarize_chain\n",
    "# from langchain.chains import AnalyzeDocumentChain\n",
    "\n",
    "# llm = OpenAI(openai_api_key=\"\",temperature=0)\n",
    "\n",
    "\n",
    "# def summarize_doc(doc):\n",
    "#     # 处理文档的代码在这里\n",
    "#     chain = load_summarize_chain(llm, chain_type=\"map_reduce\")\n",
    "\n",
    "#     summarize_document_chain = AnalyzeDocumentChain(combine_docs_chain=chain)\n",
    "\n",
    "#     processed_doc = summarize_document_chain.run(doc)\n",
    "      \n",
    "#     return processed_doc\n",
    "\n",
    "\n",
    "# for key, value in q_dict.items():\n",
    "#     new_value = []\n",
    "#     for doc in value:\n",
    "#         new_value.append(summarize_doc(doc))\n",
    "#     q_dict[key] = new_value\n"
   ]
  },
  {
   "cell_type": "code",
   "execution_count": 3,
   "id": "934342cc",
   "metadata": {},
   "outputs": [
    {
     "data": {
      "text/plain": [
       "['Document 1 : FBIS4-18372 \"drweu064_h_94001\" FBIS-WEU-94-064 Daily Report 3 Apr 1994 GERMANY EU Minority Blocking Vote `Overestimated\\' EU Minority Blocking Vote `Overestimated\\' LD0304093094 Berlin DDP/ADN in German 0415 GMT 3 Apr 94 LD0304093094 Berlin DDP/ADN German BFN [Text] Nuremberg (DDP/ADN) -- In the view of Foreign Minister Klaus Kinkel, the practical significance of the minority blocking vote in the EU [European Union] Council of Ministers, which has until recently been strongly disputed because of the membership negotiations of the EFTA [European Free Trade Association] states, is being overestimated. In any case, in the EU the principle of unanimity governed complex matters, and the qualified majority vote was decisive for issues concerning the internal market, Kinkel told the DDP/ADN news agency in Nuremberg. Moreover, the EU foreign ministers had undertaken to reexamine the whole procedure, which has now been decided, in 1996. It had at any rate been right not to let the accession of the Scandinavian countries and Austria collapse over this matter, Kinkel said. Kinkel rejected criticism from the CSU [Christian Social Union]-led Bavarian Government to the effect that German interests were not being represented at national and international level as matter of factly as other countries. In view of its past, Germany was being \"viewed critically\" as a reunited country, Kinkel said. However, there was \"no reason to slink around on velvet paws.\" Germany had so far done well out of its \"policy of restraint.\"',\n",
       " 'Document 2 : FBIS3-20090 \"drweu059_h_94013\" FBIS-WEU-94-059 Document Type:Daily Report 25 Mar 1994 GERMANY Israel Says Synagogue Attack `Cause for Concern\\' AU2503143794 Cologne Deutschlandfunk Network in German 1220 GMT 25 Mar 94 AU2503143794 Cologne Deutschlandfunk Network Language: German Article Type:BFN [Telephone interview with Ilan Mor, spokesman of the Israeli Embassy in Bonn, by Hans-Joachim Wiese; place not given -- live] [Text] [Wiese] Good day Mr. Mor. [Mor] Good day, Mr. Wiese. [Wiese] Mr. Mor, the attack on the synagogue in Luebeck has caused great outrage. The chairman of the Central Council of Jews in Germany, Ignatz Bubis, has called for the search for the \"mental instigators.\" How do you assess this attack? [Mor] Of course, we assess it in the same way as Mr. Bubis and all other politicians who have commented on the attack so far. Israel is observing with close attention what is happening in Germany in the sphere of radicalism and anti-Semitism. Like everybody else in Germany, we are naturally concerned. [Wiese] Is this attack a confirmation of your fears -- of the fear that a new anti-Semitism is emerging in Germany? [Mor] Well, anti-Semitism exists in Germany anyway and, unfortunately, everywhere else in the world. Every now and then -- not to say regularly -- our fears are confirmed. This is naturally a big cause for concern. We are confident that the German authorities will do everything possible to prevent such events. Unfortunately, such incidents still occur. This is very, very bad. [Wiese] Mr. Mor, how do you assess the measures that are being taken in Germany against the danger for Jewish institutions and the danger for foreigners? Do you think that the measures are sufficient? [Mor] Well, I am not in a position to make such an assessment. However, the Israeli Government and the Israeli citizens in Israel are confident that the German authorities are doing everything possible to protect the foreigners and other minorities in Germany and to prevent such incidents. Emnid published the results of an opinion poll a few days ago. A total of 22 percent do not want a Jewish neighbor. This is very telling. [Wiese] Mr. Mor, you just talked about possible Israeli reactions to events in Germany. Is Israel concerned about incidents like the one that just happened in Luebeck? [Mor] Yes, of course. As I just said, for us this is a big cause for concern. We are convinced that Weimar is not possible in Germany today. However, a total of 40,000 Jews and other minorities are living in Germany. There are numerous foreigners in Germany who would like to be protected. Of course, we all must do everything possible to provide such protection. As I just mentioned, Israel is closely following what is happening in Germany. Anti-Semitism and right-wing extremism naturally exist all over the world. However, against the backdrop of the events of 1933 and 1945, such events assume great significance because they are occuring in Germany of all countries. [Wiese] Thank you, Mr. Mor. Good bye. [Mor] Good bye.',\n",
       " \"Document 3 : FT922-14939 _AN-CDCA8AELFT 920403 FT 03 APR 92 / Kohl stands firm on Turkey row By QUENTIN PEEL and JOHN MURRAY BROWN BONN, ANKARA CHANCELLOR Helmut Kohl of Germany refused to back down yesterday in his confrontation with Turkey, insisting that German weapons supplied to its Nato ally can only be used for its defence 'in the framework of the alliance'. Although he stopped short of direct criticism of Turkey's campaign against Kurdish guerrillas and civilians, which caused Germany to suspend all arms shipments last week, he said that Ankara must observe all its commitments to human and minority rights. In a parliamentary debate on the row between the two normally close allies, Mr Kohl sought to turn the debacle to belated electoral advantage. With an eye on the state elections in Baden-Wurttemberg and Schleswig-Holstein on Sunday, the chancellor delivered a ringing defence of his government's foreign policy. But Mr Hans-Ulrich Klose, the SPD parliamentary leader, taunted Mr Kohl for allowing the row to get out of hand. He said that Mr Dick Cheney, the US defence secretary, had been forced to intervene between the Nato partners. 'We have reached a sorry state when our big brother in the alliance, the US, must help us to return to the path of foreign policy virtue,' he said. The number of foreigners seeking political asylum in Germany reached a record of more than 35,000 last month, with refugees from Yugoslavia alone running at 13,175. Romania was the second largest source, with 5,544 and Turkey third with 2,406. Turkey is to introduce economic reforms for the impoverished Kurdish minority after unrest in the area in which more than 100 have died in the past 10 days, writes John Murray Brown in Ankara. The measures represent the first concrete steps to address the Kurdish problem and stem growing support for the Syrian backed Kurdish Workers Party which is fighting an eight year campaign for independence. The Financial Times London Page 2\",\n",
       " \"Document 4 : FT941-1403 _AN-ECYC5ACZFT 940325 FT 25 MAR 94 / Major looks to Germany for EU deal By LIONEL BARBER, PHILIP STEPHENS and DAVID GARDNER BRUSSELS, LONDON The government is looking to Germany to forge a face-saving compromise in the dispute over voting rights which risks delaying the entry of four new countries into the European Union next year. After Mr John Major dropped hints of flexibility in the UK negotiating position yesterday, senior British officials expressed hope that Germany might be able to coax EU partners into reciprocal movement at this weekend's meeting of European foreign ministers in Greece. Germany has opposed UK and Spanish demands to preserve voting rules allowing two large member states and one small country to block decisions in the Council of Ministers. The UK, however, appears to be gambling that Chancellor Helmut Kohl's desire to bring Finland, Sweden, Austria and Norway into the EU may encourage new flexibility. Even if the deadlock is not broken in Greece, one wellplaced UK official said it might be possible to reach a deal before Easter. Mr Klaus Kinkel, German foreign minister, said after a meeting with Mr Alain Juppe, his French counterpart, that any deal must not come at the price of weakened decision-making in an expanded EU. Hopes of a compromise revolve around a trade-off in which the UK and Spain concede that the 'blocking minority' must rise from 23 to 27 votes to take account of the four new members. In return they would win a legally binding protocol giving countries mustering between 23 and 27 votes an automatic right to delay decisions. Mr Major's 'bottom line' was described by senior Whitehall insiders as an agreement which in no way eroded the ability of minorities to block contentious legislation on employment and social issues. Legal experts in Brussels dismissed the notion of putting a legal ring-fence around social legislation, or creating a two-tier voting system to deal with such contentious issues. Mr Major told the Commons that an agreement would be possible 'within a matter of days' if other European governments had the political will to reach a settlement. David Gardner in Brussels adds: Mr Theodoros Pangalos, the Greek European affairs minister, who will be chairing this weekend's meeting in Greece, last night described the British stance as 'the blackmail of a tiny minority'. Joe Rogaly, Page 18 Countries:- GBZ United Kingdom, EC. DEZ Germany, EC. QRZ European Economic Community (EC). Industries:- P9721 International Affairs. Types:- NEWS General News. The Financial Times London Page 12\",\n",
       " 'Document 5 : FBIS4-18182 \"drweu062_h_94001\" FBIS-WEU-94-062 Daily Report 31 Mar 1994 GERMANY Kinkel Sees `No Alternative\\' to Helping Yeltsin Kinkel Sees `No Alternative\\' to Helping Yeltsin AU3003203394 Bonn DAS PARLAMENT in German 25 Mar-1 Apr 94 p 11 AU3003203394 Bonn DAS PARLAMENT German BFN [Report by unidentified correpondent on address by Foreign Minister Klaus Kinkel in the Bundestag debate on 11 Mar 94: \"There Is No Alternative to Help for the Eastern Neighbors\"] [Excerpt] [passage omitted] According to Foreign Minister Klaus Kinkel, Russia is of central importance for Europe. Therefore, there is no alternative at all to further support for President Yeltsin. If stability and economic progress is achieved there, the whole of Europe will benefit from it. Russia must be fully integrated within the world economy, where the division of labor exists, which also applies to the other CIS states. In particular, Kinkel mentions Ukraine, whose government he requests to accede to the Nonproliferation Treaty. Then the minister spoke about his recent meeting with the three Baltic ministers in Bonn: Of course, the three Baltic states are a special concern for us. Ties in the Baltic area that have been buried for years have to be revived again. Of all former Soviet republics, the Baltic states can show the most impressive reform successes. Yes, the dimensions are small, but they are nevertheless impressive. One objective of our presidency in the second half of the year will be to conclude an association agreement with the prospect of association also with Latvia, Lithuania, and Estonia. The talks that I held with the three Baltic foreign ministers in the past few days focused on leading these states to the European Union [EU]. Politically and economically stable Baltic countries are an advantage for the whole of the region, and, by the way, also for Russia. It is the priority task of the European policy of these days to join the parts of Europe that have been separated for more than four decades. It presents particular challenges to Germany, the country in the center. We are particularly affected by all the risks, but, on the other hand, especially favored with the chances, too. Since the end of 1989, we have particularly supported the reform states in Central and East Europe. However, the historic chance that lies ahead of us, that is, to help the chances of freedom in our east to be transformed into jobs and thus into permanent political institutions, far exceeds Germany\\'s powers. Also for this reason, it is so important that the EU continues to advance consistently on the road toward its enlargement, as was outlined in Copenhagen. Of course, the European-Atlantic institutions must not be overstrained or overtaxed when stability is extended to Central and East Europe. This would not help those who want to become members, either. Therefore, we have to beware of a course of action that only permits the choice between entry and isolation. The right course is a flexible system of increasingly close pan-European cooperation in addition to the option of entry. I do not want to fail to mention the Foreign Ministry\\'s cultural promotion for the German minorities in Central and East Europe. For example, several representations were newly established in regions with German minorities. The foreign representations in Almaty, Bishkek, Tashkent, Gdansk, Szczecin, and soon Novosibirsk and Saratov are dedicating a considerable part of their work to the concerns of the German minority in their administrative districts. This is good and very important. Help for self-help, from the training and advanced training of teachers through syllabuses and textbooks to media promotion, is primarily the issue here. With this policy, we want to build additional bridges to these countries through our minorities, but we do not want to create artificial loyalty problems. We must not forget one thing: Europe is more than growth figures and foreign trade statistics and also more than the mere maximization of affluence. Europe is a cultural area. Whoever wants to put it together again has to restart above all the intellectual-cultural exchange. A tremendous amount of things still have to be done in this respect. Personally, I very much deplore the fact that we have relatively few funds for this purpose at a time when we have problems and difficulties. Above all I deplore it so much because we -- this has often been said in the Bundestag -- have an enormous chance as far as our language is concerned. It is not unimportant for the Germans -- it is particularly striking for me as their foreign minister -- that colleagues, friends, and partners who speak German come from these countries to the numerous conferences that we hold and where French and English have hitherto been the only languages. This is a chance that we should use. I ask the German Bundestag again to help me when money is at issue and to give a proper impetus. [passage omitted]']"
      ]
     },
     "execution_count": 3,
     "metadata": {},
     "output_type": "execute_result"
    }
   ],
   "source": [
    "q_dict['401\tWhat language and cultural differences impede the integration of foreign minorities in Germany?']"
   ]
  },
  {
   "cell_type": "code",
   "execution_count": 4,
   "id": "1c96249c",
   "metadata": {},
   "outputs": [
    {
     "name": "stdout",
     "output_type": "stream",
     "text": [
      "{'401\\tWhat language and cultural differences impede the integration of foreign minorities in Germany?': [' Foreign Minister Klaus Kinkel believes the minority blocking vote in the European Union Council of Ministers is being overestimated and that the principle of unanimity and qualified majority vote are more important. He also rejects criticism from the CSU-led Bavarian Government that German interests are not being represented. He believes Germany is being viewed critically due to its past, but there is no reason to be overly cautious.', ' Ilan Mor, spokesman of the Israeli Embassy in Bonn, expresses his concern over the attack on a synagogue in Luebeck, Germany and believes that anti-Semitism exists in the country. He mentions an opinion poll which showed that 22% of people do not want a Jewish neighbor and emphasizes that Israel is closely monitoring events in Germany due to the events of 1933 and 1945.', ' German Chancellor Helmut Kohl is in a confrontation with Turkey over arms shipments, which must be used for defense within the NATO alliance. Hans-Ulrich Klose criticized Kohl for allowing the row to get out of hand. Meanwhile, the number of foreigners seeking political asylum in Germany has reached a record high of 35,000, with refugees from Yugoslavia, Romania, and Turkey making up the majority. In response to unrest in the Kurdish area, Turkey is introducing economic reforms to address the Kurdish problem.', ' The UK and Spain are seeking a legally binding protocol from Germany to give countries with 23-27 votes an automatic right to delay decisions, which could delay the entry of four new countries into the European Union. Greece has criticized the UK\\'s stance as \"blackmail of a tiny minority\".', ' German Foreign Minister Klaus Kinkel spoke to the Bundestag in support of Russian President Yeltsin and the need for Russia to be integrated into the world economy. He also called for increased cultural exchange between European countries, with a focus on German language, and for more funds to be allocated to this purpose. He asked the Bundestag to provide the necessary support.'], \"402\\tWhat is happening in the field of behavioral genetics, the study of the relative influence of genetic and environmental factors on an individual's behavior or personality?\": [' A landmark study on identical twins raised apart has found that genetics play a much larger role in shaping behavior than family environment. The study, published in the journal Science, found that 70% of intelligence quotient, 50% of personality differences, 50% of religiosity, and 40% of job interest variations are accounted for by genes. The Minnesota study of identical twins, begun in 1979, has revealed many eerie similarities between reunited twins and has been able to quantify the contribution of genetics to personality and behavior, while also emphasizing the importance of environment in child development.', ' Susan Hodge, a biomathemetician and geneticist, experienced anxiety and fear while waiting for the results of her amniocentesis test during her third pregnancy at age 40. Her story highlights the emotional toll genetic testing can take on couples, and the difficult decisions they must make. Research studies have shown that both amniocentesis and CVS produce anxiety reactions in women, but CVS carries a higher risk of spontaneous abortion and may not be as reliable as amniocentesis. Despite the emotional rollercoaster, Hodge eventually found peace.', ' The Office of Science and Technology Policy is proposing the establishment of the National Bioethics Advisory Commission, a FACA committee that will provide advice and recommendations on bioethical issues arising from research on human biology and behavior. The Commission will be balanced in its membership and appointed by the President, and meetings will be open to the public. Comments on the proposed charter must be received by October 11, 1994.', '\\n\\nIrish researchers have found evidence that left-handedness may be determined in the womb, as fetuses as early as 15 weeks after conception display a preference for sucking their left thumbs. Follow-up observations of 17 fetuses showed that the preference was maintained during pregnancy, suggesting that handedness is genetically determined.', ' Clifford Grobstein\\'s book \"Science & the Unborn\" divides life in the womb into six distinct phases: genetic, developmental, functional, behavioral, psychic, and social. The genetic phase begins at conception and the unborn develops its \"hereditary uniqueness.\" The developmental phase is when the pre-embryo attaches to the uterine wall and becomes committed to the production of a single individual. The functional phase is when the embryo has developed certain abilities essential to survival. The behavioral phase is when the unborn exhibits various types of behavior. The psychic phase is when a \"sense of self\" is believed to exist. The social phase is when social individuality is conferred through recognition by others.'], '403\\tFind information on the effects of the dietary intakes of potassium, magnesium and fruits and vegetables as determinants of bone mineral density in elderly men and women thus preventing osteoporosis (bone decay).': [\" A new study has found that the drug etidronate, used to treat Paget's disease and a bone disorder in cancer patients, can halve the rate of vertebral fractures in women with osteoporosis. The drug is sold under the brand name Didronel and the manufacturer is applying to the FDA for approval to use the drug to treat osteoporosis. The study also found that the drug increased spinal bone density by an average of 4-5%. Further studies are needed to explore the drug's long-term effects and to compare its effectiveness to other osteoporosis treatments.\", ' Australian researchers have found that daughters of women with osteoporosis are more likely to develop the disease than those whose mothers do not have it, suggesting that genetics may be a factor in its development. The study compared 32 women with mothers who had osteoporosis to 22 women with mothers who did not, and found that the former had thinner bones.', ' This document explains the relationship between calcium intake and osteoporosis, and outlines the process for filing a claim and the hearing process. It emphasizes the importance of adequate calcium intake throughout life for reducing the risk of osteoporosis, particularly for adolescent and young adult Caucasian and Asian American women. It also states that other factors, such as sex, race, age, exercise, and diet, are important for reducing the risk of osteoporosis.', ' This document outlines the process for submitting a health claim to the FSIS and the regulations that must be followed if the claim is approved or denied. It also explains the relationship between calcium and osteoporosis, and the significance of calcium intake in reducing the risk of developing the disease. Additionally, it mentions other risk factors such as sex, race, hormonal status, family history, body stature, level of exercise, general diet, and lifestyle choices. A health claim associating calcium with reduced risk of osteoporosis may be made on the label or labeling of a poultry product, but must make clear that adequate calcium intake is not the only risk factor.', '\\nResearchers have found that an experimental treatment involving slow-release sodium fluoride and calcium supplements can help strengthen the backbones of women with spinal fractures due to osteoporosis. This treatment has been found to increase spinal bone by 3-6% a year and decrease the frequency of spinal fractures, but it is not effective for fractures of the hip or other long bones.'], '404\\tHow often were the peace talks in Ireland delayed or disrupted as a result of acts of violence?': [\" This document examines the current deadlock in the British-Irish peace talks, which is largely attributed to Britain's preconditions for Sinn Fein's involvement. It is suggested that the presence of British troops and the Protestant majority in Northern Ireland are major impediments to the peace process. The document also suggests that both sides have gained valuable experience from their struggles over the past two decades, and that they should present peaceful views in order to move the talks forward.\", \" Michael Ancram has acknowledged that a political settlement in Northern Ireland is unlikely without the IRA accepting the Downing Street Declaration. The British and Irish governments are continuing to pursue a predominantly internal settlement, and Sir Patrick Mayhew has proposed new institutions of joint co-operation between the North and South of Ireland. The Ulster Unionists are willing to accept British representatives from a Northern Ireland assembly, provided that Northern Ireland's sovereignty remains intact.\", ' Irish Prime Minister Albert Reynolds is meeting with British Prime Minister John Major this weekend to discuss the progress of their peace initiative in Northern Ireland. He will then visit the United States next month to present a balanced view on the Downing Street declaration and discuss the resumed inter-party talks process with President Clinton and congressional leaders.', \" Irish Prime Minister Albert Reynolds and British Prime Minister John Major met in London to discuss the future of Northern Ireland. They agreed to resume the three-strand Northern Ireland talks process based on the principles enshrined in the Downing Street peace declaration. John Hume of the SDLP believes that peace in Ireland should be above party politics and that the British Government should clarify any questions the organization has about the Declaration. The organization's initial reaction was suspicion, but they have not rejected the Declaration.\", ' The British government has proposed a peace plan for Northern Ireland, which focuses on the establishment of a Northern Ireland assembly and the revitalisation of local government. Initial reaction from Unionists suggests that further concessions may be necessary to get the parties to the negotiating table. The Ulster Unionist Party has welcomed the prospect of fresh proposals, but has called for the plan to be discussed in bilateral meetings. The government has ruled out any contact with Sinn Fein until the IRA declares an unconditional ceasefire.'], '405\\tWhat unexpected or unexplained cosmic events or celestial phenomena, such as radiation and supernova outbursts or new comets, have been detected?': [' This document looks at the high-energy charged-particle fluxes that come with solar flares and their impact on biological objects and hardware during spaceflight. It classifies solar cosmic ray events by magnitude of total proton fluence and uses power-law functions to describe the energy spectra of peak proton fluxes and proton fluences. It also compares the average energy spectra of solar cosmic ray events to those of CREME and finds that they have large, high-energy particle fluxes.', ' JAERI and NASDA have studied the single event effect, which is the main cause of semiconductor breakdowns in space. An experiment on an integrated circuit memory chip revealed that breakdowns increased when heavy ion penetration exceeded LET 2.8. JAERI was also able to measure the speed of the single event phenomenon, which was found to be in the hundreds of picoseconds.', \" This article examines the sources of radiation in interplanetary space, including galactic cosmic rays, solar-flare cosmic rays, and recurrent fluxes of low-energy particles from the Sun. It presents a forecast method for flare precursors in the optical, radio, and x-ray ranges, and demonstrates that proton flares arise from processes that involve the solar surface, interplanetary space, the Earth's magnetosphere, and magnetic field, and the generation of particles in near-Earth space.\", ' In his book \"The Coming of the Cosmic Christ,\" Matthew Fox proposes that the salvation of Mother Earth lies in a renewed awareness of the Cosmic Christ, and calls for a recovery of a feminist spirituality that has been repressed for centuries. He identifies and critiques obstacles to this recovery, such as Fall/Redemption theology and patriarchy, and suggests renewing worship practices. The Vatican has responded by enforcing a year of silence on Fox, but this may not be the best solution.', ' This document investigates the energy deposits in integrated chips caused by particles in the Feng Yun-1 (B) satellite environment. It examines the LET of Galactic Cosmic-Ray components 1-28, Galactic Cosmic-Ray anomaly components (C, N, O, Ne, Ar, Fe), and inner radiation-belt protons, and calculates the SEU ratios produced by these particles.'], \"406\\tWhat is being done to treat the symptoms of Parkinson's disease and keep the patient functional as long as possible?\": [\" Researchers from UC Davis have suggested that some cases of Parkinson's disease may be caused by infection from a common soil fungus called Nocardia asteroides. If proven, this could lead to new ways of preventing the disease, such as immunization. Other Parkinson's researchers are cautious in their assessment of the results, but agree that it is an intriguing finding. Beaman and Kohbata from Gifu University in Japan are looking for traces of Nocardia infection in Parkinson's victims, but more research is needed to determine if it is a cause.\", \" In a trial involving 54 patients with Parkinson's disease, researchers Langston and Tetrud found that the drug deprenyl nearly doubled the time between the onset of the disease and the need for therapy with the commonly used drug L-dopa. The drug is scheduled to be marketed next month and a larger study of deprenyl is expected in late 1990. The $10-million DATATOP study is also underway to determine if Vitamin E can slow the disease.\", \" Scientists have discovered a blood cell defect in people with Parkinson's disease, which could help identify victims before symptoms appear. The findings, published in the Annals of Neurology, were the result of federally funded research at the University of Colorado Health Sciences Center and suggest that the disease affects more than just the brain cells it kills.\", \"\\n\\nResearchers have discovered that the drug deprenyl can slow the progression of Parkinson's disease and should be used in all patients with early stages of the illness. It has been found to delay the onset of advanced symptoms by at least one year and is safe, with 500,000 Americans suffering from the degenerative disease of the nervous system.\", \" Researchers at UCSD have developed a new technique to treat Parkinson's disease in rats by grafting genetically engineered skin cells into their brains. This technique is not as effective as the current therapy, which involves grafting brain cells from aborted fetuses, but it offers a more ethical alternative.\"], \"407\\tWhat is the impact of poaching on the world's various wildlife preserves?\": [\" Richard E. Leakey, a world-renowned paleontologist, author, and conservationist, was appointed to the Department of Wildlife Conservation and Management in Kenya to help protect the country's wildlife from poaching and other threats. His appointment follows a surge of poaching in Kenya's national parks, which has reduced the elephant population from 140,000 to 22,000. Leakey has been outspoken about the need to protect Kenya's wildlife, and his appointment is seen as a major step forward in the effort to protect the country's wildlife.\", ' Richard Leakey, a prominent figure in wildlife conservation and anti-poaching efforts in East Africa, resigned from the Kenya Wildlife Service after a two week smear campaign. The government has launched an investigation into Leakey and the KWS Service, due to his resistance to land grabbing by politicians. His associates and friends admit that he can be abrasive and arrogant, but he has also been credited with restoring international credibility to the Kenyan wildlife department.', ' 11 people were arrested Tuesday for their involvement in a poaching ring that killed over 400 black bears in the Northeast for their gall bladders. The arrests were the result of a 2 1/2-year investigation by wildlife officials.', ' The African elephant population has been in decline due to poaching and ivory trading, but in 1989 CITES banned the trade in ivory. At the upcoming CITES conference in Kyoto, Japan, Zimbabwe, South Africa, Botswana, Namibia and Malawi are pushing to resume the buying and selling of ivory and other elephant products. Conservationists fear that ending the ban will lead to a new wave of poaching, while the countries pushing for the ban believe that effective management of native elephant herds has led to flourishing populations. A possible compromise is to trade in meat and skins instead of ivory, but this is not seen as binding enough. African states are now collaborating and major donors are willing to fund elephant programmes, but the fate of elephants lies in the hands of African peoples.', ' Wildlife specialists from over 100 countries are meeting in Lausanne, Switzerland to discuss the African elephant population crisis. The delegates of CITES must find a compromise between the East African demand for an ivory ban and the position that controlled marketing of tusks can finance anti-poaching measures. CITES rulings are non-binding and rely on international pressure for enforcement.'], '408\\tWhat tropical storms (hurricanes and typhoons) have caused significant property damage and loss of life?': [' Tropical Storm Lili veered away from the mid-Atlantic coast, while the remnants of two other storms caused flooding from the Carolinas to Pennsylvania. The National Weather Service issued warnings and watches for the Virginia, Delaware, and Maryland coasts. Nine people were killed due to the storms, and flooding was reported in multiple states. Windsurfers took advantage of the winds at Cape Hatteras, N.C.', ' A tropical depression in the open Atlantic is expected to become the fifth tropical storm of the season by morning, according to the National Hurricane Center in Miami. It is located 1,400 miles southwest of the Azores, moving at 20 m.p.h. with maximum sustained winds near 35 m.p.h. If it reaches tropical storm strength, it will be named Erin.', ' The National Hurricane Center reported Monday that Tropical Storm Adolph had weakened to a Tropical Depression and was expected to dissipate within 24 hours, located about 1,400 miles southwest of the southern tip of Baja California.', ' Tropical Storm Jerry is located 580 miles from New Orleans and is showing signs of becoming a hurricane. It is threatening coastal areas with abnormally high tides due to the rough seas and strong gravitational pull of the moon.', ' Tropical Storm Felix has gained strength in the eastern Atlantic and is moving away from land in a northwesterly direction, according to forecasters.'], '409\\tWhat legal actions have resulted from the destruction of Pan Am Flight 103 over Lockerbie, Scotland, on December 21, 1988?': [\" Pan Am has paid Pounds 175,000 in compensation for damage caused by the 1988 Lockerbie explosion, which killed 270 people. The Scottish Office had started legal action, but the money had already been sent from the US. The incident was an administrative 'blip'.\", ' A US jury found Pan American World Airways guilty of wilful misconduct in a case filed by relatives of the victims of the 1988 Lockerbie bombing. The plaintiffs are seeking more than $300 million in damages from the airline and two subsidiaries. The jury was told that the airline had improved security measures before the disaster, but went into bankruptcy in 1991 and ceased operating last December.', ' The US State Department has obtained a commitment from Syrian President Hafez Assad to take action against the Popular Front for the Liberation of Palestine-General Command, led by Ahmed Jibril, if presented with evidence of their involvement in the bombing of Pan Am Flight 103, which killed 270 people at Lockerbie, Scotland. The US believes Iran ordered the bombing in retaliation for the accidental shooting down of an Iranian Airbus in 1988.', ' Rep. James A. Traficant Jr. (D-Ohio) has revealed a report claiming that CIA operatives in West Germany may have had prior knowledge of the bomb that exploded on Pan Am Flight 103 over Lockerbie, Scotland in 1988, killing 270 people. He has not revealed how he obtained the report.', \" The President's Commission on Aviation Security and Terrorism released a report on Tuesday recommending the US retaliate against acts of terrorism with military strikes or other punitive steps. The report found that Pan Am and the FAA had failed to enforce security regulations that could have prevented the bombing of Pan Am Flight 103 in 1988, and recommended halting deployment of bomb detectors in airports. The commission also recommended the US take aggressive steps to strike back against terrorists and their sponsors, even if available evidence falls short of criminal standards of proof.\"], '410\\tWho is involved in the Schengen agreement to eliminate border controls in Western Europe and what do they hope to accomplish?': [\" The Schengen Executive Committee met in Bonn on 26 April 1994 to discuss further measures to be taken in the gradual abolition of personal controls at internal borders. The Committee agreed on measures to be taken, such as the removal of traffic obstacles and lifting of traffic restrictions at border crossing points. They also adopted a regulation concerning unified visa issuance procedures and a protocol to replace the provisions of the Schengen Agreement concerning the granting of political asylum. The Executive Committee also adopted an interim report on the state of talks on Austria's observer status and called on the chairman to continue negotiations with Austria.\", ' The Senate fact-finding mission concluded that the Schengen agreement, which eliminates internal borders and allows for free movement of people and goods within the EU, is inapplicable due to difficulties in establishing the Schengen Information System (SIS). The report blames \"dilution of responsibility,\" \"bad choice of technicians,\" and the conditions in which the contract was awarded, resulting in an indefinite delay in the implementation of the agreement.', \" European Commissioner Raniero Vanni d'Archirafi expressed hope for the Schengen Agreement, which would abolish border controls, despite technical difficulties. MEPs have criticized the Commission for the delay, while the Commissioner defended himself by saying he had never promised a date. 95-98% of free movement has already been achieved, and the Commission has taken initiatives to move forward.\", ' The Schengen Agreement of 1990, which committed France, Germany, and the Benelux countries to lifting border controls by January 1, 1993, has caused trepidation among the 350 locals of the Luxembourg village of Schengen. Despite this, the village will still benefit from tax advantages until 1995. The accord has been delayed until mid-year due to companies not being ready for the complex new VAT system, and passport checks are likely to remain in place in the UK, Denmark and Ireland beyond the January deadline. The Schengen border crossing is set to be unmanned for the first time since 1839 on December 31.', ' The Schengen Information System is set to go into operation in October, making it easier to search for criminals and rejected asylum-seekers. The Schengen Accord will come into force when the system is put into operation, with reduced identity checks at the inland borders and increased checks at the external borders. The system will be accessible via 8,000 terminals in Germany, France, Benelux states, Spain, and Portugal, and will cost 20 million marks.'], '411\\tFind information on shipwreck salvaging: the recovery or attempted recovery of treasure from sunken ships.': [' James Lamb, coin director of Christie\\'s, made a secretive trip to a Southern port city after Hurricane Hugo to view a horde of gold coins and bullion worth between $28 million and $450 million, including 11 pioneer coins and hundreds of U.S. gold coins, the most valuable being a $5 gold \"Classic Head\" coin worth up to $7,750. It is uncertain when the coins will reach the market.', ' Salvage workers are attempting to refloat the sunken restaurant ship Princess Louise in Los Angeles Harbor, but have discovered an air leak that could delay the operation for up to three days. They plan to patch the leak and then try to float the ship upside down to make it easier to tow, with the ultimate goal of sinking it at sea to create an artificial reef.', ' Herbert Humphreys, 44, has been interested in treasure hunting since he was 8 and has since founded Marex in 1984 to excavate the Nuestra Senora de las Maravillas, a Spanish treasure galleon that sank off the Little Bahama Bank with 40 tons of gold and silver bullion and treasure on board. The crew uncovered a cache of gold coins and a Spanish colonial gold pectoral cross set with 66 emeralds, and is now preparing to search for the mother lode. Marex is also attempting to create a new industry by salvaging 10,000 Allied ships that were sunk during the war, and is currently focusing on the Maravillas, an ancient French wreck off Barbados.', \" At a Christie's Glasgow auction, 14 bottles of scotch inspired by the book and film Whisky Galore sold for Pounds 11,462, almost three times the predicted figure. This news was reported in the Financial Times London.\", ' John Fish of the Historical Maritime Group of New England has used sonar to confirm the discovery of the wreck of the Portland, a 280-foot side-wheel steamer that sank in a 1898 storm in Massachusetts Bay, believed to have taken the lives of over 160 people.'], '412\\tWhat security measures are in effect or are proposed to go into effect in airports?': [\" Following a second IRA mortar attack on London's Heathrow Airport, authorities discussed ways to increase security, but accepted that due to its size and frequent use, there were limits to what could be done. Belfast's City airport has managed to ensure a high level of security due to its small size, but this is not practical for Heathrow. Security measures have been increased in recent years, but there is no guarantee against terrorist attack.\", \" A former chairman of Hong Kong's Security Association has expressed concerns about the security at Kai Tak Airport, one of the world's busiest airports. The Security Branch, however, claims that their existing security arrangements are satisfactory and meet the standards of Annex 17 of the Chicago Convention on Airport Security. Any company can bid for the contract, but they must meet the stringent standards required.\", ' Airlines using Burbank Airport have agreed to increase security staffing for 30 minutes each night, and metal detectors will be staffed until the last passenger has left the building, in response to a KNBC-TV report alleging a security loophole.', ' A member of the Popular Defense Committee reported that Mogadishu Airport is secure and flights have resumed. They encouraged Somali people to help rebuild their country.', ' Airlines using Burbank Airport have agreed to increase security staffing for 30 minutes a night in response to a KNBC-TV news report that a security loophole could be used by a plane hijacker. Metal detectors will be staffed until the last passenger has left the building, and access to the runway and boarding areas will be locked. Airport officials and the airlines maintain that the security system is in compliance with FAA regulations, while KNBC-TV disagrees.'], '413\\tWhat are new methods of producing steel?': [' Wu Xichun, a news spokesman for the Ministry of Metallurgical Industry, recently revealed that the supply of steel products in China exceeds demand due to excessive imports in the fourth quarter of last year and the growth of imports in the first four months of this year. Prices on the domestic steel products market have dropped in the past two months and are predicted to remain stable for a certain period of time. Wu Xichun warned foreign trade enterprises not to blindly import steel products and advised iron and steel enterprises to pay close attention to market changes.', ' The Japanese government is introducing new Japan Industrial Standards (JIS) for high-quality steel products used in construction and public work projects, in response to reported cases of welded parts breaking. This may be seen as a nontariff barrier, and will increase production costs by 10%, with a potential price increase.', \" The Democratic People's Republic of Korea has seen a significant increase in iron and steel production, with the Kim Chaek iron and steel complex producing over 53,000 more tons of pig iron, 30,000 more tons of steel, and 23,000 more tons of rolled steel. The Hwanghae iron and steel complex has seen a 7 percent increase in pig iron production and a 10 percent increase in steel production, while the Chollima steel complex and other steel works have seen a 20 percent increase in daily production of rolled steel.\", \" Japanese steel makers are planning to export 400,000 tons of half-finished steel products to the US in the first half of next year due to the increasing demand for steel in the US with the economy's recovery. Despite the decrease in steel demand in Japan, the steel exports do not yield much profit, but Japanese makers seem to have no choice but to export them. The NSC will also export pig iron for casting production to electric furnace steel makers in South Korea and Taiwan.\", ' Metallurgical Industry Minister Liu Qi recently urged the iron and steel industry to optimize its structure in order to become a strong iron and steel power. He suggested that China should focus on narrowing the gap with advanced world levels in terms of quality, variety, consumption, cost, and labor productivity, and should change concepts instead of merely increasing output and expanding the production scale. He emphasized the need to increase the technological content of production stages, optimize technological lines, and manufacture competitive products.'], '414\\tHow much sugar does Cuba export and which countries import it?': [\" Sugar experts have forecasted that Cuba's sugar crop for 1991-92 will be 6.5 million tonnes, 1.1 million tonnes less than the previous year due to harvesting issues, equipment problems, and field issues. The US Department of Agriculture is expected to revise its estimate downwards this week. The drop in production will negatively affect Cuba's economy, but will be beneficial to the world sugar market. Cuba has had to renegotiate with ex-Soviet Union states to find a home for 1.5 million tonnes of sugar that used to go to the Soviet Union.\", ' Russia has suspended oil shipments to Cuba due to Cuba not meeting its sugar export commitments. This will further weaken the Cuban economy, which is already in recession. Russia will sell the remaining 1m tonnes of oil on the world market and is open to negotiations in 1995 if more sugar is needed.', \" Cuba has threatened to sell its sugar and nickel on the international market if its traditional East European trading partners stop buying them. Juan Escalona, president of Cuba's National Assembly, believes that Cuba's economic relations with these partners will not remain the same due to political and economic reforms.\", \" Australia is set to become the world's largest raw sugar exporter this year, with a high sugar content cane crop in Queensland expected to push output beyond 4.4m tonnes. Last year, Australia exported 3.36m tonnes, making it the second largest exporter after Cuba's 3.6m tonnes. With a third successive good crop, Australia is hoping to take the number one position this year, as Cuba's sugar production is expected to fall to 4m tonnes.\", \" Cuba's sugar harvest has been in decline for the past five years, resulting in lost export earnings of $1bn. Contributing factors include input shortages, unseasonal weather, and declining efficiency. The Cuban government is attempting to maximize production with a short, sharp harvest and requiring all mills to join the harvest. The productivity of the cane co-operatives has been poor due to lack of incentives, delays in promised benefits, and shortages of work clothes. Cuba is considering introducing greater material incentives for sugar workers and may have to roll over many of its commitments into the next crop period.\"], '415\\tWhat is known about drug trafficking in the \"Golden Triangle\", the area where Burma, Thailand and Laos meet?': [' On October 26th, representatives from Laos, China, Myanmar, and Thailand met at the UN headquarters in New York to sign a memorandum to increase cooperation in controlling drugs in the Golden Triangle area of Southeast Asia. The UN office for the control of international drugs will provide technical assistance and funds to the four countries to help address the drug production issue.', ' This article examines the need for increased regional cooperation between Thailand, Laos, and China to combat the drug trade of Khun Sa in the Golden Triangle and Economic Quadrangle of Burma. It argues that without effective measures to stop production at its source, the global drug market will remain flooded.', \" At a meeting chaired by Thai Deputy Prime Minister Police General Pow Sarasin, Burma, Thailand, and Laos - the three 'Golden Triangle' states - agreed to increase cooperation in fighting drug production and trafficking, marking a historic moment for the three countries.\", ' This article examines the use of mules in the opium trade in Myanmar, which is used to transport opium from mountain areas to heroin factories in the Golden Triangle. It also predicts a large opium harvest in 1991 and mentions the 1989 drug-trafficking indictment against drug warlord Khun Sa.', \" Hong Kong police seized 67 kilograms of high-grade heroin worth $50 million from the seabed south of Lamma Island, with the trademark of Khun Sa, the world's most notorious opium lord. Police are still searching for the syndicate responsible for dumping the drugs. In a separate operation, 13 kilograms of high-grade heroin were seized in Ngau Tau Kok and two men were arrested.\"], '416\\tWhat is the status of The Three Gorges Project?': [\" Li Peng, Premier of China, presided over a meeting of the Three Gorges Project Construction Committee to discuss preparations for the project and the resettlement of residents in the affected areas. Li Peng emphasized the importance of the project and the need for all relevant departments to work together to make full preparations for the construction of the project. Zou Jiahua and Qian Zhengying also expressed their views on the project's construction. The State Council's ministries and commissions should set an example in supporting the project and take practical action in supporting construction in the areas along the Three Gorges.\", ' At a press conference on October 29th, 1993, Guo Shuyan reported that the Three Gorges Project in China is progressing smoothly and will require 95.4 billion yuan renminbi in static investment. Resettlement in Xinjiang and Tibet is a rumor and international cooperation will be strengthened. The project will benefit the ecology and environment and construction capital is being raised through various channels. The Chinese Government has set aside 0.003 yuan per kWh of electricity in China and the Gezhouba Power Station will provide net income to be used for the Three Gorges project, which will provide a total of 32.7 billion yuan renminbi over 11 years, equal to 62 percent of the required investment.', ' Today, five machinery manufacturers signed contracts for the Three Gorges Project in China, which is expected to take 17 years to complete. The first batch of equipment will be delivered by June, following an international public bidding process conducted by two Chinese companies and 13 domestic and foreign companies.', ' The State Council held a five-day conference on the resettlement of residents affected by the Three Gorges project. Vice Premier Zou Jiahua and Vice Chairman Qian Zhengying attended the conference. State Councillor Chen Junsheng proposed that the central authorities should exercise unified leadership, with provinces assuming their respective responsibilities and counties acting as the basic unit. He also suggested that funds should not exceed the compensation standard set by the state or the budgetary estimate approved by it, and that all the residents in the areas within 15 square kilometers of the dam construction site should be migrated to other areas by the end of next year.', ' On December 20th, 1993, Chinese Premier Li Peng visited the Three Gorges Project site in Sandouping, Hubei Province. He inspected the preparatory work for the project, spoke with the settlers, and urged the project to be built to first-rate engineering standards. He also suggested building a forest park to preserve the scenery and ecological system in the dam zone. Li Peng emphasized the importance of introducing a competitive mechanism and a bidding system to attract the best construction teams, as well as following the \"Changjiang Three Gorges Construction Project\\'s Resettlement Regulations\" and prioritizing the resettlement of people living near the proposed dam site. He wished the people a happy Spring Festival and hoped that they would enjoy their new houses.'], '417\\tFind ways of measuring creativity.': [' This article explores the idea that creativity is more than just a combination of genes and may be related to mental illness. It looks at the traits of creative individuals, such as insatiable curiosity and openness to new experiences, and how they are driven by intrinsic rewards. It also examines the implications of understanding and teaching creativity, which could have profound implications for modern society. Mihaly Csikszentmihalyi has studied creativity for over 24 years and has concluded that it is the interaction between societal needs and individual talents. Schools and companies are beginning to recognize this and are encouraging students and employees to be creative.', ' This article examines the difficulty of defining creativity and the debate over whether computers can be creative. It looks at the idea that creativity is problem solving and the implications of this for computers, as well as the views of experts such as Herbert Simon and Mihaly Csikszentmihalyi on the matter.', ' Studies have confirmed a link between creativity and mental illness, with artists and writers being more likely to suffer from mental illness than the general population. Scientists are researching a possible genetic link between creativity and mental illness, and have found that those with mild mental illness or carriers of the genes for mental illness are the most creative. This raises complex medical and ethical issues.', ' WH Sim founded Creative Technology in 1981 and has since seen it become a global success. Its main product, Sound Blaster, has sold nearly 3 million units and the company is now valued at $1.2 billion. Creative has 60% of the market and is expanding into multi-media computers and digital video software in conjunction with Microsoft and Matsushita of Japan, as well as forming a joint venture with a Beijing company to develop Chinese software.', '\\n\\nDeng Xiaoping encouraged creative practice and independent thinking in order to reform and construct Chinese-style socialism. He advocated relying on the creative practice of the basic levels and the masses, and constantly summing up new experience. He also encouraged ideological reform and emancipation in order to develop creative thinking, which is necessary for establishing a socialist market economic system and advancing the socialist modernization program.'], '418\\tIn what ways have quilts been used to generate income?': [' Karen Turgeon, a professional quilt maker, moved to California 11 years ago and was surprised to find that quilts have become popular in modern homes. Interior designers and home decorators are using quilts as bedspreads, wall hangings, and furniture drapes, and they are following trends such as dark colors and Southwest themes. Piecemakers Country Store offers custom quilts, and the Orange County Quilters Guild has seen an increase in membership. Quilts are seen as a way to bring warmth and coziness to a home.', ' Quilting is an art form that has been around for centuries and is currently experiencing a resurgence in popularity. Anita Weinraub is working to document and preserve the history of quilts in Georgia. Quilts are made of three layers of cloth and bedding material, and are quilted together with a special thread. There are many quilting guilds and organizations dedicated to the craft.', ' This article discusses the history of quilting and the upcoming Orange County Quilters Guild show, which will feature more than 200 handmade quilts, seminars on quilting technique, and antique quilts, needlework, and supplies. Additionally, the show will be donating 80 handmade quilts to the Ronald McDonald House in Orange. Admission is $3 for adults and $2 for seniors and students.', \" The Assistance League of San Pedro-Palos Verdes is hosting an exhibit on Saturday featuring 60 quilts and 10 miniature rooms, including Marie Terrones' three-story blue house. Visitors can buy tickets for chances to win prizes and homemade cakes and cookies will be sold. The exhibit combines art and history, with people looking at the 100-year-old quilts and dollhouses and admiring the craftsmanship and history. Admission is a $2 donation, or $1 for seniors and children.\", ' The Names Project, an organization that creates memorials for those who have died of AIDS, will reduce its national display of quilts after Columbus Day due to the high cost of transporting and displaying the 12,000 quilts in Washington on 25 acres near the White House, which will cost $165,000.'], '419\\tWhat new uses have been developed for old automobile tires as a means of tire recycling?': [' Renault and Peugeot are working together to develop systems for collecting and recycling automobile scrap in 10 West European countries. Peugeot is launching a pilot experiment in the Nord-Pas-de-Calais Region and is considering introducing an \"environment fee\" to help reduce the amount of used motor oil, batteries, and tires that are thrown away in France each year. Renault is ruling out the possibility of an increased garage bill to serve the \"green cause.\"', ' Reyfra, a firm in Spain, has launched a pilot experiment to recycle automobiles, from collection to crushing. This is the first of its kind in Spain to include all automobile manufacturers and has the support of industry associations. The aim is to reduce pollution and reuse components, such as glass and metals, to reduce fuel oil consumption.', ' Tires are a major environmental nuisance in the US, with 3 billion scrap automobile tires in legal and illegal stockpiles and 250 million being thrown away every year. To combat this, 18 states have put statutes in place to regulate disposal, and some have attached fees to tires to create funds for disposal or recycling. Technology has also allowed for rubber to be turned into crumbs, sand or baby powder for road paving and patching. Oxford Energy is looking to build a tire-burning plant in Lackawanna, NY, but the town is already home to two hazardous waste facilities and a nuclear waste dump, leading to a debate over the proposal. Oxford Energy is also burning tires at a plant in Westley, Calif. as part of the Modesto Energy Project, which is a waste to energy plant that focuses on rubbish collection and recycling to reduce pollution.', ' Fiat has partnered with the Car Wreckers Association and the Montello Steelworks to create FARE, a recycling program that uses pyrolysis to transform plastic automobile residues into combustible gases that can be used to improve steel fusion and save energy. The process also eliminates dangerous composites and produces a technological gas that is used in steel billet heating ovens.', \" The EPA has published five guidelines for procuring items produced using recovered materials, and has established a preference program for the purchase of cement and concrete containing fly ash, building insulation products containing recovered materials, lubricating oils containing recovered materials, retread tires, and paper and paper products. This guideline outlines the EPA's preference program for paper and paper products containing recovered materials, and requires that all contracts for such products meet the EPA guideline. It also requires that contractors use recycled paper when feasible, and that vendors estimate and certify the percentage of recovered materials in designated items.\"], '420\\tHow widespread is carbon monoxide poisoning on a global scale?': [' Carbon monoxide is an odorless and colorless gas that can be deadly if not properly ventilated. Last year, 1,500 people died from carbon monoxide poisoning and 10,000 were poisoned but survived. In Tijuana, 12 people died and 6 were injured from a butane-burning lantern due to lack of ventilation. Symptoms of carbon monoxide poisoning include headaches, nausea, and vomiting, and those who survive may suffer permanent nervous system or brain damage. Carbon monoxide is usually a byproduct of any system that burns natural gas, such as butane or propane, in the presence of oxygen.', ' On Monday, a funeral Mass was held in Zaragoza, Spain for the 43 people killed in a discotheque fire. An investigation revealed that the fire was likely caused by carbon monoxide poisoning, as fatal levels of carbon monoxide were found in the blood samples of nearly all of the victims.', \" On Monday, a family of four died from carbon monoxide poisoning while returning from a holiday in Mexico. Customs officials attempted to revive them, but they were pronounced dead on arrival at the hospital. The incident is believed to be the first of its kind in the Calexico Port of Entry's 15 years of operation, and a review of the case is expected to be made to see if procedures can be revised to help prevent similar accidents.\", ' Three UC Irvine tennis players were hospitalized after a faulty heater in their Newport Beach apartment leaked carbon monoxide gas. They were saved by their early morning plans to attend a clinic. The gas company replaced the heating unit, but the players have been unable to contact their landlord.', ' Four people from San Diego died of carbon monoxide poisoning while camping in a motor home in Mt. Laguna. The cause of death was inadequate ventilation of the generator used to power a heater in the cold weather. The victims were identified as Katherine Walsh, Michael McCrae, Conan Lemmer, and Graham Rayner.'], '421\\tHow is the disposal of industrial waste being accomplished by industrial management throughout the world?': [' The UK government is consulting on the disposal of radioactive waste, with safety and cost being the two main issues. Deep burial is the preferred option, but surface storage is more expensive and riskier. The government must consider the safest and most acceptable method of disposal, as dilution is no longer an option. Investigations into deep disposal should continue, but surface storage may be the only option until more of the uncertainty is removed.', ' The British government is at odds with the European Commission over the disposal of hazardous waste, with the government defending its current co-disposal methods and the Commission proposing a directive that would require Britain to incur additional costs to incinerate the waste.', \" Yesterday, Environment Minister David Maclean announced a two-month delay in the introduction of new waste disposal rules, which are intended to regulate cowboy operators. The new licensing arrangements will come into effect on June 1 and will require those dealing in waste disposal or operating waste dumps to prove they are 'fit and proper persons'.\", ' China has agreed to abide by three international resolutions banning the disposal of industrial waste and incineration of sewage sludge in its sea waters. Low-level radioactive waste and controlled low-level toxic or non-toxic industrial waste may be disposed of with permission. China has a system in place for the application, examination, approval and issuing of permits for dumping of waste in its sea waters, and has not had any pollution accidents caused by dumping of waste in recent years. The ban will take effect on Sunday.', ' China will begin banning the dumping of radioactive waste and other matter in its sea waters on Sunday, with the exception of low-level radioactive waste and controlled industrial waste which may be dumped with permission. 38 dumping regions have been approved by the Chinese government, and monitoring shows that the water quality in these areas remains good.'], '422\\tWhat incidents have there been of stolen or forged art?': [' Carl Jones, 49, and Marilyn Wilkerson, 40, both of Los Angeles, were arrested Tuesday for attempting to cash a forged check at a Security Pacific Bank in Thousand Oaks. They are suspected of being part of a group that has passed at least 30 forged and stolen checks in Ventura County and 100 in Los Angeles County, and were booked at Ventura County Jail on suspicion of forgery and possession of forged checks and stolen property.', \" The Art Loss Register (ALR) is a high-tech database of stolen art with over 40,000 items, used by insurance companies, police, and individuals to track down stolen art. Recently, the Register has been successful in identifying stolen items and leading police to 'fences' in London. Detective Chief Inspector John Butler is so impressed with the Register that he is installing a modem in Scotland Yard to give the police instant access. The ALR is also spreading its international net, linking its computer with Centrox, a US company which digests the catalogues from 178 auction houses round the world.\", ' Art theft is a major international criminal activity, with only 5-10% of stolen works ever recovered. The Isabella Stewart Gardner Museum in Boston experienced the biggest theft of old masters in US history in 1990, and the Chacara do Ceu Museum in Rio de Janeiro, Brazil, lost $30-40 million worth of art in 1989. The International Foundation for Art Research is working with the FBI to get the word out about stolen artworks, and museums and private collectors have taken measures to protect their art. Art theft is a common occurrence, with IFAR adding over 2,000 works of stolen art to its files each year.', '\\n\\nThieves stole $1 million worth of diamonds from the Kring diamond exchange in Antwerp, Belgium, using forged keys to gain access to the building and open safes.', ' Craig Warner, 40, was arrested Thursday at his South Los Angeles home on suspicion of receiving and transporting stolen property. The stolen property was a million-dollar collection of hundreds of ancient Nepalese and Tibetan art objects stolen 11 years ago from the Manhattan home of antiquities collector Jane Werner. Warner had been an original suspect in the case.'], \"423\\tFind references to Milosevic's wife, Mirjana Markovic.\": [\" Radovan Karadzic, the Bosnian Serb leader, survived a mutiny from his elite army corps when soldiers lifted their eight-day blockade of Banja Luka. The protest reflects a growing divide between the Belgrade leadership of President Slobodan Milosevic and Serb leaders from outside Serbia proper. It is believed that the mutiny was an attempt to weaken Mr Karadzic, who has emerged from recent peace negotiations in a strong position. The instigator of the affair is unclear, with some blaming the Communist Party-Movement for Yugoslavia led by Mr Milosevic's wife, Mrs Mirjana Markovic.\", \" Serbian President Slobodan Milosevic is facing pressure to abandon the Bosnian Serb nationalists' goal of a Greater Serbia and instead create a 'new Yugoslavia' with Serbs and Croats. His wife, Mirjana Markovic, has called for Serbs to become pacifists, and Serbian media has accused Bosnian Serb leaders of corruption. This would be a direct conflict with the nationalists' goal of ethnic partition.\", ' President Slobodan Milosevic of Serbia is attempting to crush any opposition to his rule, including independent media, political opposition, and national minorities. He has used the state media to blame the opposition for economic deprivations and crime. His wife has expressed her distaste for the parliamentary system and the parliament has passed a law to reverse the little privatisation that has been achieved. Milosevic appears to be attempting to snuff out any opposition in order to prevent a backlash from Serbs.', ' This document reports on 18 signs of potential early elections in Serbia, including visits from President Milosevic, the Assembly discussing sowing, the government providing bread to the poorest citizens, improved city transportation, charges against a group of delegates of the Serbian Radical Party, foreign journalists being welcomed by the government, and four political parties initiating a dismissal of Radoman Bozovic. It also mentions the lifting of sanctions against the FRY, a \"Week of Struggle Against Sanctions\" organized by the Democratic Party, and the reconciliation of two political leaders.', ' A financial and political scandal known as \"Dafimentgate\" has been raging in Serbia since Saturday, when a receipt from Dafiment Banka was published, confirming that the wife of Serbia\\'s president had withdrawn 278,000 Swiss francs. This scandal has caused an unprecedented commotion, with pressures and threats to the SRPSKA REC editorial staff, and the banning of the newspaper from POLITIKA\\'s sales network. Aleksandar Tijanic and Kostadin Pusara have both denied the credibility of SRPSKA REC\\'s receipts, and the summary concludes with a question about the alliance of the state and crime in other cases. Serbia was unable to finance its wars or survive under the embargo without the assistance of the mafia, which facilitated the black market, deals in oil, arms, and cigarettes, and money laundering.'], '424\\tGive examples of alleged suicides that aroused suspicion of the death actually being murder.': [' A three-month study conducted by the Marine Corps Recruit Depot found that the stress and pressure of boot camp were not the cause of three recruit suicides in 1988. The report suggested that the environment was a factor, but that there was no common pattern or facts linking the suicides. The Marine Corps is looking for warning signs and allowing recruits to relax during their free time. MCRD is an economic boon for San Diego due to the income generated from visitors, and officials are fighting any attempts to expand Lindbergh Field north to the base.', ' Last year, 4,000 people in Khorasan, Iran committed suicide due to economic pressures. Research showed that almost all of these people were under heavy and unbearable economic pressure. The majority of those who committed suicide were women aged 10-30. The judge in Khorasan attributed the increase in suicides to the lack of correspondence between incomes and costs.', ' Researchers have discovered an imbalance of mu and delta opioid receptors in the brains of suicide victims, which could potentially be used to identify those at risk of suicide. If the findings are confirmed, positron emission tomography could be used to detect this abnormality in living people.', ' A study published in The New England Journal of Medicine has found that panic disorder and panic attacks are linked to an increased risk of suicidal thoughts and suicide attempts. Physicians should be aware of this risk and be prepared to diagnose and treat the disorder.', ' This article examines the potential risks of Prozac, an antidepressant with a low side-effect profile, and the potential benefits of chromium supplements for stabilizing blood sugar. It is reported that Prozac may increase the risk of suicidal thoughts in some patients, while chromium supplements have been found to reduce blood sugar levels in volunteers. Further research is being conducted to determine if chromium supplements can benefit Type II diabetics.'], '425\\tWhat counterfeiting of money is being done in modern times?': [' This document reports on the prevalence of money counterfeiting in Russia, noting that it is becoming increasingly accessible and is being put on an industrial footing. The MVD expects an upsurge in counterfeiting of securities and stocks in the near future, and counterfeiters from Chechnya, Azerbaijan, and other former Soviet republics are a particular threat. Citizens should be wary.', \" Three people from Tianjin, Zhao Zhixiang, Sun Yuhong, and Lu Zhenjie, conspired to traffic and counterfeit state money. They exchanged 10,000 yuan for 27,650 yuan in Jieshou city and spent 3,000 yuan of counterfeit money on various goods. Lu Zhenjie surrendered 20,800 yuan of counterfeit money to the security organ and the People's Bank of China withdrew 23,900 yuan of counterfeit money. Zhao and Sun were sentenced to six years imprisonment and Lu was sentenced to three years imprisonment and three years probation.\", ' Counterfeiting has become a major problem in Russia, with instances increasing 350% in the first five months of 1993. The repeal of restrictions on the import of modern copying and duplicating equipment has contributed to the growth of this type of crime. The MVD and Central Bank urge people to be vigilant when accepting large sums of money, but there is no specific information on the success of the Internal Affairs organs in combating counterfeiting in 1993.', \" Police in Salzburg, Austria have arrested seven suspects, including Alfred Hanl, the leader of a counterfeiting gang, and seized 970,000 counterfeit dollars. Elmar Geisler was Hanl's closest collaborator, and Johann Erben, Hans Hrabak, and Helmut Boidol were the messengers responsible for bringing the counterfeit money into Austria. Three other suspects were also arrested, and house searches have been ordered at their dwellings.\", ' Plumbers at Cal State Long Beach discovered $1 million in counterfeit money while investigating a clogged sewer line. The Secret Service is investigating the possibility that the money originated on campus, as some of the bills had been spent in local restaurants and stores. University officials find it hard to believe that someone from the university is responsible.'], '426\\tProvide information on the use of dogs worldwide for law enforcement purposes.': [' The Mission Viejo City Council voted to create an educational program to encourage dog owners to clean up after their pets, rather than relying on police enforcement. The decision was made in response to complaints from residents who use Lake Mission Viejo, and violators could be fined $100. An assistant city manager said the program would be ready by summer.', ' Ocean Beach in San Diego is debating whether to ban dogs from the beach due to the mess they make. A town meeting is being held to discuss the issue and representatives from county and city elected officials and governmental agencies have been invited. Dog owners are concerned that stricter enforcement of the current cleanup law could lead to a total ban, while others are pushing for increased license fees to pay for more frequent cleanups. The city has already begun to respond to resident concerns by placing additional trash cans and pooper scooper shovels on the beach.', ' This article examines the issue of fatal maulings by pit bulls and suggests solutions such as passing laws, enforcing laws against dogfighting, and holding dog owners and sellers responsible. It also notes that other countries are ahead of the US in terms of holding dog owners accountable and suggests that the US should take similar steps to ensure that dogs have sound temperaments. It is argued that taking strong, creative action is necessary to avoid future incidents.', ' Deer-dog hunting is a popular activity in Mississippi, Alabama, and Georgia, but it is also a source of tension between hunters and property owners. Property owners have reported intimidation and destruction of their property, and the goal of both sides should be peaceful coexistence. Laws have been proposed to restrict dog-hunting, but they are unlikely to pass due to the economic impact it would have on the state. Landowners are threatened by deer-dog hunting and are calling for stronger laws, but are resigned to defeat for now.', \" The Oxnard Police Department has assigned Animal Control Officer Joe Soto to enforce the city's dog license laws. Licenses cost $20 for unaltered dogs and $7.50 for altered dogs, and can be purchased from Soto or at City Hall. Dog owners have 30 days to purchase a license or they will be cited.\"], '427\\tFind documents that discuss the damage ultraviolet (UV) light from the sun can do to eyes.': [\" Opticians are now selling sunglasses sized to fit infants, and parents should ensure their children's eyes are protected from the sun's harmful UV radiation by purchasing sunglasses with UV protection for around $15. Long-term absorption of UV radiation can lead to cataracts and degeneration of the retina.\", ' UVGI systems are not a substitute for HEPA filters or local exhaust of air, and regular maintenance is essential. Overexposure to UV radiation can cause erythema and keratoconjunctivitis, and has been associated with increased risk for skin cancers. HCWs should be educated on the basic principles of UVGI and a competent UVGI system designer should be consulted to address safety considerations. Protective clothing and sunscreen should be used and any eye or skin irritation should be examined by occupational health staff.', ' NTT America has created a self-adhesive patch that can detect UV-B and UV-A rays and provide information on the necessary protection. The patch can be reused up to 1,000 times and can alert users to the risk of over exposure and sunburn before any damage is done.', \" A team of US scientists from Johns Hopkins University are studying the effects of the ozone layer's depletion on humans and animals in Punta Arenas, Chile. The project is being funded by the US Environmental Protection Agency, the Chilean Health Ministry, and the University of Chile. The goal is to monitor the health effects associated with increased ultraviolet radiation.\", ' This document provides guidance on the maintenance and monitoring of UV lamps, including labelling, posting warning signs, replacing lamps according to a schedule, and wearing protective equipment if necessary. Regular monitoring should be conducted to ensure UV radiation levels remain within recommended guidelines.'], '428\\tDo any countries other than the U.S. and China have a declining birth rate?': [' This document examines the declining birth rate in Novosibirsk, Russia, which has caused the population to decrease since 1988 due to emigration, production decline, and reduced need for outside manpower. In 1993, the mortality index increased to 14.1 deaths per thousand population, indicating that the demographic situation in Novosibirsk has reached crisis proportions.', ' The CDC reported that the incidence of low birth weight among U.S. newborns is increasing, particularly among black babies, due to fewer women receiving early prenatal care and a possible association with crack cocaine use. The rate of newborns with very low birth weight also rose, with a greater decline for white newborns than black newborns. Reasons for the worsening gap between the rates for black and white infants are complex and include poverty, single motherhood, age, education, and lack of prenatal care.', \" Lithuania's population has decreased by 51,800 people in the last five years due to emigration to both East and West, resulting in a decrease in the population of Russians, Ukranians, Belarusians, and Jews, while the percentage of Lithuanians in the population has grown. The death rate has increased due to a lack of normal living conditions, medical care, and medicines, leading to a decrease in life expectancy. The birth rate has also decreased, with the average number of children per woman dropping to 1.66 in 1993. These changes are due to a combination of factors, including the crisis and a deteriorated standard of living, leading to an increase in illegitimate children and a decrease in marriages. It is essential to conduct thorough research to understand the causes of these changes and how to help families.\", \" In 1993, China's birth rate was 1.809 percent, death rate was 0.664 percent, and natural growth rate was 1.145 percent. 5 percent of children born in Beijing were from the floating population. Despite population-control successes, over 100 million women will be at their childbearing peak from 1994 to 2000, emphasizing the need for continued family planning.\", \" East Germany's birth rate has declined significantly since the fall of the Berlin Wall in 1989, due to the 1972 abortion law and the fact that women in East Germany started having children at a younger age than those in West Germany. This has caused demographic worries, as the number of people under the age of 20 is expected to decrease while the number of pensioners is expected to increase. The decrease in the birth rate has been further exacerbated by the process of German unification, leading to a sharp decline in the number of children born per woman. This is not enough for a net population replacement, leading to concerns about how the elderly will be cared for in the future.\"], \"429\\tIdentify outbreaks of Legionnaires' disease.\": [\" Three elderly people have died and 13 others have become ill due to an outbreak of Legionnaire's Disease at a 50th high school reunion in Colorado. State health officials are working with the CDC to contact other groups who held conventions at the same hotel. Symptoms of the disease include high fever, headaches and loss of appetite, and it is most common in men over 50, smokers and people in frail health.\", \" At the American Society for Microbiology meeting, Jeannine Navratil reported that chlorine, commonly used to sterilize drinking water and cooling systems, may not be effective against the microorganism that causes Legionnaire's Disease. This microorganism is more resistant to chlorine than other water-borne pathogens and can colonize hot water reservoirs. It is estimated that only a small fraction of cases are reported to the U.S. Centers for Disease Control each year, and 15% of infections prove fatal. To combat the microorganism, it may be necessary to use ultraviolet light or other disinfectants.\", \" This document is a collection of 362 studies and reports on Legionnaires' Disease, a type of pneumonia caused by the Legionella bacteria. It examines the comparative features of pneumococcal, mycoplasma, and Legionnaires' Disease pneumonias, as well as the prevalence of positive antibodies to Legionella pneumophila among outpatients. It also discusses the utility of diagnostic studies in Legionnaires' Disease, oropharyngeal colonization with Legionella pneumophila, asymptomatic infection, and transmission by potable hot water and shower use. Finally, it looks at the results of a study conducted by the American Society for Microbiology in 1991 to investigate a nosocomial Legionella pneumophila outbreak.\", \" This document outlines recommendations for the diagnosis and prevention of Legionnaires' disease, including providing clinicians with appropriate laboratory tests, conducting active searches for cases, using sterile water for nebulization, placing cooling towers away from hospital air-intake systems, installing drift eliminators, using biocides, and maintaining records. It also recommends contacting the local or state health department or the CDC for consultation if a case is identified, and conducting a combined epidemiologic and environmental investigation if the hospital houses severely immunocompromised patients.\", \" Two men who used a homeless shelter and soup kitchen in Stamford, Connecticut were hospitalized with Legionnaires' disease, prompting city health officials to screen employees and hundreds of people served by the facility. The building was closed indefinitely due to fears of a bacterial outbreak.\"], '430\\tIdentify instances of attacks on humans by Africanized (killer) bees.': [' Researchers at the Oak Ridge National Laboratory have developed portable devices that can detect the buzzing frequency of Africanized \"killer\" bees and sound an alarm when they are detected. These bees are known for their aggressive behavior and swarming attacks.', \" Mike Pearson is the bee inspector in Los Angeles County, and is on alert for the arrival of Africanized bees, which are known for their swarming and potentially fatal attacks. He was mobilized in 1985 when a pocket of Africanized bees was discovered in an oil field near Bakersfield, and successfully eradicated. Pearson is optimistic about California's ability to deal with the bees, and sets traps around the county to detect any colonies. He is also working with beekeepers to breed a milder bee to contend with Africanized gene pools.\", \" Bee experts and agricultural officials are preparing for the arrival of Africanized bees in the US as early as next spring. Educational efforts and information campaigns are being used to reduce fatalities and take away the idea of the 'killer' bee. Officials are trying to slow down the bees' progress to allow time to develop emergency services to handle possible bee attacks. The symposium sponsored by the US Department of Agriculture and the San Diego and Imperial County agricultural commissioners is discussing the effects of the Africanized bees on crops and hives. It is possible that the two types of bees could coexist.\", ' This letter to the editor commends the accurate reporting of the San Diego Africanized honey bee symposium, which has replaced public fears with facts to help protect them. It also mentions the success of a task force in Mexico that limited the number of deaths due to the AHB to five over a three-year period, in comparison to the 300 deaths in Venezuela.', ' Beekeepers in San Francisco may be called upon to help the city ward off swarms of Africanized bees, which are expected to enter the US in the next 3-5 years. Beekeepers can help by artificially inseminating queen bees in their hives, and by keeping the public informed that Africanized bees are not as dangerous as they seem. Beekeepers in California generate $50 million a year in agricultural income, and the California State Beekeepers Association is leading the fight against killer bees.'], '431\\tWhat are the latest developments in robotic technology?': [\" China has developed nine types of robots, including those capable of welding, painting, assembling items, disposing of toxic materials, building pier buttresses, packaging, climbing walls, walking upright, and controlling reconnaissance drones. These robots are on par with the world's best and are being used in production procedures that are too strenuous for humans.\", ' This document discusses the need for a comprehensive space infrastructure and the development of rendezvous-docking (RVD) and space robot technologies. Countries such as the United States, Russia, Japan, France, and Germany have been researching RVD technology since the late 1970s. Mitsubishi Electric has been researching and developing space robot technology since the mid-1980s. This article outlines the effectiveness of introducing a force control system and a prediction display screen in the ground system, as well as the development of a ground-based test apparatus called the \"busing simulator\" to simulate the motion of the satellite vehicle and the target satellite. These technologies are expected to form a solid technological base for large-scale space activities.', ' In the 1950s, scientists predicted robots would revolutionize the workforce, but orders for American-made robots have been falling since their peak in 1984. Donald Michie is researching artificial intelligence to create robots that can learn from experience, and service robots are being used in hazardous environments, underwater, and in medical operations. K.G. Engelhardt is developing a robotic workstation to help the disabled, and Joseph F. Engelberger is working on robots to sweep and scrub floors, deliver meals, and potentially even clean houses. George Devol and Joseph Engelberger formed a company in 1958 to build programmable robot arms, and Engelberger believes the technology is now available to make the 1950s visions of a robot-filled world a reality.', ' The Institute for Robot Research at the University of Dortmund has developed a new control concept for automated systems and robots using \"virtual presence\" methods. This technology allows the operator to control tasks through computer graphics with the help of a data glove, and the IRF control technology replicates the activities in the \"virtual world\" of the computer graphics. This technology has potential applications in the space and medical industries.', ' The industrial robotics industry is looking to reduce its dependence on the automotive industry and find new applications in Europe. Companies such as Comau, GMFanuc, and Data Packaging are investing in new technologies and rationalizing their product ranges to meet customer demands. European suppliers and Japanese/US importers are in a competitive market, with each having advantages and disadvantages. All suppliers could benefit if they can convince more European companies of the benefits of robots.'], '432\\tDo police departments use \"profiling\" to stop motorists?': ['\\n\\nAdrian DeLeon, 25, of Santa Ana was fatally shot in the head on Saturday night following a dispute with other motorists. The shots were fired from a pistol and police do not believe the shooting was related to gang activity.', ' Four juveniles were arrested Wednesday after they threatened a motorist with a fake handgun in Costa Mesa, California. Police found a knife, wooden club, and a fake gun in the truck. No one was injured.', \" The Department of Transport is testing a giant screen on the M1 motorway in the Midlands that flashes the word 'speeding' with the driver's registration number and speed, and sends the details to the police computer. The system is designed to make speeding socially unacceptable, like drink-driving, and is being tested for six months by Leicestershire Police and the NEI subsidiary of Rolls-Royce. Research shows that there is more speeding at weekends than during the week.\", \" Two police officers arrested two suspects at Jan Smuts Airport in Johannesburg, South Africa, after the suspects attempted to shoot one of the officers. The officers recovered two 9mm pistols, magazines, and ammunition from the suspects' stolen vehicle.\", \" Michael Nunn, the IBF middleweight champion, was arrested Saturday night after a computer check revealed an unpaid speeding ticket. He had chased down a motorist who had rear-ended his car, resulting in the motorist's arrest for felony hit-and-run driving, assault with a deadly weapon and suspicion of drunk driving. Nunn was released after his manager posted $3,000 bail.\"], '433\\tIs there contemporary interest in the Greek philosophy of stoicism?': [\" Eight individuals have been appointed to various positions in the finance industry, including Ian Johnson as finance director of NOBLE LOWNDES GROUP Ltd, Bob Potts as deputy chief executive of BARCLAYS BANK's central retail services division, John Eaton as md of Barclays Merchant Services, Yoichi Kamina as head of equity domestic sales at BARCLAYS de ZOETE WEDD's Tokyo office, Simon Hood as director and head of syndicated finance at SWISS BANK CORPORATION, Neil Morgan as director of Thamesway Investment Services, Count Enzio von Pfeil as chief regional economist for SG WARBURG SECURITIES (Far East), Nicholas Moakes as senior analyst based in Hong Kong, and Winston Fletcher as the new chairman of the Advertising Association.\", \" Gregory Vlastos, an eminent historian of ancient Greek philosophy, has spent 30 years researching Socrates and has recently published a book on him. Vlastos' work has helped to humanize the field of philosophy and has changed the way Socrates is seen. He presents a dynamic positive figure whose views had a charismatic influence on the youth of his time and have an immediate relationship to our own. Vlastos has also received a $375,000 MacArthur Foundation Fellowship.\", \" President Glavkos Kliridhis has proposed disarmament, dissolution of military forces, and withdrawal of occupation troops, which have been positively received. The Greek Presidency is expected to submit a proposal in May to begin negotiations for Cyprus' accession to the European Union.\", ' President Glavkos Kliridhis has shifted his focus to confidence-building measures in order to make progress on the Cyprus issue. If no agreement is reached, the Cyprus issue will remain unresolved and the pseudostate may be internationally recognized.', ' The Greek government has presented a five-year economic convergence plan to the European Union Commission for approval. Government spokesman Evangelos Venizelos has defended the plan, while former National Economy Minister Stefanos Manos and Political Spring Chairman Andonios Samaras have criticized it. Venizelos has argued that it is not enough to simply support the national economy, but that it is necessary to put plans into effect.'], '434\\tWhat is the state of the economy of Estonia?': [\" The authors of this letter to the editor refute Philippe Legrain's criticism of Estonia's currency board system, arguing that it has actually contributed to price stability and low inflation. They also point out that the currency board has provided a firm anchor to Estonia's traded goods prices, resulting in solid investor confidence, low interest rates, and renewed economic growth.\", \" This article examines the investment situation in Estonia, noting that foreign investment has increased, but only one-fourth of all investment goes to industry. The council of experts at the Institute for the Study of Trends believes that the course of the investment process is unsatisfactory, but that it is good that foreign investment is increasing. Most foreign investors come from Sweden and Finland, while Russia's investment is decreasing due to high inflation. Per capita foreign investment in Estonia is higher than in Russia, and there are more joint ventures in Estonia than in Russia, making Estonia a more attractive bridgehead for foreign investors than Russia.\", \"\\n\\nEstonian Prime Minister Mart Laar attended the World Economic Forum in Davos, Switzerland and discussed free trade and open borders as a way to develop the world economy. He also met with Czech Prime Minister Vaclav Klaus to discuss a free-trade agreement, as well as his Swedish and Finnish counterparts. Laar was surprised by the high regard for Estonia from the Palestine Liberation Organization leader Yasir 'Arafat.\", ' The Association of Economists met in Tallinn to discuss the current state of the economy and make projections for the future. It was projected that exports would increase, income would go up for low- and medium-level wage earners, and the number of unemployed would increase by 10,000. Inflation was continuing and average wages were expected to reach 1,800 kroons a month by the end of the year. Economists from various institutions participated in the discussions.', \" The Bank of Estonia presented a study to the parliament exploring the causes of rising consumer prices and wages, and potential measures to control inflation. The survey found that the high inflation rates are a natural consequence of Estonia's transition to a market economy, and are mainly driven by the opening of the economy, higher productivity growth, price differences between Estonia and foreign countries, and the fixed exchange rate of the Estonian kroon to the German mark.\"], '435\\tWhat measures have been taken worldwide and what countries have been effective in curbing population growth?': [' The United Nations-sponsored meeting on population and development concluded with a declaration urging governments to curb population growth. The declaration called for developing countries to integrate population issues into national development planning, and for developed nations to change their patterns of consumption and to curb overproduction. The meeting was attended by international figures and discussed sustainable development, family planning, and the status of women in relation to population. The UN has predicted the world population will increase to 10 billion by 2050.', \" The United Nations Population Fund has called for an increase in global spending on family planning to $17 billion by the end of the decade in order to slow population growth. This has caused an international debate over the agenda of the upcoming UN population conference in Cairo, which includes topics such as abortion, homosexuality, women's rights, and teenage sex. The UN Population Fund estimates that the world's population could be stabilized at 7.8 billion if contraception were made more widely available.\", \" China's Family Planning Minister Peng Peiyun has acknowledged that population control efforts have been inadequate in the past three years. The population is projected to reach 1.112 billion by the end of 2019 and will grow by an additional 15 million in 2020.\", ' A three-year study to be conducted by Japanese scientists will investigate the effects of urbanization and population growth on energy consumption in Shanghai and Bangkok. The research will consider the consequences of global warming and malaria, and the findings will be used to create population and energy conservation policies. This study is necessary due to the projected 8.5 billion population in Asia by 2025.', ' The Glendale City Council has unanimously approved zoning changes to ban apartment construction in three neighborhoods, in an effort to curb the city\\'s population growth. Residents of the neighborhoods requested the downzoning due to traffic congestion, parking problems, and a strain on available open space. Despite the council\\'s action, only two more neighborhoods have downzoned voluntarily, and one more is considering it. The council will have to decide in February whether to impose \"wholesale down-zoning\" or give up on their two-year campaign.'], '436\\tWhat are the causes of railway accidents throughout the world?': [\" On February 15th, a railway accident in Hunan resulted in 52 deaths. The investigation concluded that the railway station's outdated facilities and chaotic management were to blame. The authorities had been passing the buck on a plan to transform the station, and the accident was attributed to their desire to make money from the migrant laborers. After the accident, the station was expanded and the waiting period was shortened, leading to a positive effect.\", \" On March 21st, a train crash in Cumbre, Placetas Municipality, Villa Clara Province resulted in two crew members being seriously injured and two of the tankers being damaged. Captain Ardelio Garcia attributed the accident to a violation of the railway's operating regulations, and the track was quickly repaired and the material damages were being assessed.\", \" The Health and Safety Executive has warned that privatising British Rail could lead to more and more serious railway accidents unless safety regulations are put in place. The government has accepted the HSE's 38 new regulations, which cover topics such as the transport of hazardous materials and the assessment of train drivers' competence.\", \" The Health and Safety Executive published a report yesterday which concluded that the Severn rail tunnel collision in December 1991, which injured 185 passengers, could have been avoided. The report criticized British Rail's emergency plan implementation and concluded that the accident was either caused by an unaccountable error on the part of the Sprinter driver, or by the signalling and telecommunications technicians in the tunnel junction relay room. British Rail accepted the inquiry's findings and is investing Pounds 6.5m to overhaul the tunnel's safety.\", ' The Health and Safety Executive reported that rail safety improved last year, with a decrease in significant train accidents and an increase in fatalities. The executive is currently studying driver behaviour in regard to level crossing warning lights.'], '437\\tWhat has been the experience of residential utility customers following deregulation of gas and electric?': [\" Stanley Skinner, president and COO of Pacific Gas and Electric, will become the company's CEO next month, a year earlier than planned, in response to California's plans to deregulate its electricity supply industry. Skinner will lead the transition to deregulation in the US electricity industry, and other states are expected to follow California's lead.\", ' Germany is in the process of deregulating its energy sector, which has been dominated by virtual monopolies in the east and powerful utilities in the west. The German government is proposing revisions to energy policy and cartel legislation, but these proposals have been met with criticism from the opposition and the energy sector. Wintershall, a German company, is investing 5 billion euros in building new pipelines across Germany to introduce competition and break the monopoly of the established utilities. The Financial Times London reported on this story, which involves electric services, gas transmission and distribution, regulation and administration of utilities, and coal mining.', ' In response to the regional electricity companies (Recs) attacking the deregulating gas market, the possibility of early liberalisation of the electricity market is being considered. This could lead to cost savings and the emergence of predatory companies, as Recs have strong balance sheets and cash generation, making them attractive to companies with advance corporation tax issues.', \" Germany's Economics Minister, Gunter Rexrodt, is attempting to push through deregulation of the energy sector before the country's federal elections next October. The proposed new energy law would allow Third Party Access (TPA) throughout the electricity and gas sector, but is facing opposition from the environment ministry, industry, trade unions, and the hard coal industry. Despite this opposition, there is a growing consensus that the energy sector must eventually be opened up, as concession rights for towns and cities are set to expire by 1996.\", ' The European Commission has been pushing for a single energy market to increase competition and efficiency, but has faced resistance from energy companies, consumers, and job security concerns. The main obstacle to agreement is third party access, which would allow competitors to use existing networks. The Commission is considering a common energy policy for Europe, but agreement is politically difficult. Mr Gunter Rexrodt is in favor of liberalization of energy markets, but opposition is strong, meaning it could take years to make real progress.'], '438\\tWhat countries are experiencing an increase in tourism?': [\" China's reform and opening up drive has resulted in a 13% annual average growth rate in the number of tourists visiting the country, as well as a 21% annual average increase in overseas tourism revenue. China has established regular tourist relations with over 100 countries, and has implemented a series of tourism years to further promote the industry.\", ' Flo Snyder, the State Office of Tourism Director, has proposed a 35% increase in the tourism budget for the next fiscal year, with $7.3 million earmarked for in-state marketing efforts. The budget increase is intended to encourage Californians to vacation in the state, but is not enough to compete with other states and countries.', \" In this interview, Dr. Mamduh Ahmad al-Biltaji, Egypt's Minister of Tourism and Civil Aviation, discusses the tourism crisis in Egypt, which has been deepened by terrorist incidents. He outlines plans to increase tourism, including the allocation of funds for promotion, restructuring of tourism promotion offices, and the organization of festivals and events. Additionally, the private sector and public relations firms should be involved in promotional efforts.\", ' The Indian government is aiming to increase its share of world tourism traffic from 0.4% to 1% within five years, and double its foreign exchange earnings and employment in the sector by the end of the century. To achieve this, the government is improving infrastructure, increasing foreign investment, and easing bureaucracy. It has also eased rules on charter flights and is encouraging investment in hotels and other facilities, offering tax concessions and selling equity in 24 hotels. Despite the Gulf War and violence surrounding the Indian general election campaign, the industry is hopeful that real change is in the offing, and growth of 10-15% a year is expected.', ' Osmany Cienfuegos Gorriaran announced a new system for the Cuban tourism industry to increase efficiency and profitability. Three hotel chains with 6,000-7,000 rooms each have been created, and a Ministry of Tourism will replace INTUR. In 1993, Cuba received 560,000 tourists, with a 30% increase in gross income compared to the previous year. It is estimated that tourism will earn the Cuban economy more than $1 billion in 1995.'], '439\\tWhat new inventions or scientific discoveries have been made?': [' Royston M. Roberts\\' book \"Serendipity: Accidental Discoveries in Science\" is a history of science told in an anecdotal, personal style. It explores the concept of accidental discoveries, both true and pseudo-serendipitous, and how they have shaped the history of science. It includes stories of well-known and lesser-known discoveries, drawing on existing works and quotes from published accounts by the scientists who made them. The book is meant to inspire young people to pursue scientific research and to teach the lesson that one must be alert to new paths and possibilities.', \" Bruce Clark examines Estonia's inventive culture, focusing on two inventors: Johannes Hint and Toom Pungas. Pungas has returned to Estonia and is leading the Inventors' Union and advocating for patent laws. He has also created an environmentally friendly fertiliser from oil-shale waste and pigs slurry, but is facing opposition from commercial rivals or governments.\", ' This document outlines considerations for Grantees when developing sponsored research agreements, including academic freedom, timely dissemination of research results, and intellectual property rights. It emphasizes the importance of preserving academic freedom and ensuring that research results are not delayed due to commercial interests. It also outlines requirements for patenting inventions resulting from NIH-funded research, including the intent to convey title to the Government, adherence to filing deadlines, execution of license rights, and notification of any decisions not to continue patent prosecution.', ' The US and UK patent offices are facing a difficult decision on whether to allow applications to patent human genes. The main legal issues are the distinction between a discovery and an invention, the requirement of industrial applicability, and morality. Celia Hampton and Simon Cohen discuss the moral implications of experimentation, as well as socio-economic issues such as genetic engineering, health protection, and environmental protection, which need to be addressed at a political level.', \" This week's science white paper proposes reorganizing the Office of Science and Technology and introducing 'technology foresight' to identify areas of research that are most likely to lead to successful products. It also suggests shifting postgraduate education to reduce the number of PhDs and give more people industrially oriented skills. The Office of Science and Technology plans to set up foresight panels to bridge the academic-industrial divide and better utilize the UK's highly rated science base.\"], '440\\tWhat steps are being taken by governments or corporations to eliminate abuse of child labor?': [' Rep. Charles E. Schumer (D-N.Y.) proposed increasing civil penalties for child labor violations from $1,000 to $10,000 and introducing mandatory jail terms and fines of up to $100,000 for employers who repeatedly violate child labor laws. The proposal came a day after Labor Secretary Elizabeth Hanford Dole revealed that a three-day sting operation had uncovered 7,000 minors employed in dangerous jobs or working long hours in violation of child labor laws.', \" This document proposes an exception to Child Labor Regulation 3 for 14- and 15-year-olds employed by professional sports organizations, and to delete Child Labor Regulation 5 due to potential confusion. It also outlines the process for informing the public of the Department's intentions regarding child labor regulations, which was later replaced by the Administrative Procedure Act. The only change to Child Labor Reg. 5 was a technical amendment in 1961.\", ' The U.S. Department of Labor conducted a nationwide crackdown on child labor violations from March 12-14, resulting in 10,987 children being found to be illegally employed. In California, 880 violations were found, with the only one in the San Diego area being at a Taco Bell in Mira Mesa. The owner was fined and the Department of Labor is now publicizing the names of violators to discourage future abuses.', ' The Department of Labor is proposing revisions to the Child Labor Regulations, Orders and Statements of Interpretation to provide an exception from the permissible hours and time standards for minors 14 and 15 years of age when employed as attendants in professional sports. The proposed rule also includes technical modifications to the procedure for obtaining occupational variations for 14- and 15-year-olds enrolled in Work Experience and Career Exploration Programs, as well as the deletion of hazardous occupation determinations in Subpart D. Comments are due on or before July 12, 1994. Additionally, Child Labor Regulation No. 3 (Reg. 3) limits the hours that 14- and 15-year-olds may work outside of school hours.', ' The Department of Labor is seeking public opinion on revisions to the child labor regulations issued under the Fair Labor Standards Act, which set the criteria for the employment of minors under 18. These regulations specify permissible hours and time standards, as well as occupational limitations, for 14- and 15-year-old employees. When school is not in session, minors are limited to 40 hours of work per week and 8 hours per day, and when school is in session, minors are limited to 18 hours of work per week and 3 hours per day. Comments are due on or before August 11, 1994.'], '441\\tHow do you prevent and treat Lyme disease?': [' Lyme disease is a bacterial infection transmitted by ticks, commonly found in the Northeast, Midwest, and California. Symptoms include a red circular rash, fever, fatigue, aches, and arthritis. Some victims may suffer from long-term neurological symptoms such as memory loss, mood changes, tingling sensations, and shooting pains years after the initial tick bite. Antibiotic therapy can often relieve these symptoms, although recovery is seldom complete.', ' A study of 80 people with Lyme disease arthritis found that 89% of those with arthritis lasting between one and four years had genetic markers HLA-DR4 and HLA-DR2, while only 27% of those with arthritis lasting between one to five months had the markers, suggesting that certain people are genetically predisposed to developing chronic arthritis from Lyme disease that does not respond to treatment.', ' An 11-year-old girl from Sayreville, New Jersey has died from Lyme disease, which could be the first reported fatality caused by the illness in the United States. The Middlesex County Health Department and the Centers for Disease Control in Atlanta have both confirmed the cause of death.', ' Tests on ticks collected in the 1940s have revealed that Lyme disease was present in the United States much earlier than previously thought, and may have originated on Long Island. Since 1980, more than 14,000 cases of Lyme disease have been reported in 43 states, with most cases occurring in the Northeast and mid-Atlantic coastal states and Wisconsin, Minnesota, California and Oregon. Symptoms of the disease include a distinctive rash at the tick bite site and flu-like symptoms, and can usually be treated with antibiotics.', ' A woman in Laguna Beach, California has become the first person in Southern California to contract Lyme disease since reporting it became mandatory this spring. The disease can be treated with antibiotics, and James Webb, county vector control biologist, has warned residents to be aware of the Western black-legged tick, which can be found in brush-covered canyons. He suggested wearing long trousers, applying insect repellent, and conducting a thorough tick check after leaving the brush.'], '442\\tFind accounts of selfless heroic acts by individuals or small groups for the benefit of others or a cause.': [\" At a ceremony commemorating the 81st anniversary of the Loyalty March, Mexico's Defense Secretary General Antonio Riviello Bazan praised the soldiers deployed in Chiapas State for their dedication and spirit. He stated that the Army's intervention in the Chiapas conflict is in accordance with the law and ethics of the Armed Forces, and that the Mexican people support and respect the Armed Forces. Representatives of the Legislative and Judicial Branches, cabinet members, and the Navy secretary were also present at the event.\", \" Lieutenant General 'Ali 'Abdallah Salih chaired a meeting of the Defense Ministry Command and the General Staff Command, congratulating the Defense Minister on his appointment and praising the Armed Forces for their efficiency and heroic performance. He also urged the agencies of the Interior Ministry to maintain the security and safety of the citizens. The Defense Minister thanked Salih for his confidence and affirmed his faith in the Armed Forces.\", ' The Yemeni Ministry of Defense and General Command Staff reported that their forces had destroyed the units of the Labudhah Brigade camp, downed two aircraft, and seized their weapons and equipment. The forces of unity and constitutional legitimacy are continuing their efforts to protect the homeland.', ' The People\\'s Air Force held a gathering to commemorate the 30th naming anniversary of the \"heroic battalion\" by the National Defense Ministry. Chief of General Staff Zhang Wannian and Air Force Political Commissar Ding Wenchang both spoke at the meeting, urging officers and men to learn from the \"heroic battalion\" and to rally closely round the CPC Central Committee and the Central Military Commission with Comrade Jiang Zemin at the core.', \" This document discusses the heroic deeds of Xu Honggang, an ordinary soldier, and how his actions reflect the people's aspirations and the call of the times. It encourages people to emulate Xu Honggang's spirit of self-sacrifice and dedication to the national defense undertaking in order to promote social morality and advance socialist spiritual civilization. It also calls for the implementation of guidelines from the General Political Department and the Communist Youth League Central Committee in order to bring up new socialist personalities with lofty ideals, moral integrity, education, and a sense of discipline.\"], '443\\tWhat is the extent of U.S. (government and private) investment in sub-Saharan Africa?': [\" Mobil Oil Co., the largest U.S. company still in South Africa, is reportedly selling its operations to a South African mining conglomerate at a discounted price. This follows the withdrawal of over 170 American companies from South Africa in the last four years due to the country's race policies. The sale is believed to be in response to a bill passed by the U.S. Congress in 1987 which removed the right of U.S. taxpayers to credit taxes paid to South Africa against taxes owed to the U.S. government.\", ' This editorial examines the U.S. foreign aid approach, which is being restructured to reward countries that pursue the correct political and economic policies. President Clinton has proposed a $600 million package to South Africa over the next three years, with the majority of the funds going to the private sector. This package is intended to stimulate the economy and encourage American business by opening up trade and investment opportunities in South Africa. This pragmatic approach should provide assurance to South Africa that their development needs will be met.', \" At Mobil's annual meeting, religious groups and a New York City pension fund representative unsuccessfully called for resolutions to cut Mobil's economic ties with South Africa and end sales of its petroleum products there. Mobil recently sold its operations in South Africa, resulting in a $140 million book loss. Caltex Petroleum Corp is the only remaining U.S. oil company doing business in South Africa, and since 1985, more than 170 U.S. companies have left South Africa due to pressure from anti-apartheid groups.\", \" Goodyear Tire & Rubber has announced its withdrawal from South Africa due to U.S. sanctions and difficulty obtaining adequate returns on investments. The company is selling its subsidiary in Uitenhage to Consol Ltd. for $65 million, and Dun & Bradstreet has completed the divestiture of its remaining operations in South Africa. The NAACP has expressed appreciation for Goodyear's decision and hopes other companies will follow suit.\", ' Japan has agreed to provide up to 500 million dollars in trade and investment aid to South Africa over the next two years, in response to a U.S. request. The decision will be announced at the Group of Seven summit in Naples next month, and will include yen-based loans.'], '444\\tWhat are the potential uses for supercritical fluids as an environmental protection measure?': [' Supercritical water oxidation is a new alternative for the destruction of highly toxic waste materials. It is being used in the food and pharmaceutical industries, as well as to separate organic toxins and oils from sewage and contaminated solids. Experiments are underway in Karlsruhe to recover oils from metal grinding sludges. The process is advantageous in that no harmful substances can escape and up to 98% of stubborn waste materials can be decomposed. The first commercial plants are scheduled for this year, and Professor Gustav Brunner in Hamburg-Harburg is attempting to clean heavily contaminated soil by means of supercritical water.', '\\n\\nBritish scientist Leigh Canham has developed a new cost-effective optoelectronic chip production technique using a supercritical fluid to create highly porous crystalline silicon. This new technique is able to create a 95% porosity in the silicon, resulting in a uniform crystalline structure with high solidity, providing a cheaper alternative to the film-like gallium arsenide structures that have been used for optoelectronic circuits.', ' Scientists at the University of St Andrews have developed a process called supercritical drying to treat wooden objects from archaeological excavations. This process involves soaking the wood in methanol and then placing it in a chamber with carbon dioxide in the form of dry ice. The methanol is then dissolved out of the wood by warming the carbon dioxide to a supercritical fluid state, which is an improvement on conventional drying methods that use polyethylene glycol and can corrode metals.', ' This document outlines a variety of solvent cleaning substitutes for metals, electronics, and precision cleaning, including aqueous cleaners, semi-aqueous cleaners, straight organic solvent cleaning, trichloro-ethylene, perchloro-ethylene, methylene chloride, vanishing oils, supercritical fluids, no-clean alternatives, plasma cleaning, UV/Ozone cleaning, and volatile methyl siloxanes. It also provides decision and comments regarding EPA and OSHA standards that must be met for each substitute.', ' The EPA has determined that a variety of substitutes, including water-based formulations, other chlorinated solvents, straight organic solvents, supercritical fluid cleaning, plasma cleaning, UV-ozone cleaning, and volatile methyl siloxanes, are all acceptable substitutes for CFC-113 and MCF in the electronics cleaning sector. These alternatives have the potential to service approximately 65 percent of the precision cleaning market. Two of the volatile methyl siloxanes will be handled under a separate rule-making.'], '445\\tWhat other countries besides the United States are considering or have approved women as clergy persons?': [\" At a meeting in Riverside, delegates of the Seventh-day Adventists' Southeastern California Conference voted against authorizing the ordination of women pastors, despite the international convention endorsing the practice of licensing women to perform most ministerial tasks. The conference voted to request a new vote on women's ordination in October, 1991.\", ' The Church of England may have to pay millions of pounds in compensation to clergy who retire in protest of the decision to ordain women, with Michael Alison estimating the cost to be around £1 million per 100 clergy retiring each year.', \" This article examines the financial crisis facing the Church of England, which is spending more than it is taking in. It looks at the Church's 16,300 buildings, the cost of pensions and retirement housing subsidies, and the Church Commissioners responsible for the Church's finances. It also looks at how the parishes raise money and how the dioceses and cathedrals have their own endowments and trusts. The article concludes that the Church needs to close the funding gap of £50 million in order to remain financially viable, and suggests that if the gap is met by parishes, the proportion of the C of E's budget raised locally would increase to 75%.\", ' The Church of England is facing a financial crisis and is looking to increase the proportion of its budget raised locally from parishes to 75%, which would require a funding gap of £50 million. The Church Commissioners for England, as well as other religious organizations, subdivisions, and developers, are all involved in this process.', ' The Church of England is facing financial difficulties due to a decline in income-producing assets and an increase in the cost of clergy pensions and retirement housing. To make up for the shortfall, the Church is looking to local churchgoers to provide an extra Pounds 50m a year. This may lead to an increased reliance on non-stipendiary clergy and lay workers, and the church is also facing pressure from declining church attendances and the increased secularisation of society. Church leaders are calling for a controlled response to the financial problems.'], '446\\tWhere are tourists likely to be subjected to acts of violence causing bodily harm or death?': [\" Egypt's tourism industry is recovering after a period of Islamic militant attacks, with hotel occupancy rates in Cairo up to 85-90% and provisional tour bookings for the upcoming winter season twice what they were a year ago. Despite the Egyptian government's claim that the attacks cost them $900 million in lost revenue last year, diplomats and commentators remain cautious about predicting an end to the violence.\", ' The Guatemalan government is requesting the U.S. to lift its travel warning due to a wave of violence, as it could cost the country $5 million in tourism revenue. A group of Indians led by Chris Halter are planning a march to the U.S. Embassy to protest the travel warning. The Guatemalan Foreign Minister has not yet received a response from the U.S. Secretary of State.', \" This article examines the effects of political violence on international tourist destinations, with a focus on Egypt, where Islamic militant group Gama'a al-Islamiyya has targeted the tourism industry. It also looks at other countries, such as Kenya and the US, and how their tourism industries have been affected. It is argued that third world destinations suffer more than developed countries, and the UK tourist industry has been more affected by events elsewhere than by IRA attacks. The article also discusses measures that can be taken to protect visitors and restore a destination's image.\", ' Guatemalan President Ramiro de Leon Carpio has sent a letter to U.S. Secretary of State Warren Christopher to encourage U.S. tourists to visit Guatemala despite recent acts of violence against two U.S. citizens. The U.S. Government has issued a travel warning in response, resulting in a drop in U.S. tourists and losses for tourist-related services. De Leon has expressed regret and condemned the events, and has ensured the courts will take strong action against the culprits who have already been arrested.', \" Kenya's tourism industry suffered a major setback in 1992 due to reports of attacks on tourists, tribal violence, and political unrest. The government is taking steps to revive the industry by increasing security, building more roads, and improving accommodation. They are also protecting endangered species and issuing advice about dangerous areas in Nairobi. Tourism is essential for Kenya to purchase imports and service their foreign debt.\"], '447\\tWhat new developments and applications are there for the Stirling engine?': [\"\\nSir James Stirling, a British architect, recently passed away, leaving behind a legacy of original and influential architecture. His work combined engineering and architecture in a unique way, and his taste was inclusive and catholic. He was heavily influenced by his mentor Colin Rowe and was the only contemporary architect to understand the idea of 'architectural collage'. His sudden death is a great loss to the architectural profession.\", ' Sir James Stirling, an internationally renowned architect, passed away suddenly in London. He was knighted two weeks ago for his architectural achievements, which included the Engineering Building at Leicester University, the Cambridge History Faculty Library, and the Staatsgallerie in Stuttgart. He was admired for his tireless fight for the integrity of his schemes and his mentorship of a generation of architects, with Charles Jencks calling him \"the most important architect of his generation\".', ' On June 9, 1990, the U.S. Air Force launched a successful Titan 4 rocket from Cape Canaveral Air Force Station, believed to be carrying a military surveillance satellite or missile-warning spacecraft. The Air Force has a $7.1-billion contract with Martin Marietta Space Launch Systems to supply 41 Titan 4 rockets, with an option for eight more, with the goal of having 75 by the end of 1997 at a cost of $17 billion.', ' A 1.5-MW-capacity modular solar electric power plant is planned to be built in Kislovodsk, Russia. It will use solar radiation and Stirling motor-generators to convert energy into electricity and heat, and is expected to reduce environmental waste and conserve atmospheric oxygen. The plant is scheduled to be completed in 1996.', ' Cryogenics, or engineering at extremely low temperatures, has a range of applications in space and on Earth. Carrier has developed a cryocooler that can be used to make computer chips run faster and is estimated to cost around $20,000 when bought in volume production. There is potential for cryocoolers in superconductors, MRI machines, Maglev, and electric cars. Carrier is using its global marketing and distribution network to support a broad range of cryocoolers.'], '448\\tIdentify instances in which weather was a main or contributing factor in the loss of a ship at sea.': [\" Lauritzen Holding reported a net loss of DKr198m for the first half of the year, while FLS Industries reported an increase in net profits to DKr176m. Codan, Denmark's biggest non-life insurance group, recorded a net loss of DKr146m in the same period, compared to a profit of DKr503m the previous year.\", \" Peter Weitermeyer, the CEO of J. Lauritzen Shipping, resigned abruptly yesterday. The company has been struggling financially due to the weak dollar and the EU's quota restrictions on banana imports from South America. Claus V. Ipsen, the former finance manager, has taken over from Mr Weitermeyer.\", ' Lauritzen Holding, a Danish company, plans to float its subsidiaries on the stock exchange in order to reduce its stake in them to 52%. The company reported a first-half loss of DKr198m this year, and Lauritzen Shipping made a pre-tax loss of DKr240m in the first half.', ' Bristol Channel Ship Repairers reported a pre-tax loss of Pounds 236,261 for the 28 weeks to October 9, due to the recession and difficult conditions in the shipping industry. Turnover fell significantly and losses per share amounted to 0.3p. A 24% stake in the company was taken by a Norwegian shipping group last July, which could result in the chairman stepping down.', \" Skaugen, a major Norwegian shipowner, reported a pre-tax loss of NKr170m in 1991, compared to a profit of NKr68m in 1990. This was attributed to lower chartering rates and weaker markets, and the company reduced its fleet to 52 ships from 85. Managing director Erik Gloeersen predicted a difficult year in 1992 with lower earnings in several of the company's ship divisions.\"], '449\\tWhat has caused the current ineffectiveness of antibiotics against infections and what is the prognosis for new drugs?': [' Calgene conducted experiments to determine if APH(3 隆炉)II in fresh tomatoes could render orally-administered kanamycin ineffective. The results showed that APH(3 隆炉)II would be degraded before it could inactivate the antibiotics. The FDA evaluated the data and concluded that any active APH(3 隆炉)II would not significantly inactivate kanamycin or neomycin due to the small amount of ATP in fruits and vegetables. Therefore, the presence of alkaline phosphatase in food will not affect the therapeutic use of orally administered kanamycin or neomycin.', \" Merck & Co, the world's largest pharmaceuticals group, has warned that European governments' efforts to cut drugs bills are ineffective and counter-productive. David Anstice, Merck's senior vice-president for European human health, suggested that savings could be made in distribution and dispensing, and that structural changes were required in healthcare delivery in order to control health spending more effectively.\", \" Pneumonia is an infection of the lung tissue caused by bacteria, viruses, fungi, parasites, chemical agents, or allergic reactions and is the sixth leading cause of death in the US. Jim Henson's death from pneumonia last week is a reminder that this usually benign disease can be fatal. Symptoms of pneumonia can vary, but include fever, chest pain, cough, and shortness of breath. A vaccine for pneumococcal pneumonia was developed in 1977 and is recommended for the elderly and those with immune-system problems. Despite tragic exceptions, such as Jim Henson's death, pneumonia can usually be detected and treated quickly.\", \" This article examines the issue of noncompliance with medical advice and prescriptions, which is a significant problem facing doctors today. It looks at the reasons why people may not follow doctors' orders, such as troublesome side effects, high cost of drugs, and complex instructions, as well as the potential dangers of not following medical advice. It suggests that doctors should consider the financial constraints of their patients when prescribing medication, and that medical technology and pharmaceutical firms have developed a variety of shortcuts to ensure patients receive the maximum benefit of a medicine for a minimum of effort. Finally, it suggests that doctors should try to understand the need for individuals with a chronic illness to assert some personal control over that illness through their medications.\", ' This document discusses the potential transfer of the kan r gene from crops to microorganisms and the potential health risks associated with it. It concludes that the transfer of the kan r gene from plants to microbes will not occur at a detectable frequency and will not result in a significant increase in the numbers of antibiotic-resistant microbes, and that there will be no significant increase in the antibiotic-resistant microorganism population of the soil. It also states that the claim that the kan r gene could be transferred from plants to bacteria by plasmids is without basis.'], '450\\tHow significant a figure over the years was the late Jordanian King Hussein in furthering peace in the Middle East?': [\" King Hussein of Jordan expresses his frustration and fears for the Middle East peace process, citing the lack of unity among Arab nations and the failure to coordinate with Israel. He expresses his disappointment at the opportunities missed and foreboding about the future, and his reluctance to sign a separate peace deal with Israel. He will travel to Washington to meet with President Bill Clinton and receive the results of a medical test, but is unable to summon much optimism about the health of the Arab world's body politic. Relations with Egypt remain cool and the king was snubbed by King Fahd during a recent trip to Saudi Arabia, though the favour of western allies is returning slowly.\", \" Palestinians in the West Bank and East Jerusalem held strikes and rallies in protest of the Israel-Jordan peace treaty, which recognizes Jordan's custodial role over Islamic sites in Jerusalem. The PLO and Hamas joined forces in the rare display of unity, while Israeli troops dispersed stone-throwers. Palestinians are outraged at the treaty and have appealed to the UN for support to overturn the parts of the treaty relating to Jerusalem. The Financial Times London reported on the deal between Jordan and Israel that could lead to Israeli domination in the Middle East.\", ' King Hussein of Jordan called for dialogue with Iraq to resolve the Persian Gulf crisis, but French President Francois Mitterrand insisted that Iraq must first withdraw from Kuwait. King Hussein also highlighted the need to address the Israeli-Palestinian conflict, and noted that Jordan was abiding by U.N. trade sanctions despite its former reliance on Iraqi oil.', \" King Hussein of Jordan flew to Baghdad on Thursday to meet with Iraqi President Saddam Hussein, President Hosni Mubarak of Egypt, and Yemen's leader Col. Ali Abdullah Saleh for a summit meeting of the Arab Cooperation Council in Amman on February 24th. The summit will focus on Middle East peace and the foreign relations between Iraq and Jordan.\", ' King Hussein of Jordan and President Assad of Syria held talks in Damascus to discuss their response to the surprise Palestinian deal with Israel. Both leaders were displeased with the lack of consultation before the agreement and feared Yassir Arafat had conceded too much. The talks were aimed at uniting a response with Syria and both countries are unlikely to make declarations of principles towards a full peace with Israel without first understanding the details of the agreement.']}\n"
     ]
    }
   ],
   "source": [
    "import ast\n",
    "\n",
    "\n",
    "\n",
    "# 从文件中读取字典\n",
    "with open(\"q_dict401-450.txt\", \"r\") as file:\n",
    "    # 使用ast.literal_eval安全地将字符串转化为Python对象\n",
    "    new_dict = ast.literal_eval(file.read())\n",
    "\n",
    "# 遍历新读取的字典并进行修复\n",
    "for key in list(new_dict.keys()):\n",
    "    query_id, _ = key.split('\\t')\n",
    "\n",
    "    # 查找q_dict中是否有对应的查询ID\n",
    "    corrected_key = next((k for k in q_dict if k.startswith(query_id + '\\t')), None)\n",
    "\n",
    "    if corrected_key:\n",
    "        # 将新字典中的查询内容替换为q_dict中的查询内容\n",
    "        new_dict[corrected_key] = new_dict.pop(key)\n",
    "\n",
    "# 打印修复后的新字典以验证\n",
    "print(new_dict)\n"
   ]
  },
  {
   "cell_type": "code",
   "execution_count": 8,
   "id": "503d72c9",
   "metadata": {},
   "outputs": [],
   "source": [
    "# 将修复后的new_dict保存为txt文件，使用utf-8编码\n",
    "with open(\"corrected_q_dict401-450.txt\", \"w\", encoding=\"utf-8\") as file:\n",
    "    file.write(str(new_dict))\n"
   ]
  },
  {
   "cell_type": "code",
   "execution_count": 8,
   "id": "d73f83d5",
   "metadata": {},
   "outputs": [],
   "source": [
    "[' Foreign Minister Klaus Kinkel believes the minority blocking vote in the European Union Council of Ministers is being overestimated and that the principle of unanimity and qualified majority vote are more important. He also rejects criticism from the CSU-led Bavarian Government that German interests are not being represented. He believes Germany is being viewed critically due to its past, but there is no reason to be overly cautious.',\n",
    " ' Ilan Mor, spokesman of the Israeli Embassy in Bonn, expresses his concern over the attack on a synagogue in Luebeck, Germany and believes that anti-Semitism exists in the country. He mentions an opinion poll which showed that 22% of people do not want a Jewish neighbor and emphasizes that Israel is closely monitoring events in Germany due to the events of 1933 and 1945.',\n",
    " ' German Chancellor Helmut Kohl is in a confrontation with Turkey over arms shipments, which must be used for defense within the NATO alliance. Hans-Ulrich Klose criticized Kohl for allowing the row to get out of hand. Meanwhile, the number of foreigners seeking political asylum in Germany has reached a record high of 35,000, with refugees from Yugoslavia, Romania, and Turkey making up the majority. In response to unrest in the Kurdish area, Turkey is introducing economic reforms to address the Kurdish problem.',\n",
    " ' The UK and Spain are seeking a legally binding protocol from Germany to give countries with 23-27 votes an automatic right to delay decisions, which could delay the entry of four new countries into the European Union. Greece has criticized the UK\\'s stance as \"blackmail of a tiny minority\".',\n",
    " ' German Foreign Minister Klaus Kinkel spoke to the Bundestag in support of Russian President Yeltsin and the need for Russia to be integrated into the world economy. He also called for increased cultural exchange between European countries, with a focus on German language, and for more funds to be allocated to this purpose. He asked the Bundestag to provide the necessary support.']\n"
   ]
  },
  {
   "cell_type": "code",
   "execution_count": 1,
   "id": "c235eb3c",
   "metadata": {},
   "outputs": [],
   "source": [
    "import json\n",
    "import ast\n",
    "\n",
    "with open(\"q_dict401-450.txt\", \"r\", encoding=\"utf-8\") as file:\n",
    "    q_dict = ast.literal_eval(file.read())\n",
    "\n"
   ]
  },
  {
   "cell_type": "code",
   "execution_count": 2,
   "id": "d287007f",
   "metadata": {},
   "outputs": [
    {
     "data": {
      "text/plain": [
       "[' Foreign Minister Klaus Kinkel believes the minority blocking vote in the European Union Council of Ministers is being overestimated and that the principle of unanimity and qualified majority vote are more important. He also rejects criticism from the CSU-led Bavarian Government that German interests are not being represented. He believes Germany is being viewed critically due to its past, but there is no reason to be overly cautious.',\n",
       " ' Ilan Mor, spokesman of the Israeli Embassy in Bonn, expresses his concern over the attack on a synagogue in Luebeck, Germany and believes that anti-Semitism exists in the country. He mentions an opinion poll which showed that 22% of people do not want a Jewish neighbor and emphasizes that Israel is closely monitoring events in Germany due to the events of 1933 and 1945.',\n",
       " ' German Chancellor Helmut Kohl is in a confrontation with Turkey over arms shipments, which must be used for defense within the NATO alliance. Hans-Ulrich Klose criticized Kohl for allowing the row to get out of hand. Meanwhile, the number of foreigners seeking political asylum in Germany has reached a record high of 35,000, with refugees from Yugoslavia, Romania, and Turkey making up the majority. In response to unrest in the Kurdish area, Turkey is introducing economic reforms to address the Kurdish problem.',\n",
       " ' The UK and Spain are seeking a legally binding protocol from Germany to give countries with 23-27 votes an automatic right to delay decisions, which could delay the entry of four new countries into the European Union. Greece has criticized the UK\\'s stance as \"blackmail of a tiny minority\".',\n",
       " ' German Foreign Minister Klaus Kinkel spoke to the Bundestag in support of Russian President Yeltsin and the need for Russia to be integrated into the world economy. He also called for increased cultural exchange between European countries, with a focus on German language, and for more funds to be allocated to this purpose. He asked the Bundestag to provide the necessary support.']"
      ]
     },
     "execution_count": 2,
     "metadata": {},
     "output_type": "execute_result"
    }
   ],
   "source": [
    "q_dict['401\tWhat language and cultural differences impede the integration of foreign minorities in Germany?']"
   ]
  },
  {
   "cell_type": "code",
   "execution_count": 3,
   "id": "c01b5617",
   "metadata": {},
   "outputs": [],
   "source": [
    "import itertools\n",
    "from openprompt.data_utils import InputExample\n",
    "\n",
    "input_examples = []\n",
    "\n",
    "# 使用itertools.combinations来获取所有的两两组合，不会重复\n",
    "for query_id_content in q_dict.keys():\n",
    "    # 分割查询ID和查询内容\n",
    "    query_id, query = query_id_content.split('\\t', 1)\n",
    "    documents = q_dict[query_id_content]\n",
    "    \n",
    "    # 构建InputExample\n",
    "    input_example = InputExample(\n",
    "        guid= len(input_examples),\n",
    "        label= None,\n",
    "        meta= {\n",
    "            \"queryid\": query_id,\n",
    "            \"query\": query,\n",
    "            \"documents\": documents,\n",
    "            #\"querybid\": queryb_id,\n",
    "            #\"queryb\": queryb,\n",
    "            #\"documentsb\": documentsb\n",
    "        },\n",
    "        text_a= \"\",\n",
    "        text_b= \"\",\n",
    "        tgt_text= query_id\n",
    "    )\n",
    "    \n",
    "    # 将InputExample添加到列表中\n",
    "    input_examples.append(input_example)\n"
   ]
  },
  {
   "cell_type": "code",
   "execution_count": 4,
   "id": "68bf8dce",
   "metadata": {},
   "outputs": [
    {
     "name": "stdout",
     "output_type": "stream",
     "text": [
      "{\n",
      "  \"guid\": 2,\n",
      "  \"label\": null,\n",
      "  \"meta\": {\n",
      "    \"documents\": [\n",
      "      \" A new study has found that the drug etidronate, used to treat Paget's disease and a bone disorder in cancer patients, can halve the rate of vertebral fractures in women with osteoporosis. The drug is sold under the brand name Didronel and the manufacturer is applying to the FDA for approval to use the drug to treat osteoporosis. The study also found that the drug increased spinal bone density by an average of 4-5%. Further studies are needed to explore the drug's long-term effects and to compare its effectiveness to other osteoporosis treatments.\",\n",
      "      \" Australian researchers have found that daughters of women with osteoporosis are more likely to develop the disease than those whose mothers do not have it, suggesting that genetics may be a factor in its development. The study compared 32 women with mothers who had osteoporosis to 22 women with mothers who did not, and found that the former had thinner bones.\",\n",
      "      \" This document explains the relationship between calcium intake and osteoporosis, and outlines the process for filing a claim and the hearing process. It emphasizes the importance of adequate calcium intake throughout life for reducing the risk of osteoporosis, particularly for adolescent and young adult Caucasian and Asian American women. It also states that other factors, such as sex, race, age, exercise, and diet, are important for reducing the risk of osteoporosis.\",\n",
      "      \" This document outlines the process for submitting a health claim to the FSIS and the regulations that must be followed if the claim is approved or denied. It also explains the relationship between calcium and osteoporosis, and the significance of calcium intake in reducing the risk of developing the disease. Additionally, it mentions other risk factors such as sex, race, hormonal status, family history, body stature, level of exercise, general diet, and lifestyle choices. A health claim associating calcium with reduced risk of osteoporosis may be made on the label or labeling of a poultry product, but must make clear that adequate calcium intake is not the only risk factor.\",\n",
      "      \"\\nResearchers have found that an experimental treatment involving slow-release sodium fluoride and calcium supplements can help strengthen the backbones of women with spinal fractures due to osteoporosis. This treatment has been found to increase spinal bone by 3-6% a year and decrease the frequency of spinal fractures, but it is not effective for fractures of the hip or other long bones.\"\n",
      "    ],\n",
      "    \"query\": \"Find information on the effects of the dietary intakes of potassium, magnesium and fruits and vegetables as determinants of bone mineral density in elderly men and women thus preventing osteoporosis (bone decay).\",\n",
      "    \"queryid\": \"403\"\n",
      "  },\n",
      "  \"text_a\": \"\",\n",
      "  \"text_b\": \"\",\n",
      "  \"tgt_text\": \"403\"\n",
      "}\n",
      "\n"
     ]
    }
   ],
   "source": [
    "print(input_examples[2])"
   ]
  },
  {
   "cell_type": "code",
   "execution_count": 5,
   "id": "728e1fd4",
   "metadata": {},
   "outputs": [],
   "source": [
    "for example in input_examples:\n",
    "    example.meta['documents'] = example.meta['documents'][0:2]\n",
    "    #example.meta['documents'] = \"\""
   ]
  },
  {
   "cell_type": "code",
   "execution_count": 6,
   "id": "60e63128",
   "metadata": {},
   "outputs": [],
   "source": [
    "for example in input_examples:\n",
    "    # 对'documentsa'列表中的文档编上号并拼接\n",
    "    documents = example.meta['documents']\n",
    "    documents = [f'Document {i+1}: {doc}' for i, doc in enumerate(documents)]\n",
    "    example.meta['documents'] = ' '.join(documents)"
   ]
  },
  {
   "cell_type": "code",
   "execution_count": 7,
   "id": "9221b49b",
   "metadata": {},
   "outputs": [
    {
     "data": {
      "text/plain": [
       "{\n",
       "  \"guid\": 2,\n",
       "  \"label\": null,\n",
       "  \"meta\": {\n",
       "    \"documents\": \"Document 1:  A new study has found that the drug etidronate, used to treat Paget's disease and a bone disorder in cancer patients, can halve the rate of vertebral fractures in women with osteoporosis. The drug is sold under the brand name Didronel and the manufacturer is applying to the FDA for approval to use the drug to treat osteoporosis. The study also found that the drug increased spinal bone density by an average of 4-5%. Further studies are needed to explore the drug's long-term effects and to compare its effectiveness to other osteoporosis treatments. Document 2:  Australian researchers have found that daughters of women with osteoporosis are more likely to develop the disease than those whose mothers do not have it, suggesting that genetics may be a factor in its development. The study compared 32 women with mothers who had osteoporosis to 22 women with mothers who did not, and found that the former had thinner bones.\",\n",
       "    \"query\": \"Find information on the effects of the dietary intakes of potassium, magnesium and fruits and vegetables as determinants of bone mineral density in elderly men and women thus preventing osteoporosis (bone decay).\",\n",
       "    \"queryid\": \"403\"\n",
       "  },\n",
       "  \"text_a\": \"\",\n",
       "  \"text_b\": \"\",\n",
       "  \"tgt_text\": \"403\"\n",
       "}"
      ]
     },
     "execution_count": 7,
     "metadata": {},
     "output_type": "execute_result"
    }
   ],
   "source": [
    "input_examples[2]"
   ]
  },
  {
   "cell_type": "code",
   "execution_count": 8,
   "id": "50c709c4",
   "metadata": {},
   "outputs": [],
   "source": [
    "# 假设 input_examples 是你的数据集\n",
    "text_list = []\n",
    "for example in input_examples:\n",
    "    #text = 'Given the following two queries: the first query is \\\"' + example.meta['querya'] + '\\\", and the second query is \\\"' + example.meta['queryb'] + '\\\". Compared to the first query, the second query is more {\"mask\"}.'\n",
    "    #text = 'Given the following two queries and their respective top one document----the first query is \\\"' + example.meta['querya'] + '\\\" with its top one search result as \\\"' + example.meta['documentsa'] + '\\\", and the second query is \\\"' + example.meta['queryb'] + '\\\" with its top one search result as \\\"' + example.meta['documentsb'] + '\\\". Compared to the first query, the second query is more {\"mask\"}.'\n",
    "    #text = 'Query \\\"'+  example.meta['query'] + '\\\" is {\"mask\"}.' \n",
    "    text = 'Given the query \\\"'+  example.meta['query'] + '\\\" and its top two search results \\\"'+  example.meta['documents'] + '\\\" , it can be inferred that the query is {\"mask\"}.'\n",
    "    text_list.append(text)\n"
   ]
  },
  {
   "cell_type": "code",
   "execution_count": 9,
   "id": "10de6805",
   "metadata": {},
   "outputs": [
    {
     "name": "stdout",
     "output_type": "stream",
     "text": [
      "Given the query \"What language and cultural differences impede the integration of foreign minorities in Germany?\" and its top two search results \"Document 1:  Foreign Minister Klaus Kinkel believes the minority blocking vote in the European Union Council of Ministers is being overestimated and that the principle of unanimity and qualified majority vote are more important. He also rejects criticism from the CSU-led Bavarian Government that German interests are not being represented. He believes Germany is being viewed critically due to its past, but there is no reason to be overly cautious. Document 2:  Ilan Mor, spokesman of the Israeli Embassy in Bonn, expresses his concern over the attack on a synagogue in Luebeck, Germany and believes that anti-Semitism exists in the country. He mentions an opinion poll which showed that 22% of people do not want a Jewish neighbor and emphasizes that Israel is closely monitoring events in Germany due to the events of 1933 and 1945.\" , it can be inferred that the query is {\"mask\"}.\n",
      "Given the query \"What is happening in the field of behavioral genetics, the study of the relative influence of genetic and environmental factors on an individual's behavior or personality?\" and its top two search results \"Document 1:  A landmark study on identical twins raised apart has found that genetics play a much larger role in shaping behavior than family environment. The study, published in the journal Science, found that 70% of intelligence quotient, 50% of personality differences, 50% of religiosity, and 40% of job interest variations are accounted for by genes. The Minnesota study of identical twins, begun in 1979, has revealed many eerie similarities between reunited twins and has been able to quantify the contribution of genetics to personality and behavior, while also emphasizing the importance of environment in child development. Document 2:  Susan Hodge, a biomathemetician and geneticist, experienced anxiety and fear while waiting for the results of her amniocentesis test during her third pregnancy at age 40. Her story highlights the emotional toll genetic testing can take on couples, and the difficult decisions they must make. Research studies have shown that both amniocentesis and CVS produce anxiety reactions in women, but CVS carries a higher risk of spontaneous abortion and may not be as reliable as amniocentesis. Despite the emotional rollercoaster, Hodge eventually found peace.\" , it can be inferred that the query is {\"mask\"}.\n",
      "Given the query \"Find information on the effects of the dietary intakes of potassium, magnesium and fruits and vegetables as determinants of bone mineral density in elderly men and women thus preventing osteoporosis (bone decay).\" and its top two search results \"Document 1:  A new study has found that the drug etidronate, used to treat Paget's disease and a bone disorder in cancer patients, can halve the rate of vertebral fractures in women with osteoporosis. The drug is sold under the brand name Didronel and the manufacturer is applying to the FDA for approval to use the drug to treat osteoporosis. The study also found that the drug increased spinal bone density by an average of 4-5%. Further studies are needed to explore the drug's long-term effects and to compare its effectiveness to other osteoporosis treatments. Document 2:  Australian researchers have found that daughters of women with osteoporosis are more likely to develop the disease than those whose mothers do not have it, suggesting that genetics may be a factor in its development. The study compared 32 women with mothers who had osteoporosis to 22 women with mothers who did not, and found that the former had thinner bones.\" , it can be inferred that the query is {\"mask\"}.\n"
     ]
    }
   ],
   "source": [
    "print(text_list[0])\n",
    "print(text_list[1])\n",
    "print(text_list[2])"
   ]
  },
  {
   "cell_type": "code",
   "execution_count": null,
   "id": "afd74156",
   "metadata": {},
   "outputs": [],
   "source": []
  },
  {
   "cell_type": "code",
   "execution_count": null,
   "id": "dd4f403b",
   "metadata": {},
   "outputs": [],
   "source": []
  },
  {
   "cell_type": "markdown",
   "id": "49945394",
   "metadata": {},
   "source": [
    "\n"
   ]
  },
  {
   "cell_type": "code",
   "execution_count": 10,
   "id": "6f2e57f8",
   "metadata": {},
   "outputs": [
    {
     "name": "stdout",
     "output_type": "stream",
     "text": [
      "---------------------------------------------------------------\n",
      "Given the query \"What language and cultural differences impede the integration of foreign minorities in Germany?\" and its top two search results \"Document 1:  Foreign Minister Klaus Kinkel believes the minority blocking vote in the European Union Council of Ministers is being overestimated and that the principle of unanimity and qualified majority vote are more important. He also rejects criticism from the CSU-led Bavarian Government that German interests are not being represented. He believes Germany is being viewed critically due to its past, but there is no reason to be overly cautious. Document 2:  Ilan Mor, spokesman of the Israeli Embassy in Bonn, expresses his concern over the attack on a synagogue in Luebeck, Germany and believes that anti-Semitism exists in the country. He mentions an opinion poll which showed that 22% of people do not want a Jewish neighbor and emphasizes that Israel is closely monitoring events in Germany due to the events of 1933 and 1945.\" , it can be inferred that the query is {\"mask\"}.\n"
     ]
    },
    {
     "name": "stderr",
     "output_type": "stream",
     "text": [
      "tokenizing: 1it [00:00, 892.41it/s]\n"
     ]
    },
    {
     "name": "stdout",
     "output_type": "stream",
     "text": [
      "401\n",
      "tensor(0.1318) tensor(0.8682)\n",
      "---------------------------------------------------------------\n",
      "Given the query \"What is happening in the field of behavioral genetics, the study of the relative influence of genetic and environmental factors on an individual's behavior or personality?\" and its top two search results \"Document 1:  A landmark study on identical twins raised apart has found that genetics play a much larger role in shaping behavior than family environment. The study, published in the journal Science, found that 70% of intelligence quotient, 50% of personality differences, 50% of religiosity, and 40% of job interest variations are accounted for by genes. The Minnesota study of identical twins, begun in 1979, has revealed many eerie similarities between reunited twins and has been able to quantify the contribution of genetics to personality and behavior, while also emphasizing the importance of environment in child development. Document 2:  Susan Hodge, a biomathemetician and geneticist, experienced anxiety and fear while waiting for the results of her amniocentesis test during her third pregnancy at age 40. Her story highlights the emotional toll genetic testing can take on couples, and the difficult decisions they must make. Research studies have shown that both amniocentesis and CVS produce anxiety reactions in women, but CVS carries a higher risk of spontaneous abortion and may not be as reliable as amniocentesis. Despite the emotional rollercoaster, Hodge eventually found peace.\" , it can be inferred that the query is {\"mask\"}.\n"
     ]
    },
    {
     "name": "stderr",
     "output_type": "stream",
     "text": [
      "tokenizing: 1it [00:00, 500.04it/s]\n"
     ]
    },
    {
     "name": "stdout",
     "output_type": "stream",
     "text": [
      "402\n",
      "tensor(0.1650) tensor(0.8350)\n",
      "---------------------------------------------------------------\n",
      "Given the query \"Find information on the effects of the dietary intakes of potassium, magnesium and fruits and vegetables as determinants of bone mineral density in elderly men and women thus preventing osteoporosis (bone decay).\" and its top two search results \"Document 1:  A new study has found that the drug etidronate, used to treat Paget's disease and a bone disorder in cancer patients, can halve the rate of vertebral fractures in women with osteoporosis. The drug is sold under the brand name Didronel and the manufacturer is applying to the FDA for approval to use the drug to treat osteoporosis. The study also found that the drug increased spinal bone density by an average of 4-5%. Further studies are needed to explore the drug's long-term effects and to compare its effectiveness to other osteoporosis treatments. Document 2:  Australian researchers have found that daughters of women with osteoporosis are more likely to develop the disease than those whose mothers do not have it, suggesting that genetics may be a factor in its development. The study compared 32 women with mothers who had osteoporosis to 22 women with mothers who did not, and found that the former had thinner bones.\" , it can be inferred that the query is {\"mask\"}.\n"
     ]
    },
    {
     "name": "stderr",
     "output_type": "stream",
     "text": [
      "tokenizing: 1it [00:00, 499.98it/s]\n"
     ]
    },
    {
     "name": "stdout",
     "output_type": "stream",
     "text": [
      "403\n",
      "tensor(0.2084) tensor(0.7916)\n",
      "---------------------------------------------------------------\n",
      "Given the query \"How often were the peace talks in Ireland delayed or disrupted as a result of acts of violence?\" and its top two search results \"Document 1:  This document examines the current deadlock in the British-Irish peace talks, which is largely attributed to Britain's preconditions for Sinn Fein's involvement. It is suggested that the presence of British troops and the Protestant majority in Northern Ireland are major impediments to the peace process. The document also suggests that both sides have gained valuable experience from their struggles over the past two decades, and that they should present peaceful views in order to move the talks forward. Document 2:  Michael Ancram has acknowledged that a political settlement in Northern Ireland is unlikely without the IRA accepting the Downing Street Declaration. The British and Irish governments are continuing to pursue a predominantly internal settlement, and Sir Patrick Mayhew has proposed new institutions of joint co-operation between the North and South of Ireland. The Ulster Unionists are willing to accept British representatives from a Northern Ireland assembly, provided that Northern Ireland's sovereignty remains intact.\" , it can be inferred that the query is {\"mask\"}.\n"
     ]
    },
    {
     "name": "stderr",
     "output_type": "stream",
     "text": [
      "tokenizing: 1it [00:00, 500.22it/s]\n"
     ]
    },
    {
     "name": "stdout",
     "output_type": "stream",
     "text": [
      "404\n",
      "tensor(0.2579) tensor(0.7421)\n",
      "---------------------------------------------------------------\n",
      "Given the query \"What unexpected or unexplained cosmic events or celestial phenomena, such as radiation and supernova outbursts or new comets, have been detected?\" and its top two search results \"Document 1:  This document looks at the high-energy charged-particle fluxes that come with solar flares and their impact on biological objects and hardware during spaceflight. It classifies solar cosmic ray events by magnitude of total proton fluence and uses power-law functions to describe the energy spectra of peak proton fluxes and proton fluences. It also compares the average energy spectra of solar cosmic ray events to those of CREME and finds that they have large, high-energy particle fluxes. Document 2:  JAERI and NASDA have studied the single event effect, which is the main cause of semiconductor breakdowns in space. An experiment on an integrated circuit memory chip revealed that breakdowns increased when heavy ion penetration exceeded LET 2.8. JAERI was also able to measure the speed of the single event phenomenon, which was found to be in the hundreds of picoseconds.\" , it can be inferred that the query is {\"mask\"}.\n"
     ]
    },
    {
     "name": "stderr",
     "output_type": "stream",
     "text": [
      "tokenizing: 1it [00:00, 499.74it/s]\n"
     ]
    },
    {
     "name": "stdout",
     "output_type": "stream",
     "text": [
      "405\n",
      "tensor(0.1318) tensor(0.8682)\n",
      "---------------------------------------------------------------\n",
      "Given the query \"What is being done to treat the symptoms of Parkinson's disease and keep the patient functional as long as possible?\" and its top two search results \"Document 1:  Researchers from UC Davis have suggested that some cases of Parkinson's disease may be caused by infection from a common soil fungus called Nocardia asteroides. If proven, this could lead to new ways of preventing the disease, such as immunization. Other Parkinson's researchers are cautious in their assessment of the results, but agree that it is an intriguing finding. Beaman and Kohbata from Gifu University in Japan are looking for traces of Nocardia infection in Parkinson's victims, but more research is needed to determine if it is a cause. Document 2:  In a trial involving 54 patients with Parkinson's disease, researchers Langston and Tetrud found that the drug deprenyl nearly doubled the time between the onset of the disease and the need for therapy with the commonly used drug L-dopa. The drug is scheduled to be marketed next month and a larger study of deprenyl is expected in late 1990. The $10-million DATATOP study is also underway to determine if Vitamin E can slow the disease.\" , it can be inferred that the query is {\"mask\"}.\n"
     ]
    },
    {
     "name": "stderr",
     "output_type": "stream",
     "text": [
      "tokenizing: 1it [00:00, 499.98it/s]\n"
     ]
    },
    {
     "name": "stdout",
     "output_type": "stream",
     "text": [
      "406\n",
      "tensor(0.0978) tensor(0.9022)\n",
      "---------------------------------------------------------------\n",
      "Given the query \"What is the impact of poaching on the world's various wildlife preserves?\" and its top two search results \"Document 1:  Richard E. Leakey, a world-renowned paleontologist, author, and conservationist, was appointed to the Department of Wildlife Conservation and Management in Kenya to help protect the country's wildlife from poaching and other threats. His appointment follows a surge of poaching in Kenya's national parks, which has reduced the elephant population from 140,000 to 22,000. Leakey has been outspoken about the need to protect Kenya's wildlife, and his appointment is seen as a major step forward in the effort to protect the country's wildlife. Document 2:  Richard Leakey, a prominent figure in wildlife conservation and anti-poaching efforts in East Africa, resigned from the Kenya Wildlife Service after a two week smear campaign. The government has launched an investigation into Leakey and the KWS Service, due to his resistance to land grabbing by politicians. His associates and friends admit that he can be abrasive and arrogant, but he has also been credited with restoring international credibility to the Kenyan wildlife department.\" , it can be inferred that the query is {\"mask\"}.\n"
     ]
    },
    {
     "name": "stderr",
     "output_type": "stream",
     "text": [
      "tokenizing: 1it [00:00, 532.47it/s]\n"
     ]
    },
    {
     "name": "stdout",
     "output_type": "stream",
     "text": [
      "407\n",
      "tensor(0.2358) tensor(0.7642)\n",
      "---------------------------------------------------------------\n",
      "Given the query \"What tropical storms (hurricanes and typhoons) have caused significant property damage and loss of life?\" and its top two search results \"Document 1:  Tropical Storm Lili veered away from the mid-Atlantic coast, while the remnants of two other storms caused flooding from the Carolinas to Pennsylvania. The National Weather Service issued warnings and watches for the Virginia, Delaware, and Maryland coasts. Nine people were killed due to the storms, and flooding was reported in multiple states. Windsurfers took advantage of the winds at Cape Hatteras, N.C. Document 2:  A tropical depression in the open Atlantic is expected to become the fifth tropical storm of the season by morning, according to the National Hurricane Center in Miami. It is located 1,400 miles southwest of the Azores, moving at 20 m.p.h. with maximum sustained winds near 35 m.p.h. If it reaches tropical storm strength, it will be named Erin.\" , it can be inferred that the query is {\"mask\"}.\n"
     ]
    },
    {
     "name": "stderr",
     "output_type": "stream",
     "text": [
      "tokenizing: 1it [00:00, 499.92it/s]\n"
     ]
    },
    {
     "name": "stdout",
     "output_type": "stream",
     "text": [
      "408\n",
      "tensor(0.2000) tensor(0.8000)\n",
      "---------------------------------------------------------------\n",
      "Given the query \"What legal actions have resulted from the destruction of Pan Am Flight 103 over Lockerbie, Scotland, on December 21, 1988?\" and its top two search results \"Document 1:  Pan Am has paid Pounds 175,000 in compensation for damage caused by the 1988 Lockerbie explosion, which killed 270 people. The Scottish Office had started legal action, but the money had already been sent from the US. The incident was an administrative 'blip'. Document 2:  A US jury found Pan American World Airways guilty of wilful misconduct in a case filed by relatives of the victims of the 1988 Lockerbie bombing. The plaintiffs are seeking more than $300 million in damages from the airline and two subsidiaries. The jury was told that the airline had improved security measures before the disaster, but went into bankruptcy in 1991 and ceased operating last December.\" , it can be inferred that the query is {\"mask\"}.\n"
     ]
    },
    {
     "name": "stderr",
     "output_type": "stream",
     "text": [
      "tokenizing: 1it [00:00, 499.86it/s]\n"
     ]
    },
    {
     "name": "stdout",
     "output_type": "stream",
     "text": [
      "409\n",
      "tensor(0.2518) tensor(0.7482)\n",
      "---------------------------------------------------------------\n",
      "Given the query \"Who is involved in the Schengen agreement to eliminate border controls in Western Europe and what do they hope to accomplish?\" and its top two search results \"Document 1:  The Schengen Executive Committee met in Bonn on 26 April 1994 to discuss further measures to be taken in the gradual abolition of personal controls at internal borders. The Committee agreed on measures to be taken, such as the removal of traffic obstacles and lifting of traffic restrictions at border crossing points. They also adopted a regulation concerning unified visa issuance procedures and a protocol to replace the provisions of the Schengen Agreement concerning the granting of political asylum. The Executive Committee also adopted an interim report on the state of talks on Austria's observer status and called on the chairman to continue negotiations with Austria. Document 2:  The Senate fact-finding mission concluded that the Schengen agreement, which eliminates internal borders and allows for free movement of people and goods within the EU, is inapplicable due to difficulties in establishing the Schengen Information System (SIS). The report blames \"dilution of responsibility,\" \"bad choice of technicians,\" and the conditions in which the contract was awarded, resulting in an indefinite delay in the implementation of the agreement.\" , it can be inferred that the query is {\"mask\"}.\n"
     ]
    },
    {
     "name": "stderr",
     "output_type": "stream",
     "text": [
      "tokenizing: 1it [00:00, 500.22it/s]\n"
     ]
    },
    {
     "name": "stdout",
     "output_type": "stream",
     "text": [
      "410\n",
      "tensor(0.1585) tensor(0.8415)\n",
      "---------------------------------------------------------------\n",
      "Given the query \"Find information on shipwreck salvaging: the recovery or attempted recovery of treasure from sunken ships.\" and its top two search results \"Document 1:  James Lamb, coin director of Christie's, made a secretive trip to a Southern port city after Hurricane Hugo to view a horde of gold coins and bullion worth between $28 million and $450 million, including 11 pioneer coins and hundreds of U.S. gold coins, the most valuable being a $5 gold \"Classic Head\" coin worth up to $7,750. It is uncertain when the coins will reach the market. Document 2:  Salvage workers are attempting to refloat the sunken restaurant ship Princess Louise in Los Angeles Harbor, but have discovered an air leak that could delay the operation for up to three days. They plan to patch the leak and then try to float the ship upside down to make it easier to tow, with the ultimate goal of sinking it at sea to create an artificial reef.\" , it can be inferred that the query is {\"mask\"}.\n"
     ]
    },
    {
     "name": "stderr",
     "output_type": "stream",
     "text": [
      "tokenizing: 1it [00:00, 999.60it/s]\n"
     ]
    },
    {
     "name": "stdout",
     "output_type": "stream",
     "text": [
      "411\n",
      "tensor(0.2154) tensor(0.7846)\n",
      "---------------------------------------------------------------\n",
      "Given the query \"What security measures are in effect or are proposed to go into effect in airports?\" and its top two search results \"Document 1:  Following a second IRA mortar attack on London's Heathrow Airport, authorities discussed ways to increase security, but accepted that due to its size and frequent use, there were limits to what could be done. Belfast's City airport has managed to ensure a high level of security due to its small size, but this is not practical for Heathrow. Security measures have been increased in recent years, but there is no guarantee against terrorist attack. Document 2:  A former chairman of Hong Kong's Security Association has expressed concerns about the security at Kai Tak Airport, one of the world's busiest airports. The Security Branch, however, claims that their existing security arrangements are satisfactory and meet the standards of Annex 17 of the Chicago Convention on Airport Security. Any company can bid for the contract, but they must meet the stringent standards required.\" , it can be inferred that the query is {\"mask\"}.\n"
     ]
    },
    {
     "name": "stderr",
     "output_type": "stream",
     "text": [
      "tokenizing: 1it [00:00, 514.51it/s]\n"
     ]
    },
    {
     "name": "stdout",
     "output_type": "stream",
     "text": [
      "412\n",
      "tensor(0.1432) tensor(0.8568)\n",
      "---------------------------------------------------------------\n",
      "Given the query \"What are new methods of producing steel?\" and its top two search results \"Document 1:  Wu Xichun, a news spokesman for the Ministry of Metallurgical Industry, recently revealed that the supply of steel products in China exceeds demand due to excessive imports in the fourth quarter of last year and the growth of imports in the first four months of this year. Prices on the domestic steel products market have dropped in the past two months and are predicted to remain stable for a certain period of time. Wu Xichun warned foreign trade enterprises not to blindly import steel products and advised iron and steel enterprises to pay close attention to market changes. Document 2:  The Japanese government is introducing new Japan Industrial Standards (JIS) for high-quality steel products used in construction and public work projects, in response to reported cases of welded parts breaking. This may be seen as a nontariff barrier, and will increase production costs by 10%, with a potential price increase.\" , it can be inferred that the query is {\"mask\"}.\n"
     ]
    },
    {
     "name": "stderr",
     "output_type": "stream",
     "text": [
      "tokenizing: 1it [00:00, 499.98it/s]\n"
     ]
    },
    {
     "name": "stdout",
     "output_type": "stream",
     "text": [
      "413\n",
      "tensor(0.0841) tensor(0.9159)\n",
      "---------------------------------------------------------------\n",
      "Given the query \"How much sugar does Cuba export and which countries import it?\" and its top two search results \"Document 1:  Sugar experts have forecasted that Cuba's sugar crop for 1991-92 will be 6.5 million tonnes, 1.1 million tonnes less than the previous year due to harvesting issues, equipment problems, and field issues. The US Department of Agriculture is expected to revise its estimate downwards this week. The drop in production will negatively affect Cuba's economy, but will be beneficial to the world sugar market. Cuba has had to renegotiate with ex-Soviet Union states to find a home for 1.5 million tonnes of sugar that used to go to the Soviet Union. Document 2:  Russia has suspended oil shipments to Cuba due to Cuba not meeting its sugar export commitments. This will further weaken the Cuban economy, which is already in recession. Russia will sell the remaining 1m tonnes of oil on the world market and is open to negotiations in 1995 if more sugar is needed.\" , it can be inferred that the query is {\"mask\"}.\n"
     ]
    },
    {
     "name": "stderr",
     "output_type": "stream",
     "text": [
      "tokenizing: 1it [00:00, 499.92it/s]\n"
     ]
    },
    {
     "name": "stdout",
     "output_type": "stream",
     "text": [
      "414\n",
      "tensor(0.1803) tensor(0.8197)\n",
      "---------------------------------------------------------------\n",
      "Given the query \"What is known about drug trafficking in the \"Golden Triangle\", the area where Burma, Thailand and Laos meet?\" and its top two search results \"Document 1:  On October 26th, representatives from Laos, China, Myanmar, and Thailand met at the UN headquarters in New York to sign a memorandum to increase cooperation in controlling drugs in the Golden Triangle area of Southeast Asia. The UN office for the control of international drugs will provide technical assistance and funds to the four countries to help address the drug production issue. Document 2:  This article examines the need for increased regional cooperation between Thailand, Laos, and China to combat the drug trade of Khun Sa in the Golden Triangle and Economic Quadrangle of Burma. It argues that without effective measures to stop production at its source, the global drug market will remain flooded.\" , it can be inferred that the query is {\"mask\"}.\n"
     ]
    },
    {
     "name": "stderr",
     "output_type": "stream",
     "text": [
      "tokenizing: 1it [00:00, 694.19it/s]\n"
     ]
    },
    {
     "name": "stdout",
     "output_type": "stream",
     "text": [
      "415\n",
      "tensor(0.2231) tensor(0.7769)\n",
      "---------------------------------------------------------------\n",
      "Given the query \"What is the status of The Three Gorges Project?\" and its top two search results \"Document 1:  Li Peng, Premier of China, presided over a meeting of the Three Gorges Project Construction Committee to discuss preparations for the project and the resettlement of residents in the affected areas. Li Peng emphasized the importance of the project and the need for all relevant departments to work together to make full preparations for the construction of the project. Zou Jiahua and Qian Zhengying also expressed their views on the project's construction. The State Council's ministries and commissions should set an example in supporting the project and take practical action in supporting construction in the areas along the Three Gorges. Document 2:  At a press conference on October 29th, 1993, Guo Shuyan reported that the Three Gorges Project in China is progressing smoothly and will require 95.4 billion yuan renminbi in static investment. Resettlement in Xinjiang and Tibet is a rumor and international cooperation will be strengthened. The project will benefit the ecology and environment and construction capital is being raised through various channels. The Chinese Government has set aside 0.003 yuan per kWh of electricity in China and the Gezhouba Power Station will provide net income to be used for the Three Gorges project, which will provide a total of 32.7 billion yuan renminbi over 11 years, equal to 62 percent of the required investment.\" , it can be inferred that the query is {\"mask\"}.\n"
     ]
    },
    {
     "name": "stderr",
     "output_type": "stream",
     "text": [
      "tokenizing: 1it [00:00, 333.46it/s]\n"
     ]
    },
    {
     "name": "stdout",
     "output_type": "stream",
     "text": [
      "416\n",
      "tensor(0.3618) tensor(0.6382)\n",
      "---------------------------------------------------------------\n",
      "Given the query \"Find ways of measuring creativity.\" and its top two search results \"Document 1:  This article explores the idea that creativity is more than just a combination of genes and may be related to mental illness. It looks at the traits of creative individuals, such as insatiable curiosity and openness to new experiences, and how they are driven by intrinsic rewards. It also examines the implications of understanding and teaching creativity, which could have profound implications for modern society. Mihaly Csikszentmihalyi has studied creativity for over 24 years and has concluded that it is the interaction between societal needs and individual talents. Schools and companies are beginning to recognize this and are encouraging students and employees to be creative. Document 2:  This article examines the difficulty of defining creativity and the debate over whether computers can be creative. It looks at the idea that creativity is problem solving and the implications of this for computers, as well as the views of experts such as Herbert Simon and Mihaly Csikszentmihalyi on the matter.\" , it can be inferred that the query is {\"mask\"}.\n"
     ]
    },
    {
     "name": "stderr",
     "output_type": "stream",
     "text": [
      "tokenizing: 1it [00:00, 351.93it/s]\n"
     ]
    },
    {
     "name": "stdout",
     "output_type": "stream",
     "text": [
      "417\n",
      "tensor(0.0755) tensor(0.9245)\n",
      "---------------------------------------------------------------\n",
      "Given the query \"In what ways have quilts been used to generate income?\" and its top two search results \"Document 1:  Karen Turgeon, a professional quilt maker, moved to California 11 years ago and was surprised to find that quilts have become popular in modern homes. Interior designers and home decorators are using quilts as bedspreads, wall hangings, and furniture drapes, and they are following trends such as dark colors and Southwest themes. Piecemakers Country Store offers custom quilts, and the Orange County Quilters Guild has seen an increase in membership. Quilts are seen as a way to bring warmth and coziness to a home. Document 2:  Quilting is an art form that has been around for centuries and is currently experiencing a resurgence in popularity. Anita Weinraub is working to document and preserve the history of quilts in Georgia. Quilts are made of three layers of cloth and bedding material, and are quilted together with a special thread. There are many quilting guilds and organizations dedicated to the craft.\" , it can be inferred that the query is {\"mask\"}.\n"
     ]
    },
    {
     "name": "stderr",
     "output_type": "stream",
     "text": [
      "tokenizing: 1it [00:00, 1000.79it/s]\n"
     ]
    },
    {
     "name": "stdout",
     "output_type": "stream",
     "text": [
      "418\n",
      "tensor(0.2076) tensor(0.7924)\n",
      "---------------------------------------------------------------\n",
      "Given the query \"What new uses have been developed for old automobile tires as a means of tire recycling?\" and its top two search results \"Document 1:  Renault and Peugeot are working together to develop systems for collecting and recycling automobile scrap in 10 West European countries. Peugeot is launching a pilot experiment in the Nord-Pas-de-Calais Region and is considering introducing an \"environment fee\" to help reduce the amount of used motor oil, batteries, and tires that are thrown away in France each year. Renault is ruling out the possibility of an increased garage bill to serve the \"green cause.\" Document 2:  Reyfra, a firm in Spain, has launched a pilot experiment to recycle automobiles, from collection to crushing. This is the first of its kind in Spain to include all automobile manufacturers and has the support of industry associations. The aim is to reduce pollution and reuse components, such as glass and metals, to reduce fuel oil consumption.\" , it can be inferred that the query is {\"mask\"}.\n"
     ]
    },
    {
     "name": "stderr",
     "output_type": "stream",
     "text": [
      "tokenizing: 1it [00:00, 499.86it/s]\n"
     ]
    },
    {
     "name": "stdout",
     "output_type": "stream",
     "text": [
      "419\n",
      "tensor(0.1450) tensor(0.8550)\n",
      "---------------------------------------------------------------\n",
      "Given the query \"How widespread is carbon monoxide poisoning on a global scale?\" and its top two search results \"Document 1:  Carbon monoxide is an odorless and colorless gas that can be deadly if not properly ventilated. Last year, 1,500 people died from carbon monoxide poisoning and 10,000 were poisoned but survived. In Tijuana, 12 people died and 6 were injured from a butane-burning lantern due to lack of ventilation. Symptoms of carbon monoxide poisoning include headaches, nausea, and vomiting, and those who survive may suffer permanent nervous system or brain damage. Carbon monoxide is usually a byproduct of any system that burns natural gas, such as butane or propane, in the presence of oxygen. Document 2:  On Monday, a funeral Mass was held in Zaragoza, Spain for the 43 people killed in a discotheque fire. An investigation revealed that the fire was likely caused by carbon monoxide poisoning, as fatal levels of carbon monoxide were found in the blood samples of nearly all of the victims.\" , it can be inferred that the query is {\"mask\"}.\n"
     ]
    },
    {
     "name": "stderr",
     "output_type": "stream",
     "text": [
      "tokenizing: 1it [00:00, 499.92it/s]\n"
     ]
    },
    {
     "name": "stdout",
     "output_type": "stream",
     "text": [
      "420\n",
      "tensor(0.1811) tensor(0.8189)\n",
      "---------------------------------------------------------------\n",
      "Given the query \"How is the disposal of industrial waste being accomplished by industrial management throughout the world?\" and its top two search results \"Document 1:  The UK government is consulting on the disposal of radioactive waste, with safety and cost being the two main issues. Deep burial is the preferred option, but surface storage is more expensive and riskier. The government must consider the safest and most acceptable method of disposal, as dilution is no longer an option. Investigations into deep disposal should continue, but surface storage may be the only option until more of the uncertainty is removed. Document 2:  The British government is at odds with the European Commission over the disposal of hazardous waste, with the government defending its current co-disposal methods and the Commission proposing a directive that would require Britain to incur additional costs to incinerate the waste.\" , it can be inferred that the query is {\"mask\"}.\n"
     ]
    },
    {
     "name": "stderr",
     "output_type": "stream",
     "text": [
      "tokenizing: 1it [00:00, 695.11it/s]\n"
     ]
    },
    {
     "name": "stdout",
     "output_type": "stream",
     "text": [
      "421\n",
      "tensor(0.1142) tensor(0.8858)\n",
      "---------------------------------------------------------------\n",
      "Given the query \"What incidents have there been of stolen or forged art?\" and its top two search results \"Document 1:  Carl Jones, 49, and Marilyn Wilkerson, 40, both of Los Angeles, were arrested Tuesday for attempting to cash a forged check at a Security Pacific Bank in Thousand Oaks. They are suspected of being part of a group that has passed at least 30 forged and stolen checks in Ventura County and 100 in Los Angeles County, and were booked at Ventura County Jail on suspicion of forgery and possession of forged checks and stolen property. Document 2:  The Art Loss Register (ALR) is a high-tech database of stolen art with over 40,000 items, used by insurance companies, police, and individuals to track down stolen art. Recently, the Register has been successful in identifying stolen items and leading police to 'fences' in London. Detective Chief Inspector John Butler is so impressed with the Register that he is installing a modem in Scotland Yard to give the police instant access. The ALR is also spreading its international net, linking its computer with Centrox, a US company which digests the catalogues from 178 auction houses round the world.\" , it can be inferred that the query is {\"mask\"}.\n"
     ]
    },
    {
     "name": "stderr",
     "output_type": "stream",
     "text": [
      "tokenizing: 1it [00:00, 499.80it/s]\n"
     ]
    },
    {
     "name": "stdout",
     "output_type": "stream",
     "text": [
      "422\n",
      "tensor(0.2283) tensor(0.7717)\n",
      "---------------------------------------------------------------\n",
      "Given the query \"Find references to Milosevic's wife, Mirjana Markovic.\" and its top two search results \"Document 1:  Radovan Karadzic, the Bosnian Serb leader, survived a mutiny from his elite army corps when soldiers lifted their eight-day blockade of Banja Luka. The protest reflects a growing divide between the Belgrade leadership of President Slobodan Milosevic and Serb leaders from outside Serbia proper. It is believed that the mutiny was an attempt to weaken Mr Karadzic, who has emerged from recent peace negotiations in a strong position. The instigator of the affair is unclear, with some blaming the Communist Party-Movement for Yugoslavia led by Mr Milosevic's wife, Mrs Mirjana Markovic. Document 2:  Serbian President Slobodan Milosevic is facing pressure to abandon the Bosnian Serb nationalists' goal of a Greater Serbia and instead create a 'new Yugoslavia' with Serbs and Croats. His wife, Mirjana Markovic, has called for Serbs to become pacifists, and Serbian media has accused Bosnian Serb leaders of corruption. This would be a direct conflict with the nationalists' goal of ethnic partition.\" , it can be inferred that the query is {\"mask\"}.\n"
     ]
    },
    {
     "name": "stderr",
     "output_type": "stream",
     "text": [
      "tokenizing: 1it [00:00, 499.98it/s]\n"
     ]
    },
    {
     "name": "stdout",
     "output_type": "stream",
     "text": [
      "423\n",
      "tensor(0.2475) tensor(0.7525)\n",
      "---------------------------------------------------------------\n",
      "Given the query \"Give examples of alleged suicides that aroused suspicion of the death actually being murder.\" and its top two search results \"Document 1:  A three-month study conducted by the Marine Corps Recruit Depot found that the stress and pressure of boot camp were not the cause of three recruit suicides in 1988. The report suggested that the environment was a factor, but that there was no common pattern or facts linking the suicides. The Marine Corps is looking for warning signs and allowing recruits to relax during their free time. MCRD is an economic boon for San Diego due to the income generated from visitors, and officials are fighting any attempts to expand Lindbergh Field north to the base. Document 2:  Last year, 4,000 people in Khorasan, Iran committed suicide due to economic pressures. Research showed that almost all of these people were under heavy and unbearable economic pressure. The majority of those who committed suicide were women aged 10-30. The judge in Khorasan attributed the increase in suicides to the lack of correspondence between incomes and costs.\" , it can be inferred that the query is {\"mask\"}.\n"
     ]
    },
    {
     "name": "stderr",
     "output_type": "stream",
     "text": [
      "tokenizing: 1it [00:00, 499.86it/s]\n"
     ]
    },
    {
     "name": "stdout",
     "output_type": "stream",
     "text": [
      "424\n",
      "tensor(0.1991) tensor(0.8009)\n",
      "---------------------------------------------------------------\n",
      "Given the query \"What counterfeiting of money is being done in modern times?\" and its top two search results \"Document 1:  This document reports on the prevalence of money counterfeiting in Russia, noting that it is becoming increasingly accessible and is being put on an industrial footing. The MVD expects an upsurge in counterfeiting of securities and stocks in the near future, and counterfeiters from Chechnya, Azerbaijan, and other former Soviet republics are a particular threat. Citizens should be wary. Document 2:  Three people from Tianjin, Zhao Zhixiang, Sun Yuhong, and Lu Zhenjie, conspired to traffic and counterfeit state money. They exchanged 10,000 yuan for 27,650 yuan in Jieshou city and spent 3,000 yuan of counterfeit money on various goods. Lu Zhenjie surrendered 20,800 yuan of counterfeit money to the security organ and the People's Bank of China withdrew 23,900 yuan of counterfeit money. Zhao and Sun were sentenced to six years imprisonment and Lu was sentenced to three years imprisonment and three years probation.\" , it can be inferred that the query is {\"mask\"}.\n"
     ]
    },
    {
     "name": "stderr",
     "output_type": "stream",
     "text": [
      "tokenizing: 1it [00:00, 934.77it/s]\n"
     ]
    },
    {
     "name": "stdout",
     "output_type": "stream",
     "text": [
      "425\n",
      "tensor(0.1039) tensor(0.8961)\n",
      "---------------------------------------------------------------\n",
      "Given the query \"Provide information on the use of dogs worldwide for law enforcement purposes.\" and its top two search results \"Document 1:  The Mission Viejo City Council voted to create an educational program to encourage dog owners to clean up after their pets, rather than relying on police enforcement. The decision was made in response to complaints from residents who use Lake Mission Viejo, and violators could be fined $100. An assistant city manager said the program would be ready by summer. Document 2:  Ocean Beach in San Diego is debating whether to ban dogs from the beach due to the mess they make. A town meeting is being held to discuss the issue and representatives from county and city elected officials and governmental agencies have been invited. Dog owners are concerned that stricter enforcement of the current cleanup law could lead to a total ban, while others are pushing for increased license fees to pay for more frequent cleanups. The city has already begun to respond to resident concerns by placing additional trash cans and pooper scooper shovels on the beach.\" , it can be inferred that the query is {\"mask\"}.\n"
     ]
    },
    {
     "name": "stderr",
     "output_type": "stream",
     "text": [
      "tokenizing: 1it [00:00, 499.92it/s]\n"
     ]
    },
    {
     "name": "stdout",
     "output_type": "stream",
     "text": [
      "426\n",
      "tensor(0.1883) tensor(0.8117)\n",
      "---------------------------------------------------------------\n",
      "Given the query \"Find documents that discuss the damage ultraviolet (UV) light from the sun can do to eyes.\" and its top two search results \"Document 1:  Opticians are now selling sunglasses sized to fit infants, and parents should ensure their children's eyes are protected from the sun's harmful UV radiation by purchasing sunglasses with UV protection for around $15. Long-term absorption of UV radiation can lead to cataracts and degeneration of the retina. Document 2:  UVGI systems are not a substitute for HEPA filters or local exhaust of air, and regular maintenance is essential. Overexposure to UV radiation can cause erythema and keratoconjunctivitis, and has been associated with increased risk for skin cancers. HCWs should be educated on the basic principles of UVGI and a competent UVGI system designer should be consulted to address safety considerations. Protective clothing and sunscreen should be used and any eye or skin irritation should be examined by occupational health staff.\" , it can be inferred that the query is {\"mask\"}.\n"
     ]
    },
    {
     "name": "stderr",
     "output_type": "stream",
     "text": [
      "tokenizing: 1it [00:00, 499.98it/s]\n"
     ]
    },
    {
     "name": "stdout",
     "output_type": "stream",
     "text": [
      "427\n",
      "tensor(0.1901) tensor(0.8099)\n",
      "---------------------------------------------------------------\n",
      "Given the query \"Do any countries other than the U.S. and China have a declining birth rate?\" and its top two search results \"Document 1:  This document examines the declining birth rate in Novosibirsk, Russia, which has caused the population to decrease since 1988 due to emigration, production decline, and reduced need for outside manpower. In 1993, the mortality index increased to 14.1 deaths per thousand population, indicating that the demographic situation in Novosibirsk has reached crisis proportions. Document 2:  The CDC reported that the incidence of low birth weight among U.S. newborns is increasing, particularly among black babies, due to fewer women receiving early prenatal care and a possible association with crack cocaine use. The rate of newborns with very low birth weight also rose, with a greater decline for white newborns than black newborns. Reasons for the worsening gap between the rates for black and white infants are complex and include poverty, single motherhood, age, education, and lack of prenatal care.\" , it can be inferred that the query is {\"mask\"}.\n"
     ]
    },
    {
     "name": "stderr",
     "output_type": "stream",
     "text": [
      "tokenizing: 1it [00:00, 499.80it/s]\n"
     ]
    },
    {
     "name": "stdout",
     "output_type": "stream",
     "text": [
      "428\n",
      "tensor(0.1793) tensor(0.8207)\n",
      "---------------------------------------------------------------\n",
      "Given the query \"Identify outbreaks of Legionnaires' disease.\" and its top two search results \"Document 1:  Three elderly people have died and 13 others have become ill due to an outbreak of Legionnaire's Disease at a 50th high school reunion in Colorado. State health officials are working with the CDC to contact other groups who held conventions at the same hotel. Symptoms of the disease include high fever, headaches and loss of appetite, and it is most common in men over 50, smokers and people in frail health. Document 2:  At the American Society for Microbiology meeting, Jeannine Navratil reported that chlorine, commonly used to sterilize drinking water and cooling systems, may not be effective against the microorganism that causes Legionnaire's Disease. This microorganism is more resistant to chlorine than other water-borne pathogens and can colonize hot water reservoirs. It is estimated that only a small fraction of cases are reported to the U.S. Centers for Disease Control each year, and 15% of infections prove fatal. To combat the microorganism, it may be necessary to use ultraviolet light or other disinfectants.\" , it can be inferred that the query is {\"mask\"}.\n"
     ]
    },
    {
     "name": "stderr",
     "output_type": "stream",
     "text": [
      "tokenizing: 1it [00:00, 1000.07it/s]\n"
     ]
    },
    {
     "name": "stdout",
     "output_type": "stream",
     "text": [
      "429\n",
      "tensor(0.1486) tensor(0.8514)\n",
      "---------------------------------------------------------------\n",
      "Given the query \"Identify instances of attacks on humans by Africanized (killer) bees.\" and its top two search results \"Document 1:  Researchers at the Oak Ridge National Laboratory have developed portable devices that can detect the buzzing frequency of Africanized \"killer\" bees and sound an alarm when they are detected. These bees are known for their aggressive behavior and swarming attacks. Document 2:  Mike Pearson is the bee inspector in Los Angeles County, and is on alert for the arrival of Africanized bees, which are known for their swarming and potentially fatal attacks. He was mobilized in 1985 when a pocket of Africanized bees was discovered in an oil field near Bakersfield, and successfully eradicated. Pearson is optimistic about California's ability to deal with the bees, and sets traps around the county to detect any colonies. He is also working with beekeepers to breed a milder bee to contend with Africanized gene pools.\" , it can be inferred that the query is {\"mask\"}.\n"
     ]
    },
    {
     "name": "stderr",
     "output_type": "stream",
     "text": [
      "tokenizing: 1it [00:00, 602.54it/s]\n"
     ]
    },
    {
     "name": "stdout",
     "output_type": "stream",
     "text": [
      "430\n",
      "tensor(0.1301) tensor(0.8699)\n",
      "---------------------------------------------------------------\n",
      "Given the query \"What are the latest developments in robotic technology?\" and its top two search results \"Document 1:  China has developed nine types of robots, including those capable of welding, painting, assembling items, disposing of toxic materials, building pier buttresses, packaging, climbing walls, walking upright, and controlling reconnaissance drones. These robots are on par with the world's best and are being used in production procedures that are too strenuous for humans. Document 2:  This document discusses the need for a comprehensive space infrastructure and the development of rendezvous-docking (RVD) and space robot technologies. Countries such as the United States, Russia, Japan, France, and Germany have been researching RVD technology since the late 1970s. Mitsubishi Electric has been researching and developing space robot technology since the mid-1980s. This article outlines the effectiveness of introducing a force control system and a prediction display screen in the ground system, as well as the development of a ground-based test apparatus called the \"busing simulator\" to simulate the motion of the satellite vehicle and the target satellite. These technologies are expected to form a solid technological base for large-scale space activities.\" , it can be inferred that the query is {\"mask\"}.\n"
     ]
    },
    {
     "name": "stderr",
     "output_type": "stream",
     "text": [
      "tokenizing: 1it [00:00, 428.82it/s]\n"
     ]
    },
    {
     "name": "stdout",
     "output_type": "stream",
     "text": [
      "431\n",
      "tensor(0.1606) tensor(0.8394)\n",
      "---------------------------------------------------------------\n",
      "Given the query \"Do police departments use \"profiling\" to stop motorists?\" and its top two search results \"Document 1: \n",
      "\n",
      "Adrian DeLeon, 25, of Santa Ana was fatally shot in the head on Saturday night following a dispute with other motorists. The shots were fired from a pistol and police do not believe the shooting was related to gang activity. Document 2:  Four juveniles were arrested Wednesday after they threatened a motorist with a fake handgun in Costa Mesa, California. Police found a knife, wooden club, and a fake gun in the truck. No one was injured.\" , it can be inferred that the query is {\"mask\"}.\n"
     ]
    },
    {
     "name": "stderr",
     "output_type": "stream",
     "text": [
      "tokenizing: 1it [00:00, 500.04it/s]\n"
     ]
    },
    {
     "name": "stdout",
     "output_type": "stream",
     "text": [
      "432\n",
      "tensor(0.2000) tensor(0.8000)\n",
      "---------------------------------------------------------------\n",
      "Given the query \"Is there contemporary interest in the Greek philosophy of stoicism?\" and its top two search results \"Document 1:  Eight individuals have been appointed to various positions in the finance industry, including Ian Johnson as finance director of NOBLE LOWNDES GROUP Ltd, Bob Potts as deputy chief executive of BARCLAYS BANK's central retail services division, John Eaton as md of Barclays Merchant Services, Yoichi Kamina as head of equity domestic sales at BARCLAYS de ZOETE WEDD's Tokyo office, Simon Hood as director and head of syndicated finance at SWISS BANK CORPORATION, Neil Morgan as director of Thamesway Investment Services, Count Enzio von Pfeil as chief regional economist for SG WARBURG SECURITIES (Far East), Nicholas Moakes as senior analyst based in Hong Kong, and Winston Fletcher as the new chairman of the Advertising Association. Document 2:  Gregory Vlastos, an eminent historian of ancient Greek philosophy, has spent 30 years researching Socrates and has recently published a book on him. Vlastos' work has helped to humanize the field of philosophy and has changed the way Socrates is seen. He presents a dynamic positive figure whose views had a charismatic influence on the youth of his time and have an immediate relationship to our own. Vlastos has also received a $375,000 MacArthur Foundation Fellowship.\" , it can be inferred that the query is {\"mask\"}.\n"
     ]
    },
    {
     "name": "stderr",
     "output_type": "stream",
     "text": [
      "tokenizing: 1it [00:00, 499.86it/s]\n"
     ]
    },
    {
     "name": "stdout",
     "output_type": "stream",
     "text": [
      "433\n",
      "tensor(0.2058) tensor(0.7942)\n",
      "---------------------------------------------------------------\n",
      "Given the query \"What is the state of the economy of Estonia?\" and its top two search results \"Document 1:  The authors of this letter to the editor refute Philippe Legrain's criticism of Estonia's currency board system, arguing that it has actually contributed to price stability and low inflation. They also point out that the currency board has provided a firm anchor to Estonia's traded goods prices, resulting in solid investor confidence, low interest rates, and renewed economic growth. Document 2:  This article examines the investment situation in Estonia, noting that foreign investment has increased, but only one-fourth of all investment goes to industry. The council of experts at the Institute for the Study of Trends believes that the course of the investment process is unsatisfactory, but that it is good that foreign investment is increasing. Most foreign investors come from Sweden and Finland, while Russia's investment is decreasing due to high inflation. Per capita foreign investment in Estonia is higher than in Russia, and there are more joint ventures in Estonia than in Russia, making Estonia a more attractive bridgehead for foreign investors than Russia.\" , it can be inferred that the query is {\"mask\"}.\n"
     ]
    },
    {
     "name": "stderr",
     "output_type": "stream",
     "text": [
      "tokenizing: 1it [00:00, 999.12it/s]\n"
     ]
    },
    {
     "name": "stdout",
     "output_type": "stream",
     "text": [
      "434\n",
      "tensor(0.1621) tensor(0.8379)\n",
      "---------------------------------------------------------------\n",
      "Given the query \"What measures have been taken worldwide and what countries have been effective in curbing population growth?\" and its top two search results \"Document 1:  The United Nations-sponsored meeting on population and development concluded with a declaration urging governments to curb population growth. The declaration called for developing countries to integrate population issues into national development planning, and for developed nations to change their patterns of consumption and to curb overproduction. The meeting was attended by international figures and discussed sustainable development, family planning, and the status of women in relation to population. The UN has predicted the world population will increase to 10 billion by 2050. Document 2:  The United Nations Population Fund has called for an increase in global spending on family planning to $17 billion by the end of the decade in order to slow population growth. This has caused an international debate over the agenda of the upcoming UN population conference in Cairo, which includes topics such as abortion, homosexuality, women's rights, and teenage sex. The UN Population Fund estimates that the world's population could be stabilized at 7.8 billion if contraception were made more widely available.\" , it can be inferred that the query is {\"mask\"}.\n"
     ]
    },
    {
     "name": "stderr",
     "output_type": "stream",
     "text": [
      "tokenizing: 1it [00:00, 499.68it/s]\n"
     ]
    },
    {
     "name": "stdout",
     "output_type": "stream",
     "text": [
      "435\n",
      "tensor(0.1795) tensor(0.8205)\n",
      "---------------------------------------------------------------\n",
      "Given the query \"What are the causes of railway accidents throughout the world?\" and its top two search results \"Document 1:  On February 15th, a railway accident in Hunan resulted in 52 deaths. The investigation concluded that the railway station's outdated facilities and chaotic management were to blame. The authorities had been passing the buck on a plan to transform the station, and the accident was attributed to their desire to make money from the migrant laborers. After the accident, the station was expanded and the waiting period was shortened, leading to a positive effect. Document 2:  On March 21st, a train crash in Cumbre, Placetas Municipality, Villa Clara Province resulted in two crew members being seriously injured and two of the tankers being damaged. Captain Ardelio Garcia attributed the accident to a violation of the railway's operating regulations, and the track was quickly repaired and the material damages were being assessed.\" , it can be inferred that the query is {\"mask\"}.\n"
     ]
    },
    {
     "name": "stderr",
     "output_type": "stream",
     "text": [
      "tokenizing: 1it [00:00, 1000.31it/s]\n"
     ]
    },
    {
     "name": "stdout",
     "output_type": "stream",
     "text": [
      "436\n",
      "tensor(0.1336) tensor(0.8664)\n",
      "---------------------------------------------------------------\n",
      "Given the query \"What has been the experience of residential utility customers following deregulation of gas and electric?\" and its top two search results \"Document 1:  Stanley Skinner, president and COO of Pacific Gas and Electric, will become the company's CEO next month, a year earlier than planned, in response to California's plans to deregulate its electricity supply industry. Skinner will lead the transition to deregulation in the US electricity industry, and other states are expected to follow California's lead. Document 2:  Germany is in the process of deregulating its energy sector, which has been dominated by virtual monopolies in the east and powerful utilities in the west. The German government is proposing revisions to energy policy and cartel legislation, but these proposals have been met with criticism from the opposition and the energy sector. Wintershall, a German company, is investing 5 billion euros in building new pipelines across Germany to introduce competition and break the monopoly of the established utilities. The Financial Times London reported on this story, which involves electric services, gas transmission and distribution, regulation and administration of utilities, and coal mining.\" , it can be inferred that the query is {\"mask\"}.\n"
     ]
    },
    {
     "name": "stderr",
     "output_type": "stream",
     "text": [
      "tokenizing: 1it [00:00, 999.83it/s]\n"
     ]
    },
    {
     "name": "stdout",
     "output_type": "stream",
     "text": [
      "437\n",
      "tensor(0.1328) tensor(0.8672)\n",
      "---------------------------------------------------------------\n",
      "Given the query \"What countries are experiencing an increase in tourism?\" and its top two search results \"Document 1:  China's reform and opening up drive has resulted in a 13% annual average growth rate in the number of tourists visiting the country, as well as a 21% annual average increase in overseas tourism revenue. China has established regular tourist relations with over 100 countries, and has implemented a series of tourism years to further promote the industry. Document 2:  Flo Snyder, the State Office of Tourism Director, has proposed a 35% increase in the tourism budget for the next fiscal year, with $7.3 million earmarked for in-state marketing efforts. The budget increase is intended to encourage Californians to vacation in the state, but is not enough to compete with other states and countries.\" , it can be inferred that the query is {\"mask\"}.\n"
     ]
    },
    {
     "name": "stderr",
     "output_type": "stream",
     "text": [
      "tokenizing: 1it [00:00, 999.12it/s]\n"
     ]
    },
    {
     "name": "stdout",
     "output_type": "stream",
     "text": [
      "438\n",
      "tensor(0.1648) tensor(0.8352)\n",
      "---------------------------------------------------------------\n",
      "Given the query \"What new inventions or scientific discoveries have been made?\" and its top two search results \"Document 1:  Royston M. Roberts' book \"Serendipity: Accidental Discoveries in Science\" is a history of science told in an anecdotal, personal style. It explores the concept of accidental discoveries, both true and pseudo-serendipitous, and how they have shaped the history of science. It includes stories of well-known and lesser-known discoveries, drawing on existing works and quotes from published accounts by the scientists who made them. The book is meant to inspire young people to pursue scientific research and to teach the lesson that one must be alert to new paths and possibilities. Document 2:  Bruce Clark examines Estonia's inventive culture, focusing on two inventors: Johannes Hint and Toom Pungas. Pungas has returned to Estonia and is leading the Inventors' Union and advocating for patent laws. He has also created an environmentally friendly fertiliser from oil-shale waste and pigs slurry, but is facing opposition from commercial rivals or governments.\" , it can be inferred that the query is {\"mask\"}.\n"
     ]
    },
    {
     "name": "stderr",
     "output_type": "stream",
     "text": [
      "tokenizing: 1it [00:00, 999.83it/s]\n"
     ]
    },
    {
     "name": "stdout",
     "output_type": "stream",
     "text": [
      "439\n",
      "tensor(0.1239) tensor(0.8761)\n",
      "---------------------------------------------------------------\n",
      "Given the query \"What steps are being taken by governments or corporations to eliminate abuse of child labor?\" and its top two search results \"Document 1:  Rep. Charles E. Schumer (D-N.Y.) proposed increasing civil penalties for child labor violations from $1,000 to $10,000 and introducing mandatory jail terms and fines of up to $100,000 for employers who repeatedly violate child labor laws. The proposal came a day after Labor Secretary Elizabeth Hanford Dole revealed that a three-day sting operation had uncovered 7,000 minors employed in dangerous jobs or working long hours in violation of child labor laws. Document 2:  This document proposes an exception to Child Labor Regulation 3 for 14- and 15-year-olds employed by professional sports organizations, and to delete Child Labor Regulation 5 due to potential confusion. It also outlines the process for informing the public of the Department's intentions regarding child labor regulations, which was later replaced by the Administrative Procedure Act. The only change to Child Labor Reg. 5 was a technical amendment in 1961.\" , it can be inferred that the query is {\"mask\"}.\n"
     ]
    },
    {
     "name": "stderr",
     "output_type": "stream",
     "text": [
      "tokenizing: 1it [00:00, 499.86it/s]\n"
     ]
    },
    {
     "name": "stdout",
     "output_type": "stream",
     "text": [
      "440\n",
      "tensor(0.1035) tensor(0.8965)\n",
      "---------------------------------------------------------------\n",
      "Given the query \"How do you prevent and treat Lyme disease?\" and its top two search results \"Document 1:  Lyme disease is a bacterial infection transmitted by ticks, commonly found in the Northeast, Midwest, and California. Symptoms include a red circular rash, fever, fatigue, aches, and arthritis. Some victims may suffer from long-term neurological symptoms such as memory loss, mood changes, tingling sensations, and shooting pains years after the initial tick bite. Antibiotic therapy can often relieve these symptoms, although recovery is seldom complete. Document 2:  A study of 80 people with Lyme disease arthritis found that 89% of those with arthritis lasting between one and four years had genetic markers HLA-DR4 and HLA-DR2, while only 27% of those with arthritis lasting between one to five months had the markers, suggesting that certain people are genetically predisposed to developing chronic arthritis from Lyme disease that does not respond to treatment.\" , it can be inferred that the query is {\"mask\"}.\n"
     ]
    },
    {
     "name": "stderr",
     "output_type": "stream",
     "text": [
      "tokenizing: 1it [00:00, 489.99it/s]\n"
     ]
    },
    {
     "name": "stdout",
     "output_type": "stream",
     "text": [
      "441\n",
      "tensor(0.1651) tensor(0.8349)\n",
      "---------------------------------------------------------------\n",
      "Given the query \"Find accounts of selfless heroic acts by individuals or small groups for the benefit of others or a cause.\" and its top two search results \"Document 1:  At a ceremony commemorating the 81st anniversary of the Loyalty March, Mexico's Defense Secretary General Antonio Riviello Bazan praised the soldiers deployed in Chiapas State for their dedication and spirit. He stated that the Army's intervention in the Chiapas conflict is in accordance with the law and ethics of the Armed Forces, and that the Mexican people support and respect the Armed Forces. Representatives of the Legislative and Judicial Branches, cabinet members, and the Navy secretary were also present at the event. Document 2:  Lieutenant General 'Ali 'Abdallah Salih chaired a meeting of the Defense Ministry Command and the General Staff Command, congratulating the Defense Minister on his appointment and praising the Armed Forces for their efficiency and heroic performance. He also urged the agencies of the Interior Ministry to maintain the security and safety of the citizens. The Defense Minister thanked Salih for his confidence and affirmed his faith in the Armed Forces.\" , it can be inferred that the query is {\"mask\"}.\n"
     ]
    },
    {
     "name": "stderr",
     "output_type": "stream",
     "text": [
      "tokenizing: 1it [00:00, 499.74it/s]\n"
     ]
    },
    {
     "name": "stdout",
     "output_type": "stream",
     "text": [
      "442\n",
      "tensor(0.1252) tensor(0.8748)\n",
      "---------------------------------------------------------------\n",
      "Given the query \"What is the extent of U.S. (government and private) investment in sub-Saharan Africa?\" and its top two search results \"Document 1:  Mobil Oil Co., the largest U.S. company still in South Africa, is reportedly selling its operations to a South African mining conglomerate at a discounted price. This follows the withdrawal of over 170 American companies from South Africa in the last four years due to the country's race policies. The sale is believed to be in response to a bill passed by the U.S. Congress in 1987 which removed the right of U.S. taxpayers to credit taxes paid to South Africa against taxes owed to the U.S. government. Document 2:  This editorial examines the U.S. foreign aid approach, which is being restructured to reward countries that pursue the correct political and economic policies. President Clinton has proposed a $600 million package to South Africa over the next three years, with the majority of the funds going to the private sector. This package is intended to stimulate the economy and encourage American business by opening up trade and investment opportunities in South Africa. This pragmatic approach should provide assurance to South Africa that their development needs will be met.\" , it can be inferred that the query is {\"mask\"}.\n"
     ]
    },
    {
     "name": "stderr",
     "output_type": "stream",
     "text": [
      "tokenizing: 1it [00:00, 499.92it/s]\n"
     ]
    },
    {
     "name": "stdout",
     "output_type": "stream",
     "text": [
      "443\n",
      "tensor(0.2202) tensor(0.7798)\n",
      "---------------------------------------------------------------\n",
      "Given the query \"What are the potential uses for supercritical fluids as an environmental protection measure?\" and its top two search results \"Document 1:  Supercritical water oxidation is a new alternative for the destruction of highly toxic waste materials. It is being used in the food and pharmaceutical industries, as well as to separate organic toxins and oils from sewage and contaminated solids. Experiments are underway in Karlsruhe to recover oils from metal grinding sludges. The process is advantageous in that no harmful substances can escape and up to 98% of stubborn waste materials can be decomposed. The first commercial plants are scheduled for this year, and Professor Gustav Brunner in Hamburg-Harburg is attempting to clean heavily contaminated soil by means of supercritical water. Document 2: \n",
      "\n",
      "British scientist Leigh Canham has developed a new cost-effective optoelectronic chip production technique using a supercritical fluid to create highly porous crystalline silicon. This new technique is able to create a 95% porosity in the silicon, resulting in a uniform crystalline structure with high solidity, providing a cheaper alternative to the film-like gallium arsenide structures that have been used for optoelectronic circuits.\" , it can be inferred that the query is {\"mask\"}.\n"
     ]
    },
    {
     "name": "stderr",
     "output_type": "stream",
     "text": [
      "tokenizing: 1it [00:00, 499.80it/s]\n"
     ]
    },
    {
     "name": "stdout",
     "output_type": "stream",
     "text": [
      "444\n",
      "tensor(0.1148) tensor(0.8852)\n",
      "---------------------------------------------------------------\n",
      "Given the query \"What other countries besides the United States are considering or have approved women as clergy persons?\" and its top two search results \"Document 1:  At a meeting in Riverside, delegates of the Seventh-day Adventists' Southeastern California Conference voted against authorizing the ordination of women pastors, despite the international convention endorsing the practice of licensing women to perform most ministerial tasks. The conference voted to request a new vote on women's ordination in October, 1991. Document 2:  The Church of England may have to pay millions of pounds in compensation to clergy who retire in protest of the decision to ordain women, with Michael Alison estimating the cost to be around £1 million per 100 clergy retiring each year.\" , it can be inferred that the query is {\"mask\"}.\n"
     ]
    },
    {
     "name": "stderr",
     "output_type": "stream",
     "text": [
      "tokenizing: 1it [00:00, 531.26it/s]\n"
     ]
    },
    {
     "name": "stdout",
     "output_type": "stream",
     "text": [
      "445\n",
      "tensor(0.1338) tensor(0.8662)\n",
      "---------------------------------------------------------------\n",
      "Given the query \"Where are tourists likely to be subjected to acts of violence causing bodily harm or death?\" and its top two search results \"Document 1:  Egypt's tourism industry is recovering after a period of Islamic militant attacks, with hotel occupancy rates in Cairo up to 85-90% and provisional tour bookings for the upcoming winter season twice what they were a year ago. Despite the Egyptian government's claim that the attacks cost them $900 million in lost revenue last year, diplomats and commentators remain cautious about predicting an end to the violence. Document 2:  The Guatemalan government is requesting the U.S. to lift its travel warning due to a wave of violence, as it could cost the country $5 million in tourism revenue. A group of Indians led by Chris Halter are planning a march to the U.S. Embassy to protest the travel warning. The Guatemalan Foreign Minister has not yet received a response from the U.S. Secretary of State.\" , it can be inferred that the query is {\"mask\"}.\n"
     ]
    },
    {
     "name": "stderr",
     "output_type": "stream",
     "text": [
      "tokenizing: 1it [00:00, 564.59it/s]\n"
     ]
    },
    {
     "name": "stdout",
     "output_type": "stream",
     "text": [
      "446\n",
      "tensor(0.1424) tensor(0.8576)\n",
      "---------------------------------------------------------------\n",
      "Given the query \"What new developments and applications are there for the Stirling engine?\" and its top two search results \"Document 1: \n",
      "Sir James Stirling, a British architect, recently passed away, leaving behind a legacy of original and influential architecture. His work combined engineering and architecture in a unique way, and his taste was inclusive and catholic. He was heavily influenced by his mentor Colin Rowe and was the only contemporary architect to understand the idea of 'architectural collage'. His sudden death is a great loss to the architectural profession. Document 2:  Sir James Stirling, an internationally renowned architect, passed away suddenly in London. He was knighted two weeks ago for his architectural achievements, which included the Engineering Building at Leicester University, the Cambridge History Faculty Library, and the Staatsgallerie in Stuttgart. He was admired for his tireless fight for the integrity of his schemes and his mentorship of a generation of architects, with Charles Jencks calling him \"the most important architect of his generation\".\" , it can be inferred that the query is {\"mask\"}.\n"
     ]
    },
    {
     "name": "stderr",
     "output_type": "stream",
     "text": [
      "tokenizing: 1it [00:00, 499.74it/s]\n"
     ]
    },
    {
     "name": "stdout",
     "output_type": "stream",
     "text": [
      "447\n",
      "tensor(0.1744) tensor(0.8256)\n",
      "---------------------------------------------------------------\n",
      "Given the query \"Identify instances in which weather was a main or contributing factor in the loss of a ship at sea.\" and its top two search results \"Document 1:  Lauritzen Holding reported a net loss of DKr198m for the first half of the year, while FLS Industries reported an increase in net profits to DKr176m. Codan, Denmark's biggest non-life insurance group, recorded a net loss of DKr146m in the same period, compared to a profit of DKr503m the previous year. Document 2:  Peter Weitermeyer, the CEO of J. Lauritzen Shipping, resigned abruptly yesterday. The company has been struggling financially due to the weak dollar and the EU's quota restrictions on banana imports from South America. Claus V. Ipsen, the former finance manager, has taken over from Mr Weitermeyer.\" , it can be inferred that the query is {\"mask\"}.\n"
     ]
    },
    {
     "name": "stderr",
     "output_type": "stream",
     "text": [
      "tokenizing: 1it [00:00, 548.63it/s]\n"
     ]
    },
    {
     "name": "stdout",
     "output_type": "stream",
     "text": [
      "448\n",
      "tensor(0.1999) tensor(0.8001)\n",
      "---------------------------------------------------------------\n",
      "Given the query \"What has caused the current ineffectiveness of antibiotics against infections and what is the prognosis for new drugs?\" and its top two search results \"Document 1:  Calgene conducted experiments to determine if APH(3 隆炉)II in fresh tomatoes could render orally-administered kanamycin ineffective. The results showed that APH(3 隆炉)II would be degraded before it could inactivate the antibiotics. The FDA evaluated the data and concluded that any active APH(3 隆炉)II would not significantly inactivate kanamycin or neomycin due to the small amount of ATP in fruits and vegetables. Therefore, the presence of alkaline phosphatase in food will not affect the therapeutic use of orally administered kanamycin or neomycin. Document 2:  Merck & Co, the world's largest pharmaceuticals group, has warned that European governments' efforts to cut drugs bills are ineffective and counter-productive. David Anstice, Merck's senior vice-president for European human health, suggested that savings could be made in distribution and dispensing, and that structural changes were required in healthcare delivery in order to control health spending more effectively.\" , it can be inferred that the query is {\"mask\"}.\n"
     ]
    },
    {
     "name": "stderr",
     "output_type": "stream",
     "text": [
      "tokenizing: 1it [00:00, 999.83it/s]\n"
     ]
    },
    {
     "name": "stdout",
     "output_type": "stream",
     "text": [
      "449\n",
      "tensor(0.0880) tensor(0.9120)\n",
      "---------------------------------------------------------------\n",
      "Given the query \"How significant a figure over the years was the late Jordanian King Hussein in furthering peace in the Middle East?\" and its top two search results \"Document 1:  King Hussein of Jordan expresses his frustration and fears for the Middle East peace process, citing the lack of unity among Arab nations and the failure to coordinate with Israel. He expresses his disappointment at the opportunities missed and foreboding about the future, and his reluctance to sign a separate peace deal with Israel. He will travel to Washington to meet with President Bill Clinton and receive the results of a medical test, but is unable to summon much optimism about the health of the Arab world's body politic. Relations with Egypt remain cool and the king was snubbed by King Fahd during a recent trip to Saudi Arabia, though the favour of western allies is returning slowly. Document 2:  Palestinians in the West Bank and East Jerusalem held strikes and rallies in protest of the Israel-Jordan peace treaty, which recognizes Jordan's custodial role over Islamic sites in Jerusalem. The PLO and Hamas joined forces in the rare display of unity, while Israeli troops dispersed stone-throwers. Palestinians are outraged at the treaty and have appealed to the UN for support to overturn the parts of the treaty relating to Jerusalem. The Financial Times London reported on the deal between Jordan and Israel that could lead to Israeli domination in the Middle East.\" , it can be inferred that the query is {\"mask\"}.\n"
     ]
    },
    {
     "name": "stderr",
     "output_type": "stream",
     "text": [
      "tokenizing: 1it [00:00, 499.74it/s]\n"
     ]
    },
    {
     "name": "stdout",
     "output_type": "stream",
     "text": [
      "450\n",
      "tensor(0.4287) tensor(0.5713)\n"
     ]
    }
   ],
   "source": [
    "from openprompt.data_utils import InputExample\n",
    "from openprompt.plms import load_plm\n",
    "from openprompt.prompts import ManualTemplate\n",
    "from openprompt.prompts import ManualVerbalizer\n",
    "from openprompt import PromptForClassification\n",
    "from openprompt import PromptDataLoader\n",
    "from openprompt.plms.utils import TokenizerWrapper\n",
    "from collections import defaultdict\n",
    "import torch\n",
    "\n",
    "classes = [ \n",
    "    \"specific\",\n",
    "    \"generic\"\n",
    "]\n",
    "scores = defaultdict(float)\n",
    "\n",
    "plm, tokenizer, model_config, WrapperClass = load_plm(\"t5\",\"google/flan-t5-base\")\n",
    "#plm, tokenizer, model_config, WrapperClass = load_plm(\"albert\", \"albert-base-v2\")\n",
    "#plm, tokenizer, model_config, WrapperClass = load_plm(\"roberta\", \"roberta-base\")\n",
    "#plm, tokenizer, model_config, WrapperClass = load_plm(\"gpt2\", \"gpt2-large\")\n",
    "#plm, tokenizer, model_config, WrapperClass = load_plm(\"opt\", \"facebook/opt-iml-max-1.3b\")\n",
    "\n",
    "x=0\n",
    "for t in text_list:\n",
    "    print(\"---------------------------------------------------------------\")\n",
    "    print(t)\n",
    "    dataset = []\n",
    "    dataset.append(input_examples[x])\n",
    "    x = x + 1\n",
    "    promptTemplate = ManualTemplate(\n",
    "        text = t,\n",
    "        tokenizer = tokenizer,\n",
    "    )\n",
    "    promptVerbalizer = ManualVerbalizer(\n",
    "        classes = classes,\n",
    "        label_words = {\n",
    "            \"specific\":[\"specific\",\"precise\",\"exact\",\"well-formed\",\"clear\"],\n",
    "            \"generic\":[\"generic\",\"general\",\"common\",\"universal\",\"ambiguous\", \"ill-formed\", \"vague\"]\n",
    "        },\n",
    "        tokenizer = tokenizer,\n",
    "    )\n",
    "    promptModel = PromptForClassification(\n",
    "        template = promptTemplate,\n",
    "        plm = plm,\n",
    "        verbalizer = promptVerbalizer,\n",
    "    )\n",
    "    data_loader = PromptDataLoader(\n",
    "        dataset = dataset,\n",
    "        tokenizer = tokenizer,\n",
    "        template = promptTemplate,\n",
    "        tokenizer_wrapper_class=WrapperClass,\n",
    "        max_seq_length=512, decoder_max_length=3,batch_size=4,shuffle=False, teacher_forcing=False, predict_eos_token=False, truncate_method=\"tail\"\n",
    "    )\n",
    "    promptModel.eval()\n",
    "    with torch.no_grad():\n",
    "        for batch in data_loader:\n",
    "            logits = promptModel(batch)\n",
    "            preds = torch.argmax(logits, dim = -1)\n",
    "            probs = torch.softmax(logits, dim=-1)\n",
    "          \n",
    "        for i, prob in enumerate(probs):\n",
    "            # 获取query的id\n",
    "            query_id = batch.tgt_text[i]\n",
    "            print(query_id)\n",
    "\n",
    "            print(prob[classes.index('specific')],prob[classes.index('generic')])\n",
    "\n",
    "            # 根据模型的预测概率给query加分\n",
    "            scores[query_id] += prob[classes.index('specific')]\n",
    "            \n",
    "    \n"
   ]
  },
  {
   "cell_type": "code",
   "execution_count": 11,
   "id": "18c64103",
   "metadata": {},
   "outputs": [
    {
     "data": {
      "text/plain": [
       "defaultdict(float,\n",
       "            {'401': tensor(0.1318),\n",
       "             '402': tensor(0.1650),\n",
       "             '403': tensor(0.2084),\n",
       "             '404': tensor(0.2579),\n",
       "             '405': tensor(0.1318),\n",
       "             '406': tensor(0.0978),\n",
       "             '407': tensor(0.2358),\n",
       "             '408': tensor(0.2000),\n",
       "             '409': tensor(0.2518),\n",
       "             '410': tensor(0.1585),\n",
       "             '411': tensor(0.2154),\n",
       "             '412': tensor(0.1432),\n",
       "             '413': tensor(0.0841),\n",
       "             '414': tensor(0.1803),\n",
       "             '415': tensor(0.2231),\n",
       "             '416': tensor(0.3618),\n",
       "             '417': tensor(0.0755),\n",
       "             '418': tensor(0.2076),\n",
       "             '419': tensor(0.1450),\n",
       "             '420': tensor(0.1811),\n",
       "             '421': tensor(0.1142),\n",
       "             '422': tensor(0.2283),\n",
       "             '423': tensor(0.2475),\n",
       "             '424': tensor(0.1991),\n",
       "             '425': tensor(0.1039),\n",
       "             '426': tensor(0.1883),\n",
       "             '427': tensor(0.1901),\n",
       "             '428': tensor(0.1793),\n",
       "             '429': tensor(0.1486),\n",
       "             '430': tensor(0.1301),\n",
       "             '431': tensor(0.1606),\n",
       "             '432': tensor(0.2000),\n",
       "             '433': tensor(0.2058),\n",
       "             '434': tensor(0.1621),\n",
       "             '435': tensor(0.1795),\n",
       "             '436': tensor(0.1336),\n",
       "             '437': tensor(0.1328),\n",
       "             '438': tensor(0.1648),\n",
       "             '439': tensor(0.1239),\n",
       "             '440': tensor(0.1035),\n",
       "             '441': tensor(0.1651),\n",
       "             '442': tensor(0.1252),\n",
       "             '443': tensor(0.2202),\n",
       "             '444': tensor(0.1148),\n",
       "             '445': tensor(0.1338),\n",
       "             '446': tensor(0.1424),\n",
       "             '447': tensor(0.1744),\n",
       "             '448': tensor(0.1999),\n",
       "             '449': tensor(0.0880),\n",
       "             '450': tensor(0.4287)})"
      ]
     },
     "execution_count": 11,
     "metadata": {},
     "output_type": "execute_result"
    }
   ],
   "source": [
    "scores"
   ]
  },
  {
   "cell_type": "code",
   "execution_count": 12,
   "id": "f3dfe823",
   "metadata": {},
   "outputs": [],
   "source": [
    "sorted_queries = sorted(scores.items(), key=lambda item: item[1], reverse=True)\n"
   ]
  },
  {
   "cell_type": "code",
   "execution_count": null,
   "id": "ee771dda",
   "metadata": {},
   "outputs": [],
   "source": []
  },
  {
   "cell_type": "code",
   "execution_count": 13,
   "id": "0e919ed8",
   "metadata": {},
   "outputs": [
    {
     "data": {
      "text/plain": [
       "[('450', tensor(0.4287)),\n",
       " ('416', tensor(0.3618)),\n",
       " ('404', tensor(0.2579)),\n",
       " ('409', tensor(0.2518)),\n",
       " ('423', tensor(0.2475)),\n",
       " ('407', tensor(0.2358)),\n",
       " ('422', tensor(0.2283)),\n",
       " ('415', tensor(0.2231)),\n",
       " ('443', tensor(0.2202)),\n",
       " ('411', tensor(0.2154)),\n",
       " ('403', tensor(0.2084)),\n",
       " ('418', tensor(0.2076)),\n",
       " ('433', tensor(0.2058)),\n",
       " ('432', tensor(0.2000)),\n",
       " ('408', tensor(0.2000)),\n",
       " ('448', tensor(0.1999)),\n",
       " ('424', tensor(0.1991)),\n",
       " ('427', tensor(0.1901)),\n",
       " ('426', tensor(0.1883)),\n",
       " ('420', tensor(0.1811)),\n",
       " ('414', tensor(0.1803)),\n",
       " ('435', tensor(0.1795)),\n",
       " ('428', tensor(0.1793)),\n",
       " ('447', tensor(0.1744)),\n",
       " ('441', tensor(0.1651)),\n",
       " ('402', tensor(0.1650)),\n",
       " ('438', tensor(0.1648)),\n",
       " ('434', tensor(0.1621)),\n",
       " ('431', tensor(0.1606)),\n",
       " ('410', tensor(0.1585)),\n",
       " ('429', tensor(0.1486)),\n",
       " ('419', tensor(0.1450)),\n",
       " ('412', tensor(0.1432)),\n",
       " ('446', tensor(0.1424)),\n",
       " ('445', tensor(0.1338)),\n",
       " ('436', tensor(0.1336)),\n",
       " ('437', tensor(0.1328)),\n",
       " ('405', tensor(0.1318)),\n",
       " ('401', tensor(0.1318)),\n",
       " ('430', tensor(0.1301)),\n",
       " ('442', tensor(0.1252)),\n",
       " ('439', tensor(0.1239)),\n",
       " ('444', tensor(0.1148)),\n",
       " ('421', tensor(0.1142)),\n",
       " ('425', tensor(0.1039)),\n",
       " ('440', tensor(0.1035)),\n",
       " ('406', tensor(0.0978)),\n",
       " ('449', tensor(0.0880)),\n",
       " ('413', tensor(0.0841)),\n",
       " ('417', tensor(0.0755))]"
      ]
     },
     "execution_count": 13,
     "metadata": {},
     "output_type": "execute_result"
    }
   ],
   "source": [
    "sorted_queries "
   ]
  },
  {
   "cell_type": "code",
   "execution_count": 14,
   "id": "72748a20",
   "metadata": {},
   "outputs": [],
   "source": [
    "query_dict = dict(sorted_queries)"
   ]
  },
  {
   "cell_type": "code",
   "execution_count": 15,
   "id": "a8b99fea",
   "metadata": {},
   "outputs": [],
   "source": [
    "query_dict = {k: v.item() for k, v in query_dict.items()}"
   ]
  },
  {
   "cell_type": "code",
   "execution_count": 16,
   "id": "d0074ea0",
   "metadata": {},
   "outputs": [
    {
     "data": {
      "text/plain": [
       "{'450': 0.4287034273147583,\n",
       " '416': 0.36184513568878174,\n",
       " '404': 0.25793835520744324,\n",
       " '409': 0.2518233060836792,\n",
       " '423': 0.24748799204826355,\n",
       " '407': 0.23584604263305664,\n",
       " '422': 0.22828592360019684,\n",
       " '415': 0.22306105494499207,\n",
       " '443': 0.22021852433681488,\n",
       " '411': 0.21540206670761108,\n",
       " '403': 0.20841513574123383,\n",
       " '418': 0.20759256184101105,\n",
       " '433': 0.2057809829711914,\n",
       " '432': 0.20003096759319305,\n",
       " '408': 0.2000299096107483,\n",
       " '448': 0.1999407261610031,\n",
       " '424': 0.19910505414009094,\n",
       " '427': 0.1900556981563568,\n",
       " '426': 0.18832719326019287,\n",
       " '420': 0.1810791790485382,\n",
       " '414': 0.18027493357658386,\n",
       " '435': 0.17954571545124054,\n",
       " '428': 0.1793217658996582,\n",
       " '447': 0.17437800765037537,\n",
       " '441': 0.1650732010602951,\n",
       " '402': 0.16503463685512543,\n",
       " '438': 0.16477301716804504,\n",
       " '434': 0.16207660734653473,\n",
       " '431': 0.16060727834701538,\n",
       " '410': 0.15852242708206177,\n",
       " '429': 0.14855147898197174,\n",
       " '419': 0.14499732851982117,\n",
       " '412': 0.14319583773612976,\n",
       " '446': 0.14235107600688934,\n",
       " '445': 0.13377635180950165,\n",
       " '436': 0.13358725607395172,\n",
       " '437': 0.1328214854001999,\n",
       " '405': 0.1318036913871765,\n",
       " '401': 0.13175809383392334,\n",
       " '430': 0.13007968664169312,\n",
       " '442': 0.12522251904010773,\n",
       " '439': 0.12394565343856812,\n",
       " '444': 0.11484308540821075,\n",
       " '421': 0.11416780948638916,\n",
       " '425': 0.10392211377620697,\n",
       " '440': 0.1035144031047821,\n",
       " '406': 0.09776131808757782,\n",
       " '449': 0.0879792720079422,\n",
       " '413': 0.0841006487607956,\n",
       " '417': 0.0755418911576271}"
      ]
     },
     "execution_count": 16,
     "metadata": {},
     "output_type": "execute_result"
    }
   ],
   "source": [
    "query_dict"
   ]
  },
  {
   "cell_type": "code",
   "execution_count": 17,
   "id": "ac39a96a",
   "metadata": {},
   "outputs": [],
   "source": [
    "with open('401-450gt.txt', 'r') as f:\n",
    "    gt = dict(line.strip().split() for line in f)\n",
    "\n",
    "with open('401-450nqc.txt', 'r') as f:\n",
    "    nqc = dict(line.strip().split() for line in f)\n",
    "\n",
    "query_scores = list(query_dict.values())\n",
    "#gtscores = [float(gt[key]) for key in query_dict.keys()]\n",
    "#nqcscores = [float(nqc[key]) for key in query_dict.keys()]\n"
   ]
  },
  {
   "cell_type": "code",
   "execution_count": 18,
   "id": "702f355e",
   "metadata": {},
   "outputs": [],
   "source": [
    "keys = query_dict.keys()\n",
    "gtscores = [float(gt[key]) for key in keys]\n",
    "nqcscores = [float(nqc[key]) for key in keys]\n"
   ]
  },
  {
   "cell_type": "code",
   "execution_count": 19,
   "id": "e05980ce",
   "metadata": {},
   "outputs": [
    {
     "data": {
      "text/plain": [
       "dict_keys(['450', '416', '404', '409', '423', '407', '422', '415', '443', '411', '403', '418', '433', '432', '408', '448', '424', '427', '426', '420', '414', '435', '428', '447', '441', '402', '438', '434', '431', '410', '429', '419', '412', '446', '445', '436', '437', '405', '401', '430', '442', '439', '444', '421', '425', '440', '406', '449', '413', '417'])"
      ]
     },
     "execution_count": 19,
     "metadata": {},
     "output_type": "execute_result"
    }
   ],
   "source": [
    "keys"
   ]
  },
  {
   "cell_type": "code",
   "execution_count": null,
   "id": "b19789ff",
   "metadata": {},
   "outputs": [],
   "source": []
  },
  {
   "cell_type": "code",
   "execution_count": 20,
   "id": "e64b8b8e",
   "metadata": {},
   "outputs": [],
   "source": [
    "with open('flant5_point_post2.txt', 'w', encoding='utf-8') as f:\n",
    "    for key in query_dict.keys():\n",
    "        f.write(f'{key}\\t{query_dict[key]}\\t{nqc[key]}\\t{gt[key]}\\n')\n"
   ]
  },
  {
   "cell_type": "code",
   "execution_count": 21,
   "id": "944c2967",
   "metadata": {},
   "outputs": [
    {
     "data": {
      "text/plain": [
       "[13.707488059997559,\n",
       " -14.283669471740723,\n",
       " 3.8539679050445557,\n",
       " 9.889849662780762,\n",
       " 31.011184692382812,\n",
       " 7.814405918121338,\n",
       " 3.7995567321777344,\n",
       " 14.683598518371582,\n",
       " 0.7333466410636902,\n",
       " 8.253385543823242,\n",
       " 45.91432189941406,\n",
       " 2.5999250411987305,\n",
       " 1.462353229522705,\n",
       " 3.6750802993774414,\n",
       " 6.774903774261475,\n",
       " 0.9927824139595032,\n",
       " 1.8052459955215454,\n",
       " 13.625859260559082,\n",
       " 1.6846462488174438,\n",
       " 20.67823600769043,\n",
       " -8.841760635375977,\n",
       " 1.9212779998779297,\n",
       " 4.180014610290527,\n",
       " 4.2269487380981445,\n",
       " 8.429100036621094,\n",
       " 2.892881155014038,\n",
       " 2.7874035835266113,\n",
       " 1.5539339780807495,\n",
       " -6.610340118408203,\n",
       " 9.120701789855957,\n",
       " 8.541165351867676,\n",
       " 3.981992721557617,\n",
       " -0.05628133937716484,\n",
       " 2.6592535972595215,\n",
       " 11.008926391601562,\n",
       " 2.1707212924957275,\n",
       " 2.51373553276062,\n",
       " 8.07620906829834,\n",
       " 0.5529524683952332,\n",
       " 11.102095603942871,\n",
       " 2.685452461242676,\n",
       " 4.02252721786499,\n",
       " 11.117552757263184,\n",
       " 1.7216060161590576,\n",
       " -12.099804878234863,\n",
       " 1.0883139371871948,\n",
       " 8.005461692810059,\n",
       " 7.3450188636779785,\n",
       " 0.6664474010467529,\n",
       " 1.1843476295471191]"
      ]
     },
     "execution_count": 21,
     "metadata": {},
     "output_type": "execute_result"
    }
   ],
   "source": [
    "nqcscores"
   ]
  },
  {
   "cell_type": "code",
   "execution_count": 24,
   "id": "9bbe3da6",
   "metadata": {},
   "outputs": [
    {
     "name": "stdout",
     "output_type": "stream",
     "text": [
      "PearsonRResult(statistic=0.08046093453046868, pvalue=0.5785825498021564)\n",
      "PearsonRResult(statistic=0.362217280059528, pvalue=0.009740338185571466)\n"
     ]
    }
   ],
   "source": [
    "from scipy.stats import pearsonr\n",
    "p1 = pearsonr(query_scores, gtscores)\n",
    "p2 = pearsonr(nqcscores, gtscores)\n",
    "print(p1)\n",
    "print(p2)"
   ]
  },
  {
   "cell_type": "code",
   "execution_count": 25,
   "id": "acb0f344",
   "metadata": {},
   "outputs": [
    {
     "name": "stdout",
     "output_type": "stream",
     "text": [
      "SignificanceResult(statistic=0.10040816326530612, pvalue=0.303537240020898)\n",
      "SignificanceResult(statistic=0.23265306122448978, pvalue=0.01712632537811409)\n"
     ]
    }
   ],
   "source": [
    "from scipy.stats import kendalltau\n",
    "k1 = kendalltau(query_scores, gtscores)\n",
    "k2 = kendalltau(nqcscores, gtscores)\n",
    "print(k1)\n",
    "print(k2)"
   ]
  },
  {
   "cell_type": "code",
   "execution_count": null,
   "id": "f99019fc",
   "metadata": {},
   "outputs": [],
   "source": [
    "\n",
    "\n"
   ]
  },
  {
   "cell_type": "code",
   "execution_count": null,
   "id": "f34e7f04",
   "metadata": {},
   "outputs": [],
   "source": []
  },
  {
   "cell_type": "code",
   "execution_count": null,
   "id": "08df02b1",
   "metadata": {},
   "outputs": [],
   "source": []
  }
 ],
 "metadata": {
  "kernelspec": {
   "display_name": "Python 3 (ipykernel)",
   "language": "python",
   "name": "python3"
  },
  "language_info": {
   "codemirror_mode": {
    "name": "ipython",
    "version": 3
   },
   "file_extension": ".py",
   "mimetype": "text/x-python",
   "name": "python",
   "nbconvert_exporter": "python",
   "pygments_lexer": "ipython3",
   "version": "3.9.17"
  }
 },
 "nbformat": 4,
 "nbformat_minor": 5
}
