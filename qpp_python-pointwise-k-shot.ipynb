{
 "cells": [
  {
   "cell_type": "code",
   "execution_count": 1,
   "id": "a0076c71",
   "metadata": {},
   "outputs": [],
   "source": [
    "#pip install openprompt"
   ]
  },
  {
   "cell_type": "code",
   "execution_count": null,
   "id": "d12355f4",
   "metadata": {},
   "outputs": [],
   "source": [
    "#401-450d1000.txt: https://drive.google.com/file/d/1lY6JGPtMy72rPRX5a0ieXBY7T334Mn1X/view?usp=sharing"
   ]
  },
  {
   "cell_type": "code",
   "execution_count": 2,
   "id": "30e07ff3",
   "metadata": {},
   "outputs": [],
   "source": [
    "# import csv\n",
    "# csv.field_size_limit(1410720)\n",
    "\n",
    "#Initialize Dictionary\n",
    "# trec_dict = {}\n",
    "# q_dict = {}\n",
    "# query_id_counts = {}\n",
    "\n",
    "\n",
    "## Reading data from trec.txt\n",
    "\n",
    "# with open('401-450.txt', 'r') as f:\n",
    "#     reader = csv.reader(f, delimiter='\\t')\n",
    "#     for row in reader:\n",
    "#         query_id = row[0]  # queryid\n",
    "#         query_content = row[1]  # query content\n",
    "#         trec_dict[query_id] = query_content\n",
    "\n",
    "# # Reading data from lmdir.txt\n",
    "# with open('401-450d1000.txt', 'r') as f:\n",
    "#     reader = csv.reader(f, delimiter='\\t')\n",
    "#     for row in reader:\n",
    "#         query_id = row[0]  # queryid\n",
    "#         doc_content = row[6]  # document content\n",
    "#         \n",
    "#         if query_id_counts.get(query_id, 0) >= 5:\n",
    "#             continue\n",
    "        \n",
    "        \n",
    "\n",
    "#         key = query_id + '\\t' + trec_dict.get(query_id, '')\n",
    "#         i = len(q_dict.get(key, []))+1\n",
    "#         doc_content = f'Document {i} : {doc_content}'\n",
    "        \n",
    "#         if key in q_dict:\n",
    "#             q_dict[key].append(doc_content)\n",
    "#         else:\n",
    "#             q_dict[key] = []\n",
    "#             q_dict[key].append(doc_content)\n",
    "            \n",
    "#         query_id_counts[query_id] = query_id_counts.get(query_id, 0) + 1\n",
    "\n",
    "\n",
    "\n",
    "# for query_id in list(q_dict.keys())[:1]:\n",
    "#     print(\"Query :\", query_id)\n",
    "#     print(\"Document Contents:\", q_dict[query_id])\n"
   ]
  },
  {
   "cell_type": "code",
   "execution_count": 3,
   "id": "d453e10c",
   "metadata": {},
   "outputs": [],
   "source": [
    "# q_dict['264014\thow long is life cycle of flea']\n",
    "# type(q_dict)"
   ]
  },
  {
   "cell_type": "code",
   "execution_count": 4,
   "id": "ef0a466b",
   "metadata": {},
   "outputs": [],
   "source": [
    "# from langchain.llms import OpenAI\n",
    "# from langchain.chains.summarize import load_summarize_chain\n",
    "# from langchain.chains import AnalyzeDocumentChain\n",
    "\n",
    "# llm = OpenAI(openai_api_key=\"\",temperature=0)\n",
    "\n",
    "\n",
    "# def summarize_doc(doc):\n",
    "\n",
    "#     chain = load_summarize_chain(llm, chain_type=\"map_reduce\")\n",
    "\n",
    "#     summarize_document_chain = AnalyzeDocumentChain(combine_docs_chain=chain)\n",
    "\n",
    "#     processed_doc = summarize_document_chain.run(doc)\n",
    "      \n",
    "#     return processed_doc\n",
    "\n",
    "\n",
    "# for key, value in q_dict.items():\n",
    "#     new_value = []\n",
    "#     for doc in value:\n",
    "#         new_value.append(summarize_doc(doc))\n",
    "#     q_dict[key] = new_value\n"
   ]
  },
  {
   "cell_type": "code",
   "execution_count": 5,
   "id": "934342cc",
   "metadata": {},
   "outputs": [],
   "source": [
    "# def read_scores(file_name):\n",
    "#     scores = {}\n",
    "#     with open(file_name, 'r') as file:\n",
    "#         for line in file:\n",
    "#             query_id, score = line.strip().split('\\t')\n",
    "#             scores[query_id] = float(score)\n",
    "#     return scores\n",
    "\n",
    "# def read_queries(file_name, scores):\n",
    "#     queries = []\n",
    "#     with open(file_name, 'r') as file:\n",
    "#         for line in file:\n",
    "#             parts = line.strip().split('\\t')\n",
    "#             if len(parts) < 2:\n",
    "#                 continue  # skip lines with insufficient data\n",
    "#             query_id, query_content = parts[0], parts[1]\n",
    "#             score = scores.get(query_id, None)\n",
    "#             if score is not None:\n",
    "#                 queries.append((query_id, query_content, score))\n",
    "#     return queries\n",
    "\n",
    "# def write_output(queries):\n",
    "#     queries = sorted(queries, key=lambda x: x[2], reverse=True)\n",
    "\n",
    "#     with open('squery.txt', 'w') as file:\n",
    "#         for query in queries[:100]:\n",
    "#             file.write('\\t'.join(map(str, query)) + '\\n')\n",
    "    \n",
    "#     with open('gquery.txt', 'w') as file:\n",
    "#         for query in queries[100:]:\n",
    "#             file.write('\\t'.join(map(str, query)) + '\\n')\n",
    "\n",
    "\n",
    "# scores = read_scores('traingt.txt')\n",
    "# queries = read_queries('train.txt', scores)\n",
    "# write_output(queries)\n",
    "\n",
    "\n"
   ]
  },
  {
   "cell_type": "code",
   "execution_count": 6,
   "id": "1c96249c",
   "metadata": {},
   "outputs": [],
   "source": [
    "# import ast\n",
    "\n",
    "\n",
    "\n",
    "# with open(\"q_dict401-450.txt\", \"r\") as file:\n",
    "#     new_dict = ast.literal_eval(file.read())\n",
    "\n",
    "# for key in list(new_dict.keys()):\n",
    "#     query_id, _ = key.split('\\t')\n",
    "\n",
    "#     corrected_key = next((k for k in q_dict if k.startswith(query_id + '\\t')), None)\n",
    "\n",
    "#     if corrected_key:\n",
    "#         new_dict[corrected_key] = new_dict.pop(key)\n",
    "\n",
    "# print(new_dict)\n"
   ]
  },
  {
   "cell_type": "code",
   "execution_count": 7,
   "id": "503d72c9",
   "metadata": {},
   "outputs": [],
   "source": [
    "# with open(\"corrected_q_dict401-450.txt\", \"w\", encoding=\"utf-8\") as file:\n",
    "#     file.write(str(new_dict))\n"
   ]
  },
  {
   "cell_type": "code",
   "execution_count": 8,
   "id": "d73f83d5",
   "metadata": {},
   "outputs": [],
   "source": [
    "# [' Foreign Minister Klaus Kinkel believes the minority blocking vote in the European Union Council of Ministers is being overestimated and that the principle of unanimity and qualified majority vote are more important. He also rejects criticism from the CSU-led Bavarian Government that German interests are not being represented. He believes Germany is being viewed critically due to its past, but there is no reason to be overly cautious.',\n",
    "#  ' Ilan Mor, spokesman of the Israeli Embassy in Bonn, expresses his concern over the attack on a synagogue in Luebeck, Germany and believes that anti-Semitism exists in the country. He mentions an opinion poll which showed that 22% of people do not want a Jewish neighbor and emphasizes that Israel is closely monitoring events in Germany due to the events of 1933 and 1945.',\n",
    "#  ' German Chancellor Helmut Kohl is in a confrontation with Turkey over arms shipments, which must be used for defense within the NATO alliance. Hans-Ulrich Klose criticized Kohl for allowing the row to get out of hand. Meanwhile, the number of foreigners seeking political asylum in Germany has reached a record high of 35,000, with refugees from Yugoslavia, Romania, and Turkey making up the majority. In response to unrest in the Kurdish area, Turkey is introducing economic reforms to address the Kurdish problem.',\n",
    "#  ' The UK and Spain are seeking a legally binding protocol from Germany to give countries with 23-27 votes an automatic right to delay decisions, which could delay the entry of four new countries into the European Union. Greece has criticized the UK\\'s stance as \"blackmail of a tiny minority\".',\n",
    "#  ' German Foreign Minister Klaus Kinkel spoke to the Bundestag in support of Russian President Yeltsin and the need for Russia to be integrated into the world economy. He also called for increased cultural exchange between European countries, with a focus on German language, and for more funds to be allocated to this purpose. He asked the Bundestag to provide the necessary support.']\n"
   ]
  },
  {
   "cell_type": "code",
   "execution_count": 9,
   "id": "c235eb3c",
   "metadata": {},
   "outputs": [],
   "source": [
    "import json\n",
    "import ast\n",
    "\n",
    "with open(\"q_dict401-450.txt\", \"r\", encoding=\"utf-8\") as file:\n",
    "    q_dict = ast.literal_eval(file.read())\n",
    "\n"
   ]
  },
  {
   "cell_type": "code",
   "execution_count": 10,
   "id": "d287007f",
   "metadata": {},
   "outputs": [
    {
     "data": {
      "text/plain": [
       "[' Foreign Minister Klaus Kinkel believes the minority blocking vote in the European Union Council of Ministers is being overestimated and that the principle of unanimity and qualified majority vote are more important. He also rejects criticism from the CSU-led Bavarian Government that German interests are not being represented. He believes Germany is being viewed critically due to its past, but there is no reason to be overly cautious.',\n",
       " ' Ilan Mor, spokesman of the Israeli Embassy in Bonn, expresses his concern over the attack on a synagogue in Luebeck, Germany and believes that anti-Semitism exists in the country. He mentions an opinion poll which showed that 22% of people do not want a Jewish neighbor and emphasizes that Israel is closely monitoring events in Germany due to the events of 1933 and 1945.',\n",
       " ' German Chancellor Helmut Kohl is in a confrontation with Turkey over arms shipments, which must be used for defense within the NATO alliance. Hans-Ulrich Klose criticized Kohl for allowing the row to get out of hand. Meanwhile, the number of foreigners seeking political asylum in Germany has reached a record high of 35,000, with refugees from Yugoslavia, Romania, and Turkey making up the majority. In response to unrest in the Kurdish area, Turkey is introducing economic reforms to address the Kurdish problem.',\n",
       " ' The UK and Spain are seeking a legally binding protocol from Germany to give countries with 23-27 votes an automatic right to delay decisions, which could delay the entry of four new countries into the European Union. Greece has criticized the UK\\'s stance as \"blackmail of a tiny minority\".',\n",
       " ' German Foreign Minister Klaus Kinkel spoke to the Bundestag in support of Russian President Yeltsin and the need for Russia to be integrated into the world economy. He also called for increased cultural exchange between European countries, with a focus on German language, and for more funds to be allocated to this purpose. He asked the Bundestag to provide the necessary support.']"
      ]
     },
     "execution_count": 10,
     "metadata": {},
     "output_type": "execute_result"
    }
   ],
   "source": [
    "q_dict['401\tWhat language and cultural differences impede the integration of foreign minorities in Germany?']"
   ]
  },
  {
   "cell_type": "code",
   "execution_count": 11,
   "id": "c01b5617",
   "metadata": {},
   "outputs": [],
   "source": [
    "import itertools\n",
    "from openprompt.data_utils import InputExample\n",
    "\n",
    "input_examples = []\n",
    "\n",
    "for query_id_content in q_dict.keys():\n",
    "    query_id, query = query_id_content.split('\\t', 1)\n",
    "    documents = q_dict[query_id_content]\n",
    "    \n",
    "    # InputExample\n",
    "    input_example = InputExample(\n",
    "        guid= len(input_examples),\n",
    "        label= None,\n",
    "        meta= {\n",
    "            \"queryid\": query_id,\n",
    "            \"query\": query,\n",
    "            \"documents\": documents,\n",
    "            #\"querybid\": queryb_id,\n",
    "            #\"queryb\": queryb,\n",
    "            #\"documentsb\": documentsb\n",
    "        },\n",
    "        text_a= \"\",\n",
    "        text_b= \"\",\n",
    "        tgt_text= query_id\n",
    "    )\n",
    "    \n",
    "    input_examples.append(input_example)\n"
   ]
  },
  {
   "cell_type": "code",
   "execution_count": 12,
   "id": "68bf8dce",
   "metadata": {},
   "outputs": [
    {
     "name": "stdout",
     "output_type": "stream",
     "text": [
      "{\n",
      "  \"guid\": 2,\n",
      "  \"label\": null,\n",
      "  \"meta\": {\n",
      "    \"documents\": [\n",
      "      \" A new study has found that the drug etidronate, used to treat Paget's disease and a bone disorder in cancer patients, can halve the rate of vertebral fractures in women with osteoporosis. The drug is sold under the brand name Didronel and the manufacturer is applying to the FDA for approval to use the drug to treat osteoporosis. The study also found that the drug increased spinal bone density by an average of 4-5%. Further studies are needed to explore the drug's long-term effects and to compare its effectiveness to other osteoporosis treatments.\",\n",
      "      \" Australian researchers have found that daughters of women with osteoporosis are more likely to develop the disease than those whose mothers do not have it, suggesting that genetics may be a factor in its development. The study compared 32 women with mothers who had osteoporosis to 22 women with mothers who did not, and found that the former had thinner bones.\",\n",
      "      \" This document explains the relationship between calcium intake and osteoporosis, and outlines the process for filing a claim and the hearing process. It emphasizes the importance of adequate calcium intake throughout life for reducing the risk of osteoporosis, particularly for adolescent and young adult Caucasian and Asian American women. It also states that other factors, such as sex, race, age, exercise, and diet, are important for reducing the risk of osteoporosis.\",\n",
      "      \" This document outlines the process for submitting a health claim to the FSIS and the regulations that must be followed if the claim is approved or denied. It also explains the relationship between calcium and osteoporosis, and the significance of calcium intake in reducing the risk of developing the disease. Additionally, it mentions other risk factors such as sex, race, hormonal status, family history, body stature, level of exercise, general diet, and lifestyle choices. A health claim associating calcium with reduced risk of osteoporosis may be made on the label or labeling of a poultry product, but must make clear that adequate calcium intake is not the only risk factor.\",\n",
      "      \"\\nResearchers have found that an experimental treatment involving slow-release sodium fluoride and calcium supplements can help strengthen the backbones of women with spinal fractures due to osteoporosis. This treatment has been found to increase spinal bone by 3-6% a year and decrease the frequency of spinal fractures, but it is not effective for fractures of the hip or other long bones.\"\n",
      "    ],\n",
      "    \"query\": \"Find information on the effects of the dietary intakes of potassium, magnesium and fruits and vegetables as determinants of bone mineral density in elderly men and women thus preventing osteoporosis (bone decay).\",\n",
      "    \"queryid\": \"403\"\n",
      "  },\n",
      "  \"text_a\": \"\",\n",
      "  \"text_b\": \"\",\n",
      "  \"tgt_text\": \"403\"\n",
      "}\n",
      "\n"
     ]
    }
   ],
   "source": [
    "print(input_examples[2])"
   ]
  },
  {
   "cell_type": "code",
   "execution_count": 13,
   "id": "728e1fd4",
   "metadata": {},
   "outputs": [],
   "source": [
    "for example in input_examples:\n",
    "    #example.meta['documents'] = example.meta['documents'][0:2]\n",
    "    example.meta['documents'] = \"\""
   ]
  },
  {
   "cell_type": "code",
   "execution_count": 14,
   "id": "60e63128",
   "metadata": {},
   "outputs": [],
   "source": [
    "for example in input_examples:\n",
    "    documents = example.meta['documents']\n",
    "    documents = [f'Document {i+1}: {doc}' for i, doc in enumerate(documents)]\n",
    "    example.meta['documents'] = ' '.join(documents)"
   ]
  },
  {
   "cell_type": "code",
   "execution_count": 15,
   "id": "9221b49b",
   "metadata": {},
   "outputs": [
    {
     "data": {
      "text/plain": [
       "{\n",
       "  \"guid\": 2,\n",
       "  \"label\": null,\n",
       "  \"meta\": {\n",
       "    \"documents\": \"\",\n",
       "    \"query\": \"Find information on the effects of the dietary intakes of potassium, magnesium and fruits and vegetables as determinants of bone mineral density in elderly men and women thus preventing osteoporosis (bone decay).\",\n",
       "    \"queryid\": \"403\"\n",
       "  },\n",
       "  \"text_a\": \"\",\n",
       "  \"text_b\": \"\",\n",
       "  \"tgt_text\": \"403\"\n",
       "}"
      ]
     },
     "execution_count": 15,
     "metadata": {},
     "output_type": "execute_result"
    }
   ],
   "source": [
    "input_examples[2]"
   ]
  },
  {
   "cell_type": "code",
   "execution_count": 16,
   "id": "00c57b37",
   "metadata": {},
   "outputs": [],
   "source": [
    "import random\n",
    "\n",
    "def random_query_from_file(file_name, count=2):\n",
    "    with open(file_name, 'r') as file:\n",
    "        queries = [line.strip().split('\\t')[1] for line in file]  # extract query content\n",
    "    return random.sample(queries, count)\n",
    "\n"
   ]
  },
  {
   "cell_type": "code",
   "execution_count": 17,
   "id": "01a8bffb",
   "metadata": {},
   "outputs": [],
   "source": [
    "\n",
    "\n",
    "# s_queries = random_queries_from_file('squery.txt')\n",
    "# g_queries = random_queries_from_file('gquery.txt')\n",
    "\n",
    "\n",
    "# s_text = \"\\n\".join([f\"Query{i+1}: {s_queries[i]}\" for i in range(len(s_queries))])\n",
    "# g_text = \"\\n\".join([f\"Query{i+1}: {g_queries[i]}\" for i in range(len(g_queries))])\n",
    "\n",
    "\n",
    "# result = f\"These are two specific queries:\\n{s_text}\\nThese are two generic queries:\\n{g_text}\\nPlease answer the question below.\\n\"\n",
    "# print(result)\n",
    "\n"
   ]
  },
  {
   "cell_type": "code",
   "execution_count": 18,
   "id": "50c709c4",
   "metadata": {},
   "outputs": [],
   "source": [
    "\n",
    "text_list = []\n",
    "for example in input_examples:\n",
    "    s_queries = random_query_from_file('squery.txt', 4)\n",
    "    g_queries = random_query_from_file('gquery.txt', 4)\n",
    "\n",
    "    \n",
    "    result1 = f'Query \"{s_queries[0]}\" is specific\\n'\n",
    "    result2 = f'Query \"{s_queries[1]}\" is specific\\n'\n",
    "    result3 = f'Query \"{s_queries[2]}\" is specific\\n'\n",
    "    result4 = f'Query \"{s_queries[3]}\" is specific\\n'\n",
    "    result5 = f'Query \"{g_queries[0]}\" is generic\\n'\n",
    "    result6 = f'Query \"{g_queries[1]}\" is generic\\n'\n",
    "    result7 = f'Query \"{g_queries[2]}\" is generic\\n'\n",
    "    result8 = f'Query \"{g_queries[3]}\" is generic\\n'\n",
    "    \n",
    "    #text = 'Given the following two queries: the first query is \\\"' + example.meta['querya'] + '\\\", and the second query is \\\"' + example.meta['queryb'] + '\\\". Compared to the first query, the second query is more {\"mask\"}.'\n",
    "    #text = 'Given the following two queries and their respective top one document----the first query is \\\"' + example.meta['querya'] + '\\\" with its top one search result as \\\"' + example.meta['documentsa'] + '\\\", and the second query is \\\"' + example.meta['queryb'] + '\\\" with its top one search result as \\\"' + example.meta['documentsb'] + '\\\". Compared to the first query, the second query is more {\"mask\"}.'\n",
    "    text = 'Query \\\"'+  example.meta['query'] + '\\\" is {\"mask\"}.' \n",
    "    #text = 'Given the query \\\"'+  example.meta['query'] + '\\\" and its top two search results \\\"'+  example.meta['documents'] + '\\\" , it can be inferred that the query is {\"mask\"}.'\n",
    "    text = result1+result2+result3+result4+result5+result6+result7+result8+text\n",
    "    text_list.append(text)\n"
   ]
  },
  {
   "cell_type": "code",
   "execution_count": 19,
   "id": "10de6805",
   "metadata": {},
   "outputs": [
    {
     "name": "stdout",
     "output_type": "stream",
     "text": [
      "Query \"Determine the reasons why bacteria seems to be winning the war against antibiotics and rendering antibiotics now less effective in treating diseases than they were in the past.\" is specific\n",
      "Query \"What are the objections to the practice of \"clear-cutting\"?\" is specific\n",
      "Query \"Identify documents discussing international boundary disputes relevant to the 200-mile special economic zones or 12-mile territorial waters subsequent to the passing of the \"International Convention on the Law of the Sea\".\" is specific\n",
      "Query \"What are the arguments for and against doctor assisted suicide in the U.S.?\" is specific\n",
      "Query \"What is the status of research on hydrogen as a feasible energy source?\" is generic\n",
      "Query \"Identify positive accomplishments of the Hubble telescope since it was launched in 1991.\" is generic\n",
      "Query \"Identify companies or corporations that have been accused or indicted of price fixing including the product or type of product involved.\" is generic\n",
      "Query \"Identify documents that discuss mercy killings.\" is generic\n",
      "Query \"What is happening in the field of behavioral genetics, the study of the relative influence of genetic and environmental factors on an individual's behavior or personality?\" is {\"mask\"}.\n"
     ]
    }
   ],
   "source": [
    "print(text_list[1])"
   ]
  },
  {
   "cell_type": "code",
   "execution_count": null,
   "id": "afd74156",
   "metadata": {},
   "outputs": [],
   "source": []
  },
  {
   "cell_type": "code",
   "execution_count": null,
   "id": "dd4f403b",
   "metadata": {},
   "outputs": [],
   "source": []
  },
  {
   "cell_type": "markdown",
   "id": "49945394",
   "metadata": {},
   "source": [
    "\n"
   ]
  },
  {
   "cell_type": "code",
   "execution_count": 20,
   "id": "6f2e57f8",
   "metadata": {},
   "outputs": [
    {
     "name": "stderr",
     "output_type": "stream",
     "text": [
      "Using pad_token, but it is not set yet.\n"
     ]
    },
    {
     "name": "stdout",
     "output_type": "stream",
     "text": [
      "---------------------------------------------------------------\n",
      "Query \"What are the causes and treatments for melanoma?\" is specific\n",
      "Query \"What are the benefits, if any, of drug legalization?\" is specific\n",
      "Query \"What research has been done on viral hepatitis and what progress has been made in its treatment?\" is specific\n",
      "Query \"What is the relationship between poverty and disease?\" is specific\n",
      "Query \"Identify incidents of human smuggling.\" is generic\n",
      "Query \"Evidence that radio waves from radio towers or car phones affect brain cancer occurrence.\" is generic\n",
      "Query \"What is the incidence of violent attacks on abortion clinics and the doctors and staff of the clinics by anti-abortionists?\" is generic\n",
      "Query \"Find information about the first genetically modified food product to go on the market, Flavr Savr (also Flavor Saver) Tomato developed by Calgene.\" is generic\n",
      "Query \"What language and cultural differences impede the integration of foreign minorities in Germany?\" is {\"mask\"}.\n"
     ]
    },
    {
     "name": "stderr",
     "output_type": "stream",
     "text": [
      "tokenizing: 1it [00:00, 199.98it/s]\n"
     ]
    },
    {
     "name": "stdout",
     "output_type": "stream",
     "text": [
      "401\n",
      "tensor(0.1758) tensor(0.8242)\n",
      "---------------------------------------------------------------\n",
      "Query \"Determine the reasons why bacteria seems to be winning the war against antibiotics and rendering antibiotics now less effective in treating diseases than they were in the past.\" is specific\n",
      "Query \"What are the objections to the practice of \"clear-cutting\"?\" is specific\n",
      "Query \"Identify documents discussing international boundary disputes relevant to the 200-mile special economic zones or 12-mile territorial waters subsequent to the passing of the \"International Convention on the Law of the Sea\".\" is specific\n",
      "Query \"What are the arguments for and against doctor assisted suicide in the U.S.?\" is specific\n",
      "Query \"What is the status of research on hydrogen as a feasible energy source?\" is generic\n",
      "Query \"Identify positive accomplishments of the Hubble telescope since it was launched in 1991.\" is generic\n",
      "Query \"Identify companies or corporations that have been accused or indicted of price fixing including the product or type of product involved.\" is generic\n",
      "Query \"Identify documents that discuss mercy killings.\" is generic\n",
      "Query \"What is happening in the field of behavioral genetics, the study of the relative influence of genetic and environmental factors on an individual's behavior or personality?\" is {\"mask\"}.\n"
     ]
    },
    {
     "name": "stderr",
     "output_type": "stream",
     "text": [
      "tokenizing: 1it [00:00, 199.96it/s]\n"
     ]
    },
    {
     "name": "stdout",
     "output_type": "stream",
     "text": [
      "402\n",
      "tensor(0.3228) tensor(0.6772)\n",
      "---------------------------------------------------------------\n",
      "Query \"Find documents that discuss the increasing trend toward creation of unmarried-partner households in the U.S.\" is specific\n",
      "Query \"What are the negative impacts of Argentina's policy of pegging their peso to the U.S. dollar?\" is specific\n",
      "Query \"Identify documents that discuss clothing sweatshops.\" is specific\n",
      "Query \"Find information on poppy cultivation and export worldwide.\" is specific\n",
      "Query \"Identify documents that discuss medical treatment of obesity.\" is generic\n",
      "Query \"How many civilian non-combatants have been killed in the various civil wars in Africa?\" is generic\n",
      "Query \"A relevant document would discuss the frequency of vicious black bear attacks worldwide and the possible causes for this savage behavior.\" is generic\n",
      "Query \"Identify documents discussing the development and application of spaceborne ocean remote sensing.\" is generic\n",
      "Query \"Find information on the effects of the dietary intakes of potassium, magnesium and fruits and vegetables as determinants of bone mineral density in elderly men and women thus preventing osteoporosis (bone decay).\" is {\"mask\"}.\n"
     ]
    },
    {
     "name": "stderr",
     "output_type": "stream",
     "text": [
      "tokenizing: 1it [00:00, 249.96it/s]\n"
     ]
    },
    {
     "name": "stdout",
     "output_type": "stream",
     "text": [
      "403\n",
      "tensor(0.2919) tensor(0.7081)\n",
      "---------------------------------------------------------------\n",
      "Query \"What efforts are being made to stabilize the Leaning Tower of Pisa, and how successful have the efforts been?\" is specific\n",
      "Query \"Find documents that discuss the U.S. debate about the opening of sealed adoption records to adoptees.\" is specific\n",
      "Query \"Where are wind power installations located?\" is specific\n",
      "Query \"Find documents that describe the activities of ETA, the Basque terrorist organization, in Spain.\" is specific\n",
      "Query \"Identify documents that discuss mercy killings.\" is generic\n",
      "Query \"Find claims made by U.S. small businesses regarding the adverse impact on their businesses of raising the minimum wage.\" is generic\n",
      "Query \"What are the pros and cons of Great Britain's universal health care system?\" is generic\n",
      "Query \"Aside from the United States, which country offers the best living conditions and quality of life for a U.S. retiree?\" is generic\n",
      "Query \"How often were the peace talks in Ireland delayed or disrupted as a result of acts of violence?\" is {\"mask\"}.\n"
     ]
    },
    {
     "name": "stderr",
     "output_type": "stream",
     "text": [
      "tokenizing: 1it [00:00, 333.25it/s]\n"
     ]
    },
    {
     "name": "stdout",
     "output_type": "stream",
     "text": [
      "404\n",
      "tensor(0.2343) tensor(0.7657)\n",
      "---------------------------------------------------------------\n",
      "Query \"Identify and provide background information on Nobel prize winners.\" is specific\n",
      "Query \"What violent activities have Kurds, or members of the Workers Party of Kurdistan (PKK), carried out in Germany?\" is specific\n",
      "Query \"Find documents that discuss per capita consumption of alcohol by political entity country, state, province, etc.\" is specific\n",
      "Query \"Retrieve information regarding the process by which the Czech and Slovak republics of Czechoslovakia established separate sovereign countries.\" is specific\n",
      "Query \"What research is ongoing for new fuel sources.\" is generic\n",
      "Query \"What businesses and industries form the basis of the economy of Northern Ireland?\" is generic\n",
      "Query \"What are working conditions and pay for U.S. air traffic controllers?\" is generic\n",
      "Query \"What modern instances have there been of old fashioned piracy, the boarding or taking control of boats?\" is generic\n",
      "Query \"What unexpected or unexplained cosmic events or celestial phenomena, such as radiation and supernova outbursts or new comets, have been detected?\" is {\"mask\"}.\n"
     ]
    },
    {
     "name": "stderr",
     "output_type": "stream",
     "text": [
      "tokenizing: 1it [00:00, 199.96it/s]\n"
     ]
    },
    {
     "name": "stdout",
     "output_type": "stream",
     "text": [
      "405\n",
      "tensor(0.2823) tensor(0.7177)\n",
      "---------------------------------------------------------------\n",
      "Query \"What is the usual sentence for those convicted of white collar crimes?\" is specific\n",
      "Query \"What are the advantages and/or disadvantages of tooth implants?\" is specific\n",
      "Query \"Identify the problems, and solutions to those problems, which arise in the relationships among biological parents, adoptive parents, and the child or children involved.\" is specific\n",
      "Query \"What are the plans for a National Museum of the American Indian?\" is specific\n",
      "Query \"Identify companies or corporations that have been accused or indicted of price fixing including the product or type of product involved.\" is generic\n",
      "Query \"What is the extent of health insurance coverage of holistic or other non-traditional medicine/medical treatments (for example, acupuncture)?\" is generic\n",
      "Query \"Identify documents that discuss effective and safe ways to permanently handle long-lived radioactive wastes.\" is generic\n",
      "Query \"Identify hydroelectric projects proposed or under construction by country and location.  Detailed description of nature, extent, purpose, problems, and consequences is desirable.\" is generic\n",
      "Query \"What is being done to treat the symptoms of Parkinson's disease and keep the patient functional as long as possible?\" is {\"mask\"}.\n"
     ]
    },
    {
     "name": "stderr",
     "output_type": "stream",
     "text": [
      "tokenizing: 1it [00:00, 202.71it/s]\n"
     ]
    },
    {
     "name": "stdout",
     "output_type": "stream",
     "text": [
      "406\n",
      "tensor(0.3068) tensor(0.6932)\n",
      "---------------------------------------------------------------\n",
      "Query \"What is the history and extent of Volkswagen production in Mexico?\" is specific\n",
      "Query \"What research has been done on viral hepatitis and what progress has been made in its treatment?\" is specific\n",
      "Query \"Identify an individual that has been beatified by the Pope.\" is specific\n",
      "Query \"What effect has the reduction of Russian support had on the Cuban economy?\" is specific\n",
      "Query \"How extensive is poverty in sub-Saharan Africa?\" is generic\n",
      "Query \"Identify instances where a journalist has been put at risk (e.g., killed, arrested or taken hostage) in the performance of his work.\" is generic\n",
      "Query \"Aside from the United States, which country offers the best living conditions and quality of life for a U.S. retiree?\" is generic\n",
      "Query \"Identify any actions being taken to propel the nations of the world toward a treaty banning the production, transfer and use of land mines.\" is generic\n",
      "Query \"What is the impact of poaching on the world's various wildlife preserves?\" is {\"mask\"}.\n"
     ]
    },
    {
     "name": "stderr",
     "output_type": "stream",
     "text": [
      "tokenizing: 1it [00:00, 249.94it/s]\n"
     ]
    },
    {
     "name": "stdout",
     "output_type": "stream",
     "text": [
      "407\n",
      "tensor(0.2657) tensor(0.7343)\n",
      "---------------------------------------------------------------\n",
      "Query \"Retrieve documents containing information about the symptoms of individuals suffering from 'Gulf War Syndrome' as a result of serving in the Gulf War.\" is specific\n",
      "Query \"What has been the effect of the electronic media on the newspaper industry?\" is specific\n",
      "Query \"What were the health effects of Vietnam veterans' exposure to Agent Orange?\" is specific\n",
      "Query \"What efforts are being made to stabilize the Leaning Tower of Pisa, and how successful have the efforts been?\" is specific\n",
      "Query \"Isolate instances of fraud or embezzlement in the international art trade.\" is generic\n",
      "Query \"What were the causes for the Islamic Revolution relative to relations with the U.S.?\" is generic\n",
      "Query \"What forms of alternative medicine are being used in the treatment of illnesses or diseases and how successful are they?\" is generic\n",
      "Query \"Find documents that discuss teenage pregnancy in the United States: the birth rate for teenage mothers, causes and results of teenage pregnancies, and steps taken to reduce the number of teenage pregnancies.\" is generic\n",
      "Query \"What tropical storms (hurricanes and typhoons) have caused significant property damage and loss of life?\" is {\"mask\"}.\n"
     ]
    },
    {
     "name": "stderr",
     "output_type": "stream",
     "text": [
      "tokenizing: 1it [00:00, 253.66it/s]\n"
     ]
    },
    {
     "name": "stdout",
     "output_type": "stream",
     "text": [
      "408\n",
      "tensor(0.2489) tensor(0.7511)\n",
      "---------------------------------------------------------------\n",
      "Query \"What harm have power dams in the Pacific northwest caused to salmon fisheries?\" is specific\n",
      "Query \"What role does blood-alcohol level play in automobile accident fatalities?\" is specific\n",
      "Query \"How many deaths are attributed to having taken tainted L-tryptophan dietary supplements?\" is specific\n",
      "Query \"Has prayer in U.S. schools been banned completely?\" is specific\n",
      "Query \"Identify a country or a city where there is evidence of human slavery being practiced in the eighties or nineties.\" is generic\n",
      "Query \"Identify documents that discuss mainstreaming children with physical or mental impairments.\" is generic\n",
      "Query \"The availability of E-mail to many people through their job or school affiliation has allowed for many efficiencies in communications but also has provided the opportunity for abuses.  What steps have been taken world-wide by those bearing the cost of E-mail to prevent excesses?\" is generic\n",
      "Query \"Has Greenpeace been prosecuted or its members arrested for any of its actions?\" is generic\n",
      "Query \"What legal actions have resulted from the destruction of Pan Am Flight 103 over Lockerbie, Scotland, on December 21, 1988?\" is {\"mask\"}.\n"
     ]
    },
    {
     "name": "stderr",
     "output_type": "stream",
     "text": [
      "tokenizing: 1it [00:00, 231.44it/s]\n"
     ]
    },
    {
     "name": "stdout",
     "output_type": "stream",
     "text": [
      "409\n",
      "tensor(0.2354) tensor(0.7646)\n",
      "---------------------------------------------------------------\n",
      "Query \"Find instances of plagiarism in the literary and journalistic worlds.\" is specific\n",
      "Query \"How do computers get infected by computer viruses?\" is specific\n",
      "Query \"Is the disease of Poliomyelitis (polio) under control in the world?\" is specific\n",
      "Query \"Determine the reasons why bacteria seems to be winning the war against antibiotics and rendering antibiotics now less effective in treating diseases than they were in the past.\" is specific\n",
      "Query \"Identify organizations that participate in international criminal activity, the activity, and, if possible, collaborating organizations and the countries involved.\" is generic\n",
      "Query \"Identify a country or a city where there is evidence of human slavery being practiced in the eighties or nineties.\" is generic\n",
      "Query \"Identify documents that discuss mainstreaming children with physical or mental impairments.\" is generic\n",
      "Query \"Identify documents that discuss effective and safe ways to permanently handle long-lived radioactive wastes.\" is generic\n",
      "Query \"Who is involved in the Schengen agreement to eliminate border controls in Western Europe and what do they hope to accomplish?\" is {\"mask\"}.\n"
     ]
    },
    {
     "name": "stderr",
     "output_type": "stream",
     "text": [
      "tokenizing: 1it [00:00, 248.24it/s]\n"
     ]
    },
    {
     "name": "stdout",
     "output_type": "stream",
     "text": [
      "410\n",
      "tensor(0.2538) tensor(0.7462)\n",
      "---------------------------------------------------------------\n",
      "Query \"How do computers get infected by computer viruses?\" is specific\n",
      "Query \"Identify documents that discuss clothing sweatshops.\" is specific\n",
      "Query \"Find documents that discuss the safety of or the hazards of cosmetic plastic surgery.\" is specific\n",
      "Query \"What are the benefits, if any, of drug legalization?\" is specific\n",
      "Query \"The spotted owl episode in America highlighted U.S. efforts to prevent the extinction of wildlife species.  What is not well known is the effort of other countries to prevent the demise of species native to their countries.  What other countries have begun efforts to prevent such declines?\" is generic\n",
      "Query \"What research is ongoing for new fuel sources.\" is generic\n",
      "Query \"Identify documents that discuss the building of a space station with the intent of colonizing the moon.\" is generic\n",
      "Query \"What is the extent of health insurance coverage of holistic or other non-traditional medicine/medical treatments (for example, acupuncture)?\" is generic\n",
      "Query \"Find information on shipwreck salvaging: the recovery or attempted recovery of treasure from sunken ships.\" is {\"mask\"}.\n"
     ]
    },
    {
     "name": "stderr",
     "output_type": "stream",
     "text": [
      "tokenizing: 1it [00:00, 333.28it/s]\n"
     ]
    },
    {
     "name": "stdout",
     "output_type": "stream",
     "text": [
      "411\n",
      "tensor(0.1755) tensor(0.8245)\n",
      "---------------------------------------------------------------\n",
      "Query \"What is the usual sentence for those convicted of white collar crimes?\" is specific\n",
      "Query \"Where are wind power installations located?\" is specific\n",
      "Query \"What are the plans for a National Museum of the American Indian?\" is specific\n",
      "Query \"What harm have power dams in the Pacific northwest caused to salmon fisheries?\" is specific\n",
      "Query \"The availability of E-mail to many people through their job or school affiliation has allowed for many efficiencies in communications but also has provided the opportunity for abuses.  What steps have been taken world-wide by those bearing the cost of E-mail to prevent excesses?\" is generic\n",
      "Query \"Identify documents that discuss the education of children at home (home schooling).\" is generic\n",
      "Query \"Isolate instances of fraud or embezzlement in the international art trade.\" is generic\n",
      "Query \"Compile a list of mammals that are considered to be endangered, identify their habitat and, if possible, specify what threatens them.\" is generic\n",
      "Query \"What security measures are in effect or are proposed to go into effect in airports?\" is {\"mask\"}.\n"
     ]
    },
    {
     "name": "stderr",
     "output_type": "stream",
     "text": [
      "tokenizing: 1it [00:00, 333.25it/s]\n"
     ]
    },
    {
     "name": "stdout",
     "output_type": "stream",
     "text": [
      "412\n",
      "tensor(0.2105) tensor(0.7895)\n",
      "---------------------------------------------------------------\n",
      "Query \"How can consumers protect against telemarketers?\" is specific\n",
      "Query \"What is the effect of Turkish river control projects on Iraqi water resources?\" is specific\n",
      "Query \"What role does blood-alcohol level play in automobile accident fatalities?\" is specific\n",
      "Query \"Find information on prostate cancer detection and treatment.\" is specific\n",
      "Query \"Identify instances where a journalist has been put at risk (e.g., killed, arrested or taken hostage) in the performance of his work.\" is generic\n",
      "Query \"Identify incidents of human smuggling.\" is generic\n",
      "Query \"Identify instances where a civilian policeman has been killed either during performance of his duty or because of other association with this occupation, e.g., killed for the gun, to keep from testifying, etc.\" is generic\n",
      "Query \"Determine the usefulness and effectiveness of continuing to maintain export controls on encryption software.\" is generic\n",
      "Query \"What are new methods of producing steel?\" is {\"mask\"}.\n"
     ]
    },
    {
     "name": "stderr",
     "output_type": "stream",
     "text": [
      "tokenizing: 1it [00:00, 500.10it/s]\n"
     ]
    },
    {
     "name": "stdout",
     "output_type": "stream",
     "text": [
      "413\n",
      "tensor(0.2940) tensor(0.7060)\n",
      "---------------------------------------------------------------\n",
      "Query \"What was the impact of the Exxon Valdez oil spill on the marine life and wildlife of the area?\" is specific\n",
      "Query \"Define Argentine and British international relations\" is specific\n",
      "Query \"Is the fear of open or public places (Agoraphobia) a widespread disorder or relatively unknown?\" is specific\n",
      "Query \"What role does blood-alcohol level play in automobile accident fatalities?\" is specific\n",
      "Query \"What specific entities have been accused of illegal technology transfer such as: selling their products, formulas, etc. directly or indirectly to foreign entities for other than peaceful purposes?\" is generic\n",
      "Query \"The end of the Cold War seems to have intensified economic competition and has started to generate serious friction between nations as attempts are made by diplomatic personnel to acquire sensitive trade and technology information or to obtain information on highly classified industrial projects. Identify instances where attempts have been made by personnel with diplomatic status to obtain information of this nature.\" is generic\n",
      "Query \"What is being done to teach English to recently admitted adult immigrants?\" is generic\n",
      "Query \"What are the laws dealing with the quality and processing of food, beverages, or drugs?\" is generic\n",
      "Query \"How much sugar does Cuba export and which countries import it?\" is {\"mask\"}.\n"
     ]
    },
    {
     "name": "stderr",
     "output_type": "stream",
     "text": [
      "tokenizing: 1it [00:00, 200.00it/s]\n"
     ]
    },
    {
     "name": "stdout",
     "output_type": "stream",
     "text": [
      "414\n",
      "tensor(0.3210) tensor(0.6790)\n",
      "---------------------------------------------------------------\n",
      "Query \"Define Argentine and British international relations\" is specific\n",
      "Query \"Find documents that discuss an increase in the number of people receiving food stamp benefits.\" is specific\n",
      "Query \"What are the pros and cons of term limits?\" is specific\n",
      "Query \"What are the applications of robotics in the world today?\" is specific\n",
      "Query \"Identify positive accomplishments of the Hubble telescope since it was launched in 1991.\" is generic\n",
      "Query \"What businesses and industries form the basis of the economy of Northern Ireland?\" is generic\n",
      "Query \"What is the extent of U.S. raw timber exports to Asia, and what effect do these exports have on the U.S. lumber industry?\" is generic\n",
      "Query \"Fiber optic link around the globe (Flag) will be the world's longest undersea fiber optic cable. Who's involved and how extensive is the technology on this system.  What problems exist?\" is generic\n",
      "Query \"What is known about drug trafficking in the \"Golden Triangle\", the area where Burma, Thailand and Laos meet?\" is {\"mask\"}.\n"
     ]
    },
    {
     "name": "stderr",
     "output_type": "stream",
     "text": [
      "tokenizing: 1it [00:00, 499.68it/s]\n"
     ]
    },
    {
     "name": "stdout",
     "output_type": "stream",
     "text": [
      "415\n",
      "tensor(0.2149) tensor(0.7851)\n",
      "---------------------------------------------------------------\n",
      "Query \"Has prayer in U.S. schools been banned completely?\" is specific\n",
      "Query \"Find documents that discuss the U.S. debate about the opening of sealed adoption records to adoptees.\" is specific\n",
      "Query \"What are the arguments for and against Great Britain's approval of women being ordained as Church of England priests?\" is specific\n",
      "Query \"Identify documents that discuss details of a family leave law, such as how long, compensation, if any, for what reason allowed, etc.\" is specific\n",
      "Query \"Identify documents that discuss the use of organic fertilizers (composted sludge, ash, vegetable waste, microorganisms, etc.) as soil enhancers.\" is generic\n",
      "Query \"Compile a list of mammals that are considered to be endangered, identify their habitat and, if possible, specify what threatens them.\" is generic\n",
      "Query \"Evidence that rap music has a negative effect on young people.\" is generic\n",
      "Query \"How many fatal highway accidents are there each year that are not resolved as to cause.\" is generic\n",
      "Query \"What is the status of The Three Gorges Project?\" is {\"mask\"}.\n"
     ]
    },
    {
     "name": "stderr",
     "output_type": "stream",
     "text": [
      "tokenizing: 1it [00:00, 333.25it/s]\n"
     ]
    },
    {
     "name": "stdout",
     "output_type": "stream",
     "text": [
      "416\n",
      "tensor(0.2451) tensor(0.7549)\n",
      "---------------------------------------------------------------\n",
      "Query \"Find documents that discuss the U.S. debate about the opening of sealed adoption records to adoptees.\" is specific\n",
      "Query \"What has been the outcome for the pro-independence protesters in Tibet who were arrested by Chinese authorities?\" is specific\n",
      "Query \"What are the causes and treatments of anorexia nervosa and bulimia?\" is specific\n",
      "Query \"What standards do cruise ships use for health and safety maintenance?\" is specific\n",
      "Query \"Identify documents that discuss effective and safe ways to permanently handle long-lived radioactive wastes.\" is generic\n",
      "Query \"What happened to protesters arrested in connection with the Tiananmen Square demonstrations in Beijing in the spring of 1989?\" is generic\n",
      "Query \"How extensive is poverty in sub-Saharan Africa?\" is generic\n",
      "Query \"Identify individuals or corporations that have been indicted on charges of tax evasion of more than two million dollars in the U.S. or U.K.\" is generic\n",
      "Query \"Find ways of measuring creativity.\" is {\"mask\"}.\n"
     ]
    },
    {
     "name": "stderr",
     "output_type": "stream",
     "text": [
      "tokenizing: 1it [00:00, 499.80it/s]\n"
     ]
    },
    {
     "name": "stdout",
     "output_type": "stream",
     "text": [
      "417\n",
      "tensor(0.3518) tensor(0.6482)\n",
      "---------------------------------------------------------------\n",
      "Query \"Identify documents discussing cases where rabies have been confirmed and what, if anything, is being done about it.\" is specific\n",
      "Query \"What standards do cruise ships use for health and safety maintenance?\" is specific\n",
      "Query \"Find information regarding training for Olympic swim meets.\" is specific\n",
      "Query \"Determine the reasons why bacteria seems to be winning the war against antibiotics and rendering antibiotics now less effective in treating diseases than they were in the past.\" is specific\n",
      "Query \"Determine the usefulness and effectiveness of continuing to maintain export controls on encryption software.\" is generic\n",
      "Query \"Has Greenpeace been prosecuted or its members arrested for any of its actions?\" is generic\n",
      "Query \"Find information on joint/shared custody's impact on children.\" is generic\n",
      "Query \"Identify instances where a civilian policeman has been killed either during performance of his duty or because of other association with this occupation, e.g., killed for the gun, to keep from testifying, etc.\" is generic\n",
      "Query \"In what ways have quilts been used to generate income?\" is {\"mask\"}.\n"
     ]
    },
    {
     "name": "stderr",
     "output_type": "stream",
     "text": [
      "tokenizing: 1it [00:00, 345.10it/s]\n"
     ]
    },
    {
     "name": "stdout",
     "output_type": "stream",
     "text": [
      "418\n",
      "tensor(0.2167) tensor(0.7833)\n",
      "---------------------------------------------------------------\n",
      "Query \"What is the usual sentence for those convicted of white collar crimes?\" is specific\n",
      "Query \"Retrieve documents regarding U.S. lawsuits against the tobacco industry for causing health problems and/or death from cigarettes.\" is specific\n",
      "Query \"What harm have power dams in the Pacific northwest caused to salmon fisheries?\" is specific\n",
      "Query \"What research has been done on viral hepatitis and what progress has been made in its treatment?\" is specific\n",
      "Query \"Identify instances where a civilian policeman has been killed either during performance of his duty or because of other association with this occupation, e.g., killed for the gun, to keep from testifying, etc.\" is generic\n",
      "Query \"What disasters have occurred in tunnels used for transportation?\" is generic\n",
      "Query \"Identify documents that discuss the impact of the cost of research and development (R and D) on the price of drugs.\" is generic\n",
      "Query \"Provide examples of successful attempts to attract tourism as a means to improve a local economy.\" is generic\n",
      "Query \"What new uses have been developed for old automobile tires as a means of tire recycling?\" is {\"mask\"}.\n"
     ]
    },
    {
     "name": "stderr",
     "output_type": "stream",
     "text": [
      "tokenizing: 1it [00:00, 333.25it/s]\n"
     ]
    },
    {
     "name": "stdout",
     "output_type": "stream",
     "text": [
      "419\n",
      "tensor(0.2567) tensor(0.7433)\n",
      "---------------------------------------------------------------\n",
      "Query \"Is the disease of Poliomyelitis (polio) under control in the world?\" is specific\n",
      "Query \"What are the pros and cons of developing the Strategic Defense Initiative (SDI) also known as \"Star Wars\"?\" is specific\n",
      "Query \"What was the OIC's involvement in the Balkans in 1990-94?\" is specific\n",
      "Query \"Identify documents that discuss sick building syndrome or building-related illnesses.\" is specific\n",
      "Query \"Compile a list of mammals that are considered to be endangered, identify their habitat and, if possible, specify what threatens them.\" is generic\n",
      "Query \"How many civilian non-combatants have been killed in the various civil wars in Africa?\" is generic\n",
      "Query \"Identify companies or corporations that have been accused or indicted of price fixing including the product or type of product involved.\" is generic\n",
      "Query \"Identify documents that discuss the education of children at home (home schooling).\" is generic\n",
      "Query \"How widespread is carbon monoxide poisoning on a global scale?\" is {\"mask\"}.\n"
     ]
    },
    {
     "name": "stderr",
     "output_type": "stream",
     "text": [
      "tokenizing: 1it [00:00, 499.98it/s]\n"
     ]
    },
    {
     "name": "stdout",
     "output_type": "stream",
     "text": [
      "420\n",
      "tensor(0.2729) tensor(0.7271)\n",
      "---------------------------------------------------------------\n",
      "Query \"What are the benefits, if any, of drug legalization?\" is specific\n",
      "Query \"What has been the effect of the electronic media on the newspaper industry?\" is specific\n",
      "Query \"How were pieces of the Berlin wall disposed of after their removal?\" is specific\n",
      "Query \"What are the pros and cons of adults using human growth hormone (HGH)?\" is specific\n",
      "Query \"Aside from the United States, which country offers the best living conditions and quality of life for a U.S. retiree?\" is generic\n",
      "Query \"Identify documents that discuss mainstreaming children with physical or mental impairments.\" is generic\n",
      "Query \"Identify drugs used in the treatment of mental illness.\" is generic\n",
      "Query \"What research is ongoing for new fuel sources.\" is generic\n",
      "Query \"How is the disposal of industrial waste being accomplished by industrial management throughout the world?\" is {\"mask\"}.\n"
     ]
    },
    {
     "name": "stderr",
     "output_type": "stream",
     "text": [
      "tokenizing: 1it [00:00, 340.72it/s]\n"
     ]
    },
    {
     "name": "stdout",
     "output_type": "stream",
     "text": [
      "421\n",
      "tensor(0.2687) tensor(0.7313)\n",
      "---------------------------------------------------------------\n",
      "Query \"What criticisms have been made of World Bank policies, activities or personnel?\" is specific\n",
      "Query \"Identify an individual that has been beatified by the Pope.\" is specific\n",
      "Query \"What standards do cruise ships use for health and safety maintenance?\" is specific\n",
      "Query \"Is the fear of open or public places (Agoraphobia) a widespread disorder or relatively unknown?\" is specific\n",
      "Query \"Find articles that discuss the pros and cons of taxing U.S. social security benefits.\" is generic\n",
      "Query \"Are there reliable and consistent predictors of mutual fund performance?\" is generic\n",
      "Query \"Find information about the first genetically modified food product to go on the market, Flavr Savr (also Flavor Saver) Tomato developed by Calgene.\" is generic\n",
      "Query \"Identify instances where a journalist has been put at risk (e.g., killed, arrested or taken hostage) in the performance of his work.\" is generic\n",
      "Query \"What incidents have there been of stolen or forged art?\" is {\"mask\"}.\n"
     ]
    },
    {
     "name": "stderr",
     "output_type": "stream",
     "text": [
      "tokenizing: 1it [00:00, 499.80it/s]\n"
     ]
    },
    {
     "name": "stdout",
     "output_type": "stream",
     "text": [
      "422\n",
      "tensor(0.2387) tensor(0.7613)\n",
      "---------------------------------------------------------------\n",
      "Query \"Define Argentine and British international relations\" is specific\n",
      "Query \"Mexico City has the worst air pollution in the world.  Pertinent Documents would contain the specific steps Mexican authorities have taken to combat this deplorable situation.\" is specific\n",
      "Query \"Determine the reasons why bacteria seems to be winning the war against antibiotics and rendering antibiotics now less effective in treating diseases than they were in the past.\" is specific\n",
      "Query \"What efforts are being made to stabilize the Leaning Tower of Pisa, and how successful have the efforts been?\" is specific\n",
      "Query \"Provide examples of successful attempts to attract tourism as a means to improve a local economy.\" is generic\n",
      "Query \"Evidence that rap music has a negative effect on young people.\" is generic\n",
      "Query \"Identify individuals or corporations that have been indicted on charges of tax evasion of more than two million dollars in the U.S. or U.K.\" is generic\n",
      "Query \"What types of cases were heard by the World Court (International Court of Justice)?\" is generic\n",
      "Query \"Find references to Milosevic's wife, Mirjana Markovic.\" is {\"mask\"}.\n"
     ]
    },
    {
     "name": "stderr",
     "output_type": "stream",
     "text": [
      "tokenizing: 1it [00:00, 333.30it/s]\n"
     ]
    },
    {
     "name": "stdout",
     "output_type": "stream",
     "text": [
      "423\n",
      "tensor(0.3278) tensor(0.6722)\n",
      "---------------------------------------------------------------\n",
      "Query \"What are the arguments for and against an increase in gasoline taxes in the U.S.?\" is specific\n",
      "Query \"Mexico City has the worst air pollution in the world.  Pertinent Documents would contain the specific steps Mexican authorities have taken to combat this deplorable situation.\" is specific\n",
      "Query \"Find documents that discuss the safety of or the hazards of cosmetic plastic surgery.\" is specific\n",
      "Query \"What has been the effect of the electronic media on the newspaper industry?\" is specific\n",
      "Query \"Determine the usefulness and effectiveness of continuing to maintain export controls on encryption software.\" is generic\n",
      "Query \"What steps are being taken by the U.S. to help Russia solve the food crisis in Russia?\" is generic\n",
      "Query \"What is the extent of U.S. raw timber exports to Asia, and what effect do these exports have on the U.S. lumber industry?\" is generic\n",
      "Query \"Find documents that discuss teenage pregnancy in the United States: the birth rate for teenage mothers, causes and results of teenage pregnancies, and steps taken to reduce the number of teenage pregnancies.\" is generic\n",
      "Query \"Give examples of alleged suicides that aroused suspicion of the death actually being murder.\" is {\"mask\"}.\n"
     ]
    },
    {
     "name": "stderr",
     "output_type": "stream",
     "text": [
      "tokenizing: 1it [00:00, 333.60it/s]\n"
     ]
    },
    {
     "name": "stdout",
     "output_type": "stream",
     "text": [
      "424\n",
      "tensor(0.2943) tensor(0.7057)\n",
      "---------------------------------------------------------------\n",
      "Query \"What standards do cruise ships use for health and safety maintenance?\" is specific\n",
      "Query \"Has prayer in U.S. schools been banned completely?\" is specific\n",
      "Query \"Identify an individual that has been beatified by the Pope.\" is specific\n",
      "Query \"What are the arguments for and against doctor assisted suicide in the U.S.?\" is specific\n",
      "Query \"How many civilian non-combatants have been killed in the various civil wars in Africa?\" is generic\n",
      "Query \"Identify documents that discuss mainstreaming children with physical or mental impairments.\" is generic\n",
      "Query \"Identify documents that discuss effective and safe ways to permanently handle long-lived radioactive wastes.\" is generic\n",
      "Query \"This query is looking for examples of cooperation or friendly ties between Iran and Iraq, or ways in which the two countries could be considered allies.\" is generic\n",
      "Query \"What counterfeiting of money is being done in modern times?\" is {\"mask\"}.\n"
     ]
    },
    {
     "name": "stderr",
     "output_type": "stream",
     "text": [
      "tokenizing: 1it [00:00, 533.15it/s]\n"
     ]
    },
    {
     "name": "stdout",
     "output_type": "stream",
     "text": [
      "425\n",
      "tensor(0.2824) tensor(0.7176)\n",
      "---------------------------------------------------------------\n",
      "Query \"Has prayer in U.S. schools been banned completely?\" is specific\n",
      "Query \"What are the causes and treatments for melanoma?\" is specific\n",
      "Query \"How do computers get infected by computer viruses?\" is specific\n",
      "Query \"What are the arguments for and against Great Britain's approval of women being ordained as Church of England priests?\" is specific\n",
      "Query \"What were the causes for the Islamic Revolution relative to relations with the U.S.?\" is generic\n",
      "Query \"Find documents that discuss the impact Prime Minister Margaret Thatchers' resignation may have on U.S. and U.K. relations.\" is generic\n",
      "Query \"Identify hydroelectric projects proposed or under construction by country and location.  Detailed description of nature, extent, purpose, problems, and consequences is desirable.\" is generic\n",
      "Query \"What businesses and industries form the basis of the economy of Northern Ireland?\" is generic\n",
      "Query \"Provide information on the use of dogs worldwide for law enforcement purposes.\" is {\"mask\"}.\n"
     ]
    },
    {
     "name": "stderr",
     "output_type": "stream",
     "text": [
      "tokenizing: 1it [00:00, 333.28it/s]\n"
     ]
    },
    {
     "name": "stdout",
     "output_type": "stream",
     "text": [
      "426\n",
      "tensor(0.2666) tensor(0.7334)\n",
      "---------------------------------------------------------------\n",
      "Query \"Find information on prostate cancer detection and treatment.\" is specific\n",
      "Query \"Identify and provide background information on Nobel prize winners.\" is specific\n",
      "Query \"Document will discuss the science of growing plants in water or some substance other than soil.\" is specific\n",
      "Query \"What is the relationship between poverty and disease?\" is specific\n",
      "Query \"Provide examples of successful attempts to attract tourism as a means to improve a local economy.\" is generic\n",
      "Query \"Find claims made by U.S. small businesses regarding the adverse impact on their businesses of raising the minimum wage.\" is generic\n",
      "Query \"What are working conditions and pay for U.S. air traffic controllers?\" is generic\n",
      "Query \"What modern instances have there been of old fashioned piracy, the boarding or taking control of boats?\" is generic\n",
      "Query \"Find documents that discuss the damage ultraviolet (UV) light from the sun can do to eyes.\" is {\"mask\"}.\n"
     ]
    },
    {
     "name": "stderr",
     "output_type": "stream",
     "text": [
      "tokenizing: 1it [00:00, 499.86it/s]\n"
     ]
    },
    {
     "name": "stdout",
     "output_type": "stream",
     "text": [
      "427\n",
      "tensor(0.2752) tensor(0.7248)\n",
      "---------------------------------------------------------------\n",
      "Query \"What efforts are being made to stabilize the Leaning Tower of Pisa, and how successful have the efforts been?\" is specific\n",
      "Query \"Determine the reasons why bacteria seems to be winning the war against antibiotics and rendering antibiotics now less effective in treating diseases than they were in the past.\" is specific\n",
      "Query \"What are the pros and cons of adults using human growth hormone (HGH)?\" is specific\n",
      "Query \"What harm have power dams in the Pacific northwest caused to salmon fisheries?\" is specific\n",
      "Query \"Identify documents that discuss opposition to the introduction of the euro, the European currency.\" is generic\n",
      "Query \"How many fatal highway accidents are there each year that are not resolved as to cause.\" is generic\n",
      "Query \"The availability of E-mail to many people through their job or school affiliation has allowed for many efficiencies in communications but also has provided the opportunity for abuses.  What steps have been taken world-wide by those bearing the cost of E-mail to prevent excesses?\" is generic\n",
      "Query \"What steps are being taken by the U.S. to help Russia solve the food crisis in Russia?\" is generic\n",
      "Query \"Do any countries other than the U.S. and China have a declining birth rate?\" is {\"mask\"}.\n"
     ]
    },
    {
     "name": "stderr",
     "output_type": "stream",
     "text": [
      "tokenizing: 1it [00:00, 499.80it/s]\n"
     ]
    },
    {
     "name": "stdout",
     "output_type": "stream",
     "text": [
      "428\n",
      "tensor(0.2268) tensor(0.7732)\n",
      "---------------------------------------------------------------\n",
      "Query \"What evidence is there to link tick-borne Lyme disease with arthritis?\" is specific\n",
      "Query \"Find reports of human stampedes that have resulted in 20 or more deaths.\" is specific\n",
      "Query \"Identify systematic explorations and scientific investigations of Antarctica, current or planned.\" is specific\n",
      "Query \"What are the objections to the practice of \"clear-cutting\"?\" is specific\n",
      "Query \"Identify documents that discuss the building of a space station with the intent of colonizing the moon.\" is generic\n",
      "Query \"There has long been a call for standards in U.S. education, these calls frequently citing the superiority of foreign school systems.  Are there many countries outside the U.S. which have standards for pre-teen students?  If so, which are those countries and what standards have been set?\" is generic\n",
      "Query \"Identify documents that discuss opposition to the introduction of the euro, the European currency.\" is generic\n",
      "Query \"Identify documents that discuss mainstreaming children with physical or mental impairments.\" is generic\n",
      "Query \"Identify outbreaks of Legionnaires' disease.\" is {\"mask\"}.\n"
     ]
    },
    {
     "name": "stderr",
     "output_type": "stream",
     "text": [
      "tokenizing: 1it [00:00, 333.23it/s]\n"
     ]
    },
    {
     "name": "stdout",
     "output_type": "stream",
     "text": [
      "429\n",
      "tensor(0.1854) tensor(0.8146)\n",
      "---------------------------------------------------------------\n",
      "Query \"What standards do cruise ships use for health and safety maintenance?\" is specific\n",
      "Query \"A relevant document would discuss how effective government orders to better scrutinize passengers and luggage on international flights and to step up screening of all carry-on baggage has been.\" is specific\n",
      "Query \"Identify an individual that has been beatified by the Pope.\" is specific\n",
      "Query \"What part did Winnie Mandela herself play in the kidnapping, beating and murder scandal in South Africa in December 1988 through January 1989?\" is specific\n",
      "Query \"What bias exists in the media of countries other than the U.S.?\" is generic\n",
      "Query \"Identify documents that discuss effective and safe ways to permanently handle long-lived radioactive wastes.\" is generic\n",
      "Query \"Identify a country or a city where there is evidence of human slavery being practiced in the eighties or nineties.\" is generic\n",
      "Query \"Has Greenpeace been prosecuted or its members arrested for any of its actions?\" is generic\n",
      "Query \"Identify instances of attacks on humans by Africanized (killer) bees.\" is {\"mask\"}.\n"
     ]
    },
    {
     "name": "stderr",
     "output_type": "stream",
     "text": [
      "tokenizing: 1it [00:00, 350.72it/s]\n"
     ]
    },
    {
     "name": "stdout",
     "output_type": "stream",
     "text": [
      "430\n",
      "tensor(0.2112) tensor(0.7888)\n",
      "---------------------------------------------------------------\n",
      "Query \"What research has been done on viral hepatitis and what progress has been made in its treatment?\" is specific\n",
      "Query \"How can consumers protect against telemarketers?\" is specific\n",
      "Query \"What information is available on petroleum exploration in the South Atlantic near the Falkland Islands?\" is specific\n",
      "Query \"What effect has the reduction of Russian support had on the Cuban economy?\" is specific\n",
      "Query \"Identify instances where a journalist has been put at risk (e.g., killed, arrested or taken hostage) in the performance of his work.\" is generic\n",
      "Query \"Identify individuals or corporations that have been indicted on charges of tax evasion of more than two million dollars in the U.S. or U.K.\" is generic\n",
      "Query \"Fiber optic link around the globe (Flag) will be the world's longest undersea fiber optic cable. Who's involved and how extensive is the technology on this system.  What problems exist?\" is generic\n",
      "Query \"How has France responded to protests against its nuclear testing in the South Pacific?\" is generic\n",
      "Query \"What are the latest developments in robotic technology?\" is {\"mask\"}.\n"
     ]
    },
    {
     "name": "stderr",
     "output_type": "stream",
     "text": [
      "tokenizing: 1it [00:00, 325.09it/s]\n"
     ]
    },
    {
     "name": "stdout",
     "output_type": "stream",
     "text": [
      "431\n",
      "tensor(0.2778) tensor(0.7222)\n",
      "---------------------------------------------------------------\n",
      "Query \"What are the industrial or commercial uses of cyanide or its derivatives?\" is specific\n",
      "Query \"A relevant document would discuss how effective government orders to better scrutinize passengers and luggage on international flights and to step up screening of all carry-on baggage has been.\" is specific\n",
      "Query \"Identify documents that discuss in vitro fertilization.\" is specific\n",
      "Query \"How can consumers protect against telemarketers?\" is specific\n",
      "Query \"Find documents that discuss teenage pregnancy in the United States: the birth rate for teenage mothers, causes and results of teenage pregnancies, and steps taken to reduce the number of teenage pregnancies.\" is generic\n",
      "Query \"What bias exists in the media of countries other than the U.S.?\" is generic\n",
      "Query \"Aside from the United States, which country offers the best living conditions and quality of life for a U.S. retiree?\" is generic\n",
      "Query \"This query is looking for investigations that have targeted evaders of U.S. income tax.\" is generic\n",
      "Query \"Do police departments use \"profiling\" to stop motorists?\" is {\"mask\"}.\n"
     ]
    },
    {
     "name": "stderr",
     "output_type": "stream",
     "text": [
      "tokenizing: 1it [00:00, 340.61it/s]\n"
     ]
    },
    {
     "name": "stdout",
     "output_type": "stream",
     "text": [
      "432\n",
      "tensor(0.2296) tensor(0.7704)\n",
      "---------------------------------------------------------------\n",
      "Query \"How do you make a compost pile?\" is specific\n",
      "Query \"Identify the problems, and solutions to those problems, which arise in the relationships among biological parents, adoptive parents, and the child or children involved.\" is specific\n",
      "Query \"Identify documents that discuss in vitro fertilization.\" is specific\n",
      "Query \"Find documents that discuss the financial impact of software piracy upon the software-producing industry.\" is specific\n",
      "Query \"Identify hydroelectric projects proposed or under construction by country and location.  Detailed description of nature, extent, purpose, problems, and consequences is desirable.\" is generic\n",
      "Query \"The availability of E-mail to many people through their job or school affiliation has allowed for many efficiencies in communications but also has provided the opportunity for abuses.  What steps have been taken world-wide by those bearing the cost of E-mail to prevent excesses?\" is generic\n",
      "Query \"Identify documents that discuss the growth of Native American casino gambling.\" is generic\n",
      "Query \"Identify any actions being taken to propel the nations of the world toward a treaty banning the production, transfer and use of land mines.\" is generic\n",
      "Query \"Is there contemporary interest in the Greek philosophy of stoicism?\" is {\"mask\"}.\n"
     ]
    },
    {
     "name": "stderr",
     "output_type": "stream",
     "text": [
      "tokenizing: 1it [00:00, 427.34it/s]\n"
     ]
    },
    {
     "name": "stdout",
     "output_type": "stream",
     "text": [
      "433\n",
      "tensor(0.1976) tensor(0.8024)\n",
      "---------------------------------------------------------------\n",
      "Query \"What are the benefits, if any, of drug legalization?\" is specific\n",
      "Query \"Find instances of plagiarism in the literary and journalistic worlds.\" is specific\n",
      "Query \"What are the arguments for and against Great Britain's approval of women being ordained as Church of England priests?\" is specific\n",
      "Query \"Find reports of human stampedes that have resulted in 20 or more deaths.\" is specific\n",
      "Query \"Identify hydroelectric projects proposed or under construction by country and location.  Detailed description of nature, extent, purpose, problems, and consequences is desirable.\" is generic\n",
      "Query \"Identify organizations that participate in international criminal activity, the activity, and, if possible, collaborating organizations and the countries involved.\" is generic\n",
      "Query \"Identify documents that discuss the European Conventional Arms Cut as it relates to the dismantling of Europe's arsenal.\" is generic\n",
      "Query \"Identify a country or a city where there is evidence of human slavery being practiced in the eighties or nineties.\" is generic\n",
      "Query \"What is the state of the economy of Estonia?\" is {\"mask\"}.\n"
     ]
    },
    {
     "name": "stderr",
     "output_type": "stream",
     "text": [
      "tokenizing: 1it [00:00, 322.27it/s]\n"
     ]
    },
    {
     "name": "stdout",
     "output_type": "stream",
     "text": [
      "434\n",
      "tensor(0.3051) tensor(0.6949)\n",
      "---------------------------------------------------------------\n",
      "Query \"Identify documents discussing cases where rabies have been confirmed and what, if anything, is being done about it.\" is specific\n",
      "Query \"What are the maternity leave policies of various governments?\" is specific\n",
      "Query \"Identify documents that discuss clothing sweatshops.\" is specific\n",
      "Query \"What has been the effect of the electronic media on the newspaper industry?\" is specific\n",
      "Query \"Determine the usefulness and effectiveness of continuing to maintain export controls on encryption software.\" is generic\n",
      "Query \"Identify documents that discuss medical treatment of obesity.\" is generic\n",
      "Query \"Evidence that radio waves from radio towers or car phones affect brain cancer occurrence.\" is generic\n",
      "Query \"Identify incidents of human smuggling.\" is generic\n",
      "Query \"What measures have been taken worldwide and what countries have been effective in curbing population growth?\" is {\"mask\"}.\n"
     ]
    },
    {
     "name": "stderr",
     "output_type": "stream",
     "text": [
      "tokenizing: 1it [00:00, 499.86it/s]\n"
     ]
    },
    {
     "name": "stdout",
     "output_type": "stream",
     "text": [
      "435\n",
      "tensor(0.2434) tensor(0.7566)\n",
      "---------------------------------------------------------------\n",
      "Query \"What are literacy rates in African countries?\" is specific\n",
      "Query \"Find documents that describe the activities of ETA, the Basque terrorist organization, in Spain.\" is specific\n",
      "Query \"What are the benefits, if any, of drug legalization?\" is specific\n",
      "Query \"Identify documents that discuss in vitro fertilization.\" is specific\n",
      "Query \"Aside from the United States, which country offers the best living conditions and quality of life for a U.S. retiree?\" is generic\n",
      "Query \"What businesses or government entities give medical or other benefits to part-time workers?\" is generic\n",
      "Query \"Find articles that discuss the pros and cons of taxing U.S. social security benefits.\" is generic\n",
      "Query \"Is it hazardous to the health of individuals to\" is generic\n",
      "Query \"What are the causes of railway accidents throughout the world?\" is {\"mask\"}.\n"
     ]
    },
    {
     "name": "stderr",
     "output_type": "stream",
     "text": [
      "tokenizing: 1it [00:00, 499.98it/s]\n"
     ]
    },
    {
     "name": "stdout",
     "output_type": "stream",
     "text": [
      "436\n",
      "tensor(0.2760) tensor(0.7240)\n",
      "---------------------------------------------------------------\n",
      "Query \"What are the industrial or commercial uses of cyanide or its derivatives?\" is specific\n",
      "Query \"What were the health effects of Vietnam veterans' exposure to Agent Orange?\" is specific\n",
      "Query \"Identify documents that discuss the use of hydrogen as a fuel for piston driven automobiles (safe storage a concern) or the use of hydrogen in fuel cells to generate electricity to drive the car.\" is specific\n",
      "Query \"Commercial uses of Magnetic Levitation.\" is specific\n",
      "Query \"What are the major tin mining countries in southeast Asia?\" is generic\n",
      "Query \"Identify documents that discuss the education of children at home (home schooling).\" is generic\n",
      "Query \"What modern instances have there been of old fashioned piracy, the boarding or taking control of boats?\" is generic\n",
      "Query \"Identify incidents of human smuggling.\" is generic\n",
      "Query \"What has been the experience of residential utility customers following deregulation of gas and electric?\" is {\"mask\"}.\n"
     ]
    },
    {
     "name": "stderr",
     "output_type": "stream",
     "text": [
      "tokenizing: 1it [00:00, 333.25it/s]\n"
     ]
    },
    {
     "name": "stdout",
     "output_type": "stream",
     "text": [
      "437\n",
      "tensor(0.2695) tensor(0.7305)\n",
      "---------------------------------------------------------------\n",
      "Query \"What is the history and extent of Volkswagen production in Mexico?\" is specific\n",
      "Query \"What are the arguments for and against Great Britain's approval of women being ordained as Church of England priests?\" is specific\n",
      "Query \"How many deaths are attributed to having taken tainted L-tryptophan dietary supplements?\" is specific\n",
      "Query \"What has been the outcome for the pro-independence protesters in Tibet who were arrested by Chinese authorities?\" is specific\n",
      "Query \"Find articles that discuss the pros and cons of taxing U.S. social security benefits.\" is generic\n",
      "Query \"Find documents that discuss teenage pregnancy in the United States: the birth rate for teenage mothers, causes and results of teenage pregnancies, and steps taken to reduce the number of teenage pregnancies.\" is generic\n",
      "Query \"What is being done to teach English to recently admitted adult immigrants?\" is generic\n",
      "Query \"Has the use of windmill technology to generate electricity been economically productive?\" is generic\n",
      "Query \"What countries are experiencing an increase in tourism?\" is {\"mask\"}.\n"
     ]
    },
    {
     "name": "stderr",
     "output_type": "stream",
     "text": [
      "tokenizing: 1it [00:00, 333.25it/s]\n"
     ]
    },
    {
     "name": "stdout",
     "output_type": "stream",
     "text": [
      "438\n",
      "tensor(0.1961) tensor(0.8039)\n",
      "---------------------------------------------------------------\n",
      "Query \"What was the impact of the Exxon Valdez oil spill on the marine life and wildlife of the area?\" is specific\n",
      "Query \"Document will discuss the science of growing plants in water or some substance other than soil.\" is specific\n",
      "Query \"What violent activities have Kurds, or members of the Workers Party of Kurdistan (PKK), carried out in Germany?\" is specific\n",
      "Query \"What is the history of the Welsh devolution movement?\" is specific\n",
      "Query \"What steps are being taken by the U.S. to help Russia solve the food crisis in Russia?\" is generic\n",
      "Query \"Is it hazardous to the health of individuals to\" is generic\n",
      "Query \"What factors contributed to the growth of consumer on-line shopping?\" is generic\n",
      "Query \"What progress is being made in the effort to map and sequence the human genetic code?\" is generic\n",
      "Query \"What new inventions or scientific discoveries have been made?\" is {\"mask\"}.\n"
     ]
    },
    {
     "name": "stderr",
     "output_type": "stream",
     "text": [
      "tokenizing: 1it [00:00, 404.97it/s]\n"
     ]
    },
    {
     "name": "stdout",
     "output_type": "stream",
     "text": [
      "439\n",
      "tensor(0.2009) tensor(0.7991)\n",
      "---------------------------------------------------------------\n",
      "Query \"What standards do cruise ships use for health and safety maintenance?\" is specific\n",
      "Query \"Define Argentine and British international relations\" is specific\n",
      "Query \"Document will discuss the science of growing plants in water or some substance other than soil.\" is specific\n",
      "Query \"How do you make a compost pile?\" is specific\n",
      "Query \"What research is ongoing for new fuel sources.\" is generic\n",
      "Query \"How are Oscar winners selected?\" is generic\n",
      "Query \"What forms of alternative medicine are being used in the treatment of illnesses or diseases and how successful are they?\" is generic\n",
      "Query \"Gather any information that mentions ricin, sarin, soman, or anthrax as a toxic chemical used as a weapon.\" is generic\n",
      "Query \"What steps are being taken by governments or corporations to eliminate abuse of child labor?\" is {\"mask\"}.\n"
     ]
    },
    {
     "name": "stderr",
     "output_type": "stream",
     "text": [
      "tokenizing: 1it [00:00, 499.92it/s]\n"
     ]
    },
    {
     "name": "stdout",
     "output_type": "stream",
     "text": [
      "440\n",
      "tensor(0.2679) tensor(0.7321)\n",
      "---------------------------------------------------------------\n",
      "Query \"What drugs are being used in the treatment of Alzheimer's Disease and how successful are they?\" is specific\n",
      "Query \"Define Argentine and British international relations\" is specific\n",
      "Query \"Find documents that describe the activities of ETA, the Basque terrorist organization, in Spain.\" is specific\n",
      "Query \"What was the impact of the Exxon Valdez oil spill on the marine life and wildlife of the area?\" is specific\n",
      "Query \"What are the advantages and disadvantages of same-sex schools?\" is generic\n",
      "Query \"How many civilian non-combatants have been killed in the various civil wars in Africa?\" is generic\n",
      "Query \"What research is ongoing for new fuel sources.\" is generic\n",
      "Query \"Find documents that discuss freed prisoners who have been wrongfully convicted based on faulty forensic evidence, poor police work, or false testimony.\" is generic\n",
      "Query \"How do you prevent and treat Lyme disease?\" is {\"mask\"}.\n"
     ]
    },
    {
     "name": "stderr",
     "output_type": "stream",
     "text": [
      "tokenizing: 1it [00:00, 499.92it/s]\n"
     ]
    },
    {
     "name": "stdout",
     "output_type": "stream",
     "text": [
      "441\n",
      "tensor(0.3281) tensor(0.6719)\n",
      "---------------------------------------------------------------\n",
      "Query \"What effects have been attributed to El Nino?\" is specific\n",
      "Query \"Identify documents that discuss in vitro fertilization.\" is specific\n",
      "Query \"Find documents that discuss the safety of or the hazards of cosmetic plastic surgery.\" is specific\n",
      "Query \"Retrieve documents regarding U.S. lawsuits against the tobacco industry for causing health problems and/or death from cigarettes.\" is specific\n",
      "Query \"Identify documents that discuss the impact of the cost of research and development (R and D) on the price of drugs.\" is generic\n",
      "Query \"Has Greenpeace been prosecuted or its members arrested for any of its actions?\" is generic\n",
      "Query \"What steps are being taken by the U.S. to help Russia solve the food crisis in Russia?\" is generic\n",
      "Query \"Why is there such apathy in U.S. elections?\" is generic\n",
      "Query \"Find accounts of selfless heroic acts by individuals or small groups for the benefit of others or a cause.\" is {\"mask\"}.\n"
     ]
    },
    {
     "name": "stderr",
     "output_type": "stream",
     "text": [
      "tokenizing: 1it [00:00, 499.92it/s]\n"
     ]
    },
    {
     "name": "stdout",
     "output_type": "stream",
     "text": [
      "442\n",
      "tensor(0.2032) tensor(0.7968)\n",
      "---------------------------------------------------------------\n",
      "Query \"Identify documents that discuss details of a family leave law, such as how long, compensation, if any, for what reason allowed, etc.\" is specific\n",
      "Query \"What role does blood-alcohol level play in automobile accident fatalities?\" is specific\n",
      "Query \"Find information on poppy cultivation and export worldwide.\" is specific\n",
      "Query \"How many deaths are attributed to having taken tainted L-tryptophan dietary supplements?\" is specific\n",
      "Query \"How many civilian non-combatants have been killed in the various civil wars in Africa?\" is generic\n",
      "Query \"What methods are currently utilized or anticipated in the teaching of disabled children?\" is generic\n",
      "Query \"What are the major tin mining countries in southeast Asia?\" is generic\n",
      "Query \"Identify any actions being taken to propel the nations of the world toward a treaty banning the production, transfer and use of land mines.\" is generic\n",
      "Query \"What is the extent of U.S. (government and private) investment in sub-Saharan Africa?\" is {\"mask\"}.\n"
     ]
    },
    {
     "name": "stderr",
     "output_type": "stream",
     "text": [
      "tokenizing: 1it [00:00, 462.79it/s]\n"
     ]
    },
    {
     "name": "stdout",
     "output_type": "stream",
     "text": [
      "443\n",
      "tensor(0.2517) tensor(0.7483)\n",
      "---------------------------------------------------------------\n",
      "Query \"Is the disease of Poliomyelitis (polio) under control in the world?\" is specific\n",
      "Query \"Find documents that discuss per capita consumption of alcohol by political entity country, state, province, etc.\" is specific\n",
      "Query \"Has prayer in U.S. schools been banned completely?\" is specific\n",
      "Query \"Identify documents that discuss the renewed popularity of cigar smoking.\" is specific\n",
      "Query \"Identify documents that provide information on the arrest and/or conviction of the bombers of the World Trade Center (WTC) in February 1993.\" is generic\n",
      "Query \"What is the status of research on hydrogen as a feasible energy source?\" is generic\n",
      "Query \"Identify documents that discuss the European Conventional Arms Cut as it relates to the dismantling of Europe's arsenal.\" is generic\n",
      "Query \"Which are the most crashworthy, and least crashworthy, passenger vehicles?\" is generic\n",
      "Query \"What are the potential uses for supercritical fluids as an environmental protection measure?\" is {\"mask\"}.\n"
     ]
    },
    {
     "name": "stderr",
     "output_type": "stream",
     "text": [
      "tokenizing: 1it [00:00, 441.18it/s]\n"
     ]
    },
    {
     "name": "stdout",
     "output_type": "stream",
     "text": [
      "444\n",
      "tensor(0.2303) tensor(0.7697)\n",
      "---------------------------------------------------------------\n",
      "Query \"Find documents that describe the activities of ETA, the Basque terrorist organization, in Spain.\" is specific\n",
      "Query \"Commercial uses of Magnetic Levitation.\" is specific\n",
      "Query \"What are the causes and treatments for melanoma?\" is specific\n",
      "Query \"Find information regarding training for Olympic swim meets.\" is specific\n",
      "Query \"Find articles that discuss the pros and cons of taxing U.S. social security benefits.\" is generic\n",
      "Query \"What is being done to teach English to recently admitted adult immigrants?\" is generic\n",
      "Query \"What is the incidence of violent attacks on abortion clinics and the doctors and staff of the clinics by anti-abortionists?\" is generic\n",
      "Query \"Evidence that radio waves from radio towers or car phones affect brain cancer occurrence.\" is generic\n",
      "Query \"What other countries besides the United States are considering or have approved women as clergy persons?\" is {\"mask\"}.\n"
     ]
    },
    {
     "name": "stderr",
     "output_type": "stream",
     "text": [
      "tokenizing: 1it [00:00, 499.86it/s]\n"
     ]
    },
    {
     "name": "stdout",
     "output_type": "stream",
     "text": [
      "445\n",
      "tensor(0.1881) tensor(0.8119)\n",
      "---------------------------------------------------------------\n",
      "Query \"Retrieve information regarding the process by which the Czech and Slovak republics of Czechoslovakia established separate sovereign countries.\" is specific\n",
      "Query \"What were the health effects of Vietnam veterans' exposure to Agent Orange?\" is specific\n",
      "Query \"Find information about whale watching off the coast of California.\" is specific\n",
      "Query \"What are the arguments for and against doctor assisted suicide in the U.S.?\" is specific\n",
      "Query \"Find information on the breakup of Czechoslovakia into the Czech Republic and Slovakia and its social and political impact on the two countries' people.\" is generic\n",
      "Query \"What progress is being made in the effort to map and sequence the human genetic code?\" is generic\n",
      "Query \"What were the causes for the Islamic Revolution relative to relations with the U.S.?\" is generic\n",
      "Query \"Identify instances where a journalist has been put at risk (e.g., killed, arrested or taken hostage) in the performance of his work.\" is generic\n",
      "Query \"Where are tourists likely to be subjected to acts of violence causing bodily harm or death?\" is {\"mask\"}.\n"
     ]
    },
    {
     "name": "stderr",
     "output_type": "stream",
     "text": [
      "tokenizing: 1it [00:00, 340.70it/s]\n"
     ]
    },
    {
     "name": "stdout",
     "output_type": "stream",
     "text": [
      "446\n",
      "tensor(0.1811) tensor(0.8189)\n",
      "---------------------------------------------------------------\n",
      "Query \"What are the benefits, if any, of drug legalization?\" is specific\n",
      "Query \"Identify documents that discuss the current status of hybrid automobile engines, (i.e., cars fueled by something other than gasoline only).\" is specific\n",
      "Query \"What is the history of the Welsh devolution movement?\" is specific\n",
      "Query \"Identify documents discussing international boundary disputes relevant to the 200-mile special economic zones or 12-mile territorial waters subsequent to the passing of the \"International Convention on the Law of the Sea\".\" is specific\n",
      "Query \"The end of the Cold War seems to have intensified economic competition and has started to generate serious friction between nations as attempts are made by diplomatic personnel to acquire sensitive trade and technology information or to obtain information on highly classified industrial projects. Identify instances where attempts have been made by personnel with diplomatic status to obtain information of this nature.\" is generic\n",
      "Query \"What is the incidence of violent attacks on abortion clinics and the doctors and staff of the clinics by anti-abortionists?\" is generic\n",
      "Query \"What are the laws dealing with the quality and processing of food, beverages, or drugs?\" is generic\n",
      "Query \"What specific entities have been accused of illegal technology transfer such as: selling their products, formulas, etc. directly or indirectly to foreign entities for other than peaceful purposes?\" is generic\n",
      "Query \"What new developments and applications are there for the Stirling engine?\" is {\"mask\"}.\n"
     ]
    },
    {
     "name": "stderr",
     "output_type": "stream",
     "text": [
      "tokenizing: 1it [00:00, 499.86it/s]\n"
     ]
    },
    {
     "name": "stdout",
     "output_type": "stream",
     "text": [
      "447\n",
      "tensor(0.1994) tensor(0.8006)\n",
      "---------------------------------------------------------------\n",
      "Query \"What are the benefits, if any, of drug legalization?\" is specific\n",
      "Query \"A look at the roots and prevalence of polygamy in the world today.\" is specific\n",
      "Query \"Identify documents discussing international boundary disputes relevant to the 200-mile special economic zones or 12-mile territorial waters subsequent to the passing of the \"International Convention on the Law of the Sea\".\" is specific\n",
      "Query \"Identify documents that discuss in vitro fertilization.\" is specific\n",
      "Query \"Find articles that discuss the pros and cons of taxing U.S. social security benefits.\" is generic\n",
      "Query \"What are the major tin mining countries in southeast Asia?\" is generic\n",
      "Query \"Aside from the United States, which country offers the best living conditions and quality of life for a U.S. retiree?\" is generic\n",
      "Query \"Has Greenpeace been prosecuted or its members arrested for any of its actions?\" is generic\n",
      "Query \"Identify instances in which weather was a main or contributing factor in the loss of a ship at sea.\" is {\"mask\"}.\n"
     ]
    },
    {
     "name": "stderr",
     "output_type": "stream",
     "text": [
      "tokenizing: 1it [00:00, 500.33it/s]\n"
     ]
    },
    {
     "name": "stdout",
     "output_type": "stream",
     "text": [
      "448\n",
      "tensor(0.2491) tensor(0.7509)\n",
      "---------------------------------------------------------------\n",
      "Query \"How were pieces of the Berlin wall disposed of after their removal?\" is specific\n",
      "Query \"Find documents that discuss the financial impact of software piracy upon the software-producing industry.\" is specific\n",
      "Query \"What are the arguments for and against doctor assisted suicide in the U.S.?\" is specific\n",
      "Query \"Identify documents that discuss the concerns of the United States regarding the export of encryption equipment.\" is specific\n",
      "Query \"What is the incidence of violent attacks on abortion clinics and the doctors and staff of the clinics by anti-abortionists?\" is generic\n",
      "Query \"Compile a list of mammals that are considered to be endangered, identify their habitat and, if possible, specify what threatens them.\" is generic\n",
      "Query \"What steps are being taken by the U.S. to help Russia solve the food crisis in Russia?\" is generic\n",
      "Query \"Identify documents that provide information on the arrest and/or conviction of the bombers of the World Trade Center (WTC) in February 1993.\" is generic\n",
      "Query \"What has caused the current ineffectiveness of antibiotics against infections and what is the prognosis for new drugs?\" is {\"mask\"}.\n"
     ]
    },
    {
     "name": "stderr",
     "output_type": "stream",
     "text": [
      "tokenizing: 1it [00:00, 499.92it/s]\n"
     ]
    },
    {
     "name": "stdout",
     "output_type": "stream",
     "text": [
      "449\n",
      "tensor(0.2595) tensor(0.7405)\n",
      "---------------------------------------------------------------\n",
      "Query \"Has prayer in U.S. schools been banned completely?\" is specific\n",
      "Query \"Identify documents that discuss clothing sweatshops.\" is specific\n",
      "Query \"What are the causes and treatments of anorexia nervosa and bulimia?\" is specific\n",
      "Query \"Find documents that discuss the U.S. debate about the opening of sealed adoption records to adoptees.\" is specific\n",
      "Query \"How has France responded to protests against its nuclear testing in the South Pacific?\" is generic\n",
      "Query \"Identify any actions being taken to propel the nations of the world toward a treaty banning the production, transfer and use of land mines.\" is generic\n",
      "Query \"What happened to protesters arrested in connection with the Tiananmen Square demonstrations in Beijing in the spring of 1989?\" is generic\n",
      "Query \"What impact has the Chunnel had on the British economy and the life style of the British?\" is generic\n",
      "Query \"How significant a figure over the years was the late Jordanian King Hussein in furthering peace in the Middle East?\" is {\"mask\"}.\n"
     ]
    },
    {
     "name": "stderr",
     "output_type": "stream",
     "text": [
      "tokenizing: 1it [00:00, 306.58it/s]\n"
     ]
    },
    {
     "name": "stdout",
     "output_type": "stream",
     "text": [
      "450\n",
      "tensor(0.2142) tensor(0.7858)\n"
     ]
    }
   ],
   "source": [
    "from openprompt.data_utils import InputExample\n",
    "from openprompt.plms import load_plm\n",
    "from openprompt.prompts import ManualTemplate\n",
    "from openprompt.prompts import ManualVerbalizer\n",
    "from openprompt import PromptForClassification\n",
    "from openprompt import PromptDataLoader\n",
    "from openprompt.plms.utils import TokenizerWrapper\n",
    "from collections import defaultdict\n",
    "import torch\n",
    "\n",
    "classes = [ \n",
    "    \"specific\",\n",
    "    \"generic\"\n",
    "]\n",
    "scores = defaultdict(float)\n",
    "\n",
    "#plm, tokenizer, model_config, WrapperClass = load_plm(\"t5\",\"google/flan-t5-base\")\n",
    "#plm, tokenizer, model_config, WrapperClass = load_plm(\"albert\", \"albert-base-v2\")\n",
    "#plm, tokenizer, model_config, WrapperClass = load_plm(\"roberta\", \"roberta-base\")\n",
    "plm, tokenizer, model_config, WrapperClass = load_plm(\"gpt2\", \"gpt2-large\")\n",
    "#plm, tokenizer, model_config, WrapperClass = load_plm(\"opt\", \"facebook/opt-iml-max-1.3b\")\n",
    "\n",
    "x=0\n",
    "for t in text_list:\n",
    "    print(\"---------------------------------------------------------------\")\n",
    "    print(t)\n",
    "    dataset = []\n",
    "    dataset.append(input_examples[x])\n",
    "    x = x + 1\n",
    "    promptTemplate = ManualTemplate(\n",
    "        text = t,\n",
    "        tokenizer = tokenizer,\n",
    "    )\n",
    "    promptVerbalizer = ManualVerbalizer(\n",
    "        classes = classes,\n",
    "        label_words = {\n",
    "            \"specific\":[\"specific\",\"precise\",\"exact\",\"well-formed\",\"clear\"],\n",
    "            \"generic\":[\"generic\",\"general\",\"common\",\"universal\",\"ambiguous\", \"ill-formed\", \"vague\"]\n",
    "        },\n",
    "        tokenizer = tokenizer,\n",
    "    )\n",
    "    promptModel = PromptForClassification(\n",
    "        template = promptTemplate,\n",
    "        plm = plm,\n",
    "        verbalizer = promptVerbalizer,\n",
    "    )\n",
    "    data_loader = PromptDataLoader(\n",
    "        dataset = dataset,\n",
    "        tokenizer = tokenizer,\n",
    "        template = promptTemplate,\n",
    "        tokenizer_wrapper_class=WrapperClass,\n",
    "        #max_seq_length=512, decoder_max_length=3,batch_size=4,shuffle=False, teacher_forcing=False, predict_eos_token=False, truncate_method=\"tail\"\n",
    "    )\n",
    "    promptModel.eval()\n",
    "    with torch.no_grad():\n",
    "        for batch in data_loader:\n",
    "            logits = promptModel(batch)\n",
    "            preds = torch.argmax(logits, dim = -1)\n",
    "            probs = torch.softmax(logits, dim=-1)\n",
    "          \n",
    "        for i, prob in enumerate(probs):\n",
    "            # get queryid\n",
    "            query_id = batch.tgt_text[i]\n",
    "            print(query_id)\n",
    "\n",
    "            print(prob[classes.index('specific')],prob[classes.index('generic')])\n",
    "\n",
    "            \n",
    "            scores[query_id] += prob[classes.index('specific')]\n",
    "            \n",
    "    \n"
   ]
  },
  {
   "cell_type": "code",
   "execution_count": 21,
   "id": "18c64103",
   "metadata": {},
   "outputs": [
    {
     "data": {
      "text/plain": [
       "defaultdict(float,\n",
       "            {'401': tensor(0.1758),\n",
       "             '402': tensor(0.3228),\n",
       "             '403': tensor(0.2919),\n",
       "             '404': tensor(0.2343),\n",
       "             '405': tensor(0.2823),\n",
       "             '406': tensor(0.3068),\n",
       "             '407': tensor(0.2657),\n",
       "             '408': tensor(0.2489),\n",
       "             '409': tensor(0.2354),\n",
       "             '410': tensor(0.2538),\n",
       "             '411': tensor(0.1755),\n",
       "             '412': tensor(0.2105),\n",
       "             '413': tensor(0.2940),\n",
       "             '414': tensor(0.3210),\n",
       "             '415': tensor(0.2149),\n",
       "             '416': tensor(0.2451),\n",
       "             '417': tensor(0.3518),\n",
       "             '418': tensor(0.2167),\n",
       "             '419': tensor(0.2567),\n",
       "             '420': tensor(0.2729),\n",
       "             '421': tensor(0.2687),\n",
       "             '422': tensor(0.2387),\n",
       "             '423': tensor(0.3278),\n",
       "             '424': tensor(0.2943),\n",
       "             '425': tensor(0.2824),\n",
       "             '426': tensor(0.2666),\n",
       "             '427': tensor(0.2752),\n",
       "             '428': tensor(0.2268),\n",
       "             '429': tensor(0.1854),\n",
       "             '430': tensor(0.2112),\n",
       "             '431': tensor(0.2778),\n",
       "             '432': tensor(0.2296),\n",
       "             '433': tensor(0.1976),\n",
       "             '434': tensor(0.3051),\n",
       "             '435': tensor(0.2434),\n",
       "             '436': tensor(0.2760),\n",
       "             '437': tensor(0.2695),\n",
       "             '438': tensor(0.1961),\n",
       "             '439': tensor(0.2009),\n",
       "             '440': tensor(0.2679),\n",
       "             '441': tensor(0.3281),\n",
       "             '442': tensor(0.2032),\n",
       "             '443': tensor(0.2517),\n",
       "             '444': tensor(0.2303),\n",
       "             '445': tensor(0.1881),\n",
       "             '446': tensor(0.1811),\n",
       "             '447': tensor(0.1994),\n",
       "             '448': tensor(0.2491),\n",
       "             '449': tensor(0.2595),\n",
       "             '450': tensor(0.2142)})"
      ]
     },
     "execution_count": 21,
     "metadata": {},
     "output_type": "execute_result"
    }
   ],
   "source": [
    "scores"
   ]
  },
  {
   "cell_type": "code",
   "execution_count": 22,
   "id": "f3dfe823",
   "metadata": {},
   "outputs": [],
   "source": [
    "sorted_queries = sorted(scores.items(), key=lambda item: item[1], reverse=True)\n"
   ]
  },
  {
   "cell_type": "code",
   "execution_count": null,
   "id": "ee771dda",
   "metadata": {},
   "outputs": [],
   "source": []
  },
  {
   "cell_type": "code",
   "execution_count": 23,
   "id": "0e919ed8",
   "metadata": {},
   "outputs": [
    {
     "data": {
      "text/plain": [
       "[('417', tensor(0.3518)),\n",
       " ('441', tensor(0.3281)),\n",
       " ('423', tensor(0.3278)),\n",
       " ('402', tensor(0.3228)),\n",
       " ('414', tensor(0.3210)),\n",
       " ('406', tensor(0.3068)),\n",
       " ('434', tensor(0.3051)),\n",
       " ('424', tensor(0.2943)),\n",
       " ('413', tensor(0.2940)),\n",
       " ('403', tensor(0.2919)),\n",
       " ('425', tensor(0.2824)),\n",
       " ('405', tensor(0.2823)),\n",
       " ('431', tensor(0.2778)),\n",
       " ('436', tensor(0.2760)),\n",
       " ('427', tensor(0.2752)),\n",
       " ('420', tensor(0.2729)),\n",
       " ('437', tensor(0.2695)),\n",
       " ('421', tensor(0.2687)),\n",
       " ('440', tensor(0.2679)),\n",
       " ('426', tensor(0.2666)),\n",
       " ('407', tensor(0.2657)),\n",
       " ('449', tensor(0.2595)),\n",
       " ('419', tensor(0.2567)),\n",
       " ('410', tensor(0.2538)),\n",
       " ('443', tensor(0.2517)),\n",
       " ('448', tensor(0.2491)),\n",
       " ('408', tensor(0.2489)),\n",
       " ('416', tensor(0.2451)),\n",
       " ('435', tensor(0.2434)),\n",
       " ('422', tensor(0.2387)),\n",
       " ('409', tensor(0.2354)),\n",
       " ('404', tensor(0.2343)),\n",
       " ('444', tensor(0.2303)),\n",
       " ('432', tensor(0.2296)),\n",
       " ('428', tensor(0.2268)),\n",
       " ('418', tensor(0.2167)),\n",
       " ('415', tensor(0.2149)),\n",
       " ('450', tensor(0.2142)),\n",
       " ('430', tensor(0.2112)),\n",
       " ('412', tensor(0.2105)),\n",
       " ('442', tensor(0.2032)),\n",
       " ('439', tensor(0.2009)),\n",
       " ('447', tensor(0.1994)),\n",
       " ('433', tensor(0.1976)),\n",
       " ('438', tensor(0.1961)),\n",
       " ('445', tensor(0.1881)),\n",
       " ('429', tensor(0.1854)),\n",
       " ('446', tensor(0.1811)),\n",
       " ('401', tensor(0.1758)),\n",
       " ('411', tensor(0.1755))]"
      ]
     },
     "execution_count": 23,
     "metadata": {},
     "output_type": "execute_result"
    }
   ],
   "source": [
    "sorted_queries "
   ]
  },
  {
   "cell_type": "code",
   "execution_count": 24,
   "id": "72748a20",
   "metadata": {},
   "outputs": [],
   "source": [
    "query_dict = dict(sorted_queries)"
   ]
  },
  {
   "cell_type": "code",
   "execution_count": 25,
   "id": "a8b99fea",
   "metadata": {},
   "outputs": [],
   "source": [
    "query_dict = {k: v.item() for k, v in query_dict.items()}"
   ]
  },
  {
   "cell_type": "code",
   "execution_count": 26,
   "id": "d0074ea0",
   "metadata": {},
   "outputs": [
    {
     "data": {
      "text/plain": [
       "{'417': 0.35183003544807434,\n",
       " '441': 0.32806938886642456,\n",
       " '423': 0.32780835032463074,\n",
       " '402': 0.3228471875190735,\n",
       " '414': 0.32103267312049866,\n",
       " '406': 0.30678659677505493,\n",
       " '434': 0.30509403347969055,\n",
       " '424': 0.29433074593544006,\n",
       " '413': 0.2939819395542145,\n",
       " '403': 0.2919386923313141,\n",
       " '425': 0.2823713421821594,\n",
       " '405': 0.28228330612182617,\n",
       " '431': 0.27781495451927185,\n",
       " '436': 0.27604979276657104,\n",
       " '427': 0.27515265345573425,\n",
       " '420': 0.272866427898407,\n",
       " '437': 0.26948168873786926,\n",
       " '421': 0.26866233348846436,\n",
       " '440': 0.2678888738155365,\n",
       " '426': 0.26658403873443604,\n",
       " '407': 0.2657122313976288,\n",
       " '449': 0.25947412848472595,\n",
       " '419': 0.2567440867424011,\n",
       " '410': 0.25382640957832336,\n",
       " '443': 0.25168758630752563,\n",
       " '448': 0.24914151430130005,\n",
       " '408': 0.24889692664146423,\n",
       " '416': 0.24513188004493713,\n",
       " '435': 0.24342694878578186,\n",
       " '422': 0.23865847289562225,\n",
       " '409': 0.23535390198230743,\n",
       " '404': 0.23433400690555573,\n",
       " '444': 0.23026682436466217,\n",
       " '432': 0.2296241819858551,\n",
       " '428': 0.2268456667661667,\n",
       " '418': 0.2167218029499054,\n",
       " '415': 0.2148880511522293,\n",
       " '450': 0.21419765055179596,\n",
       " '430': 0.2112213373184204,\n",
       " '412': 0.21045078337192535,\n",
       " '442': 0.20315644145011902,\n",
       " '439': 0.20090049505233765,\n",
       " '447': 0.19936233758926392,\n",
       " '433': 0.19763478636741638,\n",
       " '438': 0.1961151361465454,\n",
       " '445': 0.18812602758407593,\n",
       " '429': 0.1854042261838913,\n",
       " '446': 0.18106436729431152,\n",
       " '401': 0.17576895654201508,\n",
       " '411': 0.17549613118171692}"
      ]
     },
     "execution_count": 26,
     "metadata": {},
     "output_type": "execute_result"
    }
   ],
   "source": [
    "query_dict"
   ]
  },
  {
   "cell_type": "code",
   "execution_count": 27,
   "id": "ac39a96a",
   "metadata": {},
   "outputs": [],
   "source": [
    "with open('401-450gt.txt', 'r') as f:\n",
    "    gt = dict(line.strip().split() for line in f)\n",
    "\n",
    "with open('401-450nqc.txt', 'r') as f:\n",
    "    nqc = dict(line.strip().split() for line in f)\n",
    "\n",
    "query_scores = list(query_dict.values())\n",
    "#gtscores = [float(gt[key]) for key in query_dict.keys()]\n",
    "#nqcscores = [float(nqc[key]) for key in query_dict.keys()]\n"
   ]
  },
  {
   "cell_type": "code",
   "execution_count": 28,
   "id": "702f355e",
   "metadata": {},
   "outputs": [],
   "source": [
    "keys = query_dict.keys()\n",
    "gtscores = [float(gt[key]) for key in keys]\n",
    "nqcscores = [float(nqc[key]) for key in keys]\n"
   ]
  },
  {
   "cell_type": "code",
   "execution_count": 29,
   "id": "e05980ce",
   "metadata": {},
   "outputs": [
    {
     "data": {
      "text/plain": [
       "dict_keys(['417', '441', '423', '402', '414', '406', '434', '424', '413', '403', '425', '405', '431', '436', '427', '420', '437', '421', '440', '426', '407', '449', '419', '410', '443', '448', '408', '416', '435', '422', '409', '404', '444', '432', '428', '418', '415', '450', '430', '412', '442', '439', '447', '433', '438', '445', '429', '446', '401', '411'])"
      ]
     },
     "execution_count": 29,
     "metadata": {},
     "output_type": "execute_result"
    }
   ],
   "source": [
    "keys"
   ]
  },
  {
   "cell_type": "code",
   "execution_count": null,
   "id": "b19789ff",
   "metadata": {},
   "outputs": [],
   "source": []
  },
  {
   "cell_type": "code",
   "execution_count": 30,
   "id": "e64b8b8e",
   "metadata": {},
   "outputs": [],
   "source": [
    "with open('gpt2large_point_pre_s4.txt', 'w', encoding='utf-8') as f:\n",
    "    for key in query_dict.keys():\n",
    "        f.write(f'{key}\\t{query_dict[key]}\\t{nqc[key]}\\t{gt[key]}\\n')\n"
   ]
  },
  {
   "cell_type": "code",
   "execution_count": 31,
   "id": "944c2967",
   "metadata": {},
   "outputs": [
    {
     "data": {
      "text/plain": [
       "[1.1843476295471191,\n",
       " 8.429100036621094,\n",
       " 31.011184692382812,\n",
       " 2.892881155014038,\n",
       " -8.841760635375977,\n",
       " 8.005461692810059,\n",
       " 1.5539339780807495,\n",
       " 1.8052459955215454,\n",
       " 0.6664474010467529,\n",
       " 45.91432189941406,\n",
       " -12.099804878234863,\n",
       " 8.07620906829834,\n",
       " -6.610340118408203,\n",
       " 2.1707212924957275,\n",
       " 13.625859260559082,\n",
       " 20.67823600769043,\n",
       " 2.51373553276062,\n",
       " 1.7216060161590576,\n",
       " 1.0883139371871948,\n",
       " 1.6846462488174438,\n",
       " 7.814405918121338,\n",
       " 7.3450188636779785,\n",
       " 3.981992721557617,\n",
       " 9.120701789855957,\n",
       " 0.7333466410636902,\n",
       " 0.9927824139595032,\n",
       " 6.774903774261475,\n",
       " -14.283669471740723,\n",
       " 1.9212779998779297,\n",
       " 3.7995567321777344,\n",
       " 9.889849662780762,\n",
       " 3.8539679050445557,\n",
       " 11.117552757263184,\n",
       " 3.6750802993774414,\n",
       " 4.180014610290527,\n",
       " 2.5999250411987305,\n",
       " 14.683598518371582,\n",
       " 13.707488059997559,\n",
       " 11.102095603942871,\n",
       " -0.05628133937716484,\n",
       " 2.685452461242676,\n",
       " 4.02252721786499,\n",
       " 4.2269487380981445,\n",
       " 1.462353229522705,\n",
       " 2.7874035835266113,\n",
       " 11.008926391601562,\n",
       " 8.541165351867676,\n",
       " 2.6592535972595215,\n",
       " 0.5529524683952332,\n",
       " 8.253385543823242]"
      ]
     },
     "execution_count": 31,
     "metadata": {},
     "output_type": "execute_result"
    }
   ],
   "source": [
    "nqcscores"
   ]
  },
  {
   "cell_type": "code",
   "execution_count": 36,
   "id": "9bbe3da6",
   "metadata": {},
   "outputs": [
    {
     "name": "stdout",
     "output_type": "stream",
     "text": [
      "PearsonRResult(statistic=0.1640677371841443, pvalue=0.25490069888894873)\n",
      "PearsonRResult(statistic=0.362217280059528, pvalue=0.009740338185571466)\n"
     ]
    }
   ],
   "source": [
    "from scipy.stats import pearsonr\n",
    "p1 = pearsonr(query_scores, gtscores)\n",
    "p2 = pearsonr(nqcscores, gtscores)\n",
    "print(p1)\n",
    "print(p2)"
   ]
  },
  {
   "cell_type": "code",
   "execution_count": 37,
   "id": "acb0f344",
   "metadata": {},
   "outputs": [
    {
     "name": "stdout",
     "output_type": "stream",
     "text": [
      "SignificanceResult(statistic=0.0873469387755102, pvalue=0.37076582276408765)\n",
      "SignificanceResult(statistic=0.23265306122448978, pvalue=0.01712632537811409)\n"
     ]
    }
   ],
   "source": [
    "from scipy.stats import kendalltau\n",
    "k1 = kendalltau(query_scores, gtscores)\n",
    "k2 = kendalltau(nqcscores, gtscores)\n",
    "print(k1)\n",
    "print(k2)"
   ]
  },
  {
   "cell_type": "code",
   "execution_count": null,
   "id": "f99019fc",
   "metadata": {},
   "outputs": [],
   "source": [
    "\n",
    "\n"
   ]
  },
  {
   "cell_type": "code",
   "execution_count": null,
   "id": "f34e7f04",
   "metadata": {},
   "outputs": [],
   "source": []
  },
  {
   "cell_type": "code",
   "execution_count": null,
   "id": "08df02b1",
   "metadata": {},
   "outputs": [],
   "source": []
  }
 ],
 "metadata": {
  "kernelspec": {
   "display_name": "Python 3 (ipykernel)",
   "language": "python",
   "name": "python3"
  },
  "language_info": {
   "codemirror_mode": {
    "name": "ipython",
    "version": 3
   },
   "file_extension": ".py",
   "mimetype": "text/x-python",
   "name": "python",
   "nbconvert_exporter": "python",
   "pygments_lexer": "ipython3",
   "version": "3.9.17"
  }
 },
 "nbformat": 4,
 "nbformat_minor": 5
}
